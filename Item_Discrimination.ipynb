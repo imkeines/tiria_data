{
 "cells": [
  {
   "cell_type": "markdown",
   "id": "approved-salad",
   "metadata": {},
   "source": [
    "# Item Discrimination per Test\n",
    "\n"
   ]
  },
  {
   "cell_type": "code",
   "execution_count": 1,
   "id": "brilliant-canon",
   "metadata": {},
   "outputs": [
    {
     "data": {
      "application/javascript": [
       "\n",
       "            setTimeout(function() {\n",
       "                var nbb_cell_id = 1;\n",
       "                var nbb_unformatted_code = \"import pandas as pd\\nimport numpy as np\\nimport matplotlib.pyplot as plt\\nimport plotly.express as px\\nimport nbconvert\\nimport matplotlib\\n\\n\\npd.options.mode.chained_assignment = None  # default='warn'\\npd.set_option(\\\"display.max_columns\\\", None)\\n# formatter\\n%reload_ext nb_black\\n\\n# plt.rcParams.update({\\\"font.size\\\": 18})\\n# set figure size globally\\n# plt.rcParams[\\\"figure.figsize\\\"] = (10, 13)\";\n",
       "                var nbb_formatted_code = \"import pandas as pd\\nimport numpy as np\\nimport matplotlib.pyplot as plt\\nimport plotly.express as px\\nimport nbconvert\\nimport matplotlib\\n\\n\\npd.options.mode.chained_assignment = None  # default='warn'\\npd.set_option(\\\"display.max_columns\\\", None)\\n# formatter\\n%reload_ext nb_black\\n\\n# plt.rcParams.update({\\\"font.size\\\": 18})\\n# set figure size globally\\n# plt.rcParams[\\\"figure.figsize\\\"] = (10, 13)\";\n",
       "                var nbb_cells = Jupyter.notebook.get_cells();\n",
       "                for (var i = 0; i < nbb_cells.length; ++i) {\n",
       "                    if (nbb_cells[i].input_prompt_number == nbb_cell_id) {\n",
       "                        if (nbb_cells[i].get_text() == nbb_unformatted_code) {\n",
       "                             nbb_cells[i].set_text(nbb_formatted_code);\n",
       "                        }\n",
       "                        break;\n",
       "                    }\n",
       "                }\n",
       "            }, 500);\n",
       "            "
      ],
      "text/plain": [
       "<IPython.core.display.Javascript object>"
      ]
     },
     "metadata": {},
     "output_type": "display_data"
    }
   ],
   "source": [
    "import pandas as pd\n",
    "import numpy as np\n",
    "import matplotlib.pyplot as plt\n",
    "import plotly.express as px\n",
    "import nbconvert\n",
    "import matplotlib\n",
    "\n",
    "\n",
    "pd.options.mode.chained_assignment = None  # default='warn'\n",
    "pd.set_option(\"display.max_columns\", None)\n",
    "# formatter\n",
    "%reload_ext nb_black\n",
    "\n",
    "# plt.rcParams.update({\"font.size\": 18})\n",
    "# set figure size globally\n",
    "# plt.rcParams[\"figure.figsize\"] = (10, 13)"
   ]
  },
  {
   "cell_type": "code",
   "execution_count": 2,
   "id": "educated-prototype",
   "metadata": {},
   "outputs": [
    {
     "data": {
      "application/javascript": [
       "\n",
       "            setTimeout(function() {\n",
       "                var nbb_cell_id = 2;\n",
       "                var nbb_unformatted_code = \"import os\\nfrom pathlib import Path\\n\\n# get absolute path of this script and create Path object\\npath = Path(os.getcwd())\\n\\n# use Path object to get path of project folder\\nabsolutePath = path.parent.absolute()\\n\\n# change working directory to project folder\\nos.chdir(absolutePath)\\n\\n# get path of project folder\\npath_projectFolder = os.getcwd()\";\n",
       "                var nbb_formatted_code = \"import os\\nfrom pathlib import Path\\n\\n# get absolute path of this script and create Path object\\npath = Path(os.getcwd())\\n\\n# use Path object to get path of project folder\\nabsolutePath = path.parent.absolute()\\n\\n# change working directory to project folder\\nos.chdir(absolutePath)\\n\\n# get path of project folder\\npath_projectFolder = os.getcwd()\";\n",
       "                var nbb_cells = Jupyter.notebook.get_cells();\n",
       "                for (var i = 0; i < nbb_cells.length; ++i) {\n",
       "                    if (nbb_cells[i].input_prompt_number == nbb_cell_id) {\n",
       "                        if (nbb_cells[i].get_text() == nbb_unformatted_code) {\n",
       "                             nbb_cells[i].set_text(nbb_formatted_code);\n",
       "                        }\n",
       "                        break;\n",
       "                    }\n",
       "                }\n",
       "            }, 500);\n",
       "            "
      ],
      "text/plain": [
       "<IPython.core.display.Javascript object>"
      ]
     },
     "metadata": {},
     "output_type": "display_data"
    }
   ],
   "source": [
    "import os\n",
    "from pathlib import Path\n",
    "\n",
    "# get absolute path of this script and create Path object\n",
    "path = Path(os.getcwd())\n",
    "\n",
    "# use Path object to get path of project folder\n",
    "absolutePath = path.parent.absolute()\n",
    "\n",
    "# change working directory to project folder\n",
    "os.chdir(absolutePath)\n",
    "\n",
    "# get path of project folder\n",
    "path_projectFolder = os.getcwd()"
   ]
  },
  {
   "cell_type": "code",
   "execution_count": 3,
   "id": "considered-hampshire",
   "metadata": {
    "scrolled": false
   },
   "outputs": [
    {
     "data": {
      "application/javascript": [
       "\n",
       "            setTimeout(function() {\n",
       "                var nbb_cell_id = 3;\n",
       "                var nbb_unformatted_code = \"test1 = pd.read_csv(path_projectFolder + \\\"/data/test_1.csv\\\")\\ntest2 = pd.read_csv(path_projectFolder + \\\"/data/test_2.csv\\\")\\ntest3 = pd.read_csv(path_projectFolder + \\\"/data/test_3.csv\\\")\\ntest4 = pd.read_csv(path_projectFolder + \\\"/data/test_4.csv\\\")\\n\\n\\n# Drop all empty columns from tests\\n# Replace 99 with nan\\nlistTests = [test1, test2, test3, test4]\\n\\nfor t in listTests:\\n    t.dropna(how=\\\"all\\\", axis=1, inplace=True)\\n    t.replace(99, np.NaN, inplace=True)\\n    if t[\\\"unique_id\\\"].is_unique == False:\\n        ids = t[\\\"unique_id\\\"]\\n        lala = t[ids.isin(ids[ids.duplicated()])]  # .sort_index(\\\"unique_id\\\")\\n        # lala.sort_values(by=[\\\"Start\\\"], ascending=True, inplace=True)\";\n",
       "                var nbb_formatted_code = \"test1 = pd.read_csv(path_projectFolder + \\\"/data/test_1.csv\\\")\\ntest2 = pd.read_csv(path_projectFolder + \\\"/data/test_2.csv\\\")\\ntest3 = pd.read_csv(path_projectFolder + \\\"/data/test_3.csv\\\")\\ntest4 = pd.read_csv(path_projectFolder + \\\"/data/test_4.csv\\\")\\n\\n\\n# Drop all empty columns from tests\\n# Replace 99 with nan\\nlistTests = [test1, test2, test3, test4]\\n\\nfor t in listTests:\\n    t.dropna(how=\\\"all\\\", axis=1, inplace=True)\\n    t.replace(99, np.NaN, inplace=True)\\n    if t[\\\"unique_id\\\"].is_unique == False:\\n        ids = t[\\\"unique_id\\\"]\\n        lala = t[ids.isin(ids[ids.duplicated()])]  # .sort_index(\\\"unique_id\\\")\\n        # lala.sort_values(by=[\\\"Start\\\"], ascending=True, inplace=True)\";\n",
       "                var nbb_cells = Jupyter.notebook.get_cells();\n",
       "                for (var i = 0; i < nbb_cells.length; ++i) {\n",
       "                    if (nbb_cells[i].input_prompt_number == nbb_cell_id) {\n",
       "                        if (nbb_cells[i].get_text() == nbb_unformatted_code) {\n",
       "                             nbb_cells[i].set_text(nbb_formatted_code);\n",
       "                        }\n",
       "                        break;\n",
       "                    }\n",
       "                }\n",
       "            }, 500);\n",
       "            "
      ],
      "text/plain": [
       "<IPython.core.display.Javascript object>"
      ]
     },
     "metadata": {},
     "output_type": "display_data"
    }
   ],
   "source": [
    "test1 = pd.read_csv(path_projectFolder + \"/data/test_1.csv\")\n",
    "test2 = pd.read_csv(path_projectFolder + \"/data/test_2.csv\")\n",
    "test3 = pd.read_csv(path_projectFolder + \"/data/test_3.csv\")\n",
    "test4 = pd.read_csv(path_projectFolder + \"/data/test_4.csv\")\n",
    "\n",
    "\n",
    "# Drop all empty columns from tests\n",
    "# Replace 99 with nan\n",
    "listTests = [test1, test2, test3, test4]\n",
    "\n",
    "for t in listTests:\n",
    "    t.dropna(how=\"all\", axis=1, inplace=True)\n",
    "    t.replace(99, np.NaN, inplace=True)\n",
    "    if t[\"unique_id\"].is_unique == False:\n",
    "        ids = t[\"unique_id\"]\n",
    "        lala = t[ids.isin(ids[ids.duplicated()])]  # .sort_index(\"unique_id\")\n",
    "        # lala.sort_values(by=[\"Start\"], ascending=True, inplace=True)"
   ]
  },
  {
   "cell_type": "code",
   "execution_count": 4,
   "id": "confidential-restaurant",
   "metadata": {
    "scrolled": false
   },
   "outputs": [
    {
     "data": {
      "application/javascript": [
       "\n",
       "            setTimeout(function() {\n",
       "                var nbb_cell_id = 4;\n",
       "                var nbb_unformatted_code = \"def item_discrimination_per_subtest(df_list):\\n    df_list=[]\\n    for t in listTests:\\n    \\n        # create copy from dataset\\n        df_copy = t.copy()\\n\\n        # get relevant columns\\n        items = df_copy[\\n        df_copy.columns.difference(\\n            [\\n                \\\"Unnamed: 0\\\",\\n                \\\"Test\\\",\\n                \\\"Stufe\\\",\\n                \\\"unique_id\\\",\\n                \\\"Level\\\",\\n                \\\"Gesamt_Level\\\",\\n                \\\"Start\\\",\\n            ]\\n        )\\n        ].columns\\n        \\n        # show how many children did the test\\n        #print('count children in subtest: ',len(df_copy))\\n        \\n        # create list of items\\n        items = [int(x) for x in items]\\n        items.sort()\\n        items = [str(x) for x in items]\\n        testItemAnzahl = len(items)\\n        #print('count items of subtest: ',testItemAnzahl)\\n        #print('items: ', items)\\n\\n        # groupsize\\n        percent = 0.25 * len(df_copy)        \\n        groupsize = round(percent)\\n        #print('groupsize: ', groupsize)\\n        #test1_copy.sort_values(by=[\\\"sum\\\"], ascending=False, inplace=True)\\n        \\n        \\n        \\n        ''' define groups'''\\n        \\n        # for each child sum the results on items\\n        df_copy[\\\"sum\\\"] = df_copy[items].sum(axis=1)\\n        df_copy.sort_values(by=[\\\"sum\\\"], ascending=False, inplace=True)\\n        \\n        # get upper group\\n        upper_group = df_copy.head(groupsize)\\n        \\n        # get lower group\\n        lower_group = df_copy.tail(groupsize)\\n    \\n    \\n    \\n        ''' calculate item discrimination index'''\\n        \\n        dict_index = {}\\n        for item in items:\\n            upper = upper_group[item].sum()\\n            lower =lower_group[item].sum()\\n            discr_index = (upper - lower) / groupsize\\n            dict_index[item]= discr_index\\n        df = pd.DataFrame(dict_index.items(), columns=['item', 'discrimination_index'])\\n        df_list.append(df)\\n        #print(df.head())\\n        #print('-----------------------------------------------------------')\\n    return df_list\";\n",
       "                var nbb_formatted_code = \"def item_discrimination_per_subtest(df_list):\\n    df_list = []\\n    for t in listTests:\\n\\n        # create copy from dataset\\n        df_copy = t.copy()\\n\\n        # get relevant columns\\n        items = df_copy[\\n            df_copy.columns.difference(\\n                [\\n                    \\\"Unnamed: 0\\\",\\n                    \\\"Test\\\",\\n                    \\\"Stufe\\\",\\n                    \\\"unique_id\\\",\\n                    \\\"Level\\\",\\n                    \\\"Gesamt_Level\\\",\\n                    \\\"Start\\\",\\n                ]\\n            )\\n        ].columns\\n\\n        # show how many children did the test\\n        # print('count children in subtest: ',len(df_copy))\\n\\n        # create list of items\\n        items = [int(x) for x in items]\\n        items.sort()\\n        items = [str(x) for x in items]\\n        testItemAnzahl = len(items)\\n        # print('count items of subtest: ',testItemAnzahl)\\n        # print('items: ', items)\\n\\n        # groupsize\\n        percent = 0.25 * len(df_copy)\\n        groupsize = round(percent)\\n        # print('groupsize: ', groupsize)\\n        # test1_copy.sort_values(by=[\\\"sum\\\"], ascending=False, inplace=True)\\n\\n        \\\"\\\"\\\" define groups\\\"\\\"\\\"\\n\\n        # for each child sum the results on items\\n        df_copy[\\\"sum\\\"] = df_copy[items].sum(axis=1)\\n        df_copy.sort_values(by=[\\\"sum\\\"], ascending=False, inplace=True)\\n\\n        # get upper group\\n        upper_group = df_copy.head(groupsize)\\n\\n        # get lower group\\n        lower_group = df_copy.tail(groupsize)\\n\\n        \\\"\\\"\\\" calculate item discrimination index\\\"\\\"\\\"\\n\\n        dict_index = {}\\n        for item in items:\\n            upper = upper_group[item].sum()\\n            lower = lower_group[item].sum()\\n            discr_index = (upper - lower) / groupsize\\n            dict_index[item] = discr_index\\n        df = pd.DataFrame(dict_index.items(), columns=[\\\"item\\\", \\\"discrimination_index\\\"])\\n        df_list.append(df)\\n        # print(df.head())\\n        # print('-----------------------------------------------------------')\\n    return df_list\";\n",
       "                var nbb_cells = Jupyter.notebook.get_cells();\n",
       "                for (var i = 0; i < nbb_cells.length; ++i) {\n",
       "                    if (nbb_cells[i].input_prompt_number == nbb_cell_id) {\n",
       "                        if (nbb_cells[i].get_text() == nbb_unformatted_code) {\n",
       "                             nbb_cells[i].set_text(nbb_formatted_code);\n",
       "                        }\n",
       "                        break;\n",
       "                    }\n",
       "                }\n",
       "            }, 500);\n",
       "            "
      ],
      "text/plain": [
       "<IPython.core.display.Javascript object>"
      ]
     },
     "metadata": {},
     "output_type": "display_data"
    }
   ],
   "source": [
    "def item_discrimination_per_subtest(df_list):\n",
    "    df_list=[]\n",
    "    for t in listTests:\n",
    "    \n",
    "        # create copy from dataset\n",
    "        df_copy = t.copy()\n",
    "\n",
    "        # get relevant columns\n",
    "        items = df_copy[\n",
    "        df_copy.columns.difference(\n",
    "            [\n",
    "                \"Unnamed: 0\",\n",
    "                \"Test\",\n",
    "                \"Stufe\",\n",
    "                \"unique_id\",\n",
    "                \"Level\",\n",
    "                \"Gesamt_Level\",\n",
    "                \"Start\",\n",
    "            ]\n",
    "        )\n",
    "        ].columns\n",
    "        \n",
    "        # show how many children did the test\n",
    "        #print('count children in subtest: ',len(df_copy))\n",
    "        \n",
    "        # create list of items\n",
    "        items = [int(x) for x in items]\n",
    "        items.sort()\n",
    "        items = [str(x) for x in items]\n",
    "        testItemAnzahl = len(items)\n",
    "        #print('count items of subtest: ',testItemAnzahl)\n",
    "        #print('items: ', items)\n",
    "\n",
    "        # groupsize\n",
    "        percent = 0.25 * len(df_copy)        \n",
    "        groupsize = round(percent)\n",
    "        #print('groupsize: ', groupsize)\n",
    "        #test1_copy.sort_values(by=[\"sum\"], ascending=False, inplace=True)\n",
    "        \n",
    "        \n",
    "        \n",
    "        ''' define groups'''\n",
    "        \n",
    "        # for each child sum the results on items\n",
    "        df_copy[\"sum\"] = df_copy[items].sum(axis=1)\n",
    "        df_copy.sort_values(by=[\"sum\"], ascending=False, inplace=True)\n",
    "        \n",
    "        # get upper group\n",
    "        upper_group = df_copy.head(groupsize)\n",
    "        \n",
    "        # get lower group\n",
    "        lower_group = df_copy.tail(groupsize)\n",
    "    \n",
    "    \n",
    "    \n",
    "        ''' calculate item discrimination index'''\n",
    "        \n",
    "        dict_index = {}\n",
    "        for item in items:\n",
    "            upper = upper_group[item].sum()\n",
    "            lower =lower_group[item].sum()\n",
    "            discr_index = (upper - lower) / groupsize\n",
    "            dict_index[item]= discr_index\n",
    "        df = pd.DataFrame(dict_index.items(), columns=['item', 'discrimination_index'])\n",
    "        df_list.append(df)\n",
    "        #print(df.head())\n",
    "        #print('-----------------------------------------------------------')\n",
    "    return df_list\n"
   ]
  },
  {
   "cell_type": "code",
   "execution_count": 5,
   "id": "involved-design",
   "metadata": {},
   "outputs": [
    {
     "data": {
      "application/javascript": [
       "\n",
       "            setTimeout(function() {\n",
       "                var nbb_cell_id = 5;\n",
       "                var nbb_unformatted_code = \"d_index_1 = item_discrimination_per_subtest(listTests)[0]\\nd_index_2 = item_discrimination_per_subtest(listTests)[1]\\nd_index_3 = item_discrimination_per_subtest(listTests)[2]\\nd_index_4 = item_discrimination_per_subtest(listTests)[3]\";\n",
       "                var nbb_formatted_code = \"d_index_1 = item_discrimination_per_subtest(listTests)[0]\\nd_index_2 = item_discrimination_per_subtest(listTests)[1]\\nd_index_3 = item_discrimination_per_subtest(listTests)[2]\\nd_index_4 = item_discrimination_per_subtest(listTests)[3]\";\n",
       "                var nbb_cells = Jupyter.notebook.get_cells();\n",
       "                for (var i = 0; i < nbb_cells.length; ++i) {\n",
       "                    if (nbb_cells[i].input_prompt_number == nbb_cell_id) {\n",
       "                        if (nbb_cells[i].get_text() == nbb_unformatted_code) {\n",
       "                             nbb_cells[i].set_text(nbb_formatted_code);\n",
       "                        }\n",
       "                        break;\n",
       "                    }\n",
       "                }\n",
       "            }, 500);\n",
       "            "
      ],
      "text/plain": [
       "<IPython.core.display.Javascript object>"
      ]
     },
     "metadata": {},
     "output_type": "display_data"
    }
   ],
   "source": [
    "d_index_1 = item_discrimination_per_subtest(listTests)[0]\n",
    "d_index_2 = item_discrimination_per_subtest(listTests)[1]\n",
    "d_index_3 = item_discrimination_per_subtest(listTests)[2]\n",
    "d_index_4 = item_discrimination_per_subtest(listTests)[3]"
   ]
  },
  {
   "cell_type": "code",
   "execution_count": 6,
   "id": "hearing-recipe",
   "metadata": {},
   "outputs": [
    {
     "data": {
      "application/javascript": [
       "\n",
       "            setTimeout(function() {\n",
       "                var nbb_cell_id = 6;\n",
       "                var nbb_unformatted_code = \"def barplot_discrimination_index(df, width, height):\\n    df.plot(\\n        figsize=(width, height),\\n        kind=\\\"bar\\\",\\n        x=\\\"item\\\",\\n        y=\\\"discrimination_index\\\",\\n        width=0.8,\\n    )\\n    plt.axhline(y=0.4, color=\\\"g\\\", linestyle=\\\"--\\\")\\n    plt.axhline(y=0.25, color=\\\"black\\\", linestyle=\\\"--\\\")\\n    plt.legend(legend, bbox_to_anchor=(1, 1), borderpad=0.5, loc=\\\"lower right\\\")\\n    plt.xticks(rotation=\\\"horizontal\\\")\\n    plt.show()\\n\\n\\nlegend = [\\\"> 0.4 \\u2013 strongly discriminating\\\", \\\"0.25 \\u2013 starting to become discriminating\\\"]\";\n",
       "                var nbb_formatted_code = \"def barplot_discrimination_index(df, width, height):\\n    df.plot(\\n        figsize=(width, height),\\n        kind=\\\"bar\\\",\\n        x=\\\"item\\\",\\n        y=\\\"discrimination_index\\\",\\n        width=0.8,\\n    )\\n    plt.axhline(y=0.4, color=\\\"g\\\", linestyle=\\\"--\\\")\\n    plt.axhline(y=0.25, color=\\\"black\\\", linestyle=\\\"--\\\")\\n    plt.legend(legend, bbox_to_anchor=(1, 1), borderpad=0.5, loc=\\\"lower right\\\")\\n    plt.xticks(rotation=\\\"horizontal\\\")\\n    plt.show()\\n\\n\\nlegend = [\\\"> 0.4 \\u2013 strongly discriminating\\\", \\\"0.25 \\u2013 starting to become discriminating\\\"]\";\n",
       "                var nbb_cells = Jupyter.notebook.get_cells();\n",
       "                for (var i = 0; i < nbb_cells.length; ++i) {\n",
       "                    if (nbb_cells[i].input_prompt_number == nbb_cell_id) {\n",
       "                        if (nbb_cells[i].get_text() == nbb_unformatted_code) {\n",
       "                             nbb_cells[i].set_text(nbb_formatted_code);\n",
       "                        }\n",
       "                        break;\n",
       "                    }\n",
       "                }\n",
       "            }, 500);\n",
       "            "
      ],
      "text/plain": [
       "<IPython.core.display.Javascript object>"
      ]
     },
     "metadata": {},
     "output_type": "display_data"
    }
   ],
   "source": [
    "def barplot_discrimination_index(df, width, height):\n",
    "    df.plot(\n",
    "        figsize=(width, height),\n",
    "        kind=\"bar\",\n",
    "        x=\"item\",\n",
    "        y=\"discrimination_index\",\n",
    "        width=0.8,\n",
    "    )\n",
    "    plt.axhline(y=0.4, color=\"g\", linestyle=\"--\")\n",
    "    plt.axhline(y=0.25, color=\"black\", linestyle=\"--\")\n",
    "    plt.legend(legend, bbox_to_anchor=(1, 1), borderpad=0.5, loc=\"lower right\")\n",
    "    plt.xticks(rotation=\"horizontal\")\n",
    "    plt.show()\n",
    "\n",
    "\n",
    "legend = [\"> 0.4 – strongly discriminating\", \"0.25 – starting to become discriminating\"]"
   ]
  },
  {
   "cell_type": "markdown",
   "id": "communist-compression",
   "metadata": {},
   "source": [
    "### Subtest 1\n"
   ]
  },
  {
   "cell_type": "code",
   "execution_count": 7,
   "id": "embedded-merchandise",
   "metadata": {
    "scrolled": false
   },
   "outputs": [
    {
     "data": {
      "image/png": "[encoded data removed]",
      "text/plain": [
       "<Figure size 720x360 with 1 Axes>"
      ]
     },
     "metadata": {
      "needs_background": "light"
     },
     "output_type": "display_data"
    },
    {
     "data": {
      "application/javascript": [
       "\n",
       "            setTimeout(function() {\n",
       "                var nbb_cell_id = 7;\n",
       "                var nbb_unformatted_code = \"barplot_discrimination_index(d_index_1, 10, 5)\";\n",
       "                var nbb_formatted_code = \"barplot_discrimination_index(d_index_1, 10, 5)\";\n",
       "                var nbb_cells = Jupyter.notebook.get_cells();\n",
       "                for (var i = 0; i < nbb_cells.length; ++i) {\n",
       "                    if (nbb_cells[i].input_prompt_number == nbb_cell_id) {\n",
       "                        if (nbb_cells[i].get_text() == nbb_unformatted_code) {\n",
       "                             nbb_cells[i].set_text(nbb_formatted_code);\n",
       "                        }\n",
       "                        break;\n",
       "                    }\n",
       "                }\n",
       "            }, 500);\n",
       "            "
      ],
      "text/plain": [
       "<IPython.core.display.Javascript object>"
      ]
     },
     "metadata": {},
     "output_type": "display_data"
    }
   ],
   "source": [
    "barplot_discrimination_index(d_index_1, 10, 5)"
   ]
  },
  {
   "cell_type": "markdown",
   "id": "simplified-diploma",
   "metadata": {},
   "source": [
    "### Subtest 2"
   ]
  },
  {
   "cell_type": "code",
   "execution_count": 8,
   "id": "coral-estimate",
   "metadata": {
    "scrolled": false
   },
   "outputs": [
    {
     "data": {
      "image/png": "[encoded data removed]",
      "text/plain": [
       "<Figure size 720x360 with 1 Axes>"
      ]
     },
     "metadata": {
      "needs_background": "light"
     },
     "output_type": "display_data"
    },
    {
     "data": {
      "application/javascript": [
       "\n",
       "            setTimeout(function() {\n",
       "                var nbb_cell_id = 8;\n",
       "                var nbb_unformatted_code = \"barplot_discrimination_index(d_index_2, 10, 5)\";\n",
       "                var nbb_formatted_code = \"barplot_discrimination_index(d_index_2, 10, 5)\";\n",
       "                var nbb_cells = Jupyter.notebook.get_cells();\n",
       "                for (var i = 0; i < nbb_cells.length; ++i) {\n",
       "                    if (nbb_cells[i].input_prompt_number == nbb_cell_id) {\n",
       "                        if (nbb_cells[i].get_text() == nbb_unformatted_code) {\n",
       "                             nbb_cells[i].set_text(nbb_formatted_code);\n",
       "                        }\n",
       "                        break;\n",
       "                    }\n",
       "                }\n",
       "            }, 500);\n",
       "            "
      ],
      "text/plain": [
       "<IPython.core.display.Javascript object>"
      ]
     },
     "metadata": {},
     "output_type": "display_data"
    }
   ],
   "source": [
    "barplot_discrimination_index(d_index_2, 10, 5)\n"
   ]
  },
  {
   "cell_type": "markdown",
   "id": "olympic-miami",
   "metadata": {},
   "source": [
    "### Subtest 3"
   ]
  },
  {
   "cell_type": "code",
   "execution_count": 9,
   "id": "fuzzy-columbia",
   "metadata": {
    "scrolled": false
   },
   "outputs": [
    {
     "data": {
      "image/png": "[encoded data removed]",
      "text/plain": [
       "<Figure size 1800x720 with 1 Axes>"
      ]
     },
     "metadata": {
      "needs_background": "light"
     },
     "output_type": "display_data"
    },
    {
     "data": {
      "application/javascript": [
       "\n",
       "            setTimeout(function() {\n",
       "                var nbb_cell_id = 9;\n",
       "                var nbb_unformatted_code = \"barplot_discrimination_index(d_index_3, 25, 10)\";\n",
       "                var nbb_formatted_code = \"barplot_discrimination_index(d_index_3, 25, 10)\";\n",
       "                var nbb_cells = Jupyter.notebook.get_cells();\n",
       "                for (var i = 0; i < nbb_cells.length; ++i) {\n",
       "                    if (nbb_cells[i].input_prompt_number == nbb_cell_id) {\n",
       "                        if (nbb_cells[i].get_text() == nbb_unformatted_code) {\n",
       "                             nbb_cells[i].set_text(nbb_formatted_code);\n",
       "                        }\n",
       "                        break;\n",
       "                    }\n",
       "                }\n",
       "            }, 500);\n",
       "            "
      ],
      "text/plain": [
       "<IPython.core.display.Javascript object>"
      ]
     },
     "metadata": {},
     "output_type": "display_data"
    }
   ],
   "source": [
    "barplot_discrimination_index(d_index_3, 25, 10)"
   ]
  },
  {
   "cell_type": "markdown",
   "id": "musical-poetry",
   "metadata": {},
   "source": [
    "### Subtest 4"
   ]
  },
  {
   "cell_type": "code",
   "execution_count": 10,
   "id": "fourth-driving",
   "metadata": {
    "scrolled": false
   },
   "outputs": [
    {
     "data": {
      "image/png": "[encoded data removed]",
      "text/plain": [
       "<Figure size 1080x360 with 1 Axes>"
      ]
     },
     "metadata": {
      "needs_background": "light"
     },
     "output_type": "display_data"
    },
    {
     "data": {
      "application/javascript": [
       "\n",
       "            setTimeout(function() {\n",
       "                var nbb_cell_id = 10;\n",
       "                var nbb_unformatted_code = \"barplot_discrimination_index(d_index_4, 15, 5)\";\n",
       "                var nbb_formatted_code = \"barplot_discrimination_index(d_index_4, 15, 5)\";\n",
       "                var nbb_cells = Jupyter.notebook.get_cells();\n",
       "                for (var i = 0; i < nbb_cells.length; ++i) {\n",
       "                    if (nbb_cells[i].input_prompt_number == nbb_cell_id) {\n",
       "                        if (nbb_cells[i].get_text() == nbb_unformatted_code) {\n",
       "                             nbb_cells[i].set_text(nbb_formatted_code);\n",
       "                        }\n",
       "                        break;\n",
       "                    }\n",
       "                }\n",
       "            }, 500);\n",
       "            "
      ],
      "text/plain": [
       "<IPython.core.display.Javascript object>"
      ]
     },
     "metadata": {},
     "output_type": "display_data"
    }
   ],
   "source": [
    "barplot_discrimination_index(d_index_4, 15, 5)\n"
   ]
  },
  {
   "cell_type": "code",
   "execution_count": null,
   "id": "extended-upset",
   "metadata": {},
   "outputs": [],
   "source": []
  }
 ],
 "metadata": {
  "hide_input": true,
  "kernelspec": {
   "display_name": "tiria",
   "language": "python",
   "name": "tiria"
  },
  "language_info": {
   "codemirror_mode": {
    "name": "ipython",
    "version": 3
   },
   "file_extension": ".py",
   "mimetype": "text/x-python",
   "name": "python",
   "nbconvert_exporter": "python",
   "pygments_lexer": "ipython3",
   "version": "3.8.10"
  }
 },
 "nbformat": 4,
 "nbformat_minor": 5
}
