{
 "cells": [
  {
   "cell_type": "code",
   "execution_count": 1,
   "id": "brilliant-canon",
   "metadata": {},
   "outputs": [
    {
     "data": {
      "application/javascript": [
       "\n",
       "            setTimeout(function() {\n",
       "                var nbb_cell_id = 1;\n",
       "                var nbb_unformatted_code = \"import pandas as pd\\nimport numpy as np\\nimport matplotlib.pyplot as plt\\nimport plotly.express as px\\nimport nbconvert\\n\\npd.options.mode.chained_assignment = None  # default='warn'\\npd.set_option(\\\"display.max_columns\\\", None)\\n# formatter\\n%reload_ext nb_black\\n\\n# set figure size globally\\n# plt.rcParams[\\\"figure.figsize\\\"] = (10, 13)\";\n",
       "                var nbb_formatted_code = \"import pandas as pd\\nimport numpy as np\\nimport matplotlib.pyplot as plt\\nimport plotly.express as px\\nimport nbconvert\\n\\npd.options.mode.chained_assignment = None  # default='warn'\\npd.set_option(\\\"display.max_columns\\\", None)\\n# formatter\\n%reload_ext nb_black\\n\\n# set figure size globally\\n# plt.rcParams[\\\"figure.figsize\\\"] = (10, 13)\";\n",
       "                var nbb_cells = Jupyter.notebook.get_cells();\n",
       "                for (var i = 0; i < nbb_cells.length; ++i) {\n",
       "                    if (nbb_cells[i].input_prompt_number == nbb_cell_id) {\n",
       "                        if (nbb_cells[i].get_text() == nbb_unformatted_code) {\n",
       "                             nbb_cells[i].set_text(nbb_formatted_code);\n",
       "                        }\n",
       "                        break;\n",
       "                    }\n",
       "                }\n",
       "            }, 500);\n",
       "            "
      ],
      "text/plain": [
       "<IPython.core.display.Javascript object>"
      ]
     },
     "metadata": {},
     "output_type": "display_data"
    }
   ],
   "source": [
    "import pandas as pd\n",
    "import numpy as np\n",
    "import matplotlib.pyplot as plt\n",
    "import plotly.express as px\n",
    "import nbconvert\n",
    "\n",
    "pd.options.mode.chained_assignment = None  # default='warn'\n",
    "pd.set_option(\"display.max_columns\", None)\n",
    "# formatter\n",
    "%reload_ext nb_black\n",
    "\n",
    "# set figure size globally\n",
    "# plt.rcParams[\"figure.figsize\"] = (10, 13)"
   ]
  },
  {
   "cell_type": "code",
   "execution_count": 2,
   "id": "educated-prototype",
   "metadata": {},
   "outputs": [
    {
     "data": {
      "application/javascript": [
       "\n",
       "            setTimeout(function() {\n",
       "                var nbb_cell_id = 2;\n",
       "                var nbb_unformatted_code = \"import os\\nfrom pathlib import Path\\n\\n# get absolute path of this script and create Path object\\npath = Path(os.getcwd())\\n\\n# use Path object to get path of project folder\\nabsolutePath = path.parent.absolute()\\n\\n# change working directory to project folder\\nos.chdir(absolutePath)\\n\\n# get path of project folder\\npath_projectFolder = os.getcwd()\";\n",
       "                var nbb_formatted_code = \"import os\\nfrom pathlib import Path\\n\\n# get absolute path of this script and create Path object\\npath = Path(os.getcwd())\\n\\n# use Path object to get path of project folder\\nabsolutePath = path.parent.absolute()\\n\\n# change working directory to project folder\\nos.chdir(absolutePath)\\n\\n# get path of project folder\\npath_projectFolder = os.getcwd()\";\n",
       "                var nbb_cells = Jupyter.notebook.get_cells();\n",
       "                for (var i = 0; i < nbb_cells.length; ++i) {\n",
       "                    if (nbb_cells[i].input_prompt_number == nbb_cell_id) {\n",
       "                        if (nbb_cells[i].get_text() == nbb_unformatted_code) {\n",
       "                             nbb_cells[i].set_text(nbb_formatted_code);\n",
       "                        }\n",
       "                        break;\n",
       "                    }\n",
       "                }\n",
       "            }, 500);\n",
       "            "
      ],
      "text/plain": [
       "<IPython.core.display.Javascript object>"
      ]
     },
     "metadata": {},
     "output_type": "display_data"
    }
   ],
   "source": [
    "import os\n",
    "from pathlib import Path\n",
    "\n",
    "# get absolute path of this script and create Path object\n",
    "path = Path(os.getcwd())\n",
    "\n",
    "# use Path object to get path of project folder\n",
    "absolutePath = path.parent.absolute()\n",
    "\n",
    "# change working directory to project folder\n",
    "os.chdir(absolutePath)\n",
    "\n",
    "# get path of project folder\n",
    "path_projectFolder = os.getcwd()"
   ]
  },
  {
   "cell_type": "code",
   "execution_count": 3,
   "id": "considered-hampshire",
   "metadata": {
    "scrolled": false
   },
   "outputs": [
    {
     "ename": "KeyError",
     "evalue": "'Start'",
     "output_type": "error",
     "traceback": [
      "\u001b[0;31m---------------------------------------------------------------------------\u001b[0m",
      "\u001b[0;31mKeyError\u001b[0m                                  Traceback (most recent call last)",
      "\u001b[0;32m<ipython-input-3-09b4e12ab26b>\u001b[0m in \u001b[0;36m<module>\u001b[0;34m\u001b[0m\n\u001b[1;32m     15\u001b[0m         \u001b[0mids\u001b[0m \u001b[0;34m=\u001b[0m \u001b[0mt\u001b[0m\u001b[0;34m[\u001b[0m\u001b[0;34m\"unique_id\"\u001b[0m\u001b[0;34m]\u001b[0m\u001b[0;34m\u001b[0m\u001b[0;34m\u001b[0m\u001b[0m\n\u001b[1;32m     16\u001b[0m         \u001b[0mlala\u001b[0m \u001b[0;34m=\u001b[0m \u001b[0mt\u001b[0m\u001b[0;34m[\u001b[0m\u001b[0mids\u001b[0m\u001b[0;34m.\u001b[0m\u001b[0misin\u001b[0m\u001b[0;34m(\u001b[0m\u001b[0mids\u001b[0m\u001b[0;34m[\u001b[0m\u001b[0mids\u001b[0m\u001b[0;34m.\u001b[0m\u001b[0mduplicated\u001b[0m\u001b[0;34m(\u001b[0m\u001b[0;34m)\u001b[0m\u001b[0;34m]\u001b[0m\u001b[0;34m)\u001b[0m\u001b[0;34m]\u001b[0m  \u001b[0;31m# .sort_index(\"unique_id\")\u001b[0m\u001b[0;34m\u001b[0m\u001b[0;34m\u001b[0m\u001b[0m\n\u001b[0;32m---> 17\u001b[0;31m         \u001b[0mlala\u001b[0m\u001b[0;34m.\u001b[0m\u001b[0msort_values\u001b[0m\u001b[0;34m(\u001b[0m\u001b[0mby\u001b[0m\u001b[0;34m=\u001b[0m\u001b[0;34m[\u001b[0m\u001b[0;34m\"Start\"\u001b[0m\u001b[0;34m]\u001b[0m\u001b[0;34m,\u001b[0m \u001b[0mascending\u001b[0m\u001b[0;34m=\u001b[0m\u001b[0;32mTrue\u001b[0m\u001b[0;34m,\u001b[0m \u001b[0minplace\u001b[0m\u001b[0;34m=\u001b[0m\u001b[0;32mTrue\u001b[0m\u001b[0;34m)\u001b[0m\u001b[0;34m\u001b[0m\u001b[0;34m\u001b[0m\u001b[0m\n\u001b[0m",
      "\u001b[0;32m~/miniconda3/envs/tiria/lib/python3.8/site-packages/pandas/core/frame.py\u001b[0m in \u001b[0;36msort_values\u001b[0;34m(self, by, axis, ascending, inplace, kind, na_position, ignore_index, key)\u001b[0m\n\u001b[1;32m   5453\u001b[0m \u001b[0;34m\u001b[0m\u001b[0m\n\u001b[1;32m   5454\u001b[0m             \u001b[0mby\u001b[0m \u001b[0;34m=\u001b[0m \u001b[0mby\u001b[0m\u001b[0;34m[\u001b[0m\u001b[0;36m0\u001b[0m\u001b[0;34m]\u001b[0m\u001b[0;34m\u001b[0m\u001b[0;34m\u001b[0m\u001b[0m\n\u001b[0;32m-> 5455\u001b[0;31m             \u001b[0mk\u001b[0m \u001b[0;34m=\u001b[0m \u001b[0mself\u001b[0m\u001b[0;34m.\u001b[0m\u001b[0m_get_label_or_level_values\u001b[0m\u001b[0;34m(\u001b[0m\u001b[0mby\u001b[0m\u001b[0;34m,\u001b[0m \u001b[0maxis\u001b[0m\u001b[0;34m=\u001b[0m\u001b[0maxis\u001b[0m\u001b[0;34m)\u001b[0m\u001b[0;34m\u001b[0m\u001b[0;34m\u001b[0m\u001b[0m\n\u001b[0m\u001b[1;32m   5456\u001b[0m \u001b[0;34m\u001b[0m\u001b[0m\n\u001b[1;32m   5457\u001b[0m             \u001b[0;31m# need to rewrap column in Series to apply key function\u001b[0m\u001b[0;34m\u001b[0m\u001b[0;34m\u001b[0m\u001b[0;34m\u001b[0m\u001b[0m\n",
      "\u001b[0;32m~/miniconda3/envs/tiria/lib/python3.8/site-packages/pandas/core/generic.py\u001b[0m in \u001b[0;36m_get_label_or_level_values\u001b[0;34m(self, key, axis)\u001b[0m\n\u001b[1;32m   1682\u001b[0m             \u001b[0mvalues\u001b[0m \u001b[0;34m=\u001b[0m \u001b[0mself\u001b[0m\u001b[0;34m.\u001b[0m\u001b[0maxes\u001b[0m\u001b[0;34m[\u001b[0m\u001b[0maxis\u001b[0m\u001b[0;34m]\u001b[0m\u001b[0;34m.\u001b[0m\u001b[0mget_level_values\u001b[0m\u001b[0;34m(\u001b[0m\u001b[0mkey\u001b[0m\u001b[0;34m)\u001b[0m\u001b[0;34m.\u001b[0m\u001b[0m_values\u001b[0m\u001b[0;34m\u001b[0m\u001b[0;34m\u001b[0m\u001b[0m\n\u001b[1;32m   1683\u001b[0m         \u001b[0;32melse\u001b[0m\u001b[0;34m:\u001b[0m\u001b[0;34m\u001b[0m\u001b[0;34m\u001b[0m\u001b[0m\n\u001b[0;32m-> 1684\u001b[0;31m             \u001b[0;32mraise\u001b[0m \u001b[0mKeyError\u001b[0m\u001b[0;34m(\u001b[0m\u001b[0mkey\u001b[0m\u001b[0;34m)\u001b[0m\u001b[0;34m\u001b[0m\u001b[0;34m\u001b[0m\u001b[0m\n\u001b[0m\u001b[1;32m   1685\u001b[0m \u001b[0;34m\u001b[0m\u001b[0m\n\u001b[1;32m   1686\u001b[0m         \u001b[0;31m# Check for duplicates\u001b[0m\u001b[0;34m\u001b[0m\u001b[0;34m\u001b[0m\u001b[0;34m\u001b[0m\u001b[0m\n",
      "\u001b[0;31mKeyError\u001b[0m: 'Start'"
     ]
    },
    {
     "data": {
      "application/javascript": [
       "\n",
       "            setTimeout(function() {\n",
       "                var nbb_cell_id = 3;\n",
       "                var nbb_unformatted_code = \"test1 = pd.read_csv(path_projectFolder + \\\"/data/test_1.csv\\\")\\ntest2 = pd.read_csv(path_projectFolder + \\\"/data/test_2.csv\\\")\\ntest3 = pd.read_csv(path_projectFolder + \\\"/data/test_3.csv\\\")\\ntest4 = pd.read_csv(path_projectFolder + \\\"/data/test_4.csv\\\")\\n\\n\\n# Drop all empty columns from tests\\n# Replace 99 with nan\\nlistTests = [test1, test2, test3, test4]\\n\\nfor t in listTests:\\n    t.dropna(how=\\\"all\\\", axis=1, inplace=True)\\n    t.replace(99, np.NaN, inplace=True)\\n    if t[\\\"unique_id\\\"].is_unique == False:\\n        ids = t[\\\"unique_id\\\"]\\n        lala = t[ids.isin(ids[ids.duplicated()])]  # .sort_index(\\\"unique_id\\\")\\n        lala.sort_values(by=[\\\"Start\\\"], ascending=True, inplace=True)\";\n",
       "                var nbb_formatted_code = \"test1 = pd.read_csv(path_projectFolder + \\\"/data/test_1.csv\\\")\\ntest2 = pd.read_csv(path_projectFolder + \\\"/data/test_2.csv\\\")\\ntest3 = pd.read_csv(path_projectFolder + \\\"/data/test_3.csv\\\")\\ntest4 = pd.read_csv(path_projectFolder + \\\"/data/test_4.csv\\\")\\n\\n\\n# Drop all empty columns from tests\\n# Replace 99 with nan\\nlistTests = [test1, test2, test3, test4]\\n\\nfor t in listTests:\\n    t.dropna(how=\\\"all\\\", axis=1, inplace=True)\\n    t.replace(99, np.NaN, inplace=True)\\n    if t[\\\"unique_id\\\"].is_unique == False:\\n        ids = t[\\\"unique_id\\\"]\\n        lala = t[ids.isin(ids[ids.duplicated()])]  # .sort_index(\\\"unique_id\\\")\\n        lala.sort_values(by=[\\\"Start\\\"], ascending=True, inplace=True)\";\n",
       "                var nbb_cells = Jupyter.notebook.get_cells();\n",
       "                for (var i = 0; i < nbb_cells.length; ++i) {\n",
       "                    if (nbb_cells[i].input_prompt_number == nbb_cell_id) {\n",
       "                        if (nbb_cells[i].get_text() == nbb_unformatted_code) {\n",
       "                             nbb_cells[i].set_text(nbb_formatted_code);\n",
       "                        }\n",
       "                        break;\n",
       "                    }\n",
       "                }\n",
       "            }, 500);\n",
       "            "
      ],
      "text/plain": [
       "<IPython.core.display.Javascript object>"
      ]
     },
     "metadata": {},
     "output_type": "display_data"
    }
   ],
   "source": [
    "test1 = pd.read_csv(path_projectFolder + \"/data/test_1.csv\")\n",
    "test2 = pd.read_csv(path_projectFolder + \"/data/test_2.csv\")\n",
    "test3 = pd.read_csv(path_projectFolder + \"/data/test_3.csv\")\n",
    "test4 = pd.read_csv(path_projectFolder + \"/data/test_4.csv\")\n",
    "\n",
    "\n",
    "# Drop all empty columns from tests\n",
    "# Replace 99 with nan\n",
    "listTests = [test1, test2, test3, test4]\n",
    "\n",
    "for t in listTests:\n",
    "    t.dropna(how=\"all\", axis=1, inplace=True)\n",
    "    t.replace(99, np.NaN, inplace=True)\n",
    "    if t[\"unique_id\"].is_unique == False:\n",
    "        ids = t[\"unique_id\"]\n",
    "        lala = t[ids.isin(ids[ids.duplicated()])]  # .sort_index(\"unique_id\")\n",
    "        #lala.sort_values(by=[\"Start\"], ascending=True, inplace=True)"
   ]
  },
  {
   "cell_type": "code",
   "execution_count": null,
   "id": "confidential-restaurant",
   "metadata": {
    "scrolled": false
   },
   "outputs": [],
   "source": [
    "def item_discrimination_per_subtest(df_list):\n",
    "    df_list=[]\n",
    "    for t in listTests:\n",
    "    \n",
    "        # create copy from dataset\n",
    "        df_copy = t.copy()\n",
    "\n",
    "        # get relevant columns\n",
    "        items = df_copy[\n",
    "        df_copy.columns.difference(\n",
    "            [\n",
    "                \"Unnamed: 0\",\n",
    "                \"Test\",\n",
    "                \"Stufe\",\n",
    "                \"unique_id\",\n",
    "                \"Level\",\n",
    "                \"Gesamt_Level\",\n",
    "                \"Start\",\n",
    "            ]\n",
    "        )\n",
    "        ].columns\n",
    "        \n",
    "        # show how many children did the test\n",
    "        #print('count children in subtest: ',len(df_copy))\n",
    "        \n",
    "        # create list of items\n",
    "        items = [int(x) for x in items]\n",
    "        items.sort()\n",
    "        items = [str(x) for x in items]\n",
    "        testItemAnzahl = len(items)\n",
    "        #print('count items of subtest: ',testItemAnzahl)\n",
    "        #print('items: ', items)\n",
    "\n",
    "        # groupsize\n",
    "        percent = 0.25 * len(df_copy)        \n",
    "        groupsize = round(percent)\n",
    "        #print('groupsize: ', groupsize)\n",
    "        #test1_copy.sort_values(by=[\"sum\"], ascending=False, inplace=True)\n",
    "        \n",
    "        \n",
    "        \n",
    "        ''' define groups'''\n",
    "        \n",
    "        # for each child sum the results on items\n",
    "        df_copy[\"sum\"] = df_copy[items].sum(axis=1)\n",
    "        df_copy.sort_values(by=[\"sum\"], ascending=False, inplace=True)\n",
    "        \n",
    "        # get upper group\n",
    "        upper_group = df_copy.head(groupsize)\n",
    "        \n",
    "        # get lower group\n",
    "        lower_group = df_copy.tail(groupsize)\n",
    "    \n",
    "    \n",
    "    \n",
    "        ''' calculate item discrimination index'''\n",
    "        \n",
    "        dict_index = {}\n",
    "        for item in items:\n",
    "            upper = upper_group[item].sum()\n",
    "            lower =lower_group[item].sum()\n",
    "            discr_index = (upper - lower) / groupsize\n",
    "            dict_index[item]= discr_index\n",
    "        df = pd.DataFrame(dict_index.items(), columns=['item', 'discrimination_index'])\n",
    "        df_list.append(df)\n",
    "        #print(df.head())\n",
    "        #print('-----------------------------------------------------------')\n",
    "    return df_list\n"
   ]
  },
  {
   "cell_type": "code",
   "execution_count": null,
   "id": "involved-design",
   "metadata": {},
   "outputs": [],
   "source": [
    "d_index_1 = item_discrimination_per_subtest(listTests)[0]\n",
    "d_index_2 = item_discrimination_per_subtest(listTests)[1]\n",
    "d_index_3 = item_discrimination_per_subtest(listTests)[2]\n",
    "d_index_4 = item_discrimination_per_subtest(listTests)[3]"
   ]
  },
  {
   "cell_type": "code",
   "execution_count": null,
   "id": "criminal-schedule",
   "metadata": {},
   "outputs": [],
   "source": [
    "import matplotlib\n",
    "\n",
    "d_index_1.plot(kind=\"bar\", x=\"item\", y=\"discrimination_index\")\n",
    "plt.axhline(y=0.25, color=\"r\", linestyle=\"--\")\n",
    "plt.axhline(y=0.4, color=\"g\", linestyle=\"--\")"
   ]
  },
  {
   "cell_type": "code",
   "execution_count": null,
   "id": "brazilian-correlation",
   "metadata": {},
   "outputs": [],
   "source": [
    "d_index_2.plot(kind=\"bar\", x=\"item\", y=\"discrimination_index\")\n",
    "plt.axhline(y=0.25, color=\"r\", linestyle=\"--\")\n",
    "plt.axhline(y=0.4, color=\"g\", linestyle=\"--\")"
   ]
  },
  {
   "cell_type": "code",
   "execution_count": null,
   "id": "disturbed-people",
   "metadata": {},
   "outputs": [],
   "source": [
    "d_index_3.plot(figsize=(15.0, 8.0), kind=\"bar\", x=\"item\", y=\"discrimination_index\")\n",
    "plt.axhline(y=0.25, color=\"r\", linestyle=\"--\")\n",
    "plt.axhline(y=0.4, color=\"g\", linestyle=\"--\")"
   ]
  },
  {
   "cell_type": "code",
   "execution_count": null,
   "id": "focal-major",
   "metadata": {},
   "outputs": [],
   "source": [
    "d_index_4.plot(figsize=(15.0, 8.0), kind=\"bar\", x=\"item\", y=\"discrimination_index\")\n",
    "plt.axhline(y=0.25, color=\"r\", linestyle=\"--\")\n",
    "plt.axhline(y=0.4, color=\"g\", linestyle=\"--\")"
   ]
  },
  {
   "cell_type": "code",
   "execution_count": null,
   "id": "expired-heading",
   "metadata": {},
   "outputs": [],
   "source": []
  }
 ],
 "metadata": {
  "hide_input": false,
  "kernelspec": {
   "display_name": "tiria",
   "language": "python",
   "name": "tiria"
  },
  "language_info": {
   "codemirror_mode": {
    "name": "ipython",
    "version": 3
   },
   "file_extension": ".py",
   "mimetype": "text/x-python",
   "name": "python",
   "nbconvert_exporter": "python",
   "pygments_lexer": "ipython3",
   "version": "3.8.10"
  }
 },
 "nbformat": 4,
 "nbformat_minor": 5
}
