{
 "cells": [
  {
   "cell_type": "markdown",
   "id": "thirty-agency",
   "metadata": {},
   "source": [
    "# Environment"
   ]
  },
  {
   "cell_type": "markdown",
   "id": "spiritual-dealing",
   "metadata": {},
   "source": [
    "### Libraries and environment variables"
   ]
  },
  {
   "cell_type": "code",
   "execution_count": 1,
   "id": "floral-polish",
   "metadata": {
    "ExecuteTime": {
     "end_time": "2021-07-31T11:57:37.281412Z",
     "start_time": "2021-07-31T11:57:37.268564Z"
    },
    "scrolled": false
   },
   "outputs": [
    {
     "data": {
      "application/javascript": [
       "\n",
       "            setTimeout(function() {\n",
       "                var nbb_cell_id = 1;\n",
       "                var nbb_unformatted_code = \"import pandas as pd\\nimport numpy as np\\nimport matplotlib.pyplot as plt\\nimport plotly.express as px\\n\\npd.options.mode.chained_assignment = None  # default='warn'\\n\\n# formatter\\n%reload_ext nb_black\\n\\n# set figure size globally\\n# plt.rcParams[\\\"figure.figsize\\\"] = (10, 13)\";\n",
       "                var nbb_formatted_code = \"import pandas as pd\\nimport numpy as np\\nimport matplotlib.pyplot as plt\\nimport plotly.express as px\\n\\npd.options.mode.chained_assignment = None  # default='warn'\\n\\n# formatter\\n%reload_ext nb_black\\n\\n# set figure size globally\\n# plt.rcParams[\\\"figure.figsize\\\"] = (10, 13)\";\n",
       "                var nbb_cells = Jupyter.notebook.get_cells();\n",
       "                for (var i = 0; i < nbb_cells.length; ++i) {\n",
       "                    if (nbb_cells[i].input_prompt_number == nbb_cell_id) {\n",
       "                        if (nbb_cells[i].get_text() == nbb_unformatted_code) {\n",
       "                             nbb_cells[i].set_text(nbb_formatted_code);\n",
       "                        }\n",
       "                        break;\n",
       "                    }\n",
       "                }\n",
       "            }, 500);\n",
       "            "
      ],
      "text/plain": [
       "<IPython.core.display.Javascript object>"
      ]
     },
     "metadata": {},
     "output_type": "display_data"
    }
   ],
   "source": [
    "import pandas as pd\n",
    "import numpy as np\n",
    "import matplotlib.pyplot as plt\n",
    "import plotly.express as px\n",
    "\n",
    "pd.options.mode.chained_assignment = None  # default='warn'\n",
    "\n",
    "# formatter\n",
    "%reload_ext nb_black\n",
    "\n",
    "# set figure size globally\n",
    "# plt.rcParams[\"figure.figsize\"] = (10, 13)"
   ]
  },
  {
   "cell_type": "markdown",
   "id": "willing-auckland",
   "metadata": {},
   "source": [
    "### Set working directory"
   ]
  },
  {
   "cell_type": "code",
   "execution_count": 2,
   "id": "empirical-marsh",
   "metadata": {},
   "outputs": [
    {
     "data": {
      "application/javascript": [
       "\n",
       "            setTimeout(function() {\n",
       "                var nbb_cell_id = 2;\n",
       "                var nbb_unformatted_code = \"import os\\nfrom pathlib import Path\\n\\n# get absolute path of this script and create Path object\\npath = Path(os.getcwd())\\n\\n# use Path object to get the path of project folder\\nabsolutePath = path.parent.absolute()\\n\\n# change working directory to project folder\\nos.chdir(absolutePath)\\n\\n# get path of project folder\\npath_projectFolder = os.getcwd()\";\n",
       "                var nbb_formatted_code = \"import os\\nfrom pathlib import Path\\n\\n# get absolute path of this script and create Path object\\npath = Path(os.getcwd())\\n\\n# use Path object to get the path of project folder\\nabsolutePath = path.parent.absolute()\\n\\n# change working directory to project folder\\nos.chdir(absolutePath)\\n\\n# get path of project folder\\npath_projectFolder = os.getcwd()\";\n",
       "                var nbb_cells = Jupyter.notebook.get_cells();\n",
       "                for (var i = 0; i < nbb_cells.length; ++i) {\n",
       "                    if (nbb_cells[i].input_prompt_number == nbb_cell_id) {\n",
       "                        if (nbb_cells[i].get_text() == nbb_unformatted_code) {\n",
       "                             nbb_cells[i].set_text(nbb_formatted_code);\n",
       "                        }\n",
       "                        break;\n",
       "                    }\n",
       "                }\n",
       "            }, 500);\n",
       "            "
      ],
      "text/plain": [
       "<IPython.core.display.Javascript object>"
      ]
     },
     "metadata": {},
     "output_type": "display_data"
    }
   ],
   "source": [
    "import os\n",
    "from pathlib import Path\n",
    "\n",
    "# get absolute path of this script and create Path object\n",
    "path = Path(os.getcwd())\n",
    "\n",
    "# use Path object to get path of project folder\n",
    "absolutePath = path.parent.absolute()\n",
    "\n",
    "# change working directory to project folder\n",
    "os.chdir(absolutePath)\n",
    "\n",
    "# get path of project folder\n",
    "path_projectFolder = os.getcwd()"
   ]
  },
  {
   "cell_type": "markdown",
   "id": "basic-stick",
   "metadata": {},
   "source": [
    "### Load Data"
   ]
  },
  {
   "cell_type": "code",
   "execution_count": 3,
   "id": "chubby-repair",
   "metadata": {
    "code_folding": []
   },
   "outputs": [
    {
     "data": {
      "application/javascript": [
       "\n",
       "            setTimeout(function() {\n",
       "                var nbb_cell_id = 3;\n",
       "                var nbb_unformatted_code = \"test1 = pd.read_csv(path_projectFolder + \\\"/data/test1.csv\\\")\\ntest2 = pd.read_csv(path_projectFolder +\\\"/data/test2.csv\\\")\\ntest3 = pd.read_csv(path_projectFolder +\\\"/data/test3.csv\\\")\\ntest4 = pd.read_csv(path_projectFolder +\\\"/data/test4.csv\\\")\";\n",
       "                var nbb_formatted_code = \"test1 = pd.read_csv(path_projectFolder + \\\"/data/test1.csv\\\")\\ntest2 = pd.read_csv(path_projectFolder + \\\"/data/test2.csv\\\")\\ntest3 = pd.read_csv(path_projectFolder + \\\"/data/test3.csv\\\")\\ntest4 = pd.read_csv(path_projectFolder + \\\"/data/test4.csv\\\")\";\n",
       "                var nbb_cells = Jupyter.notebook.get_cells();\n",
       "                for (var i = 0; i < nbb_cells.length; ++i) {\n",
       "                    if (nbb_cells[i].input_prompt_number == nbb_cell_id) {\n",
       "                        if (nbb_cells[i].get_text() == nbb_unformatted_code) {\n",
       "                             nbb_cells[i].set_text(nbb_formatted_code);\n",
       "                        }\n",
       "                        break;\n",
       "                    }\n",
       "                }\n",
       "            }, 500);\n",
       "            "
      ],
      "text/plain": [
       "<IPython.core.display.Javascript object>"
      ]
     },
     "metadata": {},
     "output_type": "display_data"
    }
   ],
   "source": [
    "test1 = pd.read_csv(path_projectFolder + \"/data/test1.csv\")\n",
    "test2 = pd.read_csv(path_projectFolder + \"/data/test2.csv\")\n",
    "test3 = pd.read_csv(path_projectFolder + \"/data/test3.csv\")\n",
    "test4 = pd.read_csv(path_projectFolder + \"/data/test4.csv\")"
   ]
  },
  {
   "cell_type": "markdown",
   "id": "protective-foster",
   "metadata": {},
   "source": [
    "# EDA"
   ]
  },
  {
   "cell_type": "markdown",
   "id": "decimal-flavor",
   "metadata": {},
   "source": [
    "### Schüleranzahl"
   ]
  },
  {
   "cell_type": "code",
   "execution_count": 4,
   "id": "sitting-belgium",
   "metadata": {},
   "outputs": [
    {
     "name": "stdout",
     "output_type": "stream",
     "text": [
      "\n",
      " Subtest 1 Kinder: 51 \n",
      " Subtest 2 Kinder: 51 \n",
      " Subtest 3 Kinder: 51 \n",
      " Subtest 4 Kinder: 46 \n",
      "\n"
     ]
    },
    {
     "data": {
      "application/javascript": [
       "\n",
       "            setTimeout(function() {\n",
       "                var nbb_cell_id = 4;\n",
       "                var nbb_unformatted_code = \"anzahl1 = len(test1)\\nanzahl2 = len(test2)\\nanzahl3 = len(test3)\\nanzahl4 = len(test4)\\nprint(\\n    \\\"\\\\n\\\",\\n    \\\"Subtest 1 Kinder:\\\",\\n    anzahl1,\\n    \\\"\\\\n\\\",\\n    \\\"Subtest 2 Kinder:\\\",\\n    anzahl2,\\n    \\\"\\\\n\\\",\\n    \\\"Subtest 3 Kinder:\\\",\\n    anzahl3,\\n    \\\"\\\\n\\\",\\n    \\\"Subtest 4 Kinder:\\\",\\n    anzahl4,\\n    \\\"\\\\n\\\",\\n)\";\n",
       "                var nbb_formatted_code = \"anzahl1 = len(test1)\\nanzahl2 = len(test2)\\nanzahl3 = len(test3)\\nanzahl4 = len(test4)\\nprint(\\n    \\\"\\\\n\\\",\\n    \\\"Subtest 1 Kinder:\\\",\\n    anzahl1,\\n    \\\"\\\\n\\\",\\n    \\\"Subtest 2 Kinder:\\\",\\n    anzahl2,\\n    \\\"\\\\n\\\",\\n    \\\"Subtest 3 Kinder:\\\",\\n    anzahl3,\\n    \\\"\\\\n\\\",\\n    \\\"Subtest 4 Kinder:\\\",\\n    anzahl4,\\n    \\\"\\\\n\\\",\\n)\";\n",
       "                var nbb_cells = Jupyter.notebook.get_cells();\n",
       "                for (var i = 0; i < nbb_cells.length; ++i) {\n",
       "                    if (nbb_cells[i].input_prompt_number == nbb_cell_id) {\n",
       "                        if (nbb_cells[i].get_text() == nbb_unformatted_code) {\n",
       "                             nbb_cells[i].set_text(nbb_formatted_code);\n",
       "                        }\n",
       "                        break;\n",
       "                    }\n",
       "                }\n",
       "            }, 500);\n",
       "            "
      ],
      "text/plain": [
       "<IPython.core.display.Javascript object>"
      ]
     },
     "metadata": {},
     "output_type": "display_data"
    }
   ],
   "source": [
    "anzahl1 = len(test1)\n",
    "anzahl2 = len(test2)\n",
    "anzahl3 = len(test3)\n",
    "anzahl4 = len(test4)\n",
    "print(\n",
    "    \"\\n\",\n",
    "    \"Subtest 1 Kinder:\",\n",
    "    anzahl1,\n",
    "    \"\\n\",\n",
    "    \"Subtest 2 Kinder:\",\n",
    "    anzahl2,\n",
    "    \"\\n\",\n",
    "    \"Subtest 3 Kinder:\",\n",
    "    anzahl3,\n",
    "    \"\\n\",\n",
    "    \"Subtest 4 Kinder:\",\n",
    "    anzahl4,\n",
    "    \"\\n\",\n",
    ")"
   ]
  },
  {
   "cell_type": "markdown",
   "id": "systematic-stanley",
   "metadata": {},
   "source": [
    "### 1. Final level"
   ]
  },
  {
   "cell_type": "code",
   "execution_count": 5,
   "id": "imposed-hawaii",
   "metadata": {
    "scrolled": true
   },
   "outputs": [
    {
     "data": {
      "application/javascript": [
       "\n",
       "            setTimeout(function() {\n",
       "                var nbb_cell_id = 5;\n",
       "                var nbb_unformatted_code = \"# stacked barchart for level\\ndef level_stacked(df, title, column):\\n    dataToPlott = df[column].value_counts(normalize=True) * 100\\n    dataToPlott2 = pd.DataFrame(dataToPlott)\\n    dataToPlott2[\\\"level\\\"] = dataToPlott2.index\\n    dataToPlott2 = dataToPlott2.transpose()\\n    dataToPlott2 = dataToPlott2.head(-1)\\n    dataToPlott2 = dataToPlott2[[\\\"A\\\", \\\"B\\\", \\\"C\\\"]]\\n    print(dataToPlott2)\\n    dataToPlott2.plot(kind=\\\"barh\\\", stacked=True, color=co)\\n    plt.legend([\\\"level A\\\", \\\"level B\\\", \\\"level C\\\"], bbox_to_anchor=(1.3, 1))\\n    plt.xlabel(\\\"%\\\")\\n    plt.xticks([0, 10, 20, 30, 40, 50, 50, 60, 70, 80, 90, 100])\\n    plt.title(title)\\n\\n\\n# histogram for subtest level\\ndef level_histogram(df, title, colors):\\n    dataToPlott = df[\\\"subtest_result\\\"].value_counts(normalize=True) * 100\\n    dataToPlott2 = pd.DataFrame(dataToPlott)\\n    dataToPlott_sorted = dataToPlott2.sort_values(\\\"subtest_result\\\")\\n    dataToPlott_sorted\\n    dataToPlott_sorted[\\\"subtest_result\\\"].plot(kind=\\\"barh\\\", color=co)\\n    plt.title(title)\\n\\n\\n# colors for bars\\nco = [\\n    \\\"lightsteelblue\\\",\\n    \\\"cornflowerblue\\\",\\n    \\\"royalblue\\\",\\n]\";\n",
       "                var nbb_formatted_code = \"# stacked barchart for level\\ndef level_stacked(df, title, column):\\n    dataToPlott = df[column].value_counts(normalize=True) * 100\\n    dataToPlott2 = pd.DataFrame(dataToPlott)\\n    dataToPlott2[\\\"level\\\"] = dataToPlott2.index\\n    dataToPlott2 = dataToPlott2.transpose()\\n    dataToPlott2 = dataToPlott2.head(-1)\\n    dataToPlott2 = dataToPlott2[[\\\"A\\\", \\\"B\\\", \\\"C\\\"]]\\n    print(dataToPlott2)\\n    dataToPlott2.plot(kind=\\\"barh\\\", stacked=True, color=co)\\n    plt.legend([\\\"level A\\\", \\\"level B\\\", \\\"level C\\\"], bbox_to_anchor=(1.3, 1))\\n    plt.xlabel(\\\"%\\\")\\n    plt.xticks([0, 10, 20, 30, 40, 50, 50, 60, 70, 80, 90, 100])\\n    plt.title(title)\\n\\n\\n# histogram for subtest level\\ndef level_histogram(df, title, colors):\\n    dataToPlott = df[\\\"subtest_result\\\"].value_counts(normalize=True) * 100\\n    dataToPlott2 = pd.DataFrame(dataToPlott)\\n    dataToPlott_sorted = dataToPlott2.sort_values(\\\"subtest_result\\\")\\n    dataToPlott_sorted\\n    dataToPlott_sorted[\\\"subtest_result\\\"].plot(kind=\\\"barh\\\", color=co)\\n    plt.title(title)\\n\\n\\n# colors for bars\\nco = [\\n    \\\"lightsteelblue\\\",\\n    \\\"cornflowerblue\\\",\\n    \\\"royalblue\\\",\\n]\";\n",
       "                var nbb_cells = Jupyter.notebook.get_cells();\n",
       "                for (var i = 0; i < nbb_cells.length; ++i) {\n",
       "                    if (nbb_cells[i].input_prompt_number == nbb_cell_id) {\n",
       "                        if (nbb_cells[i].get_text() == nbb_unformatted_code) {\n",
       "                             nbb_cells[i].set_text(nbb_formatted_code);\n",
       "                        }\n",
       "                        break;\n",
       "                    }\n",
       "                }\n",
       "            }, 500);\n",
       "            "
      ],
      "text/plain": [
       "<IPython.core.display.Javascript object>"
      ]
     },
     "metadata": {},
     "output_type": "display_data"
    }
   ],
   "source": [
    "# stacked barchart for level\n",
    "def level_stacked(df, title, column):\n",
    "    dataToPlott = df[column].value_counts(normalize=True) * 100\n",
    "    dataToPlott2 = pd.DataFrame(dataToPlott)\n",
    "    dataToPlott2[\"level\"] = dataToPlott2.index\n",
    "    dataToPlott2 = dataToPlott2.transpose()\n",
    "    dataToPlott2 = dataToPlott2.head(-1)\n",
    "    dataToPlott2 = dataToPlott2[[\"A\", \"B\", \"C\"]]\n",
    "    print(dataToPlott2)\n",
    "    dataToPlott2.plot(kind=\"barh\", stacked=True, color=co)\n",
    "    plt.legend([\"level A\", \"level B\", \"level C\"], bbox_to_anchor=(1.3, 1))\n",
    "    plt.xlabel(\"%\")\n",
    "    plt.xticks([0, 10, 20, 30, 40, 50, 50, 60, 70, 80, 90, 100])\n",
    "    plt.title(title)\n",
    "\n",
    "\n",
    "# histogram for subtest level\n",
    "def level_histogram(df, title, colors):\n",
    "    dataToPlott = df[\"subtest_result\"].value_counts(normalize=True) * 100\n",
    "    dataToPlott2 = pd.DataFrame(dataToPlott)\n",
    "    dataToPlott_sorted = dataToPlott2.sort_values(\"subtest_result\")\n",
    "    dataToPlott_sorted\n",
    "    dataToPlott_sorted[\"subtest_result\"].plot(kind=\"barh\", color=co)\n",
    "    plt.title(title)\n",
    "\n",
    "\n",
    "# colors for bars\n",
    "co = [\n",
    "    \"lightsteelblue\",\n",
    "    \"cornflowerblue\",\n",
    "    \"royalblue\",\n",
    "]"
   ]
  },
  {
   "cell_type": "code",
   "execution_count": 6,
   "id": "special-replacement",
   "metadata": {},
   "outputs": [
    {
     "name": "stdout",
     "output_type": "stream",
     "text": [
      "                   A          B          C\n",
      "end_result  9.803922  31.372549  56.862745\n"
     ]
    },
    {
     "data": {
      "image/png": "[encoded data removed]",
      "text/plain": [
       "<Figure size 432x288 with 1 Axes>"
      ]
     },
     "metadata": {
      "needs_background": "light"
     },
     "output_type": "display_data"
    },
    {
     "data": {
      "application/javascript": [
       "\n",
       "            setTimeout(function() {\n",
       "                var nbb_cell_id = 6;\n",
       "                var nbb_unformatted_code = \"level_stacked(test1, \\\"final result\\\", \\\"end_result\\\")\";\n",
       "                var nbb_formatted_code = \"level_stacked(test1, \\\"final result\\\", \\\"end_result\\\")\";\n",
       "                var nbb_cells = Jupyter.notebook.get_cells();\n",
       "                for (var i = 0; i < nbb_cells.length; ++i) {\n",
       "                    if (nbb_cells[i].input_prompt_number == nbb_cell_id) {\n",
       "                        if (nbb_cells[i].get_text() == nbb_unformatted_code) {\n",
       "                             nbb_cells[i].set_text(nbb_formatted_code);\n",
       "                        }\n",
       "                        break;\n",
       "                    }\n",
       "                }\n",
       "            }, 500);\n",
       "            "
      ],
      "text/plain": [
       "<IPython.core.display.Javascript object>"
      ]
     },
     "metadata": {},
     "output_type": "display_data"
    }
   ],
   "source": [
    "level_stacked(test1, \"final result\", \"end_result\")"
   ]
  },
  {
   "cell_type": "markdown",
   "id": "electronic-cartoon",
   "metadata": {},
   "source": [
    "### 2. Subtest level"
   ]
  },
  {
   "cell_type": "markdown",
   "id": "dense-daniel",
   "metadata": {},
   "source": [
    "#### Subtest 1 Level"
   ]
  },
  {
   "cell_type": "code",
   "execution_count": 7,
   "id": "hazardous-tutorial",
   "metadata": {},
   "outputs": [
    {
     "name": "stdout",
     "output_type": "stream",
     "text": [
      "                        A          B          C\n",
      "subtest_result  17.647059  25.490196  56.862745\n"
     ]
    },
    {
     "data": {
      "image/png": "[encoded data removed]",
      "text/plain": [
       "<Figure size 432x288 with 1 Axes>"
      ]
     },
     "metadata": {
      "needs_background": "light"
     },
     "output_type": "display_data"
    },
    {
     "data": {
      "application/javascript": [
       "\n",
       "            setTimeout(function() {\n",
       "                var nbb_cell_id = 7;\n",
       "                var nbb_unformatted_code = \"level_stacked(test1, \\\"Subtest level\\\", \\\"subtest_result\\\")\";\n",
       "                var nbb_formatted_code = \"level_stacked(test1, \\\"Subtest level\\\", \\\"subtest_result\\\")\";\n",
       "                var nbb_cells = Jupyter.notebook.get_cells();\n",
       "                for (var i = 0; i < nbb_cells.length; ++i) {\n",
       "                    if (nbb_cells[i].input_prompt_number == nbb_cell_id) {\n",
       "                        if (nbb_cells[i].get_text() == nbb_unformatted_code) {\n",
       "                             nbb_cells[i].set_text(nbb_formatted_code);\n",
       "                        }\n",
       "                        break;\n",
       "                    }\n",
       "                }\n",
       "            }, 500);\n",
       "            "
      ],
      "text/plain": [
       "<IPython.core.display.Javascript object>"
      ]
     },
     "metadata": {},
     "output_type": "display_data"
    }
   ],
   "source": [
    "level_stacked(test1, \"Subtest level\", \"subtest_result\")"
   ]
  },
  {
   "cell_type": "markdown",
   "id": "fitted-minutes",
   "metadata": {},
   "source": [
    "#### Subtest 2 Level"
   ]
  },
  {
   "cell_type": "code",
   "execution_count": 8,
   "id": "political-section",
   "metadata": {},
   "outputs": [
    {
     "name": "stdout",
     "output_type": "stream",
     "text": [
      "                        A          B          C\n",
      "subtest_result  17.647059  25.490196  56.862745\n"
     ]
    },
    {
     "data": {
      "image/png": "[encoded data removed]",
      "text/plain": [
       "<Figure size 432x288 with 1 Axes>"
      ]
     },
     "metadata": {
      "needs_background": "light"
     },
     "output_type": "display_data"
    },
    {
     "data": {
      "application/javascript": [
       "\n",
       "            setTimeout(function() {\n",
       "                var nbb_cell_id = 8;\n",
       "                var nbb_unformatted_code = \"level_stacked(test2, \\\"Subtest 2 level\\\", \\\"subtest_result\\\")\";\n",
       "                var nbb_formatted_code = \"level_stacked(test2, \\\"Subtest 2 level\\\", \\\"subtest_result\\\")\";\n",
       "                var nbb_cells = Jupyter.notebook.get_cells();\n",
       "                for (var i = 0; i < nbb_cells.length; ++i) {\n",
       "                    if (nbb_cells[i].input_prompt_number == nbb_cell_id) {\n",
       "                        if (nbb_cells[i].get_text() == nbb_unformatted_code) {\n",
       "                             nbb_cells[i].set_text(nbb_formatted_code);\n",
       "                        }\n",
       "                        break;\n",
       "                    }\n",
       "                }\n",
       "            }, 500);\n",
       "            "
      ],
      "text/plain": [
       "<IPython.core.display.Javascript object>"
      ]
     },
     "metadata": {},
     "output_type": "display_data"
    }
   ],
   "source": [
    "level_stacked(test2, \"Subtest 2 level\", \"subtest_result\")"
   ]
  },
  {
   "cell_type": "markdown",
   "id": "further-community",
   "metadata": {},
   "source": [
    "#### Subtest 3 Level"
   ]
  },
  {
   "cell_type": "code",
   "execution_count": 9,
   "id": "immediate-forum",
   "metadata": {},
   "outputs": [
    {
     "name": "stdout",
     "output_type": "stream",
     "text": [
      "                       A          B          C\n",
      "subtest_result  9.803922  25.490196  64.705882\n"
     ]
    },
    {
     "data": {
      "image/png": "[encoded data removed]",
      "text/plain": [
       "<Figure size 432x288 with 1 Axes>"
      ]
     },
     "metadata": {
      "needs_background": "light"
     },
     "output_type": "display_data"
    },
    {
     "data": {
      "application/javascript": [
       "\n",
       "            setTimeout(function() {\n",
       "                var nbb_cell_id = 9;\n",
       "                var nbb_unformatted_code = \"level_stacked(test3, \\\"Subtest 3 level\\\", \\\"subtest_result\\\")\";\n",
       "                var nbb_formatted_code = \"level_stacked(test3, \\\"Subtest 3 level\\\", \\\"subtest_result\\\")\";\n",
       "                var nbb_cells = Jupyter.notebook.get_cells();\n",
       "                for (var i = 0; i < nbb_cells.length; ++i) {\n",
       "                    if (nbb_cells[i].input_prompt_number == nbb_cell_id) {\n",
       "                        if (nbb_cells[i].get_text() == nbb_unformatted_code) {\n",
       "                             nbb_cells[i].set_text(nbb_formatted_code);\n",
       "                        }\n",
       "                        break;\n",
       "                    }\n",
       "                }\n",
       "            }, 500);\n",
       "            "
      ],
      "text/plain": [
       "<IPython.core.display.Javascript object>"
      ]
     },
     "metadata": {},
     "output_type": "display_data"
    }
   ],
   "source": [
    "level_stacked(test3, \"Subtest 3 level\", \"subtest_result\")"
   ]
  },
  {
   "cell_type": "markdown",
   "id": "addressed-football",
   "metadata": {},
   "source": [
    "#### Subtest 4 Level"
   ]
  },
  {
   "cell_type": "code",
   "execution_count": 10,
   "id": "joint-madison",
   "metadata": {},
   "outputs": [
    {
     "name": "stdout",
     "output_type": "stream",
     "text": [
      "                        A          B          C\n",
      "subtest_result  13.043478  26.086957  60.869565\n"
     ]
    },
    {
     "data": {
      "image/png": "[encoded data removed]",
      "text/plain": [
       "<Figure size 432x288 with 1 Axes>"
      ]
     },
     "metadata": {
      "needs_background": "light"
     },
     "output_type": "display_data"
    },
    {
     "data": {
      "application/javascript": [
       "\n",
       "            setTimeout(function() {\n",
       "                var nbb_cell_id = 10;\n",
       "                var nbb_unformatted_code = \"level_stacked(test4, \\\"Subtest 4 level\\\", \\\"subtest_result\\\")\";\n",
       "                var nbb_formatted_code = \"level_stacked(test4, \\\"Subtest 4 level\\\", \\\"subtest_result\\\")\";\n",
       "                var nbb_cells = Jupyter.notebook.get_cells();\n",
       "                for (var i = 0; i < nbb_cells.length; ++i) {\n",
       "                    if (nbb_cells[i].input_prompt_number == nbb_cell_id) {\n",
       "                        if (nbb_cells[i].get_text() == nbb_unformatted_code) {\n",
       "                             nbb_cells[i].set_text(nbb_formatted_code);\n",
       "                        }\n",
       "                        break;\n",
       "                    }\n",
       "                }\n",
       "            }, 500);\n",
       "            "
      ],
      "text/plain": [
       "<IPython.core.display.Javascript object>"
      ]
     },
     "metadata": {},
     "output_type": "display_data"
    }
   ],
   "source": [
    "level_stacked(test4, \"Subtest 4 level\", \"subtest_result\")"
   ]
  },
  {
   "cell_type": "markdown",
   "id": "medieval-baltimore",
   "metadata": {},
   "source": [
    "### 3. Missing Values = Unbeantwortet"
   ]
  },
  {
   "cell_type": "code",
   "execution_count": 11,
   "id": "processed-rhythm",
   "metadata": {
    "code_folding": [
     0
    ]
   },
   "outputs": [
    {
     "data": {
      "application/javascript": [
       "\n",
       "            setTimeout(function() {\n",
       "                var nbb_cell_id = 11;\n",
       "                var nbb_unformatted_code = \"def missing_values_per_variable(df, percent=100, dropCol=False):  # sum_missing_values\\n\\n    ergebnis = [col for col in df.columns if \\\"ergebnis\\\" in col]\\n    selectedData = df[ergebnis]\\n    selectedData.replace(99, np.NaN, inplace=True)\\n    listCol = []\\n    rowCount = selectedData.shape[0]\\n    for column in selectedData:\\n        sumColumn = selectedData[column].isna().sum()\\n        percentNA = sumColumn / rowCount * 100\\n        if percentNA <= percent:\\n            listCol.append(\\n                {\\n                    \\\"column\\\": column,\\n                    \\\"missing_values\\\": sumColumn,\\n                    \\\"missing_values(%)\\\": percentNA,\\n                }\\n            )\\n        else:\\n            if dropCol == True:\\n                print(\\\"Column dropped: \\\", column, \\\", missing values(%): \\\", percentNA)\\n                selectedData.drop([column], axis=1, inplace=True)\\n    listCol = (\\n        pd.DataFrame(listCol)\\n        .sort_values(by=\\\"missing_values\\\", ascending=False)\\n        .reset_index(drop=True)\\n    )\\n\\n    listCol.index = listCol[\\\"column\\\"]\\n    listCol.drop(\\\"column\\\", axis=1, inplace=True)\\n\\n    return listCol\";\n",
       "                var nbb_formatted_code = \"def missing_values_per_variable(df, percent=100, dropCol=False):  # sum_missing_values\\n\\n    ergebnis = [col for col in df.columns if \\\"ergebnis\\\" in col]\\n    selectedData = df[ergebnis]\\n    selectedData.replace(99, np.NaN, inplace=True)\\n    listCol = []\\n    rowCount = selectedData.shape[0]\\n    for column in selectedData:\\n        sumColumn = selectedData[column].isna().sum()\\n        percentNA = sumColumn / rowCount * 100\\n        if percentNA <= percent:\\n            listCol.append(\\n                {\\n                    \\\"column\\\": column,\\n                    \\\"missing_values\\\": sumColumn,\\n                    \\\"missing_values(%)\\\": percentNA,\\n                }\\n            )\\n        else:\\n            if dropCol == True:\\n                print(\\\"Column dropped: \\\", column, \\\", missing values(%): \\\", percentNA)\\n                selectedData.drop([column], axis=1, inplace=True)\\n    listCol = (\\n        pd.DataFrame(listCol)\\n        .sort_values(by=\\\"missing_values\\\", ascending=False)\\n        .reset_index(drop=True)\\n    )\\n\\n    listCol.index = listCol[\\\"column\\\"]\\n    listCol.drop(\\\"column\\\", axis=1, inplace=True)\\n\\n    return listCol\";\n",
       "                var nbb_cells = Jupyter.notebook.get_cells();\n",
       "                for (var i = 0; i < nbb_cells.length; ++i) {\n",
       "                    if (nbb_cells[i].input_prompt_number == nbb_cell_id) {\n",
       "                        if (nbb_cells[i].get_text() == nbb_unformatted_code) {\n",
       "                             nbb_cells[i].set_text(nbb_formatted_code);\n",
       "                        }\n",
       "                        break;\n",
       "                    }\n",
       "                }\n",
       "            }, 500);\n",
       "            "
      ],
      "text/plain": [
       "<IPython.core.display.Javascript object>"
      ]
     },
     "metadata": {},
     "output_type": "display_data"
    }
   ],
   "source": [
    "def missing_values_per_variable(df, percent=100, dropCol=False):  # sum_missing_values\n",
    "\n",
    "    ergebnis = [col for col in df.columns if \"ergebnis\" in col]\n",
    "    selectedData = df[ergebnis]\n",
    "    selectedData.replace(99, np.NaN, inplace=True)\n",
    "    listCol = []\n",
    "    rowCount = selectedData.shape[0]\n",
    "    for column in selectedData:\n",
    "        sumColumn = selectedData[column].isna().sum()\n",
    "        percentNA = sumColumn / rowCount * 100\n",
    "        if percentNA <= percent:\n",
    "            listCol.append(\n",
    "                {\n",
    "                    \"column\": column,\n",
    "                    \"missing_values\": sumColumn,\n",
    "                    \"missing_values(%)\": percentNA,\n",
    "                }\n",
    "            )\n",
    "        else:\n",
    "            if dropCol == True:\n",
    "                print(\"Column dropped: \", column, \", missing values(%): \", percentNA)\n",
    "                selectedData.drop([column], axis=1, inplace=True)\n",
    "    listCol = (\n",
    "        pd.DataFrame(listCol)\n",
    "        .sort_values(by=\"missing_values\", ascending=False)\n",
    "        .reset_index(drop=True)\n",
    "    )\n",
    "\n",
    "    listCol.index = listCol[\"column\"]\n",
    "    listCol.drop(\"column\", axis=1, inplace=True)\n",
    "\n",
    "    return listCol"
   ]
  },
  {
   "cell_type": "markdown",
   "id": "continuing-public",
   "metadata": {},
   "source": [
    "#### Subtest 1: Missing values"
   ]
  },
  {
   "cell_type": "code",
   "execution_count": 12,
   "id": "cutting-pharmacy",
   "metadata": {},
   "outputs": [
    {
     "name": "stdout",
     "output_type": "stream",
     "text": [
      "Kinder: 51\n"
     ]
    },
    {
     "data": {
      "text/html": [
       "<div>\n",
       "<style scoped>\n",
       "    .dataframe tbody tr th:only-of-type {\n",
       "        vertical-align: middle;\n",
       "    }\n",
       "\n",
       "    .dataframe tbody tr th {\n",
       "        vertical-align: top;\n",
       "    }\n",
       "\n",
       "    .dataframe thead th {\n",
       "        text-align: right;\n",
       "    }\n",
       "</style>\n",
       "<table border=\"1\" class=\"dataframe\">\n",
       "  <thead>\n",
       "    <tr style=\"text-align: right;\">\n",
       "      <th></th>\n",
       "      <th>missing_values</th>\n",
       "      <th>missing_values(%)</th>\n",
       "    </tr>\n",
       "    <tr>\n",
       "      <th>column</th>\n",
       "      <th></th>\n",
       "      <th></th>\n",
       "    </tr>\n",
       "  </thead>\n",
       "  <tbody>\n",
       "    <tr>\n",
       "      <th>1_10_ergebnis</th>\n",
       "      <td>5</td>\n",
       "      <td>9.803922</td>\n",
       "    </tr>\n",
       "    <tr>\n",
       "      <th>1_4_ergebnis</th>\n",
       "      <td>4</td>\n",
       "      <td>7.843137</td>\n",
       "    </tr>\n",
       "    <tr>\n",
       "      <th>1_9_ergebnis</th>\n",
       "      <td>2</td>\n",
       "      <td>3.921569</td>\n",
       "    </tr>\n",
       "    <tr>\n",
       "      <th>1_3_ergebnis</th>\n",
       "      <td>1</td>\n",
       "      <td>1.960784</td>\n",
       "    </tr>\n",
       "    <tr>\n",
       "      <th>1_5_ergebnis</th>\n",
       "      <td>1</td>\n",
       "      <td>1.960784</td>\n",
       "    </tr>\n",
       "  </tbody>\n",
       "</table>\n",
       "</div>"
      ],
      "text/plain": [
       "               missing_values  missing_values(%)\n",
       "column                                          \n",
       "1_10_ergebnis               5           9.803922\n",
       "1_4_ergebnis                4           7.843137\n",
       "1_9_ergebnis                2           3.921569\n",
       "1_3_ergebnis                1           1.960784\n",
       "1_5_ergebnis                1           1.960784"
      ]
     },
     "execution_count": 12,
     "metadata": {},
     "output_type": "execute_result"
    },
    {
     "data": {
      "application/javascript": [
       "\n",
       "            setTimeout(function() {\n",
       "                var nbb_cell_id = 12;\n",
       "                var nbb_unformatted_code = \"missing_values = missing_values_per_variable(test1)\\nprint(\\\"Kinder:\\\", anzahl1)\\nmissing_values.head()\";\n",
       "                var nbb_formatted_code = \"missing_values = missing_values_per_variable(test1)\\nprint(\\\"Kinder:\\\", anzahl1)\\nmissing_values.head()\";\n",
       "                var nbb_cells = Jupyter.notebook.get_cells();\n",
       "                for (var i = 0; i < nbb_cells.length; ++i) {\n",
       "                    if (nbb_cells[i].input_prompt_number == nbb_cell_id) {\n",
       "                        if (nbb_cells[i].get_text() == nbb_unformatted_code) {\n",
       "                             nbb_cells[i].set_text(nbb_formatted_code);\n",
       "                        }\n",
       "                        break;\n",
       "                    }\n",
       "                }\n",
       "            }, 500);\n",
       "            "
      ],
      "text/plain": [
       "<IPython.core.display.Javascript object>"
      ]
     },
     "metadata": {},
     "output_type": "display_data"
    }
   ],
   "source": [
    "missing_values = missing_values_per_variable(test1)\n",
    "print(\"Kinder:\", anzahl1)\n",
    "missing_values.head()"
   ]
  },
  {
   "cell_type": "markdown",
   "id": "descending-china",
   "metadata": {},
   "source": [
    "#### Subtest 2: Missing values"
   ]
  },
  {
   "cell_type": "code",
   "execution_count": 13,
   "id": "statutory-essay",
   "metadata": {},
   "outputs": [
    {
     "name": "stdout",
     "output_type": "stream",
     "text": [
      "Kinder: 51\n"
     ]
    },
    {
     "data": {
      "text/html": [
       "<div>\n",
       "<style scoped>\n",
       "    .dataframe tbody tr th:only-of-type {\n",
       "        vertical-align: middle;\n",
       "    }\n",
       "\n",
       "    .dataframe tbody tr th {\n",
       "        vertical-align: top;\n",
       "    }\n",
       "\n",
       "    .dataframe thead th {\n",
       "        text-align: right;\n",
       "    }\n",
       "</style>\n",
       "<table border=\"1\" class=\"dataframe\">\n",
       "  <thead>\n",
       "    <tr style=\"text-align: right;\">\n",
       "      <th></th>\n",
       "      <th>missing_values</th>\n",
       "      <th>missing_values(%)</th>\n",
       "    </tr>\n",
       "    <tr>\n",
       "      <th>column</th>\n",
       "      <th></th>\n",
       "      <th></th>\n",
       "    </tr>\n",
       "  </thead>\n",
       "  <tbody>\n",
       "    <tr>\n",
       "      <th>2_10_ergebnis</th>\n",
       "      <td>12</td>\n",
       "      <td>23.529412</td>\n",
       "    </tr>\n",
       "    <tr>\n",
       "      <th>2_8_ergebnis</th>\n",
       "      <td>6</td>\n",
       "      <td>11.764706</td>\n",
       "    </tr>\n",
       "    <tr>\n",
       "      <th>2_2_ergebnis</th>\n",
       "      <td>5</td>\n",
       "      <td>9.803922</td>\n",
       "    </tr>\n",
       "    <tr>\n",
       "      <th>2_9_ergebnis</th>\n",
       "      <td>5</td>\n",
       "      <td>9.803922</td>\n",
       "    </tr>\n",
       "    <tr>\n",
       "      <th>2_7_ergebnis</th>\n",
       "      <td>4</td>\n",
       "      <td>7.843137</td>\n",
       "    </tr>\n",
       "  </tbody>\n",
       "</table>\n",
       "</div>"
      ],
      "text/plain": [
       "               missing_values  missing_values(%)\n",
       "column                                          \n",
       "2_10_ergebnis              12          23.529412\n",
       "2_8_ergebnis                6          11.764706\n",
       "2_2_ergebnis                5           9.803922\n",
       "2_9_ergebnis                5           9.803922\n",
       "2_7_ergebnis                4           7.843137"
      ]
     },
     "execution_count": 13,
     "metadata": {},
     "output_type": "execute_result"
    },
    {
     "data": {
      "application/javascript": [
       "\n",
       "            setTimeout(function() {\n",
       "                var nbb_cell_id = 13;\n",
       "                var nbb_unformatted_code = \"missing_values = missing_values_per_variable(test2)\\nprint(\\\"Kinder:\\\", anzahl2)\\nmissing_values.head()\";\n",
       "                var nbb_formatted_code = \"missing_values = missing_values_per_variable(test2)\\nprint(\\\"Kinder:\\\", anzahl2)\\nmissing_values.head()\";\n",
       "                var nbb_cells = Jupyter.notebook.get_cells();\n",
       "                for (var i = 0; i < nbb_cells.length; ++i) {\n",
       "                    if (nbb_cells[i].input_prompt_number == nbb_cell_id) {\n",
       "                        if (nbb_cells[i].get_text() == nbb_unformatted_code) {\n",
       "                             nbb_cells[i].set_text(nbb_formatted_code);\n",
       "                        }\n",
       "                        break;\n",
       "                    }\n",
       "                }\n",
       "            }, 500);\n",
       "            "
      ],
      "text/plain": [
       "<IPython.core.display.Javascript object>"
      ]
     },
     "metadata": {},
     "output_type": "display_data"
    }
   ],
   "source": [
    "missing_values = missing_values_per_variable(test2)\n",
    "print(\"Kinder:\", anzahl2)\n",
    "missing_values.head()"
   ]
  },
  {
   "cell_type": "markdown",
   "id": "interstate-messaging",
   "metadata": {},
   "source": [
    "#### Subtest 3: Missing values"
   ]
  },
  {
   "cell_type": "code",
   "execution_count": 14,
   "id": "detected-bridges",
   "metadata": {},
   "outputs": [
    {
     "name": "stdout",
     "output_type": "stream",
     "text": [
      "Kinder: 51\n"
     ]
    },
    {
     "data": {
      "text/html": [
       "<div>\n",
       "<style scoped>\n",
       "    .dataframe tbody tr th:only-of-type {\n",
       "        vertical-align: middle;\n",
       "    }\n",
       "\n",
       "    .dataframe tbody tr th {\n",
       "        vertical-align: top;\n",
       "    }\n",
       "\n",
       "    .dataframe thead th {\n",
       "        text-align: right;\n",
       "    }\n",
       "</style>\n",
       "<table border=\"1\" class=\"dataframe\">\n",
       "  <thead>\n",
       "    <tr style=\"text-align: right;\">\n",
       "      <th></th>\n",
       "      <th>missing_values</th>\n",
       "      <th>missing_values(%)</th>\n",
       "    </tr>\n",
       "    <tr>\n",
       "      <th>column</th>\n",
       "      <th></th>\n",
       "      <th></th>\n",
       "    </tr>\n",
       "  </thead>\n",
       "  <tbody>\n",
       "    <tr>\n",
       "      <th>3_50_ergebnis</th>\n",
       "      <td>32</td>\n",
       "      <td>62.745098</td>\n",
       "    </tr>\n",
       "    <tr>\n",
       "      <th>3_22_ergebnis</th>\n",
       "      <td>31</td>\n",
       "      <td>60.784314</td>\n",
       "    </tr>\n",
       "    <tr>\n",
       "      <th>3_37_ergebnis</th>\n",
       "      <td>30</td>\n",
       "      <td>58.823529</td>\n",
       "    </tr>\n",
       "    <tr>\n",
       "      <th>3_21_ergebnis</th>\n",
       "      <td>29</td>\n",
       "      <td>56.862745</td>\n",
       "    </tr>\n",
       "    <tr>\n",
       "      <th>3_20_ergebnis</th>\n",
       "      <td>29</td>\n",
       "      <td>56.862745</td>\n",
       "    </tr>\n",
       "    <tr>\n",
       "      <th>3_19_ergebnis</th>\n",
       "      <td>27</td>\n",
       "      <td>52.941176</td>\n",
       "    </tr>\n",
       "    <tr>\n",
       "      <th>3_18_ergebnis</th>\n",
       "      <td>27</td>\n",
       "      <td>52.941176</td>\n",
       "    </tr>\n",
       "    <tr>\n",
       "      <th>3_17_ergebnis</th>\n",
       "      <td>27</td>\n",
       "      <td>52.941176</td>\n",
       "    </tr>\n",
       "    <tr>\n",
       "      <th>3_16_ergebnis</th>\n",
       "      <td>26</td>\n",
       "      <td>50.980392</td>\n",
       "    </tr>\n",
       "    <tr>\n",
       "      <th>3_15_ergebnis</th>\n",
       "      <td>25</td>\n",
       "      <td>49.019608</td>\n",
       "    </tr>\n",
       "  </tbody>\n",
       "</table>\n",
       "</div>"
      ],
      "text/plain": [
       "               missing_values  missing_values(%)\n",
       "column                                          \n",
       "3_50_ergebnis              32          62.745098\n",
       "3_22_ergebnis              31          60.784314\n",
       "3_37_ergebnis              30          58.823529\n",
       "3_21_ergebnis              29          56.862745\n",
       "3_20_ergebnis              29          56.862745\n",
       "3_19_ergebnis              27          52.941176\n",
       "3_18_ergebnis              27          52.941176\n",
       "3_17_ergebnis              27          52.941176\n",
       "3_16_ergebnis              26          50.980392\n",
       "3_15_ergebnis              25          49.019608"
      ]
     },
     "execution_count": 14,
     "metadata": {},
     "output_type": "execute_result"
    },
    {
     "data": {
      "application/javascript": [
       "\n",
       "            setTimeout(function() {\n",
       "                var nbb_cell_id = 14;\n",
       "                var nbb_unformatted_code = \"missing_values = missing_values_per_variable(test3)\\nprint(\\\"Kinder:\\\", anzahl3)\\nmissing_values.head(+10)\";\n",
       "                var nbb_formatted_code = \"missing_values = missing_values_per_variable(test3)\\nprint(\\\"Kinder:\\\", anzahl3)\\nmissing_values.head(+10)\";\n",
       "                var nbb_cells = Jupyter.notebook.get_cells();\n",
       "                for (var i = 0; i < nbb_cells.length; ++i) {\n",
       "                    if (nbb_cells[i].input_prompt_number == nbb_cell_id) {\n",
       "                        if (nbb_cells[i].get_text() == nbb_unformatted_code) {\n",
       "                             nbb_cells[i].set_text(nbb_formatted_code);\n",
       "                        }\n",
       "                        break;\n",
       "                    }\n",
       "                }\n",
       "            }, 500);\n",
       "            "
      ],
      "text/plain": [
       "<IPython.core.display.Javascript object>"
      ]
     },
     "metadata": {},
     "output_type": "display_data"
    }
   ],
   "source": [
    "missing_values = missing_values_per_variable(test3)\n",
    "print(\"Kinder:\", anzahl3)\n",
    "missing_values.head(+10)"
   ]
  },
  {
   "cell_type": "markdown",
   "id": "formal-short",
   "metadata": {},
   "source": [
    "#### Subtest 4: Missing values"
   ]
  },
  {
   "cell_type": "code",
   "execution_count": 15,
   "id": "casual-stereo",
   "metadata": {},
   "outputs": [
    {
     "name": "stdout",
     "output_type": "stream",
     "text": [
      "Kinder: 46\n"
     ]
    },
    {
     "data": {
      "text/html": [
       "<div>\n",
       "<style scoped>\n",
       "    .dataframe tbody tr th:only-of-type {\n",
       "        vertical-align: middle;\n",
       "    }\n",
       "\n",
       "    .dataframe tbody tr th {\n",
       "        vertical-align: top;\n",
       "    }\n",
       "\n",
       "    .dataframe thead th {\n",
       "        text-align: right;\n",
       "    }\n",
       "</style>\n",
       "<table border=\"1\" class=\"dataframe\">\n",
       "  <thead>\n",
       "    <tr style=\"text-align: right;\">\n",
       "      <th></th>\n",
       "      <th>missing_values</th>\n",
       "      <th>missing_values(%)</th>\n",
       "    </tr>\n",
       "    <tr>\n",
       "      <th>column</th>\n",
       "      <th></th>\n",
       "      <th></th>\n",
       "    </tr>\n",
       "  </thead>\n",
       "  <tbody>\n",
       "    <tr>\n",
       "      <th>4_29_ergebnis</th>\n",
       "      <td>35</td>\n",
       "      <td>76.086957</td>\n",
       "    </tr>\n",
       "    <tr>\n",
       "      <th>4_30_ergebnis</th>\n",
       "      <td>34</td>\n",
       "      <td>73.913043</td>\n",
       "    </tr>\n",
       "    <tr>\n",
       "      <th>4_2_ergebnis</th>\n",
       "      <td>34</td>\n",
       "      <td>73.913043</td>\n",
       "    </tr>\n",
       "    <tr>\n",
       "      <th>4_3_ergebnis</th>\n",
       "      <td>32</td>\n",
       "      <td>69.565217</td>\n",
       "    </tr>\n",
       "    <tr>\n",
       "      <th>4_4_ergebnis</th>\n",
       "      <td>30</td>\n",
       "      <td>65.217391</td>\n",
       "    </tr>\n",
       "    <tr>\n",
       "      <th>4_5_ergebnis</th>\n",
       "      <td>29</td>\n",
       "      <td>63.043478</td>\n",
       "    </tr>\n",
       "    <tr>\n",
       "      <th>4_6_ergebnis</th>\n",
       "      <td>25</td>\n",
       "      <td>54.347826</td>\n",
       "    </tr>\n",
       "    <tr>\n",
       "      <th>4_9_ergebnis</th>\n",
       "      <td>25</td>\n",
       "      <td>54.347826</td>\n",
       "    </tr>\n",
       "    <tr>\n",
       "      <th>4_7_ergebnis</th>\n",
       "      <td>24</td>\n",
       "      <td>52.173913</td>\n",
       "    </tr>\n",
       "    <tr>\n",
       "      <th>4_10_ergebnis</th>\n",
       "      <td>24</td>\n",
       "      <td>52.173913</td>\n",
       "    </tr>\n",
       "  </tbody>\n",
       "</table>\n",
       "</div>"
      ],
      "text/plain": [
       "               missing_values  missing_values(%)\n",
       "column                                          \n",
       "4_29_ergebnis              35          76.086957\n",
       "4_30_ergebnis              34          73.913043\n",
       "4_2_ergebnis               34          73.913043\n",
       "4_3_ergebnis               32          69.565217\n",
       "4_4_ergebnis               30          65.217391\n",
       "4_5_ergebnis               29          63.043478\n",
       "4_6_ergebnis               25          54.347826\n",
       "4_9_ergebnis               25          54.347826\n",
       "4_7_ergebnis               24          52.173913\n",
       "4_10_ergebnis              24          52.173913"
      ]
     },
     "execution_count": 15,
     "metadata": {},
     "output_type": "execute_result"
    },
    {
     "data": {
      "application/javascript": [
       "\n",
       "            setTimeout(function() {\n",
       "                var nbb_cell_id = 15;\n",
       "                var nbb_unformatted_code = \"missing_values = missing_values_per_variable(test4)\\nprint(\\\"Kinder:\\\", anzahl4)\\nmissing_values.head(+10)\";\n",
       "                var nbb_formatted_code = \"missing_values = missing_values_per_variable(test4)\\nprint(\\\"Kinder:\\\", anzahl4)\\nmissing_values.head(+10)\";\n",
       "                var nbb_cells = Jupyter.notebook.get_cells();\n",
       "                for (var i = 0; i < nbb_cells.length; ++i) {\n",
       "                    if (nbb_cells[i].input_prompt_number == nbb_cell_id) {\n",
       "                        if (nbb_cells[i].get_text() == nbb_unformatted_code) {\n",
       "                             nbb_cells[i].set_text(nbb_formatted_code);\n",
       "                        }\n",
       "                        break;\n",
       "                    }\n",
       "                }\n",
       "            }, 500);\n",
       "            "
      ],
      "text/plain": [
       "<IPython.core.display.Javascript object>"
      ]
     },
     "metadata": {},
     "output_type": "display_data"
    }
   ],
   "source": [
    "missing_values = missing_values_per_variable(test4)\n",
    "print(\"Kinder:\", anzahl4)\n",
    "missing_values.head(+10)"
   ]
  },
  {
   "cell_type": "markdown",
   "id": "correct-surge",
   "metadata": {},
   "source": [
    "### 4. Results of Subtest Items"
   ]
  },
  {
   "cell_type": "code",
   "execution_count": 16,
   "id": "alike-hartford",
   "metadata": {
    "code_folding": [],
    "scrolled": false
   },
   "outputs": [
    {
     "data": {
      "application/javascript": [
       "\n",
       "            setTimeout(function() {\n",
       "                var nbb_cell_id = 16;\n",
       "                var nbb_unformatted_code = \"def getFrequencies(df):\\n\\n    \\\"\\\"\\\"Aim : To plot data, calculate frequencies of column values\\n    Result : DF with frequencies and df with freqencies in percentages\\\"\\\"\\\"\\n\\n    ergebnis = [col for col in df.columns if \\\"ergebnis\\\" in col]\\n    selectedData = df[ergebnis]\\n    frequencies = {}\\n    for value in selectedData.columns:\\n        frequencies[value] = selectedData[value].value_counts()\\n    data = pd.DataFrame(frequencies)\\n    dataToPlot = data.transpose()\\n    dataToPlot_percentages = dataToPlot.div(dataToPlot.sum(axis=1), axis=0) * 100\\n    dataToPlot_percentages = dataToPlot_percentages[[1, 0, 99]]\\n    return dataToPlot_percentages, dataToPlot\\n\\n\\ndef plotFrequencies(df, width, height, title, legend, ylabel, xlabel, color):\\n\\n    \\\"\\\"\\\"Aim : To plot data, calculate frequencies of column values\\n    Result : DF with frequencies and df with freqencies in percentages\\\"\\\"\\\"\\n\\n    df.plot(figsize=(width, height), kind=\\\"barh\\\", stacked=True, color=colors)\\n    plt.legend(legend, bbox_to_anchor=(1, 1))\\n    plt.title(title)\\n    plt.ylabel(ylabel)\\n    plt.xlabel(xlabel)\\n    plt.show()\\n\\n\\ncolors = [\\\"g\\\", \\\"r\\\", \\\"b\\\"]\\nlegend = [\\\"richtig\\\", \\\"falsch\\\", \\\"unbeantwortet\\\"]\";\n",
       "                var nbb_formatted_code = \"def getFrequencies(df):\\n\\n    \\\"\\\"\\\"Aim : To plot data, calculate frequencies of column values\\n    Result : DF with frequencies and df with freqencies in percentages\\\"\\\"\\\"\\n\\n    ergebnis = [col for col in df.columns if \\\"ergebnis\\\" in col]\\n    selectedData = df[ergebnis]\\n    frequencies = {}\\n    for value in selectedData.columns:\\n        frequencies[value] = selectedData[value].value_counts()\\n    data = pd.DataFrame(frequencies)\\n    dataToPlot = data.transpose()\\n    dataToPlot_percentages = dataToPlot.div(dataToPlot.sum(axis=1), axis=0) * 100\\n    dataToPlot_percentages = dataToPlot_percentages[[1, 0, 99]]\\n    return dataToPlot_percentages, dataToPlot\\n\\n\\ndef plotFrequencies(df, width, height, title, legend, ylabel, xlabel, color):\\n\\n    \\\"\\\"\\\"Aim : To plot data, calculate frequencies of column values\\n    Result : DF with frequencies and df with freqencies in percentages\\\"\\\"\\\"\\n\\n    df.plot(figsize=(width, height), kind=\\\"barh\\\", stacked=True, color=colors)\\n    plt.legend(legend, bbox_to_anchor=(1, 1))\\n    plt.title(title)\\n    plt.ylabel(ylabel)\\n    plt.xlabel(xlabel)\\n    plt.show()\\n\\n\\ncolors = [\\\"g\\\", \\\"r\\\", \\\"b\\\"]\\nlegend = [\\\"richtig\\\", \\\"falsch\\\", \\\"unbeantwortet\\\"]\";\n",
       "                var nbb_cells = Jupyter.notebook.get_cells();\n",
       "                for (var i = 0; i < nbb_cells.length; ++i) {\n",
       "                    if (nbb_cells[i].input_prompt_number == nbb_cell_id) {\n",
       "                        if (nbb_cells[i].get_text() == nbb_unformatted_code) {\n",
       "                             nbb_cells[i].set_text(nbb_formatted_code);\n",
       "                        }\n",
       "                        break;\n",
       "                    }\n",
       "                }\n",
       "            }, 500);\n",
       "            "
      ],
      "text/plain": [
       "<IPython.core.display.Javascript object>"
      ]
     },
     "metadata": {},
     "output_type": "display_data"
    }
   ],
   "source": [
    "def getFrequencies(df):\n",
    "\n",
    "    \"\"\"Aim : To plot data, calculate frequencies of column values\n",
    "    Result : DF with frequencies and df with freqencies in percentages\"\"\"\n",
    "\n",
    "    ergebnis = [col for col in df.columns if \"ergebnis\" in col]\n",
    "    selectedData = df[ergebnis]\n",
    "    frequencies = {}\n",
    "    for value in selectedData.columns:\n",
    "        frequencies[value] = selectedData[value].value_counts()\n",
    "    data = pd.DataFrame(frequencies)\n",
    "    dataToPlot = data.transpose()\n",
    "    dataToPlot_percentages = dataToPlot.div(dataToPlot.sum(axis=1), axis=0) * 100\n",
    "    dataToPlot_percentages = dataToPlot_percentages[[1, 0, 99]]\n",
    "    return dataToPlot_percentages, dataToPlot\n",
    "\n",
    "\n",
    "def plotFrequencies(df, width, height, title, legend, ylabel, xlabel, color):\n",
    "\n",
    "    \"\"\"Aim : To plot data, calculate frequencies of column values\n",
    "    Result : DF with frequencies and df with freqencies in percentages\"\"\"\n",
    "\n",
    "    df.plot(figsize=(width, height), kind=\"barh\", stacked=True, color=colors)\n",
    "    plt.legend(legend, bbox_to_anchor=(1, 1))\n",
    "    plt.title(title)\n",
    "    plt.ylabel(ylabel)\n",
    "    plt.xlabel(xlabel)\n",
    "    plt.show()\n",
    "\n",
    "\n",
    "colors = [\"g\", \"r\", \"b\"]\n",
    "legend = [\"richtig\", \"falsch\", \"unbeantwortet\"]"
   ]
  },
  {
   "cell_type": "markdown",
   "id": "opposite-princess",
   "metadata": {},
   "source": [
    "#### Subtest 1 : Item results"
   ]
  },
  {
   "cell_type": "code",
   "execution_count": 17,
   "id": "considerable-butterfly",
   "metadata": {},
   "outputs": [
    {
     "data": {
      "image/png": "[encoded data removed]",
      "text/plain": [
       "<Figure size 1080x360 with 1 Axes>"
      ]
     },
     "metadata": {
      "needs_background": "light"
     },
     "output_type": "display_data"
    },
    {
     "data": {
      "application/javascript": [
       "\n",
       "            setTimeout(function() {\n",
       "                var nbb_cell_id = 17;\n",
       "                var nbb_unformatted_code = \"test1_frequencies_percentages = getFrequencies(test1)[0]\\nplotFrequencies(\\n    test1_frequencies_percentages,\\n    15,\\n    5,\\n    \\\"Subtest 1: Items Result\\\",\\n    legend=legend,\\n    xlabel=\\\"item result\\\",\\n    ylabel=\\\"percentages\\\",\\n    color=colors,\\n)\";\n",
       "                var nbb_formatted_code = \"test1_frequencies_percentages = getFrequencies(test1)[0]\\nplotFrequencies(\\n    test1_frequencies_percentages,\\n    15,\\n    5,\\n    \\\"Subtest 1: Items Result\\\",\\n    legend=legend,\\n    xlabel=\\\"item result\\\",\\n    ylabel=\\\"percentages\\\",\\n    color=colors,\\n)\";\n",
       "                var nbb_cells = Jupyter.notebook.get_cells();\n",
       "                for (var i = 0; i < nbb_cells.length; ++i) {\n",
       "                    if (nbb_cells[i].input_prompt_number == nbb_cell_id) {\n",
       "                        if (nbb_cells[i].get_text() == nbb_unformatted_code) {\n",
       "                             nbb_cells[i].set_text(nbb_formatted_code);\n",
       "                        }\n",
       "                        break;\n",
       "                    }\n",
       "                }\n",
       "            }, 500);\n",
       "            "
      ],
      "text/plain": [
       "<IPython.core.display.Javascript object>"
      ]
     },
     "metadata": {},
     "output_type": "display_data"
    }
   ],
   "source": [
    "test1_frequencies_percentages = getFrequencies(test1)[0]\n",
    "plotFrequencies(\n",
    "    test1_frequencies_percentages,\n",
    "    15,\n",
    "    5,\n",
    "    \"Subtest 1: Items Result\",\n",
    "    legend=legend,\n",
    "    xlabel=\"item result\",\n",
    "    ylabel=\"percentages\",\n",
    "    color=colors,\n",
    ")"
   ]
  },
  {
   "cell_type": "markdown",
   "id": "played-denver",
   "metadata": {},
   "source": [
    "#### Subtest 2: Item results"
   ]
  },
  {
   "cell_type": "code",
   "execution_count": 18,
   "id": "biblical-forum",
   "metadata": {},
   "outputs": [
    {
     "data": {
      "image/png": "[encoded data removed]",
      "text/plain": [
       "<Figure size 1080x360 with 1 Axes>"
      ]
     },
     "metadata": {
      "needs_background": "light"
     },
     "output_type": "display_data"
    },
    {
     "data": {
      "application/javascript": [
       "\n",
       "            setTimeout(function() {\n",
       "                var nbb_cell_id = 18;\n",
       "                var nbb_unformatted_code = \"test2_frequencies_percentages = getFrequencies(test2)[0]\\n\\nplotFrequencies(\\n    test2_frequencies_percentages,\\n    15,\\n    5,\\n    \\\"Subtest 2: Item Result\\\",\\n    legend=legend,\\n    xlabel=\\\"percentages\\\",\\n    ylabel=\\\"item\\\",\\n    color=colors,\\n)\";\n",
       "                var nbb_formatted_code = \"test2_frequencies_percentages = getFrequencies(test2)[0]\\n\\nplotFrequencies(\\n    test2_frequencies_percentages,\\n    15,\\n    5,\\n    \\\"Subtest 2: Item Result\\\",\\n    legend=legend,\\n    xlabel=\\\"percentages\\\",\\n    ylabel=\\\"item\\\",\\n    color=colors,\\n)\";\n",
       "                var nbb_cells = Jupyter.notebook.get_cells();\n",
       "                for (var i = 0; i < nbb_cells.length; ++i) {\n",
       "                    if (nbb_cells[i].input_prompt_number == nbb_cell_id) {\n",
       "                        if (nbb_cells[i].get_text() == nbb_unformatted_code) {\n",
       "                             nbb_cells[i].set_text(nbb_formatted_code);\n",
       "                        }\n",
       "                        break;\n",
       "                    }\n",
       "                }\n",
       "            }, 500);\n",
       "            "
      ],
      "text/plain": [
       "<IPython.core.display.Javascript object>"
      ]
     },
     "metadata": {},
     "output_type": "display_data"
    }
   ],
   "source": [
    "test2_frequencies_percentages = getFrequencies(test2)[0]\n",
    "\n",
    "plotFrequencies(\n",
    "    test2_frequencies_percentages,\n",
    "    15,\n",
    "    5,\n",
    "    \"Subtest 2: Item Result\",\n",
    "    legend=legend,\n",
    "    xlabel=\"percentages\",\n",
    "    ylabel=\"item\",\n",
    "    color=colors,\n",
    ")"
   ]
  },
  {
   "cell_type": "markdown",
   "id": "resistant-beaver",
   "metadata": {},
   "source": [
    "#### Subtest 3: Item results"
   ]
  },
  {
   "cell_type": "code",
   "execution_count": 19,
   "id": "handed-institute",
   "metadata": {},
   "outputs": [
    {
     "data": {
      "image/png": "[encoded data removed]",
      "text/plain": [
       "<Figure size 1080x1080 with 1 Axes>"
      ]
     },
     "metadata": {
      "needs_background": "light"
     },
     "output_type": "display_data"
    },
    {
     "data": {
      "application/javascript": [
       "\n",
       "            setTimeout(function() {\n",
       "                var nbb_cell_id = 19;\n",
       "                var nbb_unformatted_code = \"test3_frequencies_percentages = getFrequencies(test3)[0]\\n\\nplotFrequencies(\\n    test3_frequencies_percentages,\\n    15,\\n    15,\\n    \\\"SubTest 3: Item Result\\\",\\n    legend=legend,\\n    xlabel=\\\"percentages\\\",\\n    ylabel=\\\"item\\\",\\n    color=colors,\\n)\";\n",
       "                var nbb_formatted_code = \"test3_frequencies_percentages = getFrequencies(test3)[0]\\n\\nplotFrequencies(\\n    test3_frequencies_percentages,\\n    15,\\n    15,\\n    \\\"SubTest 3: Item Result\\\",\\n    legend=legend,\\n    xlabel=\\\"percentages\\\",\\n    ylabel=\\\"item\\\",\\n    color=colors,\\n)\";\n",
       "                var nbb_cells = Jupyter.notebook.get_cells();\n",
       "                for (var i = 0; i < nbb_cells.length; ++i) {\n",
       "                    if (nbb_cells[i].input_prompt_number == nbb_cell_id) {\n",
       "                        if (nbb_cells[i].get_text() == nbb_unformatted_code) {\n",
       "                             nbb_cells[i].set_text(nbb_formatted_code);\n",
       "                        }\n",
       "                        break;\n",
       "                    }\n",
       "                }\n",
       "            }, 500);\n",
       "            "
      ],
      "text/plain": [
       "<IPython.core.display.Javascript object>"
      ]
     },
     "metadata": {},
     "output_type": "display_data"
    }
   ],
   "source": [
    "test3_frequencies_percentages = getFrequencies(test3)[0]\n",
    "\n",
    "plotFrequencies(\n",
    "    test3_frequencies_percentages,\n",
    "    15,\n",
    "    15,\n",
    "    \"SubTest 3: Item Result\",\n",
    "    legend=legend,\n",
    "    xlabel=\"percentages\",\n",
    "    ylabel=\"item\",\n",
    "    color=colors,\n",
    ")"
   ]
  },
  {
   "cell_type": "markdown",
   "id": "protecting-beijing",
   "metadata": {},
   "source": [
    "#### Subtest 4 : Item results"
   ]
  },
  {
   "cell_type": "code",
   "execution_count": 20,
   "id": "editorial-timeline",
   "metadata": {},
   "outputs": [
    {
     "data": {
      "image/png": "[encoded data removed]",
      "text/plain": [
       "<Figure size 1080x720 with 1 Axes>"
      ]
     },
     "metadata": {
      "needs_background": "light"
     },
     "output_type": "display_data"
    },
    {
     "data": {
      "application/javascript": [
       "\n",
       "            setTimeout(function() {\n",
       "                var nbb_cell_id = 20;\n",
       "                var nbb_unformatted_code = \"test4_frequencies_percentages = getFrequencies(test4)[0]\\n\\nplotFrequencies(\\n    test4_frequencies_percentages,\\n    15,\\n    10,\\n    \\\"Subtest 4: Item Result\\\",\\n    legend=legend,\\n    xlabel=\\\"percentages\\\",\\n    ylabel=\\\"item\\\",\\n    color=colors,\\n)\";\n",
       "                var nbb_formatted_code = \"test4_frequencies_percentages = getFrequencies(test4)[0]\\n\\nplotFrequencies(\\n    test4_frequencies_percentages,\\n    15,\\n    10,\\n    \\\"Subtest 4: Item Result\\\",\\n    legend=legend,\\n    xlabel=\\\"percentages\\\",\\n    ylabel=\\\"item\\\",\\n    color=colors,\\n)\";\n",
       "                var nbb_cells = Jupyter.notebook.get_cells();\n",
       "                for (var i = 0; i < nbb_cells.length; ++i) {\n",
       "                    if (nbb_cells[i].input_prompt_number == nbb_cell_id) {\n",
       "                        if (nbb_cells[i].get_text() == nbb_unformatted_code) {\n",
       "                             nbb_cells[i].set_text(nbb_formatted_code);\n",
       "                        }\n",
       "                        break;\n",
       "                    }\n",
       "                }\n",
       "            }, 500);\n",
       "            "
      ],
      "text/plain": [
       "<IPython.core.display.Javascript object>"
      ]
     },
     "metadata": {},
     "output_type": "display_data"
    }
   ],
   "source": [
    "test4_frequencies_percentages = getFrequencies(test4)[0]\n",
    "\n",
    "plotFrequencies(\n",
    "    test4_frequencies_percentages,\n",
    "    15,\n",
    "    10,\n",
    "    \"Subtest 4: Item Result\",\n",
    "    legend=legend,\n",
    "    xlabel=\"percentages\",\n",
    "    ylabel=\"item\",\n",
    "    color=colors,\n",
    ")"
   ]
  },
  {
   "cell_type": "markdown",
   "id": "extra-marking",
   "metadata": {},
   "source": [
    "### 5. Correlations\n",
    "Are there significant correlations (> 0.85) between false answers and no response?"
   ]
  },
  {
   "cell_type": "code",
   "execution_count": 21,
   "id": "everyday-paris",
   "metadata": {
    "scrolled": false
   },
   "outputs": [
    {
     "data": {
      "application/javascript": [
       "\n",
       "            setTimeout(function() {\n",
       "                var nbb_cell_id = 21;\n",
       "                var nbb_unformatted_code = \"# calculate correlation\\ndef correlation(df, col1, col2, text=\\\"\\\"):\\n    column_1 = df[col1]\\n    column_2 = df[col2]\\n    correlation = column_1.corr(column_2)\\n    print(text, correlation)\\n    return correlation\";\n",
       "                var nbb_formatted_code = \"# calculate correlation\\ndef correlation(df, col1, col2, text=\\\"\\\"):\\n    column_1 = df[col1]\\n    column_2 = df[col2]\\n    correlation = column_1.corr(column_2)\\n    print(text, correlation)\\n    return correlation\";\n",
       "                var nbb_cells = Jupyter.notebook.get_cells();\n",
       "                for (var i = 0; i < nbb_cells.length; ++i) {\n",
       "                    if (nbb_cells[i].input_prompt_number == nbb_cell_id) {\n",
       "                        if (nbb_cells[i].get_text() == nbb_unformatted_code) {\n",
       "                             nbb_cells[i].set_text(nbb_formatted_code);\n",
       "                        }\n",
       "                        break;\n",
       "                    }\n",
       "                }\n",
       "            }, 500);\n",
       "            "
      ],
      "text/plain": [
       "<IPython.core.display.Javascript object>"
      ]
     },
     "metadata": {},
     "output_type": "display_data"
    }
   ],
   "source": [
    "# calculate correlation\n",
    "def correlation(df, col1, col2, text=\"\"):\n",
    "    column_1 = df[col1]\n",
    "    column_2 = df[col2]\n",
    "    correlation = column_1.corr(column_2)\n",
    "    print(text, correlation)\n",
    "    return correlation"
   ]
  },
  {
   "cell_type": "markdown",
   "id": "classical-condition",
   "metadata": {},
   "source": [
    "#### Subtest 1"
   ]
  },
  {
   "cell_type": "code",
   "execution_count": 22,
   "id": "existing-saturn",
   "metadata": {
    "scrolled": false
   },
   "outputs": [
    {
     "name": "stdout",
     "output_type": "stream",
     "text": [
      "Subtest 1, Correlation false & unanswered:  -0.16724840200141827\n"
     ]
    },
    {
     "data": {
      "application/javascript": [
       "\n",
       "            setTimeout(function() {\n",
       "                var nbb_cell_id = 22;\n",
       "                var nbb_unformatted_code = \"dataToPlot1 = getFrequencies(test1)\\ndataToPlot1 = dataToPlot1[0]\\ncorrelation_1 = correlation(\\n    dataToPlot1, 0, 99, text=\\\"Subtest 1, Correlation false & unanswered: \\\"\\n)\";\n",
       "                var nbb_formatted_code = \"dataToPlot1 = getFrequencies(test1)\\ndataToPlot1 = dataToPlot1[0]\\ncorrelation_1 = correlation(\\n    dataToPlot1, 0, 99, text=\\\"Subtest 1, Correlation false & unanswered: \\\"\\n)\";\n",
       "                var nbb_cells = Jupyter.notebook.get_cells();\n",
       "                for (var i = 0; i < nbb_cells.length; ++i) {\n",
       "                    if (nbb_cells[i].input_prompt_number == nbb_cell_id) {\n",
       "                        if (nbb_cells[i].get_text() == nbb_unformatted_code) {\n",
       "                             nbb_cells[i].set_text(nbb_formatted_code);\n",
       "                        }\n",
       "                        break;\n",
       "                    }\n",
       "                }\n",
       "            }, 500);\n",
       "            "
      ],
      "text/plain": [
       "<IPython.core.display.Javascript object>"
      ]
     },
     "metadata": {},
     "output_type": "display_data"
    }
   ],
   "source": [
    "dataToPlot1 = getFrequencies(test1)\n",
    "dataToPlot1 = dataToPlot1[0]\n",
    "correlation_1 = correlation(\n",
    "    dataToPlot1, 0, 99, text=\"Subtest 1, Correlation false & unanswered: \"\n",
    ")"
   ]
  },
  {
   "cell_type": "markdown",
   "id": "convinced-arrest",
   "metadata": {},
   "source": [
    "#### Subtest 2"
   ]
  },
  {
   "cell_type": "code",
   "execution_count": 23,
   "id": "exempt-applicant",
   "metadata": {
    "scrolled": false
   },
   "outputs": [
    {
     "name": "stdout",
     "output_type": "stream",
     "text": [
      "Subtest 2, Correlation false & unanswered:  0.10171929129252562\n"
     ]
    },
    {
     "data": {
      "application/javascript": [
       "\n",
       "            setTimeout(function() {\n",
       "                var nbb_cell_id = 23;\n",
       "                var nbb_unformatted_code = \"# Test 2\\ndataToPlot2 = getFrequencies(test2)\\ndataToPlot2 = dataToPlot2[0]\\ncorrelation_2 = correlation(\\n    dataToPlot2, 0, 99, text=\\\"Subtest 2, Correlation false & unanswered: \\\"\\n)\";\n",
       "                var nbb_formatted_code = \"# Test 2\\ndataToPlot2 = getFrequencies(test2)\\ndataToPlot2 = dataToPlot2[0]\\ncorrelation_2 = correlation(\\n    dataToPlot2, 0, 99, text=\\\"Subtest 2, Correlation false & unanswered: \\\"\\n)\";\n",
       "                var nbb_cells = Jupyter.notebook.get_cells();\n",
       "                for (var i = 0; i < nbb_cells.length; ++i) {\n",
       "                    if (nbb_cells[i].input_prompt_number == nbb_cell_id) {\n",
       "                        if (nbb_cells[i].get_text() == nbb_unformatted_code) {\n",
       "                             nbb_cells[i].set_text(nbb_formatted_code);\n",
       "                        }\n",
       "                        break;\n",
       "                    }\n",
       "                }\n",
       "            }, 500);\n",
       "            "
      ],
      "text/plain": [
       "<IPython.core.display.Javascript object>"
      ]
     },
     "metadata": {},
     "output_type": "display_data"
    }
   ],
   "source": [
    "# Test 2\n",
    "dataToPlot2 = getFrequencies(test2)\n",
    "dataToPlot2 = dataToPlot2[0]\n",
    "correlation_2 = correlation(\n",
    "    dataToPlot2, 0, 99, text=\"Subtest 2, Correlation false & unanswered: \"\n",
    ")"
   ]
  },
  {
   "cell_type": "markdown",
   "id": "cutting-technician",
   "metadata": {},
   "source": [
    "#### Subtest 3"
   ]
  },
  {
   "cell_type": "code",
   "execution_count": 24,
   "id": "great-craps",
   "metadata": {
    "scrolled": false
   },
   "outputs": [
    {
     "name": "stdout",
     "output_type": "stream",
     "text": [
      "Subtest 3, Correlation false & unanswered:  -0.22201116427028045\n"
     ]
    },
    {
     "data": {
      "application/javascript": [
       "\n",
       "            setTimeout(function() {\n",
       "                var nbb_cell_id = 24;\n",
       "                var nbb_unformatted_code = \"dataToPlot3 = getFrequencies(test3)\\ndataToPlot3 = dataToPlot3[0]\\ncorrelation_3 = correlation(\\n    dataToPlot3, 0, 99, text=\\\"Subtest 3, Correlation false & unanswered: \\\"\\n)\";\n",
       "                var nbb_formatted_code = \"dataToPlot3 = getFrequencies(test3)\\ndataToPlot3 = dataToPlot3[0]\\ncorrelation_3 = correlation(\\n    dataToPlot3, 0, 99, text=\\\"Subtest 3, Correlation false & unanswered: \\\"\\n)\";\n",
       "                var nbb_cells = Jupyter.notebook.get_cells();\n",
       "                for (var i = 0; i < nbb_cells.length; ++i) {\n",
       "                    if (nbb_cells[i].input_prompt_number == nbb_cell_id) {\n",
       "                        if (nbb_cells[i].get_text() == nbb_unformatted_code) {\n",
       "                             nbb_cells[i].set_text(nbb_formatted_code);\n",
       "                        }\n",
       "                        break;\n",
       "                    }\n",
       "                }\n",
       "            }, 500);\n",
       "            "
      ],
      "text/plain": [
       "<IPython.core.display.Javascript object>"
      ]
     },
     "metadata": {},
     "output_type": "display_data"
    }
   ],
   "source": [
    "dataToPlot3 = getFrequencies(test3)\n",
    "dataToPlot3 = dataToPlot3[0]\n",
    "correlation_3 = correlation(\n",
    "    dataToPlot3, 0, 99, text=\"Subtest 3, Correlation false & unanswered: \"\n",
    ")"
   ]
  },
  {
   "cell_type": "markdown",
   "id": "intended-crossing",
   "metadata": {},
   "source": [
    "#### Subtest 4"
   ]
  },
  {
   "cell_type": "code",
   "execution_count": 25,
   "id": "present-beginning",
   "metadata": {
    "scrolled": false
   },
   "outputs": [
    {
     "name": "stdout",
     "output_type": "stream",
     "text": [
      "Subtest 4, Correlation false & unanswered:  -0.549169154774668\n"
     ]
    },
    {
     "data": {
      "application/javascript": [
       "\n",
       "            setTimeout(function() {\n",
       "                var nbb_cell_id = 25;\n",
       "                var nbb_unformatted_code = \"dataToPlot4 = getFrequencies(test4)\\ndataToPlot4 = dataToPlot4[0]\\ncorrelation_4 = correlation(\\n    dataToPlot4, 0, 99, text=\\\"Subtest 4, Correlation false & unanswered: \\\"\\n)\";\n",
       "                var nbb_formatted_code = \"dataToPlot4 = getFrequencies(test4)\\ndataToPlot4 = dataToPlot4[0]\\ncorrelation_4 = correlation(\\n    dataToPlot4, 0, 99, text=\\\"Subtest 4, Correlation false & unanswered: \\\"\\n)\";\n",
       "                var nbb_cells = Jupyter.notebook.get_cells();\n",
       "                for (var i = 0; i < nbb_cells.length; ++i) {\n",
       "                    if (nbb_cells[i].input_prompt_number == nbb_cell_id) {\n",
       "                        if (nbb_cells[i].get_text() == nbb_unformatted_code) {\n",
       "                             nbb_cells[i].set_text(nbb_formatted_code);\n",
       "                        }\n",
       "                        break;\n",
       "                    }\n",
       "                }\n",
       "            }, 500);\n",
       "            "
      ],
      "text/plain": [
       "<IPython.core.display.Javascript object>"
      ]
     },
     "metadata": {},
     "output_type": "display_data"
    }
   ],
   "source": [
    "dataToPlot4 = getFrequencies(test4)\n",
    "dataToPlot4 = dataToPlot4[0]\n",
    "correlation_4 = correlation(\n",
    "    dataToPlot4, 0, 99, text=\"Subtest 4, Correlation false & unanswered: \"\n",
    ")"
   ]
  },
  {
   "cell_type": "markdown",
   "id": "affected-summit",
   "metadata": {},
   "source": [
    "## Class level"
   ]
  },
  {
   "cell_type": "code",
   "execution_count": 26,
   "id": "promising-marathon",
   "metadata": {
    "scrolled": false
   },
   "outputs": [
    {
     "data": {
      "application/javascript": [
       "\n",
       "            setTimeout(function() {\n",
       "                var nbb_cell_id = 26;\n",
       "                var nbb_unformatted_code = \"# class level\\ngrouped = test1.groupby(test1.class_level)\";\n",
       "                var nbb_formatted_code = \"# class level\\ngrouped = test1.groupby(test1.class_level)\";\n",
       "                var nbb_cells = Jupyter.notebook.get_cells();\n",
       "                for (var i = 0; i < nbb_cells.length; ++i) {\n",
       "                    if (nbb_cells[i].input_prompt_number == nbb_cell_id) {\n",
       "                        if (nbb_cells[i].get_text() == nbb_unformatted_code) {\n",
       "                             nbb_cells[i].set_text(nbb_formatted_code);\n",
       "                        }\n",
       "                        break;\n",
       "                    }\n",
       "                }\n",
       "            }, 500);\n",
       "            "
      ],
      "text/plain": [
       "<IPython.core.display.Javascript object>"
      ]
     },
     "metadata": {},
     "output_type": "display_data"
    }
   ],
   "source": [
    "# class level\n",
    "grouped = test1.groupby(test1.class_level)"
   ]
  },
  {
   "cell_type": "code",
   "execution_count": 27,
   "id": "piano-trainer",
   "metadata": {
    "scrolled": false
   },
   "outputs": [
    {
     "data": {
      "application/javascript": [
       "\n",
       "            setTimeout(function() {\n",
       "                var nbb_cell_id = 27;\n",
       "                var nbb_unformatted_code = \"level_1 = grouped.get_group(1)\\nlevel_2 = grouped.get_group(2)\";\n",
       "                var nbb_formatted_code = \"level_1 = grouped.get_group(1)\\nlevel_2 = grouped.get_group(2)\";\n",
       "                var nbb_cells = Jupyter.notebook.get_cells();\n",
       "                for (var i = 0; i < nbb_cells.length; ++i) {\n",
       "                    if (nbb_cells[i].input_prompt_number == nbb_cell_id) {\n",
       "                        if (nbb_cells[i].get_text() == nbb_unformatted_code) {\n",
       "                             nbb_cells[i].set_text(nbb_formatted_code);\n",
       "                        }\n",
       "                        break;\n",
       "                    }\n",
       "                }\n",
       "            }, 500);\n",
       "            "
      ],
      "text/plain": [
       "<IPython.core.display.Javascript object>"
      ]
     },
     "metadata": {},
     "output_type": "display_data"
    }
   ],
   "source": [
    "level_1 = grouped.get_group(1)\n",
    "level_2 = grouped.get_group(2)"
   ]
  },
  {
   "cell_type": "code",
   "execution_count": 28,
   "id": "latin-updating",
   "metadata": {
    "collapsed": true
   },
   "outputs": [
    {
     "data": {
      "text/html": [
       "<div>\n",
       "<style scoped>\n",
       "    .dataframe tbody tr th:only-of-type {\n",
       "        vertical-align: middle;\n",
       "    }\n",
       "\n",
       "    .dataframe tbody tr th {\n",
       "        vertical-align: top;\n",
       "    }\n",
       "\n",
       "    .dataframe thead th {\n",
       "        text-align: right;\n",
       "    }\n",
       "</style>\n",
       "<table border=\"1\" class=\"dataframe\">\n",
       "  <thead>\n",
       "    <tr style=\"text-align: right;\">\n",
       "      <th></th>\n",
       "      <th>unique_id</th>\n",
       "      <th>child_id</th>\n",
       "      <th>subtest_result</th>\n",
       "      <th>end_result</th>\n",
       "      <th>class_level</th>\n",
       "      <th>teacher</th>\n",
       "      <th>class_id</th>\n",
       "      <th>class_name</th>\n",
       "      <th>test</th>\n",
       "      <th>time</th>\n",
       "      <th>...</th>\n",
       "      <th>1_1_ergebnis</th>\n",
       "      <th>1_2_ergebnis</th>\n",
       "      <th>1_3_ergebnis</th>\n",
       "      <th>1_4_ergebnis</th>\n",
       "      <th>1_5_ergebnis</th>\n",
       "      <th>1_6_ergebnis</th>\n",
       "      <th>1_7_ergebnis</th>\n",
       "      <th>1_8_ergebnis</th>\n",
       "      <th>1_9_ergebnis</th>\n",
       "      <th>1_10_ergebnis</th>\n",
       "    </tr>\n",
       "  </thead>\n",
       "  <tbody>\n",
       "    <tr>\n",
       "      <th>17</th>\n",
       "      <td>404_0</td>\n",
       "      <td>0</td>\n",
       "      <td>C</td>\n",
       "      <td>C</td>\n",
       "      <td>1</td>\n",
       "      <td>Degenhardt</td>\n",
       "      <td>404</td>\n",
       "      <td>Wolf</td>\n",
       "      <td>1</td>\n",
       "      <td>00:01:12</td>\n",
       "      <td>...</td>\n",
       "      <td>0</td>\n",
       "      <td>1</td>\n",
       "      <td>1</td>\n",
       "      <td>1</td>\n",
       "      <td>1</td>\n",
       "      <td>1</td>\n",
       "      <td>1</td>\n",
       "      <td>1</td>\n",
       "      <td>1</td>\n",
       "      <td>1</td>\n",
       "    </tr>\n",
       "    <tr>\n",
       "      <th>18</th>\n",
       "      <td>404_1</td>\n",
       "      <td>1</td>\n",
       "      <td>A</td>\n",
       "      <td>A</td>\n",
       "      <td>1</td>\n",
       "      <td>Degenhardt</td>\n",
       "      <td>404</td>\n",
       "      <td>Wolf</td>\n",
       "      <td>1</td>\n",
       "      <td>00:00:01</td>\n",
       "      <td>...</td>\n",
       "      <td>0</td>\n",
       "      <td>1</td>\n",
       "      <td>0</td>\n",
       "      <td>0</td>\n",
       "      <td>0</td>\n",
       "      <td>0</td>\n",
       "      <td>1</td>\n",
       "      <td>0</td>\n",
       "      <td>1</td>\n",
       "      <td>0</td>\n",
       "    </tr>\n",
       "    <tr>\n",
       "      <th>19</th>\n",
       "      <td>404_10</td>\n",
       "      <td>10</td>\n",
       "      <td>B</td>\n",
       "      <td>B</td>\n",
       "      <td>1</td>\n",
       "      <td>Degenhardt</td>\n",
       "      <td>404</td>\n",
       "      <td>Wolf</td>\n",
       "      <td>1</td>\n",
       "      <td>00:00:46</td>\n",
       "      <td>...</td>\n",
       "      <td>1</td>\n",
       "      <td>0</td>\n",
       "      <td>0</td>\n",
       "      <td>0</td>\n",
       "      <td>1</td>\n",
       "      <td>1</td>\n",
       "      <td>1</td>\n",
       "      <td>0</td>\n",
       "      <td>1</td>\n",
       "      <td>1</td>\n",
       "    </tr>\n",
       "    <tr>\n",
       "      <th>20</th>\n",
       "      <td>404_11</td>\n",
       "      <td>11</td>\n",
       "      <td>A</td>\n",
       "      <td>A</td>\n",
       "      <td>1</td>\n",
       "      <td>Degenhardt</td>\n",
       "      <td>404</td>\n",
       "      <td>Wolf</td>\n",
       "      <td>1</td>\n",
       "      <td>00:01:25</td>\n",
       "      <td>...</td>\n",
       "      <td>0</td>\n",
       "      <td>0</td>\n",
       "      <td>0</td>\n",
       "      <td>0</td>\n",
       "      <td>0</td>\n",
       "      <td>0</td>\n",
       "      <td>1</td>\n",
       "      <td>1</td>\n",
       "      <td>0</td>\n",
       "      <td>0</td>\n",
       "    </tr>\n",
       "    <tr>\n",
       "      <th>21</th>\n",
       "      <td>404_12</td>\n",
       "      <td>12</td>\n",
       "      <td>B</td>\n",
       "      <td>C</td>\n",
       "      <td>1</td>\n",
       "      <td>Degenhardt</td>\n",
       "      <td>404</td>\n",
       "      <td>Wolf</td>\n",
       "      <td>1</td>\n",
       "      <td>00:01:19</td>\n",
       "      <td>...</td>\n",
       "      <td>1</td>\n",
       "      <td>0</td>\n",
       "      <td>1</td>\n",
       "      <td>0</td>\n",
       "      <td>0</td>\n",
       "      <td>0</td>\n",
       "      <td>1</td>\n",
       "      <td>0</td>\n",
       "      <td>1</td>\n",
       "      <td>1</td>\n",
       "    </tr>\n",
       "  </tbody>\n",
       "</table>\n",
       "<p>5 rows × 40 columns</p>\n",
       "</div>"
      ],
      "text/plain": [
       "   unique_id  child_id subtest_result end_result  class_level     teacher  \\\n",
       "17     404_0         0              C          C            1  Degenhardt   \n",
       "18     404_1         1              A          A            1  Degenhardt   \n",
       "19    404_10        10              B          B            1  Degenhardt   \n",
       "20    404_11        11              A          A            1  Degenhardt   \n",
       "21    404_12        12              B          C            1  Degenhardt   \n",
       "\n",
       "    class_id class_name  test      time  ... 1_1_ergebnis 1_2_ergebnis  \\\n",
       "17       404       Wolf     1  00:01:12  ...            0            1   \n",
       "18       404       Wolf     1  00:00:01  ...            0            1   \n",
       "19       404       Wolf     1  00:00:46  ...            1            0   \n",
       "20       404       Wolf     1  00:01:25  ...            0            0   \n",
       "21       404       Wolf     1  00:01:19  ...            1            0   \n",
       "\n",
       "   1_3_ergebnis 1_4_ergebnis 1_5_ergebnis 1_6_ergebnis 1_7_ergebnis  \\\n",
       "17            1            1            1            1            1   \n",
       "18            0            0            0            0            1   \n",
       "19            0            0            1            1            1   \n",
       "20            0            0            0            0            1   \n",
       "21            1            0            0            0            1   \n",
       "\n",
       "   1_8_ergebnis 1_9_ergebnis 1_10_ergebnis  \n",
       "17            1            1             1  \n",
       "18            0            1             0  \n",
       "19            0            1             1  \n",
       "20            1            0             0  \n",
       "21            0            1             1  \n",
       "\n",
       "[5 rows x 40 columns]"
      ]
     },
     "execution_count": 28,
     "metadata": {},
     "output_type": "execute_result"
    },
    {
     "data": {
      "application/javascript": [
       "\n",
       "            setTimeout(function() {\n",
       "                var nbb_cell_id = 28;\n",
       "                var nbb_unformatted_code = \"level_1.head()\";\n",
       "                var nbb_formatted_code = \"level_1.head()\";\n",
       "                var nbb_cells = Jupyter.notebook.get_cells();\n",
       "                for (var i = 0; i < nbb_cells.length; ++i) {\n",
       "                    if (nbb_cells[i].input_prompt_number == nbb_cell_id) {\n",
       "                        if (nbb_cells[i].get_text() == nbb_unformatted_code) {\n",
       "                             nbb_cells[i].set_text(nbb_formatted_code);\n",
       "                        }\n",
       "                        break;\n",
       "                    }\n",
       "                }\n",
       "            }, 500);\n",
       "            "
      ],
      "text/plain": [
       "<IPython.core.display.Javascript object>"
      ]
     },
     "metadata": {},
     "output_type": "display_data"
    }
   ],
   "source": [
    "level_1.head()"
   ]
  },
  {
   "cell_type": "code",
   "execution_count": 29,
   "id": "forty-theorem",
   "metadata": {
    "scrolled": false
   },
   "outputs": [
    {
     "data": {
      "text/plain": [
       "<AxesSubplot:>"
      ]
     },
     "execution_count": 29,
     "metadata": {},
     "output_type": "execute_result"
    },
    {
     "data": {
      "image/png": "[encoded data removed]",
      "text/plain": [
       "<Figure size 432x288 with 1 Axes>"
      ]
     },
     "metadata": {
      "needs_background": "light"
     },
     "output_type": "display_data"
    },
    {
     "data": {
      "application/javascript": [
       "\n",
       "            setTimeout(function() {\n",
       "                var nbb_cell_id = 29;\n",
       "                var nbb_unformatted_code = \"level_2[\\\"subtest_result\\\"].value_counts().plot(kind=\\\"bar\\\")\";\n",
       "                var nbb_formatted_code = \"level_2[\\\"subtest_result\\\"].value_counts().plot(kind=\\\"bar\\\")\";\n",
       "                var nbb_cells = Jupyter.notebook.get_cells();\n",
       "                for (var i = 0; i < nbb_cells.length; ++i) {\n",
       "                    if (nbb_cells[i].input_prompt_number == nbb_cell_id) {\n",
       "                        if (nbb_cells[i].get_text() == nbb_unformatted_code) {\n",
       "                             nbb_cells[i].set_text(nbb_formatted_code);\n",
       "                        }\n",
       "                        break;\n",
       "                    }\n",
       "                }\n",
       "            }, 500);\n",
       "            "
      ],
      "text/plain": [
       "<IPython.core.display.Javascript object>"
      ]
     },
     "metadata": {},
     "output_type": "display_data"
    }
   ],
   "source": [
    "level_2[\"subtest_result\"].value_counts().plot(kind=\"bar\")"
   ]
  },
  {
   "cell_type": "code",
   "execution_count": 30,
   "id": "continuing-village",
   "metadata": {
    "scrolled": false
   },
   "outputs": [
    {
     "data": {
      "application/javascript": [
       "\n",
       "            setTimeout(function() {\n",
       "                var nbb_cell_id = 30;\n",
       "                var nbb_unformatted_code = \"# def getFrequencies(df):\\n#     ergebnis = [col for col in df.columns if 'ergebnis' in col]\\n#     selectedData = df[ergebnis]\\n#     frequencies = {}\\n#     for value in selectedData.columns:\\n#         frequencies[value] = selectedData[value].value_counts()\\n#     data = pd.DataFrame(frequencies)\\n#     dataToPlot=data.transpose()\\n#     dataToPlot_percentages = dataToPlot.div(dataToPlot.sum(axis=1), axis=0)*100\\n#     dataToPlot_percentages = dataToPlot_percentages[[1, 0, 99]]\\n#     return dataToPlot_percentages, dataToPlot\\n\\n# def plotFrequencies(df, title):\\n#     df.plot(kind='barh', stacked=True, color=colors)\\n#     plt.legend(legend, bbox_to_anchor=(1.0,1))\\n#     plt.title(title)\\n#     plt.ylabel('Ergebnis')\\n#     plt.xlabel('Kumulative Prozente')\\n#     plt.show()\";\n",
       "                var nbb_formatted_code = \"# def getFrequencies(df):\\n#     ergebnis = [col for col in df.columns if 'ergebnis' in col]\\n#     selectedData = df[ergebnis]\\n#     frequencies = {}\\n#     for value in selectedData.columns:\\n#         frequencies[value] = selectedData[value].value_counts()\\n#     data = pd.DataFrame(frequencies)\\n#     dataToPlot=data.transpose()\\n#     dataToPlot_percentages = dataToPlot.div(dataToPlot.sum(axis=1), axis=0)*100\\n#     dataToPlot_percentages = dataToPlot_percentages[[1, 0, 99]]\\n#     return dataToPlot_percentages, dataToPlot\\n\\n# def plotFrequencies(df, title):\\n#     df.plot(kind='barh', stacked=True, color=colors)\\n#     plt.legend(legend, bbox_to_anchor=(1.0,1))\\n#     plt.title(title)\\n#     plt.ylabel('Ergebnis')\\n#     plt.xlabel('Kumulative Prozente')\\n#     plt.show()\";\n",
       "                var nbb_cells = Jupyter.notebook.get_cells();\n",
       "                for (var i = 0; i < nbb_cells.length; ++i) {\n",
       "                    if (nbb_cells[i].input_prompt_number == nbb_cell_id) {\n",
       "                        if (nbb_cells[i].get_text() == nbb_unformatted_code) {\n",
       "                             nbb_cells[i].set_text(nbb_formatted_code);\n",
       "                        }\n",
       "                        break;\n",
       "                    }\n",
       "                }\n",
       "            }, 500);\n",
       "            "
      ],
      "text/plain": [
       "<IPython.core.display.Javascript object>"
      ]
     },
     "metadata": {},
     "output_type": "display_data"
    }
   ],
   "source": [
    "# def getFrequencies(df):\n",
    "#     ergebnis = [col for col in df.columns if 'ergebnis' in col]\n",
    "#     selectedData = df[ergebnis]\n",
    "#     frequencies = {}\n",
    "#     for value in selectedData.columns:\n",
    "#         frequencies[value] = selectedData[value].value_counts()\n",
    "#     data = pd.DataFrame(frequencies)\n",
    "#     dataToPlot=data.transpose()\n",
    "#     dataToPlot_percentages = dataToPlot.div(dataToPlot.sum(axis=1), axis=0)*100\n",
    "#     dataToPlot_percentages = dataToPlot_percentages[[1, 0, 99]]\n",
    "#     return dataToPlot_percentages, dataToPlot\n",
    "\n",
    "# def plotFrequencies(df, title):\n",
    "#     df.plot(kind='barh', stacked=True, color=colors)\n",
    "#     plt.legend(legend, bbox_to_anchor=(1.0,1))\n",
    "#     plt.title(title)\n",
    "#     plt.ylabel('Ergebnis')\n",
    "#     plt.xlabel('Kumulative Prozente')\n",
    "#     plt.show()"
   ]
  },
  {
   "cell_type": "code",
   "execution_count": 31,
   "id": "positive-professional",
   "metadata": {
    "scrolled": false
   },
   "outputs": [
    {
     "data": {
      "text/html": [
       "<div>\n",
       "<style scoped>\n",
       "    .dataframe tbody tr th:only-of-type {\n",
       "        vertical-align: middle;\n",
       "    }\n",
       "\n",
       "    .dataframe tbody tr th {\n",
       "        vertical-align: top;\n",
       "    }\n",
       "\n",
       "    .dataframe thead th {\n",
       "        text-align: right;\n",
       "    }\n",
       "</style>\n",
       "<table border=\"1\" class=\"dataframe\">\n",
       "  <thead>\n",
       "    <tr style=\"text-align: right;\">\n",
       "      <th></th>\n",
       "      <th>1</th>\n",
       "      <th>0</th>\n",
       "      <th>99</th>\n",
       "    </tr>\n",
       "  </thead>\n",
       "  <tbody>\n",
       "    <tr>\n",
       "      <th>1_1_ergebnis</th>\n",
       "      <td>68.75</td>\n",
       "      <td>31.25</td>\n",
       "      <td>NaN</td>\n",
       "    </tr>\n",
       "    <tr>\n",
       "      <th>1_2_ergebnis</th>\n",
       "      <td>56.25</td>\n",
       "      <td>43.75</td>\n",
       "      <td>NaN</td>\n",
       "    </tr>\n",
       "    <tr>\n",
       "      <th>1_3_ergebnis</th>\n",
       "      <td>56.25</td>\n",
       "      <td>37.50</td>\n",
       "      <td>6.25</td>\n",
       "    </tr>\n",
       "    <tr>\n",
       "      <th>1_4_ergebnis</th>\n",
       "      <td>31.25</td>\n",
       "      <td>56.25</td>\n",
       "      <td>12.50</td>\n",
       "    </tr>\n",
       "    <tr>\n",
       "      <th>1_5_ergebnis</th>\n",
       "      <td>62.50</td>\n",
       "      <td>37.50</td>\n",
       "      <td>NaN</td>\n",
       "    </tr>\n",
       "    <tr>\n",
       "      <th>1_6_ergebnis</th>\n",
       "      <td>56.25</td>\n",
       "      <td>43.75</td>\n",
       "      <td>NaN</td>\n",
       "    </tr>\n",
       "    <tr>\n",
       "      <th>1_7_ergebnis</th>\n",
       "      <td>75.00</td>\n",
       "      <td>18.75</td>\n",
       "      <td>6.25</td>\n",
       "    </tr>\n",
       "    <tr>\n",
       "      <th>1_8_ergebnis</th>\n",
       "      <td>56.25</td>\n",
       "      <td>37.50</td>\n",
       "      <td>6.25</td>\n",
       "    </tr>\n",
       "    <tr>\n",
       "      <th>1_9_ergebnis</th>\n",
       "      <td>68.75</td>\n",
       "      <td>18.75</td>\n",
       "      <td>12.50</td>\n",
       "    </tr>\n",
       "    <tr>\n",
       "      <th>1_10_ergebnis</th>\n",
       "      <td>62.50</td>\n",
       "      <td>18.75</td>\n",
       "      <td>18.75</td>\n",
       "    </tr>\n",
       "  </tbody>\n",
       "</table>\n",
       "</div>"
      ],
      "text/plain": [
       "                  1      0      99\n",
       "1_1_ergebnis   68.75  31.25    NaN\n",
       "1_2_ergebnis   56.25  43.75    NaN\n",
       "1_3_ergebnis   56.25  37.50   6.25\n",
       "1_4_ergebnis   31.25  56.25  12.50\n",
       "1_5_ergebnis   62.50  37.50    NaN\n",
       "1_6_ergebnis   56.25  43.75    NaN\n",
       "1_7_ergebnis   75.00  18.75   6.25\n",
       "1_8_ergebnis   56.25  37.50   6.25\n",
       "1_9_ergebnis   68.75  18.75  12.50\n",
       "1_10_ergebnis  62.50  18.75  18.75"
      ]
     },
     "execution_count": 31,
     "metadata": {},
     "output_type": "execute_result"
    },
    {
     "data": {
      "application/javascript": [
       "\n",
       "            setTimeout(function() {\n",
       "                var nbb_cell_id = 31;\n",
       "                var nbb_unformatted_code = \"data_level1 = getFrequencies(level_1)\\ndata_level1 = data_level1[0]\\ndata_level1\";\n",
       "                var nbb_formatted_code = \"data_level1 = getFrequencies(level_1)\\ndata_level1 = data_level1[0]\\ndata_level1\";\n",
       "                var nbb_cells = Jupyter.notebook.get_cells();\n",
       "                for (var i = 0; i < nbb_cells.length; ++i) {\n",
       "                    if (nbb_cells[i].input_prompt_number == nbb_cell_id) {\n",
       "                        if (nbb_cells[i].get_text() == nbb_unformatted_code) {\n",
       "                             nbb_cells[i].set_text(nbb_formatted_code);\n",
       "                        }\n",
       "                        break;\n",
       "                    }\n",
       "                }\n",
       "            }, 500);\n",
       "            "
      ],
      "text/plain": [
       "<IPython.core.display.Javascript object>"
      ]
     },
     "metadata": {},
     "output_type": "display_data"
    }
   ],
   "source": [
    "data_level1 = getFrequencies(level_1)\n",
    "data_level1 = data_level1[0]\n",
    "data_level1"
   ]
  },
  {
   "cell_type": "code",
   "execution_count": 32,
   "id": "incredible-juice",
   "metadata": {
    "scrolled": false
   },
   "outputs": [
    {
     "data": {
      "text/html": [
       "<div>\n",
       "<style scoped>\n",
       "    .dataframe tbody tr th:only-of-type {\n",
       "        vertical-align: middle;\n",
       "    }\n",
       "\n",
       "    .dataframe tbody tr th {\n",
       "        vertical-align: top;\n",
       "    }\n",
       "\n",
       "    .dataframe thead th {\n",
       "        text-align: right;\n",
       "    }\n",
       "</style>\n",
       "<table border=\"1\" class=\"dataframe\">\n",
       "  <thead>\n",
       "    <tr style=\"text-align: right;\">\n",
       "      <th></th>\n",
       "      <th>1</th>\n",
       "      <th>0</th>\n",
       "      <th>99</th>\n",
       "    </tr>\n",
       "  </thead>\n",
       "  <tbody>\n",
       "    <tr>\n",
       "      <th>1_1_ergebnis</th>\n",
       "      <td>97.142857</td>\n",
       "      <td>2.857143</td>\n",
       "      <td>NaN</td>\n",
       "    </tr>\n",
       "    <tr>\n",
       "      <th>1_2_ergebnis</th>\n",
       "      <td>88.571429</td>\n",
       "      <td>11.428571</td>\n",
       "      <td>NaN</td>\n",
       "    </tr>\n",
       "    <tr>\n",
       "      <th>1_3_ergebnis</th>\n",
       "      <td>91.428571</td>\n",
       "      <td>8.571429</td>\n",
       "      <td>NaN</td>\n",
       "    </tr>\n",
       "    <tr>\n",
       "      <th>1_4_ergebnis</th>\n",
       "      <td>85.714286</td>\n",
       "      <td>8.571429</td>\n",
       "      <td>5.714286</td>\n",
       "    </tr>\n",
       "    <tr>\n",
       "      <th>1_5_ergebnis</th>\n",
       "      <td>91.428571</td>\n",
       "      <td>5.714286</td>\n",
       "      <td>2.857143</td>\n",
       "    </tr>\n",
       "    <tr>\n",
       "      <th>1_6_ergebnis</th>\n",
       "      <td>91.428571</td>\n",
       "      <td>5.714286</td>\n",
       "      <td>2.857143</td>\n",
       "    </tr>\n",
       "    <tr>\n",
       "      <th>1_7_ergebnis</th>\n",
       "      <td>97.142857</td>\n",
       "      <td>2.857143</td>\n",
       "      <td>NaN</td>\n",
       "    </tr>\n",
       "    <tr>\n",
       "      <th>1_8_ergebnis</th>\n",
       "      <td>91.428571</td>\n",
       "      <td>8.571429</td>\n",
       "      <td>NaN</td>\n",
       "    </tr>\n",
       "    <tr>\n",
       "      <th>1_9_ergebnis</th>\n",
       "      <td>97.142857</td>\n",
       "      <td>2.857143</td>\n",
       "      <td>NaN</td>\n",
       "    </tr>\n",
       "    <tr>\n",
       "      <th>1_10_ergebnis</th>\n",
       "      <td>94.285714</td>\n",
       "      <td>NaN</td>\n",
       "      <td>5.714286</td>\n",
       "    </tr>\n",
       "  </tbody>\n",
       "</table>\n",
       "</div>"
      ],
      "text/plain": [
       "                      1          0         99\n",
       "1_1_ergebnis   97.142857   2.857143       NaN\n",
       "1_2_ergebnis   88.571429  11.428571       NaN\n",
       "1_3_ergebnis   91.428571   8.571429       NaN\n",
       "1_4_ergebnis   85.714286   8.571429  5.714286\n",
       "1_5_ergebnis   91.428571   5.714286  2.857143\n",
       "1_6_ergebnis   91.428571   5.714286  2.857143\n",
       "1_7_ergebnis   97.142857   2.857143       NaN\n",
       "1_8_ergebnis   91.428571   8.571429       NaN\n",
       "1_9_ergebnis   97.142857   2.857143       NaN\n",
       "1_10_ergebnis  94.285714        NaN  5.714286"
      ]
     },
     "execution_count": 32,
     "metadata": {},
     "output_type": "execute_result"
    },
    {
     "data": {
      "application/javascript": [
       "\n",
       "            setTimeout(function() {\n",
       "                var nbb_cell_id = 32;\n",
       "                var nbb_unformatted_code = \"data_level2 = getFrequencies(level_2)\\ndata_level2 = data_level2[0]\\ndata_level2\";\n",
       "                var nbb_formatted_code = \"data_level2 = getFrequencies(level_2)\\ndata_level2 = data_level2[0]\\ndata_level2\";\n",
       "                var nbb_cells = Jupyter.notebook.get_cells();\n",
       "                for (var i = 0; i < nbb_cells.length; ++i) {\n",
       "                    if (nbb_cells[i].input_prompt_number == nbb_cell_id) {\n",
       "                        if (nbb_cells[i].get_text() == nbb_unformatted_code) {\n",
       "                             nbb_cells[i].set_text(nbb_formatted_code);\n",
       "                        }\n",
       "                        break;\n",
       "                    }\n",
       "                }\n",
       "            }, 500);\n",
       "            "
      ],
      "text/plain": [
       "<IPython.core.display.Javascript object>"
      ]
     },
     "metadata": {},
     "output_type": "display_data"
    }
   ],
   "source": [
    "data_level2 = getFrequencies(level_2)\n",
    "data_level2 = data_level2[0]\n",
    "data_level2"
   ]
  },
  {
   "cell_type": "code",
   "execution_count": 33,
   "id": "prescription-detective",
   "metadata": {
    "scrolled": false
   },
   "outputs": [
    {
     "ename": "TypeError",
     "evalue": "plotFrequencies() missing 6 required positional arguments: 'height', 'title', 'legend', 'ylabel', 'xlabel', and 'color'",
     "output_type": "error",
     "traceback": [
      "\u001b[0;31m---------------------------------------------------------------------------\u001b[0m",
      "\u001b[0;31mTypeError\u001b[0m                                 Traceback (most recent call last)",
      "\u001b[0;32m<ipython-input-33-838d69a7049f>\u001b[0m in \u001b[0;36m<module>\u001b[0;34m\u001b[0m\n\u001b[0;32m----> 1\u001b[0;31m \u001b[0mplotFrequencies\u001b[0m\u001b[0;34m(\u001b[0m\u001b[0mdata_level1\u001b[0m\u001b[0;34m,\u001b[0m \u001b[0;34m\"Test 1 Level 1\"\u001b[0m\u001b[0;34m)\u001b[0m\u001b[0;34m\u001b[0m\u001b[0;34m\u001b[0m\u001b[0m\n\u001b[0m",
      "\u001b[0;31mTypeError\u001b[0m: plotFrequencies() missing 6 required positional arguments: 'height', 'title', 'legend', 'ylabel', 'xlabel', and 'color'"
     ]
    },
    {
     "data": {
      "application/javascript": [
       "\n",
       "            setTimeout(function() {\n",
       "                var nbb_cell_id = 33;\n",
       "                var nbb_unformatted_code = \"plotFrequencies(data_level1, \\\"Test 1 Level 1\\\")\";\n",
       "                var nbb_formatted_code = \"plotFrequencies(data_level1, \\\"Test 1 Level 1\\\")\";\n",
       "                var nbb_cells = Jupyter.notebook.get_cells();\n",
       "                for (var i = 0; i < nbb_cells.length; ++i) {\n",
       "                    if (nbb_cells[i].input_prompt_number == nbb_cell_id) {\n",
       "                        if (nbb_cells[i].get_text() == nbb_unformatted_code) {\n",
       "                             nbb_cells[i].set_text(nbb_formatted_code);\n",
       "                        }\n",
       "                        break;\n",
       "                    }\n",
       "                }\n",
       "            }, 500);\n",
       "            "
      ],
      "text/plain": [
       "<IPython.core.display.Javascript object>"
      ]
     },
     "metadata": {},
     "output_type": "display_data"
    }
   ],
   "source": [
    "plotFrequencies(data_level1, \"Test 1 Level 1\")"
   ]
  },
  {
   "cell_type": "code",
   "execution_count": null,
   "id": "veterinary-rapid",
   "metadata": {
    "scrolled": false
   },
   "outputs": [],
   "source": [
    "plotFrequencies(data_level2, 'Test 1Level 2')"
   ]
  },
  {
   "cell_type": "code",
   "execution_count": null,
   "id": "successful-geography",
   "metadata": {
    "scrolled": false
   },
   "outputs": [],
   "source": []
  },
  {
   "cell_type": "code",
   "execution_count": null,
   "id": "floating-implement",
   "metadata": {
    "scrolled": false
   },
   "outputs": [],
   "source": []
  },
  {
   "cell_type": "code",
   "execution_count": null,
   "id": "intellectual-learning",
   "metadata": {
    "scrolled": false
   },
   "outputs": [],
   "source": []
  },
  {
   "cell_type": "code",
   "execution_count": null,
   "id": "recent-government",
   "metadata": {
    "scrolled": false
   },
   "outputs": [],
   "source": []
  }
 ],
 "metadata": {
  "hide_input": true,
  "kernelspec": {
   "display_name": "tiria",
   "language": "python",
   "name": "tiria"
  },
  "language_info": {
   "codemirror_mode": {
    "name": "ipython",
    "version": 3
   },
   "file_extension": ".py",
   "mimetype": "text/x-python",
   "name": "python",
   "nbconvert_exporter": "python",
   "pygments_lexer": "ipython3",
   "version": "3.8.10"
  }
 },
 "nbformat": 4,
 "nbformat_minor": 5
}
