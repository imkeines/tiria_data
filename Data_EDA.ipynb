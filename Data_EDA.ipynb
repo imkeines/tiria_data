{
 "cells": [
  {
   "cell_type": "markdown",
   "id": "hazardous-ministry",
   "metadata": {},
   "source": [
    "# Environment"
   ]
  },
  {
   "cell_type": "markdown",
   "id": "other-indonesia",
   "metadata": {},
   "source": [
    "### Libraries and environment variables"
   ]
  },
  {
   "cell_type": "code",
   "execution_count": 1,
   "id": "floral-polish",
   "metadata": {
    "ExecuteTime": {
     "end_time": "2021-07-31T11:57:37.281412Z",
     "start_time": "2021-07-31T11:57:37.268564Z"
    },
    "scrolled": false
   },
   "outputs": [
    {
     "data": {
      "application/javascript": [
       "\n",
       "            setTimeout(function() {\n",
       "                var nbb_cell_id = 1;\n",
       "                var nbb_unformatted_code = \"import pandas as pd\\nimport numpy as np\\nimport matplotlib.pyplot as plt\\nimport plotly.express as px\\nimport nbconvert\\n\\npd.options.mode.chained_assignment = None  # default='warn'\\npd.set_option(\\\"display.max_columns\\\", None)\\n# formatter\\n%reload_ext nb_black\\n\\n# set figure size globally\\n# plt.rcParams[\\\"figure.figsize\\\"] = (10, 13)\";\n",
       "                var nbb_formatted_code = \"import pandas as pd\\nimport numpy as np\\nimport matplotlib.pyplot as plt\\nimport plotly.express as px\\nimport nbconvert\\n\\npd.options.mode.chained_assignment = None  # default='warn'\\npd.set_option(\\\"display.max_columns\\\", None)\\n# formatter\\n%reload_ext nb_black\\n\\n# set figure size globally\\n# plt.rcParams[\\\"figure.figsize\\\"] = (10, 13)\";\n",
       "                var nbb_cells = Jupyter.notebook.get_cells();\n",
       "                for (var i = 0; i < nbb_cells.length; ++i) {\n",
       "                    if (nbb_cells[i].input_prompt_number == nbb_cell_id) {\n",
       "                        if (nbb_cells[i].get_text() == nbb_unformatted_code) {\n",
       "                             nbb_cells[i].set_text(nbb_formatted_code);\n",
       "                        }\n",
       "                        break;\n",
       "                    }\n",
       "                }\n",
       "            }, 500);\n",
       "            "
      ],
      "text/plain": [
       "<IPython.core.display.Javascript object>"
      ]
     },
     "metadata": {},
     "output_type": "display_data"
    }
   ],
   "source": [
    "import pandas as pd\n",
    "import numpy as np\n",
    "import matplotlib.pyplot as plt\n",
    "import plotly.express as px\n",
    "import nbconvert\n",
    "\n",
    "pd.options.mode.chained_assignment = None  # default='warn'\n",
    "pd.set_option(\"display.max_columns\", None)\n",
    "# formatter\n",
    "%reload_ext nb_black\n",
    "\n",
    "# set figure size globally\n",
    "# plt.rcParams[\"figure.figsize\"] = (10, 13)"
   ]
  },
  {
   "cell_type": "markdown",
   "id": "diagnostic-dispatch",
   "metadata": {},
   "source": [
    "### Set working directory"
   ]
  },
  {
   "cell_type": "code",
   "execution_count": 2,
   "id": "operational-municipality",
   "metadata": {},
   "outputs": [
    {
     "data": {
      "application/javascript": [
       "\n",
       "            setTimeout(function() {\n",
       "                var nbb_cell_id = 2;\n",
       "                var nbb_unformatted_code = \"import os\\nfrom pathlib import Path\\n\\n# get absolute path of this script and create Path object\\npath = Path(os.getcwd())\\n\\n# use Path object to get path of project folder\\nabsolutePath = path.parent.absolute()\\n\\n# change working directory to project folder\\nos.chdir(absolutePath)\\n\\n# get path of project folder\\npath_projectFolder = os.getcwd()\";\n",
       "                var nbb_formatted_code = \"import os\\nfrom pathlib import Path\\n\\n# get absolute path of this script and create Path object\\npath = Path(os.getcwd())\\n\\n# use Path object to get path of project folder\\nabsolutePath = path.parent.absolute()\\n\\n# change working directory to project folder\\nos.chdir(absolutePath)\\n\\n# get path of project folder\\npath_projectFolder = os.getcwd()\";\n",
       "                var nbb_cells = Jupyter.notebook.get_cells();\n",
       "                for (var i = 0; i < nbb_cells.length; ++i) {\n",
       "                    if (nbb_cells[i].input_prompt_number == nbb_cell_id) {\n",
       "                        if (nbb_cells[i].get_text() == nbb_unformatted_code) {\n",
       "                             nbb_cells[i].set_text(nbb_formatted_code);\n",
       "                        }\n",
       "                        break;\n",
       "                    }\n",
       "                }\n",
       "            }, 500);\n",
       "            "
      ],
      "text/plain": [
       "<IPython.core.display.Javascript object>"
      ]
     },
     "metadata": {},
     "output_type": "display_data"
    }
   ],
   "source": [
    "import os\n",
    "from pathlib import Path\n",
    "\n",
    "# get absolute path of this script and create Path object\n",
    "path = Path(os.getcwd())\n",
    "\n",
    "# use Path object to get path of project folder\n",
    "absolutePath = path.parent.absolute()\n",
    "\n",
    "# change working directory to project folder\n",
    "os.chdir(absolutePath)\n",
    "\n",
    "# get path of project folder\n",
    "path_projectFolder = os.getcwd()"
   ]
  },
  {
   "cell_type": "markdown",
   "id": "basic-stick",
   "metadata": {},
   "source": [
    "### Load Data"
   ]
  },
  {
   "cell_type": "code",
   "execution_count": 3,
   "id": "chubby-repair",
   "metadata": {
    "code_folding": []
   },
   "outputs": [
    {
     "data": {
      "application/javascript": [
       "\n",
       "            setTimeout(function() {\n",
       "                var nbb_cell_id = 3;\n",
       "                var nbb_unformatted_code = \"test1 = pd.read_csv(path_projectFolder + \\\"/data/test_1.csv\\\")\\ntest2 = pd.read_csv(path_projectFolder + \\\"/data/test_2.csv\\\")\\ntest3 = pd.read_csv(path_projectFolder + \\\"/data/test_3.csv\\\")\\ntest4 = pd.read_csv(path_projectFolder + \\\"/data/test_4.csv\\\")\";\n",
       "                var nbb_formatted_code = \"test1 = pd.read_csv(path_projectFolder + \\\"/data/test_1.csv\\\")\\ntest2 = pd.read_csv(path_projectFolder + \\\"/data/test_2.csv\\\")\\ntest3 = pd.read_csv(path_projectFolder + \\\"/data/test_3.csv\\\")\\ntest4 = pd.read_csv(path_projectFolder + \\\"/data/test_4.csv\\\")\";\n",
       "                var nbb_cells = Jupyter.notebook.get_cells();\n",
       "                for (var i = 0; i < nbb_cells.length; ++i) {\n",
       "                    if (nbb_cells[i].input_prompt_number == nbb_cell_id) {\n",
       "                        if (nbb_cells[i].get_text() == nbb_unformatted_code) {\n",
       "                             nbb_cells[i].set_text(nbb_formatted_code);\n",
       "                        }\n",
       "                        break;\n",
       "                    }\n",
       "                }\n",
       "            }, 500);\n",
       "            "
      ],
      "text/plain": [
       "<IPython.core.display.Javascript object>"
      ]
     },
     "metadata": {},
     "output_type": "display_data"
    }
   ],
   "source": [
    "test1 = pd.read_csv(path_projectFolder + \"/data/test_1.csv\")\n",
    "test2 = pd.read_csv(path_projectFolder + \"/data/test_2.csv\")\n",
    "test3 = pd.read_csv(path_projectFolder + \"/data/test_3.csv\")\n",
    "test4 = pd.read_csv(path_projectFolder + \"/data/test_4.csv\")"
   ]
  },
  {
   "cell_type": "code",
   "execution_count": 4,
   "id": "published-breath",
   "metadata": {},
   "outputs": [
    {
     "data": {
      "text/html": [
       "<div>\n",
       "<style scoped>\n",
       "    .dataframe tbody tr th:only-of-type {\n",
       "        vertical-align: middle;\n",
       "    }\n",
       "\n",
       "    .dataframe tbody tr th {\n",
       "        vertical-align: top;\n",
       "    }\n",
       "\n",
       "    .dataframe thead th {\n",
       "        text-align: right;\n",
       "    }\n",
       "</style>\n",
       "<table border=\"1\" class=\"dataframe\">\n",
       "  <thead>\n",
       "    <tr style=\"text-align: right;\">\n",
       "      <th></th>\n",
       "      <th>Unnamed: 0</th>\n",
       "      <th>Test</th>\n",
       "      <th>Stufe</th>\n",
       "      <th>unique_id</th>\n",
       "      <th>Level</th>\n",
       "      <th>Gesamt_Level</th>\n",
       "      <th>1</th>\n",
       "      <th>2</th>\n",
       "      <th>3</th>\n",
       "      <th>4</th>\n",
       "      <th>5</th>\n",
       "      <th>6</th>\n",
       "      <th>7</th>\n",
       "      <th>8</th>\n",
       "      <th>9</th>\n",
       "      <th>10</th>\n",
       "    </tr>\n",
       "  </thead>\n",
       "  <tbody>\n",
       "    <tr>\n",
       "      <th>0</th>\n",
       "      <td>0</td>\n",
       "      <td>1</td>\n",
       "      <td>1</td>\n",
       "      <td>404_0</td>\n",
       "      <td>C</td>\n",
       "      <td>C</td>\n",
       "      <td>0.0</td>\n",
       "      <td>1.0</td>\n",
       "      <td>1.0</td>\n",
       "      <td>1.0</td>\n",
       "      <td>1.0</td>\n",
       "      <td>1.0</td>\n",
       "      <td>1.0</td>\n",
       "      <td>1.0</td>\n",
       "      <td>1.0</td>\n",
       "      <td>1.0</td>\n",
       "    </tr>\n",
       "    <tr>\n",
       "      <th>1</th>\n",
       "      <td>1</td>\n",
       "      <td>1</td>\n",
       "      <td>1</td>\n",
       "      <td>404_1</td>\n",
       "      <td>A</td>\n",
       "      <td>A</td>\n",
       "      <td>0.0</td>\n",
       "      <td>1.0</td>\n",
       "      <td>0.0</td>\n",
       "      <td>0.0</td>\n",
       "      <td>0.0</td>\n",
       "      <td>0.0</td>\n",
       "      <td>1.0</td>\n",
       "      <td>0.0</td>\n",
       "      <td>1.0</td>\n",
       "      <td>0.0</td>\n",
       "    </tr>\n",
       "    <tr>\n",
       "      <th>2</th>\n",
       "      <td>2</td>\n",
       "      <td>1</td>\n",
       "      <td>1</td>\n",
       "      <td>404_10</td>\n",
       "      <td>B</td>\n",
       "      <td>B</td>\n",
       "      <td>1.0</td>\n",
       "      <td>0.0</td>\n",
       "      <td>0.0</td>\n",
       "      <td>0.0</td>\n",
       "      <td>1.0</td>\n",
       "      <td>1.0</td>\n",
       "      <td>1.0</td>\n",
       "      <td>0.0</td>\n",
       "      <td>1.0</td>\n",
       "      <td>1.0</td>\n",
       "    </tr>\n",
       "    <tr>\n",
       "      <th>3</th>\n",
       "      <td>3</td>\n",
       "      <td>1</td>\n",
       "      <td>1</td>\n",
       "      <td>404_11</td>\n",
       "      <td>A</td>\n",
       "      <td>A</td>\n",
       "      <td>0.0</td>\n",
       "      <td>0.0</td>\n",
       "      <td>0.0</td>\n",
       "      <td>0.0</td>\n",
       "      <td>0.0</td>\n",
       "      <td>0.0</td>\n",
       "      <td>1.0</td>\n",
       "      <td>1.0</td>\n",
       "      <td>0.0</td>\n",
       "      <td>0.0</td>\n",
       "    </tr>\n",
       "    <tr>\n",
       "      <th>4</th>\n",
       "      <td>4</td>\n",
       "      <td>1</td>\n",
       "      <td>1</td>\n",
       "      <td>404_12</td>\n",
       "      <td>B</td>\n",
       "      <td>C</td>\n",
       "      <td>1.0</td>\n",
       "      <td>0.0</td>\n",
       "      <td>1.0</td>\n",
       "      <td>0.0</td>\n",
       "      <td>0.0</td>\n",
       "      <td>0.0</td>\n",
       "      <td>1.0</td>\n",
       "      <td>0.0</td>\n",
       "      <td>1.0</td>\n",
       "      <td>1.0</td>\n",
       "    </tr>\n",
       "  </tbody>\n",
       "</table>\n",
       "</div>"
      ],
      "text/plain": [
       "   Unnamed: 0  Test  Stufe unique_id Level Gesamt_Level    1    2    3    4  \\\n",
       "0           0     1      1     404_0     C            C  0.0  1.0  1.0  1.0   \n",
       "1           1     1      1     404_1     A            A  0.0  1.0  0.0  0.0   \n",
       "2           2     1      1    404_10     B            B  1.0  0.0  0.0  0.0   \n",
       "3           3     1      1    404_11     A            A  0.0  0.0  0.0  0.0   \n",
       "4           4     1      1    404_12     B            C  1.0  0.0  1.0  0.0   \n",
       "\n",
       "     5    6    7    8    9   10  \n",
       "0  1.0  1.0  1.0  1.0  1.0  1.0  \n",
       "1  0.0  0.0  1.0  0.0  1.0  0.0  \n",
       "2  1.0  1.0  1.0  0.0  1.0  1.0  \n",
       "3  0.0  0.0  1.0  1.0  0.0  0.0  \n",
       "4  0.0  0.0  1.0  0.0  1.0  1.0  "
      ]
     },
     "execution_count": 4,
     "metadata": {},
     "output_type": "execute_result"
    },
    {
     "data": {
      "application/javascript": [
       "\n",
       "            setTimeout(function() {\n",
       "                var nbb_cell_id = 4;\n",
       "                var nbb_unformatted_code = \"# Drop all empty columns from tests\\nlistTests = [test1, test2, test3, test4]\\n\\nfor t in listTests:\\n    t.dropna(how=\\\"all\\\", axis=1, inplace=True)\\n\\ntest1.head()\";\n",
       "                var nbb_formatted_code = \"# Drop all empty columns from tests\\nlistTests = [test1, test2, test3, test4]\\n\\nfor t in listTests:\\n    t.dropna(how=\\\"all\\\", axis=1, inplace=True)\\n\\ntest1.head()\";\n",
       "                var nbb_cells = Jupyter.notebook.get_cells();\n",
       "                for (var i = 0; i < nbb_cells.length; ++i) {\n",
       "                    if (nbb_cells[i].input_prompt_number == nbb_cell_id) {\n",
       "                        if (nbb_cells[i].get_text() == nbb_unformatted_code) {\n",
       "                             nbb_cells[i].set_text(nbb_formatted_code);\n",
       "                        }\n",
       "                        break;\n",
       "                    }\n",
       "                }\n",
       "            }, 500);\n",
       "            "
      ],
      "text/plain": [
       "<IPython.core.display.Javascript object>"
      ]
     },
     "metadata": {},
     "output_type": "display_data"
    }
   ],
   "source": [
    "# Drop all empty columns from tests\n",
    "listTests = [test1, test2, test3, test4]\n",
    "\n",
    "for t in listTests:\n",
    "    t.dropna(how=\"all\", axis=1, inplace=True)\n",
    "\n",
    "test1.head()"
   ]
  },
  {
   "cell_type": "markdown",
   "id": "lovely-particular",
   "metadata": {},
   "source": [
    "# EDA"
   ]
  },
  {
   "cell_type": "markdown",
   "id": "interior-technology",
   "metadata": {},
   "source": [
    "### Items per test"
   ]
  },
  {
   "cell_type": "code",
   "execution_count": 5,
   "id": "burning-edmonton",
   "metadata": {},
   "outputs": [
    {
     "name": "stdout",
     "output_type": "stream",
     "text": [
      "\n",
      " Subtest 1 item count: 10 \n",
      " Subtest 2 item count: 10 \n",
      " Subtest 3 item count: 50 \n",
      " Subtest 4 item count: 30  \n",
      "\n"
     ]
    },
    {
     "data": {
      "application/javascript": [
       "\n",
       "            setTimeout(function() {\n",
       "                var nbb_cell_id = 5;\n",
       "                var nbb_unformatted_code = \"print(\\n    \\\"\\\\n\\\",\\n    \\\"Subtest 1 item count: 10\\\",\\n    \\\"\\\\n\\\",\\n    \\\"Subtest 2 item count: 10\\\",\\n    \\\"\\\\n\\\",\\n    \\\"Subtest 3 item count: 50\\\",\\n    \\\"\\\\n\\\",\\n    \\\"Subtest 4 item count: 30 \\\",\\n    \\\"\\\\n\\\",\\n)\";\n",
       "                var nbb_formatted_code = \"print(\\n    \\\"\\\\n\\\",\\n    \\\"Subtest 1 item count: 10\\\",\\n    \\\"\\\\n\\\",\\n    \\\"Subtest 2 item count: 10\\\",\\n    \\\"\\\\n\\\",\\n    \\\"Subtest 3 item count: 50\\\",\\n    \\\"\\\\n\\\",\\n    \\\"Subtest 4 item count: 30 \\\",\\n    \\\"\\\\n\\\",\\n)\";\n",
       "                var nbb_cells = Jupyter.notebook.get_cells();\n",
       "                for (var i = 0; i < nbb_cells.length; ++i) {\n",
       "                    if (nbb_cells[i].input_prompt_number == nbb_cell_id) {\n",
       "                        if (nbb_cells[i].get_text() == nbb_unformatted_code) {\n",
       "                             nbb_cells[i].set_text(nbb_formatted_code);\n",
       "                        }\n",
       "                        break;\n",
       "                    }\n",
       "                }\n",
       "            }, 500);\n",
       "            "
      ],
      "text/plain": [
       "<IPython.core.display.Javascript object>"
      ]
     },
     "metadata": {},
     "output_type": "display_data"
    }
   ],
   "source": [
    "print(\n",
    "    \"\\n\",\n",
    "    \"Subtest 1 item count: 10\",\n",
    "    \"\\n\",\n",
    "    \"Subtest 2 item count: 10\",\n",
    "    \"\\n\",\n",
    "    \"Subtest 3 item count: 50\",\n",
    "    \"\\n\",\n",
    "    \"Subtest 4 item count: 30 \",\n",
    "    \"\\n\",\n",
    ")"
   ]
  },
  {
   "cell_type": "markdown",
   "id": "decimal-flavor",
   "metadata": {},
   "source": [
    "### Children"
   ]
  },
  {
   "cell_type": "code",
   "execution_count": 6,
   "id": "sitting-belgium",
   "metadata": {
    "scrolled": true
   },
   "outputs": [
    {
     "name": "stdout",
     "output_type": "stream",
     "text": [
      "\n",
      " Subtest 1 Kinder: 51 \n",
      " Subtest 2 Kinder: 52 \n",
      " Subtest 3 Kinder: 51 \n",
      " Subtest 4 Kinder: 46 \n",
      "\n"
     ]
    },
    {
     "data": {
      "application/javascript": [
       "\n",
       "            setTimeout(function() {\n",
       "                var nbb_cell_id = 6;\n",
       "                var nbb_unformatted_code = \"anzahl1 = len(test1)\\nanzahl2 = len(test2)\\nanzahl3 = len(test3)\\nanzahl4 = len(test4)\\nprint(\\n    \\\"\\\\n\\\",\\n    \\\"Subtest 1 Kinder:\\\",\\n    anzahl1,\\n    \\\"\\\\n\\\",\\n    \\\"Subtest 2 Kinder:\\\",\\n    anzahl2,\\n    \\\"\\\\n\\\",\\n    \\\"Subtest 3 Kinder:\\\",\\n    anzahl3,\\n    \\\"\\\\n\\\",\\n    \\\"Subtest 4 Kinder:\\\",\\n    anzahl4,\\n    \\\"\\\\n\\\",\\n)\";\n",
       "                var nbb_formatted_code = \"anzahl1 = len(test1)\\nanzahl2 = len(test2)\\nanzahl3 = len(test3)\\nanzahl4 = len(test4)\\nprint(\\n    \\\"\\\\n\\\",\\n    \\\"Subtest 1 Kinder:\\\",\\n    anzahl1,\\n    \\\"\\\\n\\\",\\n    \\\"Subtest 2 Kinder:\\\",\\n    anzahl2,\\n    \\\"\\\\n\\\",\\n    \\\"Subtest 3 Kinder:\\\",\\n    anzahl3,\\n    \\\"\\\\n\\\",\\n    \\\"Subtest 4 Kinder:\\\",\\n    anzahl4,\\n    \\\"\\\\n\\\",\\n)\";\n",
       "                var nbb_cells = Jupyter.notebook.get_cells();\n",
       "                for (var i = 0; i < nbb_cells.length; ++i) {\n",
       "                    if (nbb_cells[i].input_prompt_number == nbb_cell_id) {\n",
       "                        if (nbb_cells[i].get_text() == nbb_unformatted_code) {\n",
       "                             nbb_cells[i].set_text(nbb_formatted_code);\n",
       "                        }\n",
       "                        break;\n",
       "                    }\n",
       "                }\n",
       "            }, 500);\n",
       "            "
      ],
      "text/plain": [
       "<IPython.core.display.Javascript object>"
      ]
     },
     "metadata": {},
     "output_type": "display_data"
    }
   ],
   "source": [
    "anzahl1 = len(test1)\n",
    "anzahl2 = len(test2)\n",
    "anzahl3 = len(test3)\n",
    "anzahl4 = len(test4)\n",
    "print(\n",
    "    \"\\n\",\n",
    "    \"Subtest 1 Kinder:\",\n",
    "    anzahl1,\n",
    "    \"\\n\",\n",
    "    \"Subtest 2 Kinder:\",\n",
    "    anzahl2,\n",
    "    \"\\n\",\n",
    "    \"Subtest 3 Kinder:\",\n",
    "    anzahl3,\n",
    "    \"\\n\",\n",
    "    \"Subtest 4 Kinder:\",\n",
    "    anzahl4,\n",
    "    \"\\n\",\n",
    ")"
   ]
  },
  {
   "cell_type": "markdown",
   "id": "systematic-stanley",
   "metadata": {},
   "source": [
    "### 1. Final level"
   ]
  },
  {
   "cell_type": "code",
   "execution_count": 7,
   "id": "imposed-hawaii",
   "metadata": {
    "scrolled": false
   },
   "outputs": [
    {
     "data": {
      "application/javascript": [
       "\n",
       "            setTimeout(function() {\n",
       "                var nbb_cell_id = 7;\n",
       "                var nbb_unformatted_code = \"# stacked barchart for level\\ndef level_stacked(df, title, column):\\n    dataToPlott = df[column].value_counts(normalize=True) * 100\\n\\n    dataToPlott2 = pd.DataFrame(dataToPlott)\\n\\n    dataToPlott2[\\\"level\\\"] = dataToPlott2.index\\n\\n    dataToPlott2 = dataToPlott2.transpose()\\n\\n    dataToPlott2 = dataToPlott2.head(-1)\\n\\n    dataToPlott2 = dataToPlott2[[\\\"A\\\", \\\"B\\\", \\\"C\\\"]]\\n    print(dataToPlott2)\\n\\n    \\n    dataToPlott2.plot(kind=\\\"barh\\\", stacked=True, color=co)\\n\\n    plt.legend([\\\"level A\\\", \\\"level B\\\", \\\"level C\\\"], bbox_to_anchor=(1.0, 1))\\n\\n    plt.xlabel(\\\"%\\\")\\n\\n    plt.xticks([0, 10, 20, 30, 40, 50, 50, 60, 70, 80, 90, 100])\\n    plt.title(title)\\n\\n\\n# histogram for subtest level\\ndef level_histogram(df, title, colors, figurename):\\n    dataToPlott = df[\\\"subtest_result\\\"].value_counts(normalize=True) * 100\\n    dataToPlott2 = pd.DataFrame(dataToPlott)\\n    dataToPlott_sorted = dataToPlott2.sort_values(\\\"subtest_result\\\")\\n    dataToPlott_sorted\\n    dataToPlott_sorted[\\\"subtest_result\\\"].plot(kind=\\\"barh\\\", color=co)\\n    plt.title(title)\\n\\n\\n# colors for bars\\nco = [\\n    \\\"lightsteelblue\\\",\\n    \\\"cornflowerblue\\\",\\n    \\\"royalblue\\\",\\n]\";\n",
       "                var nbb_formatted_code = \"# stacked barchart for level\\ndef level_stacked(df, title, column):\\n    dataToPlott = df[column].value_counts(normalize=True) * 100\\n\\n    dataToPlott2 = pd.DataFrame(dataToPlott)\\n\\n    dataToPlott2[\\\"level\\\"] = dataToPlott2.index\\n\\n    dataToPlott2 = dataToPlott2.transpose()\\n\\n    dataToPlott2 = dataToPlott2.head(-1)\\n\\n    dataToPlott2 = dataToPlott2[[\\\"A\\\", \\\"B\\\", \\\"C\\\"]]\\n    print(dataToPlott2)\\n\\n    dataToPlott2.plot(kind=\\\"barh\\\", stacked=True, color=co)\\n\\n    plt.legend([\\\"level A\\\", \\\"level B\\\", \\\"level C\\\"], bbox_to_anchor=(1.0, 1))\\n\\n    plt.xlabel(\\\"%\\\")\\n\\n    plt.xticks([0, 10, 20, 30, 40, 50, 50, 60, 70, 80, 90, 100])\\n    plt.title(title)\\n\\n\\n# histogram for subtest level\\ndef level_histogram(df, title, colors, figurename):\\n    dataToPlott = df[\\\"subtest_result\\\"].value_counts(normalize=True) * 100\\n    dataToPlott2 = pd.DataFrame(dataToPlott)\\n    dataToPlott_sorted = dataToPlott2.sort_values(\\\"subtest_result\\\")\\n    dataToPlott_sorted\\n    dataToPlott_sorted[\\\"subtest_result\\\"].plot(kind=\\\"barh\\\", color=co)\\n    plt.title(title)\\n\\n\\n# colors for bars\\nco = [\\n    \\\"lightsteelblue\\\",\\n    \\\"cornflowerblue\\\",\\n    \\\"royalblue\\\",\\n]\";\n",
       "                var nbb_cells = Jupyter.notebook.get_cells();\n",
       "                for (var i = 0; i < nbb_cells.length; ++i) {\n",
       "                    if (nbb_cells[i].input_prompt_number == nbb_cell_id) {\n",
       "                        if (nbb_cells[i].get_text() == nbb_unformatted_code) {\n",
       "                             nbb_cells[i].set_text(nbb_formatted_code);\n",
       "                        }\n",
       "                        break;\n",
       "                    }\n",
       "                }\n",
       "            }, 500);\n",
       "            "
      ],
      "text/plain": [
       "<IPython.core.display.Javascript object>"
      ]
     },
     "metadata": {},
     "output_type": "display_data"
    }
   ],
   "source": [
    "# stacked barchart for level\n",
    "def level_stacked(df, title, column):\n",
    "    dataToPlott = df[column].value_counts(normalize=True) * 100\n",
    "\n",
    "    dataToPlott2 = pd.DataFrame(dataToPlott)\n",
    "\n",
    "    dataToPlott2[\"level\"] = dataToPlott2.index\n",
    "\n",
    "    dataToPlott2 = dataToPlott2.transpose()\n",
    "\n",
    "    dataToPlott2 = dataToPlott2.head(-1)\n",
    "\n",
    "    dataToPlott2 = dataToPlott2[[\"A\", \"B\", \"C\"]]\n",
    "    print(dataToPlott2)\n",
    "\n",
    "    \n",
    "    dataToPlott2.plot(kind=\"barh\", stacked=True, color=co)\n",
    "\n",
    "    plt.legend([\"level A\", \"level B\", \"level C\"], bbox_to_anchor=(1.0, 1))\n",
    "\n",
    "    plt.xlabel(\"%\")\n",
    "\n",
    "    plt.xticks([0, 10, 20, 30, 40, 50, 50, 60, 70, 80, 90, 100])\n",
    "    plt.title(title)\n",
    "\n",
    "\n",
    "# histogram for subtest level\n",
    "def level_histogram(df, title, colors, figurename):\n",
    "    dataToPlott = df[\"subtest_result\"].value_counts(normalize=True) * 100\n",
    "    dataToPlott2 = pd.DataFrame(dataToPlott)\n",
    "    dataToPlott_sorted = dataToPlott2.sort_values(\"subtest_result\")\n",
    "    dataToPlott_sorted\n",
    "    dataToPlott_sorted[\"subtest_result\"].plot(kind=\"barh\", color=co)\n",
    "    plt.title(title)\n",
    "\n",
    "\n",
    "# colors for bars\n",
    "co = [\n",
    "    \"lightsteelblue\",\n",
    "    \"cornflowerblue\",\n",
    "    \"royalblue\",\n",
    "]\n"
   ]
  },
  {
   "cell_type": "markdown",
   "id": "prerequisite-cleaner",
   "metadata": {},
   "source": [
    "nur Kinder, die auch Test 4 gemacht haben:"
   ]
  },
  {
   "cell_type": "code",
   "execution_count": 8,
   "id": "special-replacement",
   "metadata": {
    "scrolled": false
   },
   "outputs": [
    {
     "name": "stdout",
     "output_type": "stream",
     "text": [
      "                     A          B          C\n",
      "Gesamt_Level  2.173913  34.782609  63.043478\n"
     ]
    },
    {
     "data": {
      "image/png": "[encoded data removed]",
      "text/plain": [
       "<Figure size 432x288 with 1 Axes>"
      ]
     },
     "metadata": {
      "needs_background": "light"
     },
     "output_type": "display_data"
    },
    {
     "data": {
      "application/javascript": [
       "\n",
       "            setTimeout(function() {\n",
       "                var nbb_cell_id = 8;\n",
       "                var nbb_unformatted_code = \"level_stacked(test4, \\\"Level\\\", \\\"Gesamt_Level\\\")\";\n",
       "                var nbb_formatted_code = \"level_stacked(test4, \\\"Level\\\", \\\"Gesamt_Level\\\")\";\n",
       "                var nbb_cells = Jupyter.notebook.get_cells();\n",
       "                for (var i = 0; i < nbb_cells.length; ++i) {\n",
       "                    if (nbb_cells[i].input_prompt_number == nbb_cell_id) {\n",
       "                        if (nbb_cells[i].get_text() == nbb_unformatted_code) {\n",
       "                             nbb_cells[i].set_text(nbb_formatted_code);\n",
       "                        }\n",
       "                        break;\n",
       "                    }\n",
       "                }\n",
       "            }, 500);\n",
       "            "
      ],
      "text/plain": [
       "<IPython.core.display.Javascript object>"
      ]
     },
     "metadata": {},
     "output_type": "display_data"
    }
   ],
   "source": [
    "level_stacked(test4, \"Level\", \"Gesamt_Level\")"
   ]
  },
  {
   "cell_type": "markdown",
   "id": "dying-ribbon",
   "metadata": {},
   "source": [
    "inklusive Kindern, die Test 4 nicht gemacht haben:"
   ]
  },
  {
   "cell_type": "code",
   "execution_count": 9,
   "id": "prime-spider",
   "metadata": {
    "scrolled": false
   },
   "outputs": [
    {
     "name": "stdout",
     "output_type": "stream",
     "text": [
      "                     A          B          C\n",
      "Gesamt_Level  9.803922  31.372549  56.862745\n"
     ]
    },
    {
     "data": {
      "image/png": "[encoded data removed]",
      "text/plain": [
       "<Figure size 432x288 with 1 Axes>"
      ]
     },
     "metadata": {
      "needs_background": "light"
     },
     "output_type": "display_data"
    },
    {
     "data": {
      "application/javascript": [
       "\n",
       "            setTimeout(function() {\n",
       "                var nbb_cell_id = 9;\n",
       "                var nbb_unformatted_code = \"level_stacked(test3, \\\"Level\\\", \\\"Gesamt_Level\\\")\";\n",
       "                var nbb_formatted_code = \"level_stacked(test3, \\\"Level\\\", \\\"Gesamt_Level\\\")\";\n",
       "                var nbb_cells = Jupyter.notebook.get_cells();\n",
       "                for (var i = 0; i < nbb_cells.length; ++i) {\n",
       "                    if (nbb_cells[i].input_prompt_number == nbb_cell_id) {\n",
       "                        if (nbb_cells[i].get_text() == nbb_unformatted_code) {\n",
       "                             nbb_cells[i].set_text(nbb_formatted_code);\n",
       "                        }\n",
       "                        break;\n",
       "                    }\n",
       "                }\n",
       "            }, 500);\n",
       "            "
      ],
      "text/plain": [
       "<IPython.core.display.Javascript object>"
      ]
     },
     "metadata": {},
     "output_type": "display_data"
    }
   ],
   "source": [
    "level_stacked(test3, \"Level\", \"Gesamt_Level\")"
   ]
  },
  {
   "cell_type": "markdown",
   "id": "electronic-cartoon",
   "metadata": {},
   "source": [
    "### 2. Subtest level"
   ]
  },
  {
   "cell_type": "markdown",
   "id": "dense-daniel",
   "metadata": {},
   "source": [
    "#### Subtest 1 Level"
   ]
  },
  {
   "cell_type": "code",
   "execution_count": 10,
   "id": "hazardous-tutorial",
   "metadata": {},
   "outputs": [
    {
     "name": "stdout",
     "output_type": "stream",
     "text": [
      "               A          B          C\n",
      "Level  17.647059  25.490196  56.862745\n"
     ]
    },
    {
     "data": {
      "image/png": "[encoded data removed]",
      "text/plain": [
       "<Figure size 432x288 with 1 Axes>"
      ]
     },
     "metadata": {
      "needs_background": "light"
     },
     "output_type": "display_data"
    },
    {
     "data": {
      "application/javascript": [
       "\n",
       "            setTimeout(function() {\n",
       "                var nbb_cell_id = 10;\n",
       "                var nbb_unformatted_code = \"level_stacked(test1, \\\"Subtest level\\\", \\\"Level\\\")\";\n",
       "                var nbb_formatted_code = \"level_stacked(test1, \\\"Subtest level\\\", \\\"Level\\\")\";\n",
       "                var nbb_cells = Jupyter.notebook.get_cells();\n",
       "                for (var i = 0; i < nbb_cells.length; ++i) {\n",
       "                    if (nbb_cells[i].input_prompt_number == nbb_cell_id) {\n",
       "                        if (nbb_cells[i].get_text() == nbb_unformatted_code) {\n",
       "                             nbb_cells[i].set_text(nbb_formatted_code);\n",
       "                        }\n",
       "                        break;\n",
       "                    }\n",
       "                }\n",
       "            }, 500);\n",
       "            "
      ],
      "text/plain": [
       "<IPython.core.display.Javascript object>"
      ]
     },
     "metadata": {},
     "output_type": "display_data"
    }
   ],
   "source": [
    "level_stacked(test1, \"Subtest level\", \"Level\")"
   ]
  },
  {
   "cell_type": "markdown",
   "id": "fitted-minutes",
   "metadata": {},
   "source": [
    "#### Subtest 2 Level"
   ]
  },
  {
   "cell_type": "code",
   "execution_count": 11,
   "id": "political-section",
   "metadata": {},
   "outputs": [
    {
     "name": "stdout",
     "output_type": "stream",
     "text": [
      "               A     B          C\n",
      "Level  17.307692  25.0  55.769231\n"
     ]
    },
    {
     "data": {
      "image/png": "[encoded data removed]",
      "text/plain": [
       "<Figure size 432x288 with 1 Axes>"
      ]
     },
     "metadata": {
      "needs_background": "light"
     },
     "output_type": "display_data"
    },
    {
     "data": {
      "application/javascript": [
       "\n",
       "            setTimeout(function() {\n",
       "                var nbb_cell_id = 11;\n",
       "                var nbb_unformatted_code = \"level_stacked(test2, \\\"Subtest 2 level\\\", \\\"Level\\\")\";\n",
       "                var nbb_formatted_code = \"level_stacked(test2, \\\"Subtest 2 level\\\", \\\"Level\\\")\";\n",
       "                var nbb_cells = Jupyter.notebook.get_cells();\n",
       "                for (var i = 0; i < nbb_cells.length; ++i) {\n",
       "                    if (nbb_cells[i].input_prompt_number == nbb_cell_id) {\n",
       "                        if (nbb_cells[i].get_text() == nbb_unformatted_code) {\n",
       "                             nbb_cells[i].set_text(nbb_formatted_code);\n",
       "                        }\n",
       "                        break;\n",
       "                    }\n",
       "                }\n",
       "            }, 500);\n",
       "            "
      ],
      "text/plain": [
       "<IPython.core.display.Javascript object>"
      ]
     },
     "metadata": {},
     "output_type": "display_data"
    }
   ],
   "source": [
    "level_stacked(test2, \"Subtest 2 level\", \"Level\")"
   ]
  },
  {
   "cell_type": "markdown",
   "id": "further-community",
   "metadata": {},
   "source": [
    "#### Subtest 3 Level"
   ]
  },
  {
   "cell_type": "code",
   "execution_count": 12,
   "id": "immediate-forum",
   "metadata": {},
   "outputs": [
    {
     "name": "stdout",
     "output_type": "stream",
     "text": [
      "              A          B          C\n",
      "Level  9.803922  25.490196  64.705882\n"
     ]
    },
    {
     "data": {
      "image/png": "[encoded data removed]",
      "text/plain": [
       "<Figure size 432x288 with 1 Axes>"
      ]
     },
     "metadata": {
      "needs_background": "light"
     },
     "output_type": "display_data"
    },
    {
     "data": {
      "application/javascript": [
       "\n",
       "            setTimeout(function() {\n",
       "                var nbb_cell_id = 12;\n",
       "                var nbb_unformatted_code = \"level_stacked(test3, \\\"Subtest 3 level\\\", \\\"Level\\\")\";\n",
       "                var nbb_formatted_code = \"level_stacked(test3, \\\"Subtest 3 level\\\", \\\"Level\\\")\";\n",
       "                var nbb_cells = Jupyter.notebook.get_cells();\n",
       "                for (var i = 0; i < nbb_cells.length; ++i) {\n",
       "                    if (nbb_cells[i].input_prompt_number == nbb_cell_id) {\n",
       "                        if (nbb_cells[i].get_text() == nbb_unformatted_code) {\n",
       "                             nbb_cells[i].set_text(nbb_formatted_code);\n",
       "                        }\n",
       "                        break;\n",
       "                    }\n",
       "                }\n",
       "            }, 500);\n",
       "            "
      ],
      "text/plain": [
       "<IPython.core.display.Javascript object>"
      ]
     },
     "metadata": {},
     "output_type": "display_data"
    }
   ],
   "source": [
    "level_stacked(test3, \"Subtest 3 level\", \"Level\")"
   ]
  },
  {
   "cell_type": "markdown",
   "id": "addressed-football",
   "metadata": {},
   "source": [
    "#### Subtest 4 Level"
   ]
  },
  {
   "cell_type": "code",
   "execution_count": 13,
   "id": "joint-madison",
   "metadata": {},
   "outputs": [
    {
     "name": "stdout",
     "output_type": "stream",
     "text": [
      "               A          B          C\n",
      "Level  13.043478  26.086957  60.869565\n"
     ]
    },
    {
     "data": {
      "image/png": "[encoded data removed]",
      "text/plain": [
       "<Figure size 432x288 with 1 Axes>"
      ]
     },
     "metadata": {
      "needs_background": "light"
     },
     "output_type": "display_data"
    },
    {
     "data": {
      "application/javascript": [
       "\n",
       "            setTimeout(function() {\n",
       "                var nbb_cell_id = 13;\n",
       "                var nbb_unformatted_code = \"level_stacked(test4, \\\"Subtest 4 level\\\", \\\"Level\\\")\";\n",
       "                var nbb_formatted_code = \"level_stacked(test4, \\\"Subtest 4 level\\\", \\\"Level\\\")\";\n",
       "                var nbb_cells = Jupyter.notebook.get_cells();\n",
       "                for (var i = 0; i < nbb_cells.length; ++i) {\n",
       "                    if (nbb_cells[i].input_prompt_number == nbb_cell_id) {\n",
       "                        if (nbb_cells[i].get_text() == nbb_unformatted_code) {\n",
       "                             nbb_cells[i].set_text(nbb_formatted_code);\n",
       "                        }\n",
       "                        break;\n",
       "                    }\n",
       "                }\n",
       "            }, 500);\n",
       "            "
      ],
      "text/plain": [
       "<IPython.core.display.Javascript object>"
      ]
     },
     "metadata": {},
     "output_type": "display_data"
    }
   ],
   "source": [
    "level_stacked(test4, \"Subtest 4 level\", \"Level\")"
   ]
  },
  {
   "cell_type": "markdown",
   "id": "digital-drink",
   "metadata": {},
   "source": [
    "### 4. Item Difficulty --> Results of Subtest Items"
   ]
  },
  {
   "cell_type": "markdown",
   "id": "competent-metallic",
   "metadata": {},
   "source": [
    "#### Participation/Motivation"
   ]
  },
  {
   "cell_type": "code",
   "execution_count": 14,
   "id": "incorrect-freeze",
   "metadata": {},
   "outputs": [
    {
     "data": {
      "application/javascript": [
       "\n",
       "            setTimeout(function() {\n",
       "                var nbb_cell_id = 14;\n",
       "                var nbb_unformatted_code = \"def missing_values_per_variable(df, percent=100, dropCol=False):  # sum_missing_values\\n\\n    ergebnis = df[\\n        df.columns.difference(\\n            [\\n                \\\"Unnamed: 0\\\",\\n                \\\"Test\\\",\\n                \\\"Stufe\\\",\\n                \\\"unique_id\\\",\\n                \\\"Level\\\",\\n                \\\"Gesamt_Level\\\",\\n                \\\"Gesamt_Richtig\\\",\\n            ]\\n        )\\n    ].columns\\n\\n    # ergebnis = [col for col in df.columns if \\\"ergebnis\\\" in col]\\n    selectedData = df[ergebnis]\\n    selectedData.replace(99, np.NaN, inplace=True)\\n    listCol = []\\n    rowCount = selectedData.shape[0]\\n    for column in selectedData:\\n        sumColumn = selectedData[column].isna().sum()\\n        percentNA = sumColumn / rowCount * 100\\n        if percentNA <= percent:\\n            listCol.append(\\n                {\\n                    \\\"column\\\": column,\\n                    \\\"missing_values\\\": sumColumn,\\n                    \\\"missing_values(%)\\\": percentNA,\\n                }\\n            )\\n        else:\\n            if dropCol == True:\\n                print(\\\"Column dropped: \\\", column, \\\", missing values(%): \\\", percentNA)\\n                selectedData.drop([column], axis=1, inplace=True)\\n    listCol = (\\n        pd.DataFrame(listCol)\\n        .sort_values(by=\\\"missing_values\\\", ascending=False)\\n        .reset_index(drop=True)\\n    )\\n\\n    listCol.index = listCol[\\\"column\\\"]\\n    listCol.drop(\\\"column\\\", axis=1, inplace=True)\\n\\n    return listCol\";\n",
       "                var nbb_formatted_code = \"def missing_values_per_variable(df, percent=100, dropCol=False):  # sum_missing_values\\n\\n    ergebnis = df[\\n        df.columns.difference(\\n            [\\n                \\\"Unnamed: 0\\\",\\n                \\\"Test\\\",\\n                \\\"Stufe\\\",\\n                \\\"unique_id\\\",\\n                \\\"Level\\\",\\n                \\\"Gesamt_Level\\\",\\n                \\\"Gesamt_Richtig\\\",\\n            ]\\n        )\\n    ].columns\\n\\n    # ergebnis = [col for col in df.columns if \\\"ergebnis\\\" in col]\\n    selectedData = df[ergebnis]\\n    selectedData.replace(99, np.NaN, inplace=True)\\n    listCol = []\\n    rowCount = selectedData.shape[0]\\n    for column in selectedData:\\n        sumColumn = selectedData[column].isna().sum()\\n        percentNA = sumColumn / rowCount * 100\\n        if percentNA <= percent:\\n            listCol.append(\\n                {\\n                    \\\"column\\\": column,\\n                    \\\"missing_values\\\": sumColumn,\\n                    \\\"missing_values(%)\\\": percentNA,\\n                }\\n            )\\n        else:\\n            if dropCol == True:\\n                print(\\\"Column dropped: \\\", column, \\\", missing values(%): \\\", percentNA)\\n                selectedData.drop([column], axis=1, inplace=True)\\n    listCol = (\\n        pd.DataFrame(listCol)\\n        .sort_values(by=\\\"missing_values\\\", ascending=False)\\n        .reset_index(drop=True)\\n    )\\n\\n    listCol.index = listCol[\\\"column\\\"]\\n    listCol.drop(\\\"column\\\", axis=1, inplace=True)\\n\\n    return listCol\";\n",
       "                var nbb_cells = Jupyter.notebook.get_cells();\n",
       "                for (var i = 0; i < nbb_cells.length; ++i) {\n",
       "                    if (nbb_cells[i].input_prompt_number == nbb_cell_id) {\n",
       "                        if (nbb_cells[i].get_text() == nbb_unformatted_code) {\n",
       "                             nbb_cells[i].set_text(nbb_formatted_code);\n",
       "                        }\n",
       "                        break;\n",
       "                    }\n",
       "                }\n",
       "            }, 500);\n",
       "            "
      ],
      "text/plain": [
       "<IPython.core.display.Javascript object>"
      ]
     },
     "metadata": {},
     "output_type": "display_data"
    }
   ],
   "source": [
    "def missing_values_per_variable(df, percent=100, dropCol=False):  # sum_missing_values\n",
    "\n",
    "    ergebnis = df[\n",
    "        df.columns.difference(\n",
    "            [\n",
    "                \"Unnamed: 0\",\n",
    "                \"Test\",\n",
    "                \"Stufe\",\n",
    "                \"unique_id\",\n",
    "                \"Level\",\n",
    "                \"Gesamt_Level\",\n",
    "                \"Gesamt_Richtig\",\n",
    "            ]\n",
    "        )\n",
    "    ].columns\n",
    "\n",
    "    # ergebnis = [col for col in df.columns if \"ergebnis\" in col]\n",
    "    selectedData = df[ergebnis]\n",
    "    selectedData.replace(99, np.NaN, inplace=True)\n",
    "    listCol = []\n",
    "    rowCount = selectedData.shape[0]\n",
    "    for column in selectedData:\n",
    "        sumColumn = selectedData[column].isna().sum()\n",
    "        percentNA = sumColumn / rowCount * 100\n",
    "        if percentNA <= percent:\n",
    "            listCol.append(\n",
    "                {\n",
    "                    \"column\": column,\n",
    "                    \"missing_values\": sumColumn,\n",
    "                    \"missing_values(%)\": percentNA,\n",
    "                }\n",
    "            )\n",
    "        else:\n",
    "            if dropCol == True:\n",
    "                print(\"Column dropped: \", column, \", missing values(%): \", percentNA)\n",
    "                selectedData.drop([column], axis=1, inplace=True)\n",
    "    listCol = (\n",
    "        pd.DataFrame(listCol)\n",
    "        .sort_values(by=\"missing_values\", ascending=False)\n",
    "        .reset_index(drop=True)\n",
    "    )\n",
    "\n",
    "    listCol.index = listCol[\"column\"]\n",
    "    listCol.drop(\"column\", axis=1, inplace=True)\n",
    "\n",
    "    return listCol"
   ]
  },
  {
   "cell_type": "markdown",
   "id": "continuing-public",
   "metadata": {},
   "source": [
    "#### Subtest 1: Missing values"
   ]
  },
  {
   "cell_type": "code",
   "execution_count": 15,
   "id": "cutting-pharmacy",
   "metadata": {},
   "outputs": [
    {
     "name": "stdout",
     "output_type": "stream",
     "text": [
      "Kinder: 51\n"
     ]
    },
    {
     "data": {
      "text/html": [
       "<div>\n",
       "<style scoped>\n",
       "    .dataframe tbody tr th:only-of-type {\n",
       "        vertical-align: middle;\n",
       "    }\n",
       "\n",
       "    .dataframe tbody tr th {\n",
       "        vertical-align: top;\n",
       "    }\n",
       "\n",
       "    .dataframe thead th {\n",
       "        text-align: right;\n",
       "    }\n",
       "</style>\n",
       "<table border=\"1\" class=\"dataframe\">\n",
       "  <thead>\n",
       "    <tr style=\"text-align: right;\">\n",
       "      <th></th>\n",
       "      <th>missing_values</th>\n",
       "      <th>missing_values(%)</th>\n",
       "    </tr>\n",
       "    <tr>\n",
       "      <th>column</th>\n",
       "      <th></th>\n",
       "      <th></th>\n",
       "    </tr>\n",
       "  </thead>\n",
       "  <tbody>\n",
       "    <tr>\n",
       "      <th>10</th>\n",
       "      <td>5</td>\n",
       "      <td>9.803922</td>\n",
       "    </tr>\n",
       "    <tr>\n",
       "      <th>4</th>\n",
       "      <td>4</td>\n",
       "      <td>7.843137</td>\n",
       "    </tr>\n",
       "    <tr>\n",
       "      <th>9</th>\n",
       "      <td>2</td>\n",
       "      <td>3.921569</td>\n",
       "    </tr>\n",
       "    <tr>\n",
       "      <th>3</th>\n",
       "      <td>1</td>\n",
       "      <td>1.960784</td>\n",
       "    </tr>\n",
       "    <tr>\n",
       "      <th>5</th>\n",
       "      <td>1</td>\n",
       "      <td>1.960784</td>\n",
       "    </tr>\n",
       "  </tbody>\n",
       "</table>\n",
       "</div>"
      ],
      "text/plain": [
       "        missing_values  missing_values(%)\n",
       "column                                   \n",
       "10                   5           9.803922\n",
       "4                    4           7.843137\n",
       "9                    2           3.921569\n",
       "3                    1           1.960784\n",
       "5                    1           1.960784"
      ]
     },
     "execution_count": 15,
     "metadata": {},
     "output_type": "execute_result"
    },
    {
     "data": {
      "application/javascript": [
       "\n",
       "            setTimeout(function() {\n",
       "                var nbb_cell_id = 15;\n",
       "                var nbb_unformatted_code = \"missing_values = missing_values_per_variable(test1)\\nprint(\\\"Kinder:\\\", anzahl1)\\nmissing_values.head()\";\n",
       "                var nbb_formatted_code = \"missing_values = missing_values_per_variable(test1)\\nprint(\\\"Kinder:\\\", anzahl1)\\nmissing_values.head()\";\n",
       "                var nbb_cells = Jupyter.notebook.get_cells();\n",
       "                for (var i = 0; i < nbb_cells.length; ++i) {\n",
       "                    if (nbb_cells[i].input_prompt_number == nbb_cell_id) {\n",
       "                        if (nbb_cells[i].get_text() == nbb_unformatted_code) {\n",
       "                             nbb_cells[i].set_text(nbb_formatted_code);\n",
       "                        }\n",
       "                        break;\n",
       "                    }\n",
       "                }\n",
       "            }, 500);\n",
       "            "
      ],
      "text/plain": [
       "<IPython.core.display.Javascript object>"
      ]
     },
     "metadata": {},
     "output_type": "display_data"
    }
   ],
   "source": [
    "missing_values = missing_values_per_variable(test1)\n",
    "print(\"Kinder:\", anzahl1)\n",
    "missing_values.head()"
   ]
  },
  {
   "cell_type": "markdown",
   "id": "descending-china",
   "metadata": {},
   "source": [
    "#### Subtest 2: Missing values"
   ]
  },
  {
   "cell_type": "code",
   "execution_count": 16,
   "id": "statutory-essay",
   "metadata": {},
   "outputs": [
    {
     "name": "stdout",
     "output_type": "stream",
     "text": [
      "Kinder: 52\n"
     ]
    },
    {
     "data": {
      "text/html": [
       "<div>\n",
       "<style scoped>\n",
       "    .dataframe tbody tr th:only-of-type {\n",
       "        vertical-align: middle;\n",
       "    }\n",
       "\n",
       "    .dataframe tbody tr th {\n",
       "        vertical-align: top;\n",
       "    }\n",
       "\n",
       "    .dataframe thead th {\n",
       "        text-align: right;\n",
       "    }\n",
       "</style>\n",
       "<table border=\"1\" class=\"dataframe\">\n",
       "  <thead>\n",
       "    <tr style=\"text-align: right;\">\n",
       "      <th></th>\n",
       "      <th>missing_values</th>\n",
       "      <th>missing_values(%)</th>\n",
       "    </tr>\n",
       "    <tr>\n",
       "      <th>column</th>\n",
       "      <th></th>\n",
       "      <th></th>\n",
       "    </tr>\n",
       "  </thead>\n",
       "  <tbody>\n",
       "    <tr>\n",
       "      <th>10</th>\n",
       "      <td>12</td>\n",
       "      <td>23.076923</td>\n",
       "    </tr>\n",
       "    <tr>\n",
       "      <th>8</th>\n",
       "      <td>6</td>\n",
       "      <td>11.538462</td>\n",
       "    </tr>\n",
       "    <tr>\n",
       "      <th>2</th>\n",
       "      <td>5</td>\n",
       "      <td>9.615385</td>\n",
       "    </tr>\n",
       "    <tr>\n",
       "      <th>9</th>\n",
       "      <td>5</td>\n",
       "      <td>9.615385</td>\n",
       "    </tr>\n",
       "    <tr>\n",
       "      <th>7</th>\n",
       "      <td>4</td>\n",
       "      <td>7.692308</td>\n",
       "    </tr>\n",
       "  </tbody>\n",
       "</table>\n",
       "</div>"
      ],
      "text/plain": [
       "        missing_values  missing_values(%)\n",
       "column                                   \n",
       "10                  12          23.076923\n",
       "8                    6          11.538462\n",
       "2                    5           9.615385\n",
       "9                    5           9.615385\n",
       "7                    4           7.692308"
      ]
     },
     "execution_count": 16,
     "metadata": {},
     "output_type": "execute_result"
    },
    {
     "data": {
      "application/javascript": [
       "\n",
       "            setTimeout(function() {\n",
       "                var nbb_cell_id = 16;\n",
       "                var nbb_unformatted_code = \"missing_values = missing_values_per_variable(test2)\\nprint(\\\"Kinder:\\\", anzahl2)\\nmissing_values.head()\";\n",
       "                var nbb_formatted_code = \"missing_values = missing_values_per_variable(test2)\\nprint(\\\"Kinder:\\\", anzahl2)\\nmissing_values.head()\";\n",
       "                var nbb_cells = Jupyter.notebook.get_cells();\n",
       "                for (var i = 0; i < nbb_cells.length; ++i) {\n",
       "                    if (nbb_cells[i].input_prompt_number == nbb_cell_id) {\n",
       "                        if (nbb_cells[i].get_text() == nbb_unformatted_code) {\n",
       "                             nbb_cells[i].set_text(nbb_formatted_code);\n",
       "                        }\n",
       "                        break;\n",
       "                    }\n",
       "                }\n",
       "            }, 500);\n",
       "            "
      ],
      "text/plain": [
       "<IPython.core.display.Javascript object>"
      ]
     },
     "metadata": {},
     "output_type": "display_data"
    }
   ],
   "source": [
    "missing_values = missing_values_per_variable(test2)\n",
    "print(\"Kinder:\", anzahl2)\n",
    "missing_values.head()"
   ]
  },
  {
   "cell_type": "markdown",
   "id": "interstate-messaging",
   "metadata": {},
   "source": [
    "#### Subtest 3: Missing values"
   ]
  },
  {
   "cell_type": "code",
   "execution_count": 17,
   "id": "detected-bridges",
   "metadata": {},
   "outputs": [
    {
     "name": "stdout",
     "output_type": "stream",
     "text": [
      "Kinder: 51\n"
     ]
    },
    {
     "data": {
      "text/html": [
       "<div>\n",
       "<style scoped>\n",
       "    .dataframe tbody tr th:only-of-type {\n",
       "        vertical-align: middle;\n",
       "    }\n",
       "\n",
       "    .dataframe tbody tr th {\n",
       "        vertical-align: top;\n",
       "    }\n",
       "\n",
       "    .dataframe thead th {\n",
       "        text-align: right;\n",
       "    }\n",
       "</style>\n",
       "<table border=\"1\" class=\"dataframe\">\n",
       "  <thead>\n",
       "    <tr style=\"text-align: right;\">\n",
       "      <th></th>\n",
       "      <th>missing_values</th>\n",
       "      <th>missing_values(%)</th>\n",
       "    </tr>\n",
       "    <tr>\n",
       "      <th>column</th>\n",
       "      <th></th>\n",
       "      <th></th>\n",
       "    </tr>\n",
       "  </thead>\n",
       "  <tbody>\n",
       "    <tr>\n",
       "      <th>50</th>\n",
       "      <td>32</td>\n",
       "      <td>62.745098</td>\n",
       "    </tr>\n",
       "    <tr>\n",
       "      <th>48</th>\n",
       "      <td>31</td>\n",
       "      <td>60.784314</td>\n",
       "    </tr>\n",
       "    <tr>\n",
       "      <th>49</th>\n",
       "      <td>30</td>\n",
       "      <td>58.823529</td>\n",
       "    </tr>\n",
       "    <tr>\n",
       "      <th>47</th>\n",
       "      <td>29</td>\n",
       "      <td>56.862745</td>\n",
       "    </tr>\n",
       "    <tr>\n",
       "      <th>46</th>\n",
       "      <td>29</td>\n",
       "      <td>56.862745</td>\n",
       "    </tr>\n",
       "    <tr>\n",
       "      <th>43</th>\n",
       "      <td>27</td>\n",
       "      <td>52.941176</td>\n",
       "    </tr>\n",
       "    <tr>\n",
       "      <th>45</th>\n",
       "      <td>27</td>\n",
       "      <td>52.941176</td>\n",
       "    </tr>\n",
       "    <tr>\n",
       "      <th>44</th>\n",
       "      <td>27</td>\n",
       "      <td>52.941176</td>\n",
       "    </tr>\n",
       "    <tr>\n",
       "      <th>42</th>\n",
       "      <td>26</td>\n",
       "      <td>50.980392</td>\n",
       "    </tr>\n",
       "    <tr>\n",
       "      <th>41</th>\n",
       "      <td>25</td>\n",
       "      <td>49.019608</td>\n",
       "    </tr>\n",
       "  </tbody>\n",
       "</table>\n",
       "</div>"
      ],
      "text/plain": [
       "        missing_values  missing_values(%)\n",
       "column                                   \n",
       "50                  32          62.745098\n",
       "48                  31          60.784314\n",
       "49                  30          58.823529\n",
       "47                  29          56.862745\n",
       "46                  29          56.862745\n",
       "43                  27          52.941176\n",
       "45                  27          52.941176\n",
       "44                  27          52.941176\n",
       "42                  26          50.980392\n",
       "41                  25          49.019608"
      ]
     },
     "execution_count": 17,
     "metadata": {},
     "output_type": "execute_result"
    },
    {
     "data": {
      "application/javascript": [
       "\n",
       "            setTimeout(function() {\n",
       "                var nbb_cell_id = 17;\n",
       "                var nbb_unformatted_code = \"missing_values = missing_values_per_variable(test3)\\nprint(\\\"Kinder:\\\", anzahl3)\\nmissing_values.head(+10)\";\n",
       "                var nbb_formatted_code = \"missing_values = missing_values_per_variable(test3)\\nprint(\\\"Kinder:\\\", anzahl3)\\nmissing_values.head(+10)\";\n",
       "                var nbb_cells = Jupyter.notebook.get_cells();\n",
       "                for (var i = 0; i < nbb_cells.length; ++i) {\n",
       "                    if (nbb_cells[i].input_prompt_number == nbb_cell_id) {\n",
       "                        if (nbb_cells[i].get_text() == nbb_unformatted_code) {\n",
       "                             nbb_cells[i].set_text(nbb_formatted_code);\n",
       "                        }\n",
       "                        break;\n",
       "                    }\n",
       "                }\n",
       "            }, 500);\n",
       "            "
      ],
      "text/plain": [
       "<IPython.core.display.Javascript object>"
      ]
     },
     "metadata": {},
     "output_type": "display_data"
    }
   ],
   "source": [
    "missing_values = missing_values_per_variable(test3)\n",
    "print(\"Kinder:\", anzahl3)\n",
    "missing_values.head(+10)"
   ]
  },
  {
   "cell_type": "markdown",
   "id": "formal-short",
   "metadata": {},
   "source": [
    "#### Subtest 4: Missing values"
   ]
  },
  {
   "cell_type": "code",
   "execution_count": 18,
   "id": "casual-stereo",
   "metadata": {},
   "outputs": [
    {
     "name": "stdout",
     "output_type": "stream",
     "text": [
      "Kinder: 46\n"
     ]
    },
    {
     "data": {
      "text/html": [
       "<div>\n",
       "<style scoped>\n",
       "    .dataframe tbody tr th:only-of-type {\n",
       "        vertical-align: middle;\n",
       "    }\n",
       "\n",
       "    .dataframe tbody tr th {\n",
       "        vertical-align: top;\n",
       "    }\n",
       "\n",
       "    .dataframe thead th {\n",
       "        text-align: right;\n",
       "    }\n",
       "</style>\n",
       "<table border=\"1\" class=\"dataframe\">\n",
       "  <thead>\n",
       "    <tr style=\"text-align: right;\">\n",
       "      <th></th>\n",
       "      <th>missing_values</th>\n",
       "      <th>missing_values(%)</th>\n",
       "    </tr>\n",
       "    <tr>\n",
       "      <th>column</th>\n",
       "      <th></th>\n",
       "      <th></th>\n",
       "    </tr>\n",
       "  </thead>\n",
       "  <tbody>\n",
       "    <tr>\n",
       "      <th>29</th>\n",
       "      <td>35</td>\n",
       "      <td>76.086957</td>\n",
       "    </tr>\n",
       "    <tr>\n",
       "      <th>30</th>\n",
       "      <td>34</td>\n",
       "      <td>73.913043</td>\n",
       "    </tr>\n",
       "    <tr>\n",
       "      <th>28</th>\n",
       "      <td>34</td>\n",
       "      <td>73.913043</td>\n",
       "    </tr>\n",
       "    <tr>\n",
       "      <th>27</th>\n",
       "      <td>32</td>\n",
       "      <td>69.565217</td>\n",
       "    </tr>\n",
       "    <tr>\n",
       "      <th>26</th>\n",
       "      <td>30</td>\n",
       "      <td>65.217391</td>\n",
       "    </tr>\n",
       "    <tr>\n",
       "      <th>25</th>\n",
       "      <td>29</td>\n",
       "      <td>63.043478</td>\n",
       "    </tr>\n",
       "    <tr>\n",
       "      <th>21</th>\n",
       "      <td>25</td>\n",
       "      <td>54.347826</td>\n",
       "    </tr>\n",
       "    <tr>\n",
       "      <th>24</th>\n",
       "      <td>25</td>\n",
       "      <td>54.347826</td>\n",
       "    </tr>\n",
       "    <tr>\n",
       "      <th>20</th>\n",
       "      <td>24</td>\n",
       "      <td>52.173913</td>\n",
       "    </tr>\n",
       "    <tr>\n",
       "      <th>23</th>\n",
       "      <td>24</td>\n",
       "      <td>52.173913</td>\n",
       "    </tr>\n",
       "  </tbody>\n",
       "</table>\n",
       "</div>"
      ],
      "text/plain": [
       "        missing_values  missing_values(%)\n",
       "column                                   \n",
       "29                  35          76.086957\n",
       "30                  34          73.913043\n",
       "28                  34          73.913043\n",
       "27                  32          69.565217\n",
       "26                  30          65.217391\n",
       "25                  29          63.043478\n",
       "21                  25          54.347826\n",
       "24                  25          54.347826\n",
       "20                  24          52.173913\n",
       "23                  24          52.173913"
      ]
     },
     "execution_count": 18,
     "metadata": {},
     "output_type": "execute_result"
    },
    {
     "data": {
      "application/javascript": [
       "\n",
       "            setTimeout(function() {\n",
       "                var nbb_cell_id = 18;\n",
       "                var nbb_unformatted_code = \"missing_values = missing_values_per_variable(test4)\\nprint(\\\"Kinder:\\\", anzahl4)\\nmissing_values.head(+10)\";\n",
       "                var nbb_formatted_code = \"missing_values = missing_values_per_variable(test4)\\nprint(\\\"Kinder:\\\", anzahl4)\\nmissing_values.head(+10)\";\n",
       "                var nbb_cells = Jupyter.notebook.get_cells();\n",
       "                for (var i = 0; i < nbb_cells.length; ++i) {\n",
       "                    if (nbb_cells[i].input_prompt_number == nbb_cell_id) {\n",
       "                        if (nbb_cells[i].get_text() == nbb_unformatted_code) {\n",
       "                             nbb_cells[i].set_text(nbb_formatted_code);\n",
       "                        }\n",
       "                        break;\n",
       "                    }\n",
       "                }\n",
       "            }, 500);\n",
       "            "
      ],
      "text/plain": [
       "<IPython.core.display.Javascript object>"
      ]
     },
     "metadata": {},
     "output_type": "display_data"
    }
   ],
   "source": [
    "missing_values = missing_values_per_variable(test4)\n",
    "print(\"Kinder:\", anzahl4)\n",
    "missing_values.head(+10)"
   ]
  },
  {
   "cell_type": "code",
   "execution_count": 19,
   "id": "alike-hartford",
   "metadata": {
    "code_folding": [],
    "scrolled": false
   },
   "outputs": [
    {
     "data": {
      "application/javascript": [
       "\n",
       "            setTimeout(function() {\n",
       "                var nbb_cell_id = 19;\n",
       "                var nbb_unformatted_code = \"def getFrequencies(df):\\n\\n    \\\"\\\"\\\"Aim : To plot data, calculate frequencies of column values\\n    Result : DF with frequencies and df with freqencies in percentages\\\"\\\"\\\"\\n\\n    ergebnis = test_results = df[\\n        df.columns.difference(\\n            [\\n                \\\"Unnamed: 0\\\",\\n                \\\"Test\\\",\\n                \\\"Stufe\\\",\\n                \\\"unique_id\\\",\\n                \\\"Level\\\",\\n                \\\"Gesamt_Level\\\",\\n                \\\"Gesamt_Richtig\\\",\\n            ]\\n        )\\n    ].columns\\n    ergebnis = [int(x) for x in ergebnis]\\n    ergebnis.sort()\\n    ergebnis = [str(x) for x in ergebnis]\\n    # ergebnis = [col for col in df.columns if \\\"ergebnis\\\" in col]\\n    selectedData = df[ergebnis]\\n    frequencies = {}\\n    for value in selectedData.columns:\\n        frequencies[value] = selectedData[value].value_counts()\\n    data = pd.DataFrame(frequencies)\\n    dataToPlot = data.transpose()\\n    dataToPlot_percentages = dataToPlot.div(dataToPlot.sum(axis=1), axis=0) * 100\\n    dataToPlot_percentages = dataToPlot_percentages[[1, 0, 99]]\\n    return dataToPlot_percentages, dataToPlot\\n\\n\\ndef plotFrequencies(df, width, height, title, legend, ylabel, xlabel, color):\\n\\n    \\\"\\\"\\\"Aim : To plot data, calculate frequencies of column values\\n    Result : DF with frequencies and df with freqencies in percentages\\\"\\\"\\\"\\n\\n    df.plot(figsize=(width, height), kind=\\\"bar\\\", stacked=True, color=colors)\\n    plt.legend(legend, bbox_to_anchor=(1, 1))\\n    plt.title(title)\\n    plt.ylabel(ylabel)\\n    plt.xlabel(xlabel)\\n    # plt.xticks([0, 10, 20, 30, 40, 50, 50, 60, 70, 80, 90, 100])\\n    # plt.vlines(x=85, color=\\\"r\\\", linestyle=\\\"--\\\")\\n    plt.axhline(y=85, color=\\\"black\\\", linestyle=\\\"--\\\")\\n    plt.show()\\n\\n\\ncolors = [\\\"g\\\", \\\"r\\\", \\\"b\\\"]\\nlegend = [\\\"richtig\\\", \\\"falsch\\\", \\\"unbeantwortet\\\"]\";\n",
       "                var nbb_formatted_code = \"def getFrequencies(df):\\n\\n    \\\"\\\"\\\"Aim : To plot data, calculate frequencies of column values\\n    Result : DF with frequencies and df with freqencies in percentages\\\"\\\"\\\"\\n\\n    ergebnis = test_results = df[\\n        df.columns.difference(\\n            [\\n                \\\"Unnamed: 0\\\",\\n                \\\"Test\\\",\\n                \\\"Stufe\\\",\\n                \\\"unique_id\\\",\\n                \\\"Level\\\",\\n                \\\"Gesamt_Level\\\",\\n                \\\"Gesamt_Richtig\\\",\\n            ]\\n        )\\n    ].columns\\n    ergebnis = [int(x) for x in ergebnis]\\n    ergebnis.sort()\\n    ergebnis = [str(x) for x in ergebnis]\\n    # ergebnis = [col for col in df.columns if \\\"ergebnis\\\" in col]\\n    selectedData = df[ergebnis]\\n    frequencies = {}\\n    for value in selectedData.columns:\\n        frequencies[value] = selectedData[value].value_counts()\\n    data = pd.DataFrame(frequencies)\\n    dataToPlot = data.transpose()\\n    dataToPlot_percentages = dataToPlot.div(dataToPlot.sum(axis=1), axis=0) * 100\\n    dataToPlot_percentages = dataToPlot_percentages[[1, 0, 99]]\\n    return dataToPlot_percentages, dataToPlot\\n\\n\\ndef plotFrequencies(df, width, height, title, legend, ylabel, xlabel, color):\\n\\n    \\\"\\\"\\\"Aim : To plot data, calculate frequencies of column values\\n    Result : DF with frequencies and df with freqencies in percentages\\\"\\\"\\\"\\n\\n    df.plot(figsize=(width, height), kind=\\\"bar\\\", stacked=True, color=colors)\\n    plt.legend(legend, bbox_to_anchor=(1, 1))\\n    plt.title(title)\\n    plt.ylabel(ylabel)\\n    plt.xlabel(xlabel)\\n    # plt.xticks([0, 10, 20, 30, 40, 50, 50, 60, 70, 80, 90, 100])\\n    # plt.vlines(x=85, color=\\\"r\\\", linestyle=\\\"--\\\")\\n    plt.axhline(y=85, color=\\\"black\\\", linestyle=\\\"--\\\")\\n    plt.show()\\n\\n\\ncolors = [\\\"g\\\", \\\"r\\\", \\\"b\\\"]\\nlegend = [\\\"richtig\\\", \\\"falsch\\\", \\\"unbeantwortet\\\"]\";\n",
       "                var nbb_cells = Jupyter.notebook.get_cells();\n",
       "                for (var i = 0; i < nbb_cells.length; ++i) {\n",
       "                    if (nbb_cells[i].input_prompt_number == nbb_cell_id) {\n",
       "                        if (nbb_cells[i].get_text() == nbb_unformatted_code) {\n",
       "                             nbb_cells[i].set_text(nbb_formatted_code);\n",
       "                        }\n",
       "                        break;\n",
       "                    }\n",
       "                }\n",
       "            }, 500);\n",
       "            "
      ],
      "text/plain": [
       "<IPython.core.display.Javascript object>"
      ]
     },
     "metadata": {},
     "output_type": "display_data"
    }
   ],
   "source": [
    "def getFrequencies(df):\n",
    "\n",
    "    \"\"\"Aim : To plot data, calculate frequencies of column values\n",
    "    Result : DF with frequencies and df with freqencies in percentages\"\"\"\n",
    "\n",
    "    ergebnis = test_results = df[\n",
    "        df.columns.difference(\n",
    "            [\n",
    "                \"Unnamed: 0\",\n",
    "                \"Test\",\n",
    "                \"Stufe\",\n",
    "                \"unique_id\",\n",
    "                \"Level\",\n",
    "                \"Gesamt_Level\",\n",
    "                \"Gesamt_Richtig\",\n",
    "            ]\n",
    "        )\n",
    "    ].columns\n",
    "    ergebnis = [int(x) for x in ergebnis]\n",
    "    ergebnis.sort()\n",
    "    ergebnis = [str(x) for x in ergebnis]\n",
    "    # ergebnis = [col for col in df.columns if \"ergebnis\" in col]\n",
    "    selectedData = df[ergebnis]\n",
    "    frequencies = {}\n",
    "    for value in selectedData.columns:\n",
    "        frequencies[value] = selectedData[value].value_counts()\n",
    "    data = pd.DataFrame(frequencies)\n",
    "    dataToPlot = data.transpose()\n",
    "    dataToPlot_percentages = dataToPlot.div(dataToPlot.sum(axis=1), axis=0) * 100\n",
    "    dataToPlot_percentages = dataToPlot_percentages[[1, 0, 99]]\n",
    "    return dataToPlot_percentages, dataToPlot\n",
    "\n",
    "\n",
    "def plotFrequencies(df, width, height, title, legend, ylabel, xlabel, color):\n",
    "\n",
    "    \"\"\"Aim : To plot data, calculate frequencies of column values\n",
    "    Result : DF with frequencies and df with freqencies in percentages\"\"\"\n",
    "\n",
    "    df.plot(figsize=(width, height), kind=\"bar\", stacked=True, color=colors)\n",
    "    plt.legend(legend, bbox_to_anchor=(1, 1))\n",
    "    plt.title(title)\n",
    "    plt.ylabel(ylabel)\n",
    "    plt.xlabel(xlabel)\n",
    "    # plt.xticks([0, 10, 20, 30, 40, 50, 50, 60, 70, 80, 90, 100])\n",
    "    # plt.vlines(x=85, color=\"r\", linestyle=\"--\")\n",
    "    plt.axhline(y=85, color=\"black\", linestyle=\"--\")\n",
    "    plt.show()\n",
    "\n",
    "\n",
    "colors = [\"g\", \"r\", \"b\"]\n",
    "legend = [\"richtig\", \"falsch\", \"unbeantwortet\"]"
   ]
  },
  {
   "cell_type": "markdown",
   "id": "opposite-princess",
   "metadata": {},
   "source": [
    "#### Subtest 1 : Item results"
   ]
  },
  {
   "cell_type": "code",
   "execution_count": 20,
   "id": "considerable-butterfly",
   "metadata": {},
   "outputs": [
    {
     "data": {
      "image/png": "[encoded data removed]",
      "text/plain": [
       "<Figure size 1080x360 with 1 Axes>"
      ]
     },
     "metadata": {
      "needs_background": "light"
     },
     "output_type": "display_data"
    },
    {
     "data": {
      "application/javascript": [
       "\n",
       "            setTimeout(function() {\n",
       "                var nbb_cell_id = 20;\n",
       "                var nbb_unformatted_code = \"test1_frequencies_percentages = getFrequencies(test1)[0]\\nplotFrequencies(\\n    test1_frequencies_percentages,\\n    15,\\n    5,\\n    \\\"Subtest 1: Items Result\\\",\\n    legend=legend,\\n    xlabel=\\\"percentages\\\",\\n    ylabel=\\\"item\\\",\\n    color=colors,\\n)\";\n",
       "                var nbb_formatted_code = \"test1_frequencies_percentages = getFrequencies(test1)[0]\\nplotFrequencies(\\n    test1_frequencies_percentages,\\n    15,\\n    5,\\n    \\\"Subtest 1: Items Result\\\",\\n    legend=legend,\\n    xlabel=\\\"percentages\\\",\\n    ylabel=\\\"item\\\",\\n    color=colors,\\n)\";\n",
       "                var nbb_cells = Jupyter.notebook.get_cells();\n",
       "                for (var i = 0; i < nbb_cells.length; ++i) {\n",
       "                    if (nbb_cells[i].input_prompt_number == nbb_cell_id) {\n",
       "                        if (nbb_cells[i].get_text() == nbb_unformatted_code) {\n",
       "                             nbb_cells[i].set_text(nbb_formatted_code);\n",
       "                        }\n",
       "                        break;\n",
       "                    }\n",
       "                }\n",
       "            }, 500);\n",
       "            "
      ],
      "text/plain": [
       "<IPython.core.display.Javascript object>"
      ]
     },
     "metadata": {},
     "output_type": "display_data"
    }
   ],
   "source": [
    "test1_frequencies_percentages = getFrequencies(test1)[0]\n",
    "plotFrequencies(\n",
    "    test1_frequencies_percentages,\n",
    "    15,\n",
    "    5,\n",
    "    \"Subtest 1: Items Result\",\n",
    "    legend=legend,\n",
    "    xlabel=\"percentages\",\n",
    "    ylabel=\"item\",\n",
    "    color=colors,\n",
    ")"
   ]
  },
  {
   "cell_type": "markdown",
   "id": "played-denver",
   "metadata": {},
   "source": [
    "#### Subtest 2: Item results"
   ]
  },
  {
   "cell_type": "code",
   "execution_count": 21,
   "id": "biblical-forum",
   "metadata": {},
   "outputs": [
    {
     "data": {
      "image/png": "[encoded data removed]",
      "text/plain": [
       "<Figure size 1080x360 with 1 Axes>"
      ]
     },
     "metadata": {
      "needs_background": "light"
     },
     "output_type": "display_data"
    },
    {
     "data": {
      "application/javascript": [
       "\n",
       "            setTimeout(function() {\n",
       "                var nbb_cell_id = 21;\n",
       "                var nbb_unformatted_code = \"test2_frequencies_percentages = getFrequencies(test2)[0]\\n\\nplotFrequencies(\\n    test2_frequencies_percentages,\\n    15,\\n    5,\\n    \\\"Subtest 2: Item Result\\\",\\n    legend=legend,\\n    xlabel=\\\"percentages\\\",\\n    ylabel=\\\"item\\\",\\n    color=colors,\\n)\";\n",
       "                var nbb_formatted_code = \"test2_frequencies_percentages = getFrequencies(test2)[0]\\n\\nplotFrequencies(\\n    test2_frequencies_percentages,\\n    15,\\n    5,\\n    \\\"Subtest 2: Item Result\\\",\\n    legend=legend,\\n    xlabel=\\\"percentages\\\",\\n    ylabel=\\\"item\\\",\\n    color=colors,\\n)\";\n",
       "                var nbb_cells = Jupyter.notebook.get_cells();\n",
       "                for (var i = 0; i < nbb_cells.length; ++i) {\n",
       "                    if (nbb_cells[i].input_prompt_number == nbb_cell_id) {\n",
       "                        if (nbb_cells[i].get_text() == nbb_unformatted_code) {\n",
       "                             nbb_cells[i].set_text(nbb_formatted_code);\n",
       "                        }\n",
       "                        break;\n",
       "                    }\n",
       "                }\n",
       "            }, 500);\n",
       "            "
      ],
      "text/plain": [
       "<IPython.core.display.Javascript object>"
      ]
     },
     "metadata": {},
     "output_type": "display_data"
    }
   ],
   "source": [
    "test2_frequencies_percentages = getFrequencies(test2)[0]\n",
    "\n",
    "plotFrequencies(\n",
    "    test2_frequencies_percentages,\n",
    "    15,\n",
    "    5,\n",
    "    \"Subtest 2: Item Result\",\n",
    "    legend=legend,\n",
    "    xlabel=\"percentages\",\n",
    "    ylabel=\"item\",\n",
    "    color=colors,\n",
    ")"
   ]
  },
  {
   "cell_type": "markdown",
   "id": "resistant-beaver",
   "metadata": {},
   "source": [
    "#### Subtest 3: Item results"
   ]
  },
  {
   "cell_type": "code",
   "execution_count": 22,
   "id": "handed-institute",
   "metadata": {},
   "outputs": [
    {
     "data": {
      "image/png": "[encoded data removed]",
      "text/plain": [
       "<Figure size 1080x1080 with 1 Axes>"
      ]
     },
     "metadata": {
      "needs_background": "light"
     },
     "output_type": "display_data"
    },
    {
     "data": {
      "application/javascript": [
       "\n",
       "            setTimeout(function() {\n",
       "                var nbb_cell_id = 22;\n",
       "                var nbb_unformatted_code = \"test3_frequencies_percentages = getFrequencies(test3)[0]\\n\\nplotFrequencies(\\n    test3_frequencies_percentages,\\n    15,\\n    15,\\n    \\\"SubTest 3: Item Result\\\",\\n    legend=legend,\\n    xlabel=\\\"percentages\\\",\\n    ylabel=\\\"item\\\",\\n    color=colors,\\n)\";\n",
       "                var nbb_formatted_code = \"test3_frequencies_percentages = getFrequencies(test3)[0]\\n\\nplotFrequencies(\\n    test3_frequencies_percentages,\\n    15,\\n    15,\\n    \\\"SubTest 3: Item Result\\\",\\n    legend=legend,\\n    xlabel=\\\"percentages\\\",\\n    ylabel=\\\"item\\\",\\n    color=colors,\\n)\";\n",
       "                var nbb_cells = Jupyter.notebook.get_cells();\n",
       "                for (var i = 0; i < nbb_cells.length; ++i) {\n",
       "                    if (nbb_cells[i].input_prompt_number == nbb_cell_id) {\n",
       "                        if (nbb_cells[i].get_text() == nbb_unformatted_code) {\n",
       "                             nbb_cells[i].set_text(nbb_formatted_code);\n",
       "                        }\n",
       "                        break;\n",
       "                    }\n",
       "                }\n",
       "            }, 500);\n",
       "            "
      ],
      "text/plain": [
       "<IPython.core.display.Javascript object>"
      ]
     },
     "metadata": {},
     "output_type": "display_data"
    }
   ],
   "source": [
    "test3_frequencies_percentages = getFrequencies(test3)[0]\n",
    "\n",
    "plotFrequencies(\n",
    "    test3_frequencies_percentages,\n",
    "    15,\n",
    "    15,\n",
    "    \"SubTest 3: Item Result\",\n",
    "    legend=legend,\n",
    "    xlabel=\"percentages\",\n",
    "    ylabel=\"item\",\n",
    "    color=colors,\n",
    ")"
   ]
  },
  {
   "cell_type": "markdown",
   "id": "protecting-beijing",
   "metadata": {},
   "source": [
    "#### Subtest 4 : Item results"
   ]
  },
  {
   "cell_type": "code",
   "execution_count": 23,
   "id": "editorial-timeline",
   "metadata": {},
   "outputs": [
    {
     "data": {
      "image/png": "[encoded data removed]",
      "text/plain": [
       "<Figure size 1080x720 with 1 Axes>"
      ]
     },
     "metadata": {
      "needs_background": "light"
     },
     "output_type": "display_data"
    },
    {
     "data": {
      "application/javascript": [
       "\n",
       "            setTimeout(function() {\n",
       "                var nbb_cell_id = 23;\n",
       "                var nbb_unformatted_code = \"test4_frequencies_percentages = getFrequencies(test4)[0]\\n\\nplotFrequencies(\\n    test4_frequencies_percentages,\\n    15,\\n    10,\\n    \\\"Subtest 4: Item Result\\\",\\n    legend=legend,\\n    xlabel=\\\"percentages\\\",\\n    ylabel=\\\"item\\\",\\n    color=colors,\\n)\";\n",
       "                var nbb_formatted_code = \"test4_frequencies_percentages = getFrequencies(test4)[0]\\n\\nplotFrequencies(\\n    test4_frequencies_percentages,\\n    15,\\n    10,\\n    \\\"Subtest 4: Item Result\\\",\\n    legend=legend,\\n    xlabel=\\\"percentages\\\",\\n    ylabel=\\\"item\\\",\\n    color=colors,\\n)\";\n",
       "                var nbb_cells = Jupyter.notebook.get_cells();\n",
       "                for (var i = 0; i < nbb_cells.length; ++i) {\n",
       "                    if (nbb_cells[i].input_prompt_number == nbb_cell_id) {\n",
       "                        if (nbb_cells[i].get_text() == nbb_unformatted_code) {\n",
       "                             nbb_cells[i].set_text(nbb_formatted_code);\n",
       "                        }\n",
       "                        break;\n",
       "                    }\n",
       "                }\n",
       "            }, 500);\n",
       "            "
      ],
      "text/plain": [
       "<IPython.core.display.Javascript object>"
      ]
     },
     "metadata": {},
     "output_type": "display_data"
    }
   ],
   "source": [
    "test4_frequencies_percentages = getFrequencies(test4)[0]\n",
    "\n",
    "plotFrequencies(\n",
    "    test4_frequencies_percentages,\n",
    "    15,\n",
    "    10,\n",
    "    \"Subtest 4: Item Result\",\n",
    "    legend=legend,\n",
    "    xlabel=\"percentages\",\n",
    "    ylabel=\"item\",\n",
    "    color=colors,\n",
    ")"
   ]
  },
  {
   "cell_type": "markdown",
   "id": "extra-marking",
   "metadata": {},
   "source": [
    "### 5. Correlations\n",
    "Are there significant correlations (> 0.85) between false answers and no response?"
   ]
  },
  {
   "cell_type": "code",
   "execution_count": 24,
   "id": "everyday-paris",
   "metadata": {
    "scrolled": false
   },
   "outputs": [
    {
     "data": {
      "application/javascript": [
       "\n",
       "            setTimeout(function() {\n",
       "                var nbb_cell_id = 24;\n",
       "                var nbb_unformatted_code = \"# calculate correlation\\ndef correlation(df, col1, col2, text=\\\"\\\"):\\n    column_1 = df[col1]\\n    column_2 = df[col2]\\n    correlation = column_1.corr(column_2)\\n    print(text, correlation)\\n    return correlation\";\n",
       "                var nbb_formatted_code = \"# calculate correlation\\ndef correlation(df, col1, col2, text=\\\"\\\"):\\n    column_1 = df[col1]\\n    column_2 = df[col2]\\n    correlation = column_1.corr(column_2)\\n    print(text, correlation)\\n    return correlation\";\n",
       "                var nbb_cells = Jupyter.notebook.get_cells();\n",
       "                for (var i = 0; i < nbb_cells.length; ++i) {\n",
       "                    if (nbb_cells[i].input_prompt_number == nbb_cell_id) {\n",
       "                        if (nbb_cells[i].get_text() == nbb_unformatted_code) {\n",
       "                             nbb_cells[i].set_text(nbb_formatted_code);\n",
       "                        }\n",
       "                        break;\n",
       "                    }\n",
       "                }\n",
       "            }, 500);\n",
       "            "
      ],
      "text/plain": [
       "<IPython.core.display.Javascript object>"
      ]
     },
     "metadata": {},
     "output_type": "display_data"
    }
   ],
   "source": [
    "# calculate correlation\n",
    "def correlation(df, col1, col2, text=\"\"):\n",
    "    column_1 = df[col1]\n",
    "    column_2 = df[col2]\n",
    "    correlation = column_1.corr(column_2)\n",
    "    print(text, correlation)\n",
    "    return correlation"
   ]
  },
  {
   "cell_type": "markdown",
   "id": "classical-condition",
   "metadata": {},
   "source": [
    "#### Subtest 1"
   ]
  },
  {
   "cell_type": "code",
   "execution_count": 25,
   "id": "existing-saturn",
   "metadata": {
    "scrolled": false
   },
   "outputs": [
    {
     "name": "stdout",
     "output_type": "stream",
     "text": [
      "Subtest 1, Correlation false & unanswered:  -0.16724840200141827\n"
     ]
    },
    {
     "data": {
      "application/javascript": [
       "\n",
       "            setTimeout(function() {\n",
       "                var nbb_cell_id = 25;\n",
       "                var nbb_unformatted_code = \"dataToPlot1 = getFrequencies(test1)\\ndataToPlot1 = dataToPlot1[0]\\ncorrelation_1 = correlation(\\n    dataToPlot1, 0, 99, text=\\\"Subtest 1, Correlation false & unanswered: \\\"\\n)\";\n",
       "                var nbb_formatted_code = \"dataToPlot1 = getFrequencies(test1)\\ndataToPlot1 = dataToPlot1[0]\\ncorrelation_1 = correlation(\\n    dataToPlot1, 0, 99, text=\\\"Subtest 1, Correlation false & unanswered: \\\"\\n)\";\n",
       "                var nbb_cells = Jupyter.notebook.get_cells();\n",
       "                for (var i = 0; i < nbb_cells.length; ++i) {\n",
       "                    if (nbb_cells[i].input_prompt_number == nbb_cell_id) {\n",
       "                        if (nbb_cells[i].get_text() == nbb_unformatted_code) {\n",
       "                             nbb_cells[i].set_text(nbb_formatted_code);\n",
       "                        }\n",
       "                        break;\n",
       "                    }\n",
       "                }\n",
       "            }, 500);\n",
       "            "
      ],
      "text/plain": [
       "<IPython.core.display.Javascript object>"
      ]
     },
     "metadata": {},
     "output_type": "display_data"
    }
   ],
   "source": [
    "dataToPlot1 = getFrequencies(test1)\n",
    "dataToPlot1 = dataToPlot1[0]\n",
    "correlation_1 = correlation(\n",
    "    dataToPlot1, 0, 99, text=\"Subtest 1, Correlation false & unanswered: \"\n",
    ")"
   ]
  },
  {
   "cell_type": "markdown",
   "id": "convinced-arrest",
   "metadata": {},
   "source": [
    "#### Subtest 2"
   ]
  },
  {
   "cell_type": "code",
   "execution_count": 26,
   "id": "exempt-applicant",
   "metadata": {
    "scrolled": false
   },
   "outputs": [
    {
     "name": "stdout",
     "output_type": "stream",
     "text": [
      "Subtest 2, Correlation false & unanswered:  0.09483094592136888\n"
     ]
    },
    {
     "data": {
      "application/javascript": [
       "\n",
       "            setTimeout(function() {\n",
       "                var nbb_cell_id = 26;\n",
       "                var nbb_unformatted_code = \"# Test 2\\ndataToPlot2 = getFrequencies(test2)\\ndataToPlot2 = dataToPlot2[0]\\ncorrelation_2 = correlation(\\n    dataToPlot2, 0, 99, text=\\\"Subtest 2, Correlation false & unanswered: \\\"\\n)\";\n",
       "                var nbb_formatted_code = \"# Test 2\\ndataToPlot2 = getFrequencies(test2)\\ndataToPlot2 = dataToPlot2[0]\\ncorrelation_2 = correlation(\\n    dataToPlot2, 0, 99, text=\\\"Subtest 2, Correlation false & unanswered: \\\"\\n)\";\n",
       "                var nbb_cells = Jupyter.notebook.get_cells();\n",
       "                for (var i = 0; i < nbb_cells.length; ++i) {\n",
       "                    if (nbb_cells[i].input_prompt_number == nbb_cell_id) {\n",
       "                        if (nbb_cells[i].get_text() == nbb_unformatted_code) {\n",
       "                             nbb_cells[i].set_text(nbb_formatted_code);\n",
       "                        }\n",
       "                        break;\n",
       "                    }\n",
       "                }\n",
       "            }, 500);\n",
       "            "
      ],
      "text/plain": [
       "<IPython.core.display.Javascript object>"
      ]
     },
     "metadata": {},
     "output_type": "display_data"
    }
   ],
   "source": [
    "# Test 2\n",
    "dataToPlot2 = getFrequencies(test2)\n",
    "dataToPlot2 = dataToPlot2[0]\n",
    "correlation_2 = correlation(\n",
    "    dataToPlot2, 0, 99, text=\"Subtest 2, Correlation false & unanswered: \"\n",
    ")"
   ]
  },
  {
   "cell_type": "markdown",
   "id": "cutting-technician",
   "metadata": {},
   "source": [
    "#### Subtest 3"
   ]
  },
  {
   "cell_type": "code",
   "execution_count": 27,
   "id": "great-craps",
   "metadata": {
    "scrolled": false
   },
   "outputs": [
    {
     "name": "stdout",
     "output_type": "stream",
     "text": [
      "Subtest 3, Correlation false & unanswered:  -0.22201116427028048\n"
     ]
    },
    {
     "data": {
      "application/javascript": [
       "\n",
       "            setTimeout(function() {\n",
       "                var nbb_cell_id = 27;\n",
       "                var nbb_unformatted_code = \"dataToPlot3 = getFrequencies(test3)\\ndataToPlot3 = dataToPlot3[0]\\ncorrelation_3 = correlation(\\n    dataToPlot3, 0, 99, text=\\\"Subtest 3, Correlation false & unanswered: \\\"\\n)\";\n",
       "                var nbb_formatted_code = \"dataToPlot3 = getFrequencies(test3)\\ndataToPlot3 = dataToPlot3[0]\\ncorrelation_3 = correlation(\\n    dataToPlot3, 0, 99, text=\\\"Subtest 3, Correlation false & unanswered: \\\"\\n)\";\n",
       "                var nbb_cells = Jupyter.notebook.get_cells();\n",
       "                for (var i = 0; i < nbb_cells.length; ++i) {\n",
       "                    if (nbb_cells[i].input_prompt_number == nbb_cell_id) {\n",
       "                        if (nbb_cells[i].get_text() == nbb_unformatted_code) {\n",
       "                             nbb_cells[i].set_text(nbb_formatted_code);\n",
       "                        }\n",
       "                        break;\n",
       "                    }\n",
       "                }\n",
       "            }, 500);\n",
       "            "
      ],
      "text/plain": [
       "<IPython.core.display.Javascript object>"
      ]
     },
     "metadata": {},
     "output_type": "display_data"
    }
   ],
   "source": [
    "dataToPlot3 = getFrequencies(test3)\n",
    "dataToPlot3 = dataToPlot3[0]\n",
    "correlation_3 = correlation(\n",
    "    dataToPlot3, 0, 99, text=\"Subtest 3, Correlation false & unanswered: \"\n",
    ")"
   ]
  },
  {
   "cell_type": "markdown",
   "id": "intended-crossing",
   "metadata": {},
   "source": [
    "#### Subtest 4"
   ]
  },
  {
   "cell_type": "code",
   "execution_count": 28,
   "id": "present-beginning",
   "metadata": {
    "scrolled": false
   },
   "outputs": [
    {
     "name": "stdout",
     "output_type": "stream",
     "text": [
      "Subtest 4, Correlation false & unanswered:  -0.5491691547746677\n"
     ]
    },
    {
     "data": {
      "application/javascript": [
       "\n",
       "            setTimeout(function() {\n",
       "                var nbb_cell_id = 28;\n",
       "                var nbb_unformatted_code = \"dataToPlot4 = getFrequencies(test4)\\ndataToPlot4 = dataToPlot4[0]\\ncorrelation_4 = correlation(\\n    dataToPlot4, 0, 99, text=\\\"Subtest 4, Correlation false & unanswered: \\\"\\n)\";\n",
       "                var nbb_formatted_code = \"dataToPlot4 = getFrequencies(test4)\\ndataToPlot4 = dataToPlot4[0]\\ncorrelation_4 = correlation(\\n    dataToPlot4, 0, 99, text=\\\"Subtest 4, Correlation false & unanswered: \\\"\\n)\";\n",
       "                var nbb_cells = Jupyter.notebook.get_cells();\n",
       "                for (var i = 0; i < nbb_cells.length; ++i) {\n",
       "                    if (nbb_cells[i].input_prompt_number == nbb_cell_id) {\n",
       "                        if (nbb_cells[i].get_text() == nbb_unformatted_code) {\n",
       "                             nbb_cells[i].set_text(nbb_formatted_code);\n",
       "                        }\n",
       "                        break;\n",
       "                    }\n",
       "                }\n",
       "            }, 500);\n",
       "            "
      ],
      "text/plain": [
       "<IPython.core.display.Javascript object>"
      ]
     },
     "metadata": {},
     "output_type": "display_data"
    }
   ],
   "source": [
    "dataToPlot4 = getFrequencies(test4)\n",
    "dataToPlot4 = dataToPlot4[0]\n",
    "correlation_4 = correlation(\n",
    "    dataToPlot4, 0, 99, text=\"Subtest 4, Correlation false & unanswered: \"\n",
    ")"
   ]
  },
  {
   "cell_type": "markdown",
   "id": "affected-summit",
   "metadata": {},
   "source": [
    "## Class level"
   ]
  },
  {
   "cell_type": "markdown",
   "id": "tropical-heath",
   "metadata": {},
   "source": [
    "### Subtest 1"
   ]
  },
  {
   "cell_type": "code",
   "execution_count": 29,
   "id": "promising-marathon",
   "metadata": {
    "scrolled": false
   },
   "outputs": [
    {
     "data": {
      "application/javascript": [
       "\n",
       "            setTimeout(function() {\n",
       "                var nbb_cell_id = 29;\n",
       "                var nbb_unformatted_code = \"# class level\\ngrouped = test1.groupby(test1.Stufe)\\ntest1_level_1 = grouped.get_group(1)\\ntest1_level_2 = grouped.get_group(2)\";\n",
       "                var nbb_formatted_code = \"# class level\\ngrouped = test1.groupby(test1.Stufe)\\ntest1_level_1 = grouped.get_group(1)\\ntest1_level_2 = grouped.get_group(2)\";\n",
       "                var nbb_cells = Jupyter.notebook.get_cells();\n",
       "                for (var i = 0; i < nbb_cells.length; ++i) {\n",
       "                    if (nbb_cells[i].input_prompt_number == nbb_cell_id) {\n",
       "                        if (nbb_cells[i].get_text() == nbb_unformatted_code) {\n",
       "                             nbb_cells[i].set_text(nbb_formatted_code);\n",
       "                        }\n",
       "                        break;\n",
       "                    }\n",
       "                }\n",
       "            }, 500);\n",
       "            "
      ],
      "text/plain": [
       "<IPython.core.display.Javascript object>"
      ]
     },
     "metadata": {},
     "output_type": "display_data"
    }
   ],
   "source": [
    "# class level\n",
    "grouped = test1.groupby(test1.Stufe)\n",
    "test1_level_1 = grouped.get_group(1)\n",
    "test1_level_2 = grouped.get_group(2)"
   ]
  },
  {
   "cell_type": "markdown",
   "id": "settled-creator",
   "metadata": {},
   "source": [
    "#### Class level 1"
   ]
  },
  {
   "cell_type": "code",
   "execution_count": 30,
   "id": "superb-cowboy",
   "metadata": {
    "scrolled": false
   },
   "outputs": [
    {
     "data": {
      "image/png": "[encoded data removed]",
      "text/plain": [
       "<Figure size 1080x360 with 1 Axes>"
      ]
     },
     "metadata": {
      "needs_background": "light"
     },
     "output_type": "display_data"
    },
    {
     "data": {
      "application/javascript": [
       "\n",
       "            setTimeout(function() {\n",
       "                var nbb_cell_id = 30;\n",
       "                var nbb_unformatted_code = \"test1_level_1_frequencies_percentages = getFrequencies(test1_level_1)[0]\\n\\nplotFrequencies(\\n    test1_level_1_frequencies_percentages,\\n    15,\\n    5,\\n    \\\"Subtest 1 Class level 1: Item Result\\\",\\n    legend=legend,\\n    xlabel=\\\"percentages\\\",\\n    ylabel=\\\"item\\\",\\n    color=colors,\\n)\";\n",
       "                var nbb_formatted_code = \"test1_level_1_frequencies_percentages = getFrequencies(test1_level_1)[0]\\n\\nplotFrequencies(\\n    test1_level_1_frequencies_percentages,\\n    15,\\n    5,\\n    \\\"Subtest 1 Class level 1: Item Result\\\",\\n    legend=legend,\\n    xlabel=\\\"percentages\\\",\\n    ylabel=\\\"item\\\",\\n    color=colors,\\n)\";\n",
       "                var nbb_cells = Jupyter.notebook.get_cells();\n",
       "                for (var i = 0; i < nbb_cells.length; ++i) {\n",
       "                    if (nbb_cells[i].input_prompt_number == nbb_cell_id) {\n",
       "                        if (nbb_cells[i].get_text() == nbb_unformatted_code) {\n",
       "                             nbb_cells[i].set_text(nbb_formatted_code);\n",
       "                        }\n",
       "                        break;\n",
       "                    }\n",
       "                }\n",
       "            }, 500);\n",
       "            "
      ],
      "text/plain": [
       "<IPython.core.display.Javascript object>"
      ]
     },
     "metadata": {},
     "output_type": "display_data"
    }
   ],
   "source": [
    "test1_level_1_frequencies_percentages = getFrequencies(test1_level_1)[0]\n",
    "\n",
    "plotFrequencies(\n",
    "    test1_level_1_frequencies_percentages,\n",
    "    15,\n",
    "    5,\n",
    "    \"Subtest 1 Class level 1: Item Result\",\n",
    "    legend=legend,\n",
    "    xlabel=\"percentages\",\n",
    "    ylabel=\"item\",\n",
    "    color=colors,\n",
    ")"
   ]
  },
  {
   "cell_type": "markdown",
   "id": "unsigned-night",
   "metadata": {},
   "source": [
    "#### Class level 2"
   ]
  },
  {
   "cell_type": "code",
   "execution_count": 31,
   "id": "horizontal-double",
   "metadata": {
    "scrolled": true
   },
   "outputs": [
    {
     "data": {
      "image/png": "[encoded data removed]",
      "text/plain": [
       "<Figure size 1080x360 with 1 Axes>"
      ]
     },
     "metadata": {
      "needs_background": "light"
     },
     "output_type": "display_data"
    },
    {
     "data": {
      "application/javascript": [
       "\n",
       "            setTimeout(function() {\n",
       "                var nbb_cell_id = 31;\n",
       "                var nbb_unformatted_code = \"test1_level_2_frequencies_percentages = getFrequencies(test1_level_2)[0]\\n\\nplotFrequencies(\\n    test1_level_2_frequencies_percentages,\\n    15,\\n    5,\\n    \\\"Subtest 1 Class level 2: Item Result\\\",\\n    legend=legend,\\n    xlabel=\\\"percentages\\\",\\n    ylabel=\\\"item\\\",\\n    color=colors,\\n)\";\n",
       "                var nbb_formatted_code = \"test1_level_2_frequencies_percentages = getFrequencies(test1_level_2)[0]\\n\\nplotFrequencies(\\n    test1_level_2_frequencies_percentages,\\n    15,\\n    5,\\n    \\\"Subtest 1 Class level 2: Item Result\\\",\\n    legend=legend,\\n    xlabel=\\\"percentages\\\",\\n    ylabel=\\\"item\\\",\\n    color=colors,\\n)\";\n",
       "                var nbb_cells = Jupyter.notebook.get_cells();\n",
       "                for (var i = 0; i < nbb_cells.length; ++i) {\n",
       "                    if (nbb_cells[i].input_prompt_number == nbb_cell_id) {\n",
       "                        if (nbb_cells[i].get_text() == nbb_unformatted_code) {\n",
       "                             nbb_cells[i].set_text(nbb_formatted_code);\n",
       "                        }\n",
       "                        break;\n",
       "                    }\n",
       "                }\n",
       "            }, 500);\n",
       "            "
      ],
      "text/plain": [
       "<IPython.core.display.Javascript object>"
      ]
     },
     "metadata": {},
     "output_type": "display_data"
    }
   ],
   "source": [
    "test1_level_2_frequencies_percentages = getFrequencies(test1_level_2)[0]\n",
    "\n",
    "plotFrequencies(\n",
    "    test1_level_2_frequencies_percentages,\n",
    "    15,\n",
    "    5,\n",
    "    \"Subtest 1 Class level 2: Item Result\",\n",
    "    legend=legend,\n",
    "    xlabel=\"percentages\",\n",
    "    ylabel=\"item\",\n",
    "    color=colors,\n",
    ")"
   ]
  },
  {
   "cell_type": "markdown",
   "id": "guilty-georgia",
   "metadata": {
    "scrolled": false
   },
   "source": [
    "### Subtest 2"
   ]
  },
  {
   "cell_type": "code",
   "execution_count": 32,
   "id": "tribal-intake",
   "metadata": {},
   "outputs": [
    {
     "data": {
      "application/javascript": [
       "\n",
       "            setTimeout(function() {\n",
       "                var nbb_cell_id = 32;\n",
       "                var nbb_unformatted_code = \"# class level\\ngrouped2 = test2.groupby(test2.Stufe)\\ntest2_level_1 = grouped2.get_group(1)\\ntest2_level_2 = grouped2.get_group(2)\";\n",
       "                var nbb_formatted_code = \"# class level\\ngrouped2 = test2.groupby(test2.Stufe)\\ntest2_level_1 = grouped2.get_group(1)\\ntest2_level_2 = grouped2.get_group(2)\";\n",
       "                var nbb_cells = Jupyter.notebook.get_cells();\n",
       "                for (var i = 0; i < nbb_cells.length; ++i) {\n",
       "                    if (nbb_cells[i].input_prompt_number == nbb_cell_id) {\n",
       "                        if (nbb_cells[i].get_text() == nbb_unformatted_code) {\n",
       "                             nbb_cells[i].set_text(nbb_formatted_code);\n",
       "                        }\n",
       "                        break;\n",
       "                    }\n",
       "                }\n",
       "            }, 500);\n",
       "            "
      ],
      "text/plain": [
       "<IPython.core.display.Javascript object>"
      ]
     },
     "metadata": {},
     "output_type": "display_data"
    }
   ],
   "source": [
    "# class level\n",
    "grouped2 = test2.groupby(test2.Stufe)\n",
    "test2_level_1 = grouped2.get_group(1)\n",
    "test2_level_2 = grouped2.get_group(2)"
   ]
  },
  {
   "cell_type": "markdown",
   "id": "early-ensemble",
   "metadata": {
    "scrolled": false
   },
   "source": [
    "#### Class level 1"
   ]
  },
  {
   "cell_type": "code",
   "execution_count": 33,
   "id": "postal-donna",
   "metadata": {},
   "outputs": [
    {
     "data": {
      "image/png": "[encoded data removed]",
      "text/plain": [
       "<Figure size 1080x360 with 1 Axes>"
      ]
     },
     "metadata": {
      "needs_background": "light"
     },
     "output_type": "display_data"
    },
    {
     "data": {
      "application/javascript": [
       "\n",
       "            setTimeout(function() {\n",
       "                var nbb_cell_id = 33;\n",
       "                var nbb_unformatted_code = \"test2_level_1_frequencies_percentages = getFrequencies(test2_level_1)[0]\\n\\nplotFrequencies(\\n    test2_level_1_frequencies_percentages,\\n    15,\\n    5,\\n    \\\"Subtest 2 Class level 1: Item Result\\\",\\n    legend=legend,\\n    xlabel=\\\"percentages\\\",\\n    ylabel=\\\"item\\\",\\n    color=colors,\\n)\";\n",
       "                var nbb_formatted_code = \"test2_level_1_frequencies_percentages = getFrequencies(test2_level_1)[0]\\n\\nplotFrequencies(\\n    test2_level_1_frequencies_percentages,\\n    15,\\n    5,\\n    \\\"Subtest 2 Class level 1: Item Result\\\",\\n    legend=legend,\\n    xlabel=\\\"percentages\\\",\\n    ylabel=\\\"item\\\",\\n    color=colors,\\n)\";\n",
       "                var nbb_cells = Jupyter.notebook.get_cells();\n",
       "                for (var i = 0; i < nbb_cells.length; ++i) {\n",
       "                    if (nbb_cells[i].input_prompt_number == nbb_cell_id) {\n",
       "                        if (nbb_cells[i].get_text() == nbb_unformatted_code) {\n",
       "                             nbb_cells[i].set_text(nbb_formatted_code);\n",
       "                        }\n",
       "                        break;\n",
       "                    }\n",
       "                }\n",
       "            }, 500);\n",
       "            "
      ],
      "text/plain": [
       "<IPython.core.display.Javascript object>"
      ]
     },
     "metadata": {},
     "output_type": "display_data"
    }
   ],
   "source": [
    "test2_level_1_frequencies_percentages = getFrequencies(test2_level_1)[0]\n",
    "\n",
    "plotFrequencies(\n",
    "    test2_level_1_frequencies_percentages,\n",
    "    15,\n",
    "    5,\n",
    "    \"Subtest 2 Class level 1: Item Result\",\n",
    "    legend=legend,\n",
    "    xlabel=\"percentages\",\n",
    "    ylabel=\"item\",\n",
    "    color=colors,\n",
    ")"
   ]
  },
  {
   "cell_type": "markdown",
   "id": "sublime-alpha",
   "metadata": {},
   "source": [
    "#### Class level 2"
   ]
  },
  {
   "cell_type": "code",
   "execution_count": 34,
   "id": "noted-explanation",
   "metadata": {},
   "outputs": [
    {
     "data": {
      "image/png": "[encoded data removed]",
      "text/plain": [
       "<Figure size 1080x360 with 1 Axes>"
      ]
     },
     "metadata": {
      "needs_background": "light"
     },
     "output_type": "display_data"
    },
    {
     "data": {
      "application/javascript": [
       "\n",
       "            setTimeout(function() {\n",
       "                var nbb_cell_id = 34;\n",
       "                var nbb_unformatted_code = \"test2_level_2_frequencies_percentages = getFrequencies(test2_level_2)[0]\\n\\nplotFrequencies(\\n    test2_level_2_frequencies_percentages,\\n    15,\\n    5,\\n    \\\"Subtest 2 Class level 2: Item Result\\\",\\n    legend=legend,\\n    xlabel=\\\"percentages\\\",\\n    ylabel=\\\"item\\\",\\n    color=colors,\\n)\";\n",
       "                var nbb_formatted_code = \"test2_level_2_frequencies_percentages = getFrequencies(test2_level_2)[0]\\n\\nplotFrequencies(\\n    test2_level_2_frequencies_percentages,\\n    15,\\n    5,\\n    \\\"Subtest 2 Class level 2: Item Result\\\",\\n    legend=legend,\\n    xlabel=\\\"percentages\\\",\\n    ylabel=\\\"item\\\",\\n    color=colors,\\n)\";\n",
       "                var nbb_cells = Jupyter.notebook.get_cells();\n",
       "                for (var i = 0; i < nbb_cells.length; ++i) {\n",
       "                    if (nbb_cells[i].input_prompt_number == nbb_cell_id) {\n",
       "                        if (nbb_cells[i].get_text() == nbb_unformatted_code) {\n",
       "                             nbb_cells[i].set_text(nbb_formatted_code);\n",
       "                        }\n",
       "                        break;\n",
       "                    }\n",
       "                }\n",
       "            }, 500);\n",
       "            "
      ],
      "text/plain": [
       "<IPython.core.display.Javascript object>"
      ]
     },
     "metadata": {},
     "output_type": "display_data"
    }
   ],
   "source": [
    "test2_level_2_frequencies_percentages = getFrequencies(test2_level_2)[0]\n",
    "\n",
    "plotFrequencies(\n",
    "    test2_level_2_frequencies_percentages,\n",
    "    15,\n",
    "    5,\n",
    "    \"Subtest 2 Class level 2: Item Result\",\n",
    "    legend=legend,\n",
    "    xlabel=\"percentages\",\n",
    "    ylabel=\"item\",\n",
    "    color=colors,\n",
    ")"
   ]
  },
  {
   "cell_type": "markdown",
   "id": "previous-basin",
   "metadata": {},
   "source": [
    "### Subtest 3"
   ]
  },
  {
   "cell_type": "code",
   "execution_count": 35,
   "id": "effective-sunrise",
   "metadata": {},
   "outputs": [
    {
     "data": {
      "application/javascript": [
       "\n",
       "            setTimeout(function() {\n",
       "                var nbb_cell_id = 35;\n",
       "                var nbb_unformatted_code = \"# class level\\ngrouped3 = test3.groupby(test3.Stufe)\\ntest3_level_1 = grouped3.get_group(1)\\ntest3_level_2 = grouped3.get_group(2)\";\n",
       "                var nbb_formatted_code = \"# class level\\ngrouped3 = test3.groupby(test3.Stufe)\\ntest3_level_1 = grouped3.get_group(1)\\ntest3_level_2 = grouped3.get_group(2)\";\n",
       "                var nbb_cells = Jupyter.notebook.get_cells();\n",
       "                for (var i = 0; i < nbb_cells.length; ++i) {\n",
       "                    if (nbb_cells[i].input_prompt_number == nbb_cell_id) {\n",
       "                        if (nbb_cells[i].get_text() == nbb_unformatted_code) {\n",
       "                             nbb_cells[i].set_text(nbb_formatted_code);\n",
       "                        }\n",
       "                        break;\n",
       "                    }\n",
       "                }\n",
       "            }, 500);\n",
       "            "
      ],
      "text/plain": [
       "<IPython.core.display.Javascript object>"
      ]
     },
     "metadata": {},
     "output_type": "display_data"
    }
   ],
   "source": [
    "# class level\n",
    "grouped3 = test3.groupby(test3.Stufe)\n",
    "test3_level_1 = grouped3.get_group(1)\n",
    "test3_level_2 = grouped3.get_group(2)"
   ]
  },
  {
   "cell_type": "markdown",
   "id": "rubber-fitting",
   "metadata": {},
   "source": [
    "#### Class level 1"
   ]
  },
  {
   "cell_type": "code",
   "execution_count": 36,
   "id": "extended-civilization",
   "metadata": {
    "scrolled": false
   },
   "outputs": [
    {
     "data": {
      "image/png": "[encoded data removed]",
      "text/plain": [
       "<Figure size 1080x1080 with 1 Axes>"
      ]
     },
     "metadata": {
      "needs_background": "light"
     },
     "output_type": "display_data"
    },
    {
     "data": {
      "application/javascript": [
       "\n",
       "            setTimeout(function() {\n",
       "                var nbb_cell_id = 36;\n",
       "                var nbb_unformatted_code = \"test3_level_1_frequencies_percentages = getFrequencies(test3_level_1)[0]\\n\\nplotFrequencies(\\n    test3_level_1_frequencies_percentages,\\n    15,\\n    15,\\n    \\\"Subtest 3 Class level 1: Item Difficulty\\\",\\n    legend=legend,\\n    xlabel=\\\"percentages\\\",\\n    ylabel=\\\"item\\\",\\n    color=colors,\\n)\";\n",
       "                var nbb_formatted_code = \"test3_level_1_frequencies_percentages = getFrequencies(test3_level_1)[0]\\n\\nplotFrequencies(\\n    test3_level_1_frequencies_percentages,\\n    15,\\n    15,\\n    \\\"Subtest 3 Class level 1: Item Difficulty\\\",\\n    legend=legend,\\n    xlabel=\\\"percentages\\\",\\n    ylabel=\\\"item\\\",\\n    color=colors,\\n)\";\n",
       "                var nbb_cells = Jupyter.notebook.get_cells();\n",
       "                for (var i = 0; i < nbb_cells.length; ++i) {\n",
       "                    if (nbb_cells[i].input_prompt_number == nbb_cell_id) {\n",
       "                        if (nbb_cells[i].get_text() == nbb_unformatted_code) {\n",
       "                             nbb_cells[i].set_text(nbb_formatted_code);\n",
       "                        }\n",
       "                        break;\n",
       "                    }\n",
       "                }\n",
       "            }, 500);\n",
       "            "
      ],
      "text/plain": [
       "<IPython.core.display.Javascript object>"
      ]
     },
     "metadata": {},
     "output_type": "display_data"
    }
   ],
   "source": [
    "test3_level_1_frequencies_percentages = getFrequencies(test3_level_1)[0]\n",
    "\n",
    "plotFrequencies(\n",
    "    test3_level_1_frequencies_percentages,\n",
    "    15,\n",
    "    15,\n",
    "    \"Subtest 3 Class level 1: Item Difficulty\",\n",
    "    legend=legend,\n",
    "    xlabel=\"percentages\",\n",
    "    ylabel=\"item\",\n",
    "    color=colors,\n",
    ")"
   ]
  },
  {
   "cell_type": "markdown",
   "id": "technical-third",
   "metadata": {},
   "source": [
    "#### Class level 2"
   ]
  },
  {
   "cell_type": "code",
   "execution_count": 37,
   "id": "economic-fisher",
   "metadata": {},
   "outputs": [
    {
     "data": {
      "image/png": "[encoded data removed]",
      "text/plain": [
       "<Figure size 1080x1080 with 1 Axes>"
      ]
     },
     "metadata": {
      "needs_background": "light"
     },
     "output_type": "display_data"
    },
    {
     "data": {
      "application/javascript": [
       "\n",
       "            setTimeout(function() {\n",
       "                var nbb_cell_id = 37;\n",
       "                var nbb_unformatted_code = \"test3_level_2_frequencies_percentages = getFrequencies(test3_level_2)[0]\\n\\nplotFrequencies(\\n    test3_level_2_frequencies_percentages,\\n    15,\\n    15,\\n    \\\"Subtest 3 Class level 2: Item Difficulty\\\",\\n    legend=legend,\\n    xlabel=\\\"percentages\\\",\\n    ylabel=\\\"item\\\",\\n    color=colors,\\n)\";\n",
       "                var nbb_formatted_code = \"test3_level_2_frequencies_percentages = getFrequencies(test3_level_2)[0]\\n\\nplotFrequencies(\\n    test3_level_2_frequencies_percentages,\\n    15,\\n    15,\\n    \\\"Subtest 3 Class level 2: Item Difficulty\\\",\\n    legend=legend,\\n    xlabel=\\\"percentages\\\",\\n    ylabel=\\\"item\\\",\\n    color=colors,\\n)\";\n",
       "                var nbb_cells = Jupyter.notebook.get_cells();\n",
       "                for (var i = 0; i < nbb_cells.length; ++i) {\n",
       "                    if (nbb_cells[i].input_prompt_number == nbb_cell_id) {\n",
       "                        if (nbb_cells[i].get_text() == nbb_unformatted_code) {\n",
       "                             nbb_cells[i].set_text(nbb_formatted_code);\n",
       "                        }\n",
       "                        break;\n",
       "                    }\n",
       "                }\n",
       "            }, 500);\n",
       "            "
      ],
      "text/plain": [
       "<IPython.core.display.Javascript object>"
      ]
     },
     "metadata": {},
     "output_type": "display_data"
    }
   ],
   "source": [
    "test3_level_2_frequencies_percentages = getFrequencies(test3_level_2)[0]\n",
    "\n",
    "plotFrequencies(\n",
    "    test3_level_2_frequencies_percentages,\n",
    "    15,\n",
    "    15,\n",
    "    \"Subtest 3 Class level 2: Item Difficulty\",\n",
    "    legend=legend,\n",
    "    xlabel=\"percentages\",\n",
    "    ylabel=\"item\",\n",
    "    color=colors,\n",
    ")"
   ]
  },
  {
   "cell_type": "markdown",
   "id": "finished-reward",
   "metadata": {},
   "source": [
    "### Subtest 4"
   ]
  },
  {
   "cell_type": "code",
   "execution_count": 38,
   "id": "activated-research",
   "metadata": {},
   "outputs": [
    {
     "data": {
      "application/javascript": [
       "\n",
       "            setTimeout(function() {\n",
       "                var nbb_cell_id = 38;\n",
       "                var nbb_unformatted_code = \"# class level\\ngrouped4 = test4.groupby(test4.Stufe)\\ntest4_level_1 = grouped4.get_group(1)\\ntest4_level_2 = grouped4.get_group(2)\";\n",
       "                var nbb_formatted_code = \"# class level\\ngrouped4 = test4.groupby(test4.Stufe)\\ntest4_level_1 = grouped4.get_group(1)\\ntest4_level_2 = grouped4.get_group(2)\";\n",
       "                var nbb_cells = Jupyter.notebook.get_cells();\n",
       "                for (var i = 0; i < nbb_cells.length; ++i) {\n",
       "                    if (nbb_cells[i].input_prompt_number == nbb_cell_id) {\n",
       "                        if (nbb_cells[i].get_text() == nbb_unformatted_code) {\n",
       "                             nbb_cells[i].set_text(nbb_formatted_code);\n",
       "                        }\n",
       "                        break;\n",
       "                    }\n",
       "                }\n",
       "            }, 500);\n",
       "            "
      ],
      "text/plain": [
       "<IPython.core.display.Javascript object>"
      ]
     },
     "metadata": {},
     "output_type": "display_data"
    }
   ],
   "source": [
    "# class level\n",
    "grouped4 = test4.groupby(test4.Stufe)\n",
    "test4_level_1 = grouped4.get_group(1)\n",
    "test4_level_2 = grouped4.get_group(2)"
   ]
  },
  {
   "cell_type": "markdown",
   "id": "differential-investment",
   "metadata": {},
   "source": [
    "#### Class level 1"
   ]
  },
  {
   "cell_type": "code",
   "execution_count": 39,
   "id": "south-ratio",
   "metadata": {},
   "outputs": [
    {
     "data": {
      "image/png": "[encoded data removed]",
      "text/plain": [
       "<Figure size 1080x720 with 1 Axes>"
      ]
     },
     "metadata": {
      "needs_background": "light"
     },
     "output_type": "display_data"
    },
    {
     "data": {
      "application/javascript": [
       "\n",
       "            setTimeout(function() {\n",
       "                var nbb_cell_id = 39;\n",
       "                var nbb_unformatted_code = \"test4_level_1_frequencies_percentages = getFrequencies(test4_level_1)[0]\\n\\nplotFrequencies(\\n    test4_level_1_frequencies_percentages,\\n    15,\\n    10,\\n    \\\"Subtest 4 Class level 1: Item Difficulty\\\",\\n    legend=legend,\\n    xlabel=\\\"percentages\\\",\\n    ylabel=\\\"item\\\",\\n    color=colors,\\n)\";\n",
       "                var nbb_formatted_code = \"test4_level_1_frequencies_percentages = getFrequencies(test4_level_1)[0]\\n\\nplotFrequencies(\\n    test4_level_1_frequencies_percentages,\\n    15,\\n    10,\\n    \\\"Subtest 4 Class level 1: Item Difficulty\\\",\\n    legend=legend,\\n    xlabel=\\\"percentages\\\",\\n    ylabel=\\\"item\\\",\\n    color=colors,\\n)\";\n",
       "                var nbb_cells = Jupyter.notebook.get_cells();\n",
       "                for (var i = 0; i < nbb_cells.length; ++i) {\n",
       "                    if (nbb_cells[i].input_prompt_number == nbb_cell_id) {\n",
       "                        if (nbb_cells[i].get_text() == nbb_unformatted_code) {\n",
       "                             nbb_cells[i].set_text(nbb_formatted_code);\n",
       "                        }\n",
       "                        break;\n",
       "                    }\n",
       "                }\n",
       "            }, 500);\n",
       "            "
      ],
      "text/plain": [
       "<IPython.core.display.Javascript object>"
      ]
     },
     "metadata": {},
     "output_type": "display_data"
    }
   ],
   "source": [
    "test4_level_1_frequencies_percentages = getFrequencies(test4_level_1)[0]\n",
    "\n",
    "plotFrequencies(\n",
    "    test4_level_1_frequencies_percentages,\n",
    "    15,\n",
    "    10,\n",
    "    \"Subtest 4 Class level 1: Item Difficulty\",\n",
    "    legend=legend,\n",
    "    xlabel=\"percentages\",\n",
    "    ylabel=\"item\",\n",
    "    color=colors,\n",
    ")"
   ]
  },
  {
   "cell_type": "markdown",
   "id": "olympic-fiction",
   "metadata": {},
   "source": [
    "#### Class level 2"
   ]
  },
  {
   "cell_type": "code",
   "execution_count": 40,
   "id": "lyric-forestry",
   "metadata": {},
   "outputs": [
    {
     "data": {
      "image/png": "[encoded data removed]",
      "text/plain": [
       "<Figure size 1080x720 with 1 Axes>"
      ]
     },
     "metadata": {
      "needs_background": "light"
     },
     "output_type": "display_data"
    },
    {
     "data": {
      "application/javascript": [
       "\n",
       "            setTimeout(function() {\n",
       "                var nbb_cell_id = 40;\n",
       "                var nbb_unformatted_code = \"test4_level_2_frequencies_percentages = getFrequencies(test4_level_2)[0]\\n\\nplotFrequencies(\\n    test4_level_2_frequencies_percentages,\\n    15,\\n    10,\\n    \\\"Subtest 4 Class level 2: Item Difficulty\\\",\\n    legend=legend,\\n    xlabel=\\\"percentages\\\",\\n    ylabel=\\\"item\\\",\\n    color=colors,\\n)\";\n",
       "                var nbb_formatted_code = \"test4_level_2_frequencies_percentages = getFrequencies(test4_level_2)[0]\\n\\nplotFrequencies(\\n    test4_level_2_frequencies_percentages,\\n    15,\\n    10,\\n    \\\"Subtest 4 Class level 2: Item Difficulty\\\",\\n    legend=legend,\\n    xlabel=\\\"percentages\\\",\\n    ylabel=\\\"item\\\",\\n    color=colors,\\n)\";\n",
       "                var nbb_cells = Jupyter.notebook.get_cells();\n",
       "                for (var i = 0; i < nbb_cells.length; ++i) {\n",
       "                    if (nbb_cells[i].input_prompt_number == nbb_cell_id) {\n",
       "                        if (nbb_cells[i].get_text() == nbb_unformatted_code) {\n",
       "                             nbb_cells[i].set_text(nbb_formatted_code);\n",
       "                        }\n",
       "                        break;\n",
       "                    }\n",
       "                }\n",
       "            }, 500);\n",
       "            "
      ],
      "text/plain": [
       "<IPython.core.display.Javascript object>"
      ]
     },
     "metadata": {},
     "output_type": "display_data"
    }
   ],
   "source": [
    "test4_level_2_frequencies_percentages = getFrequencies(test4_level_2)[0]\n",
    "\n",
    "plotFrequencies(\n",
    "    test4_level_2_frequencies_percentages,\n",
    "    15,\n",
    "    10,\n",
    "    \"Subtest 4 Class level 2: Item Difficulty\",\n",
    "    legend=legend,\n",
    "    xlabel=\"percentages\",\n",
    "    ylabel=\"item\",\n",
    "    color=colors,\n",
    ")"
   ]
  },
  {
   "cell_type": "code",
   "execution_count": null,
   "id": "positive-professional",
   "metadata": {
    "scrolled": false
   },
   "outputs": [],
   "source": []
  },
  {
   "cell_type": "code",
   "execution_count": null,
   "id": "incredible-juice",
   "metadata": {
    "scrolled": false
   },
   "outputs": [],
   "source": []
  },
  {
   "cell_type": "code",
   "execution_count": null,
   "id": "prescription-detective",
   "metadata": {
    "scrolled": false
   },
   "outputs": [],
   "source": []
  },
  {
   "cell_type": "code",
   "execution_count": null,
   "id": "veterinary-rapid",
   "metadata": {
    "scrolled": false
   },
   "outputs": [],
   "source": []
  },
  {
   "cell_type": "code",
   "execution_count": null,
   "id": "successful-geography",
   "metadata": {
    "scrolled": false
   },
   "outputs": [],
   "source": []
  },
  {
   "cell_type": "code",
   "execution_count": null,
   "id": "floating-implement",
   "metadata": {
    "scrolled": false
   },
   "outputs": [],
   "source": []
  },
  {
   "cell_type": "code",
   "execution_count": null,
   "id": "intellectual-learning",
   "metadata": {
    "scrolled": false
   },
   "outputs": [],
   "source": []
  },
  {
   "cell_type": "markdown",
   "id": "established-nomination",
   "metadata": {
    "scrolled": false
   },
   "source": [
    "## Item discrimination\n",
    "compare the score on each question against the socre on the test a s a whole.  \n",
    "If less than 0.1 or even negative the item needs to be reexamined.\n"
   ]
  },
  {
   "cell_type": "markdown",
   "id": "preceding-kingston",
   "metadata": {},
   "source": [
    "In order to formally categorise your stronger and weaker candidates, we create an upper and a lower group in an exam, which are determined by the top and bottom 27% performing candidates. This gives you the same number of candidates in both groups.\n",
    "\n",
    "You then take the number of candidates from the lower group who got the item correct away from the number of candidates from the upper group who got the item correct, divide by the number of candidates in a group, and you will get a number between -1 and 1. This is the discrimination index for the item.\n",
    "\n",
    "Of course, if you have sophisticated exam software such as Maxexam then it will calculate the discrimination index for each item for you.\n",
    "How discriminating is an item?\n",
    "\n",
    "If an item was fully discriminating (which never happens in reality!), then everyone in your upper group would get it right and everyone in your lower group would get it wrong – leading to a discrimination index of 1.\n",
    "\n",
    "However, there is no such thing as the ‘perfect’ item, and the general guidelines are as follows:\n",
    "\n",
    "< 0 – negative discrimination; usually a bad sign. Could indicate a broken item i.e. could have been very misleading, or even mis-keyed (so the wrong option has been selected as the correct one in the system)\n",
    "\n",
    "0 - 0.2 – not discriminating\n",
    "\n",
    "0.2 - 0.4 – starting to become discriminating\n",
    "\n",
    "> 0.4 – strongly discriminating because in practice, it can be difficult to obtain a DI greater than 0.4."
   ]
  },
  {
   "cell_type": "markdown",
   "id": "bottom-thumb",
   "metadata": {},
   "source": [
    "create groups : 25% of lowest and highest performing candidates"
   ]
  },
  {
   "cell_type": "code",
   "execution_count": null,
   "id": "vertical-insured",
   "metadata": {
    "scrolled": true
   },
   "outputs": [],
   "source": []
  },
  {
   "cell_type": "code",
   "execution_count": 41,
   "id": "moving-estonia",
   "metadata": {},
   "outputs": [
    {
     "data": {
      "application/javascript": [
       "\n",
       "            setTimeout(function() {\n",
       "                var nbb_cell_id = 41;\n",
       "                var nbb_unformatted_code = \"ergebnis = test1[\\n    test1.columns.difference(\\n        [\\n            \\\"Unnamed: 0\\\",\\n            \\\"Test\\\",\\n            \\\"Stufe\\\",\\n            \\\"unique_id\\\",\\n            \\\"Level\\\",\\n            \\\"Gesamt_Level\\\",\\n            \\\"Gesamt_Richtig\\\",\\n        ]\\n    )\\n].columns\";\n",
       "                var nbb_formatted_code = \"ergebnis = test1[\\n    test1.columns.difference(\\n        [\\n            \\\"Unnamed: 0\\\",\\n            \\\"Test\\\",\\n            \\\"Stufe\\\",\\n            \\\"unique_id\\\",\\n            \\\"Level\\\",\\n            \\\"Gesamt_Level\\\",\\n            \\\"Gesamt_Richtig\\\",\\n        ]\\n    )\\n].columns\";\n",
       "                var nbb_cells = Jupyter.notebook.get_cells();\n",
       "                for (var i = 0; i < nbb_cells.length; ++i) {\n",
       "                    if (nbb_cells[i].input_prompt_number == nbb_cell_id) {\n",
       "                        if (nbb_cells[i].get_text() == nbb_unformatted_code) {\n",
       "                             nbb_cells[i].set_text(nbb_formatted_code);\n",
       "                        }\n",
       "                        break;\n",
       "                    }\n",
       "                }\n",
       "            }, 500);\n",
       "            "
      ],
      "text/plain": [
       "<IPython.core.display.Javascript object>"
      ]
     },
     "metadata": {},
     "output_type": "display_data"
    }
   ],
   "source": [
    "ergebnis = test1[\n",
    "    test1.columns.difference(\n",
    "        [\n",
    "            \"Unnamed: 0\",\n",
    "            \"Test\",\n",
    "            \"Stufe\",\n",
    "            \"unique_id\",\n",
    "            \"Level\",\n",
    "            \"Gesamt_Level\",\n",
    "            \"Gesamt_Richtig\",\n",
    "        ]\n",
    "    )\n",
    "].columns"
   ]
  },
  {
   "cell_type": "code",
   "execution_count": 42,
   "id": "extensive-hypothesis",
   "metadata": {},
   "outputs": [
    {
     "data": {
      "text/plain": [
       "10"
      ]
     },
     "execution_count": 42,
     "metadata": {},
     "output_type": "execute_result"
    },
    {
     "data": {
      "application/javascript": [
       "\n",
       "            setTimeout(function() {\n",
       "                var nbb_cell_id = 42;\n",
       "                var nbb_unformatted_code = \"test_item_results = ergebnis.to_list()\\ntest_item_results\\ntestItemAnzahl = len(test_item_results)\\ntestItemAnzahl\";\n",
       "                var nbb_formatted_code = \"test_item_results = ergebnis.to_list()\\ntest_item_results\\ntestItemAnzahl = len(test_item_results)\\ntestItemAnzahl\";\n",
       "                var nbb_cells = Jupyter.notebook.get_cells();\n",
       "                for (var i = 0; i < nbb_cells.length; ++i) {\n",
       "                    if (nbb_cells[i].input_prompt_number == nbb_cell_id) {\n",
       "                        if (nbb_cells[i].get_text() == nbb_unformatted_code) {\n",
       "                             nbb_cells[i].set_text(nbb_formatted_code);\n",
       "                        }\n",
       "                        break;\n",
       "                    }\n",
       "                }\n",
       "            }, 500);\n",
       "            "
      ],
      "text/plain": [
       "<IPython.core.display.Javascript object>"
      ]
     },
     "metadata": {},
     "output_type": "display_data"
    }
   ],
   "source": [
    "test_item_results = ergebnis.to_list()\n",
    "test_item_results\n",
    "testItemAnzahl = len(test_item_results)\n",
    "testItemAnzahl"
   ]
  },
  {
   "cell_type": "code",
   "execution_count": 43,
   "id": "crucial-elements",
   "metadata": {},
   "outputs": [
    {
     "data": {
      "application/javascript": [
       "\n",
       "            setTimeout(function() {\n",
       "                var nbb_cell_id = 43;\n",
       "                var nbb_unformatted_code = \"test1_copy = test1.copy()\\ntest1_copy.replace(99, np.NaN, inplace=True)\\ntest1_copy[\\\"sum\\\"] = test1_copy[test_item_results].sum(axis=1)\";\n",
       "                var nbb_formatted_code = \"test1_copy = test1.copy()\\ntest1_copy.replace(99, np.NaN, inplace=True)\\ntest1_copy[\\\"sum\\\"] = test1_copy[test_item_results].sum(axis=1)\";\n",
       "                var nbb_cells = Jupyter.notebook.get_cells();\n",
       "                for (var i = 0; i < nbb_cells.length; ++i) {\n",
       "                    if (nbb_cells[i].input_prompt_number == nbb_cell_id) {\n",
       "                        if (nbb_cells[i].get_text() == nbb_unformatted_code) {\n",
       "                             nbb_cells[i].set_text(nbb_formatted_code);\n",
       "                        }\n",
       "                        break;\n",
       "                    }\n",
       "                }\n",
       "            }, 500);\n",
       "            "
      ],
      "text/plain": [
       "<IPython.core.display.Javascript object>"
      ]
     },
     "metadata": {},
     "output_type": "display_data"
    }
   ],
   "source": [
    "test1_copy = test1.copy()\n",
    "test1_copy.replace(99, np.NaN, inplace=True)\n",
    "test1_copy[\"sum\"] = test1_copy[test_item_results].sum(axis=1)\n"
   ]
  },
  {
   "cell_type": "code",
   "execution_count": 44,
   "id": "reduced-gather",
   "metadata": {},
   "outputs": [
    {
     "data": {
      "text/html": [
       "<div>\n",
       "<style scoped>\n",
       "    .dataframe tbody tr th:only-of-type {\n",
       "        vertical-align: middle;\n",
       "    }\n",
       "\n",
       "    .dataframe tbody tr th {\n",
       "        vertical-align: top;\n",
       "    }\n",
       "\n",
       "    .dataframe thead th {\n",
       "        text-align: right;\n",
       "    }\n",
       "</style>\n",
       "<table border=\"1\" class=\"dataframe\">\n",
       "  <thead>\n",
       "    <tr style=\"text-align: right;\">\n",
       "      <th></th>\n",
       "      <th>Unnamed: 0</th>\n",
       "      <th>Test</th>\n",
       "      <th>Stufe</th>\n",
       "      <th>unique_id</th>\n",
       "      <th>Level</th>\n",
       "      <th>Gesamt_Level</th>\n",
       "      <th>1</th>\n",
       "      <th>2</th>\n",
       "      <th>3</th>\n",
       "      <th>4</th>\n",
       "      <th>5</th>\n",
       "      <th>6</th>\n",
       "      <th>7</th>\n",
       "      <th>8</th>\n",
       "      <th>9</th>\n",
       "      <th>10</th>\n",
       "      <th>sum</th>\n",
       "    </tr>\n",
       "  </thead>\n",
       "  <tbody>\n",
       "    <tr>\n",
       "      <th>0</th>\n",
       "      <td>0</td>\n",
       "      <td>1</td>\n",
       "      <td>1</td>\n",
       "      <td>404_0</td>\n",
       "      <td>C</td>\n",
       "      <td>C</td>\n",
       "      <td>0.0</td>\n",
       "      <td>1.0</td>\n",
       "      <td>1.0</td>\n",
       "      <td>1.0</td>\n",
       "      <td>1.0</td>\n",
       "      <td>1.0</td>\n",
       "      <td>1.0</td>\n",
       "      <td>1.0</td>\n",
       "      <td>1.0</td>\n",
       "      <td>1.0</td>\n",
       "      <td>9.0</td>\n",
       "    </tr>\n",
       "    <tr>\n",
       "      <th>1</th>\n",
       "      <td>1</td>\n",
       "      <td>1</td>\n",
       "      <td>1</td>\n",
       "      <td>404_1</td>\n",
       "      <td>A</td>\n",
       "      <td>A</td>\n",
       "      <td>0.0</td>\n",
       "      <td>1.0</td>\n",
       "      <td>0.0</td>\n",
       "      <td>0.0</td>\n",
       "      <td>0.0</td>\n",
       "      <td>0.0</td>\n",
       "      <td>1.0</td>\n",
       "      <td>0.0</td>\n",
       "      <td>1.0</td>\n",
       "      <td>0.0</td>\n",
       "      <td>3.0</td>\n",
       "    </tr>\n",
       "    <tr>\n",
       "      <th>2</th>\n",
       "      <td>2</td>\n",
       "      <td>1</td>\n",
       "      <td>1</td>\n",
       "      <td>404_10</td>\n",
       "      <td>B</td>\n",
       "      <td>B</td>\n",
       "      <td>1.0</td>\n",
       "      <td>0.0</td>\n",
       "      <td>0.0</td>\n",
       "      <td>0.0</td>\n",
       "      <td>1.0</td>\n",
       "      <td>1.0</td>\n",
       "      <td>1.0</td>\n",
       "      <td>0.0</td>\n",
       "      <td>1.0</td>\n",
       "      <td>1.0</td>\n",
       "      <td>6.0</td>\n",
       "    </tr>\n",
       "    <tr>\n",
       "      <th>3</th>\n",
       "      <td>3</td>\n",
       "      <td>1</td>\n",
       "      <td>1</td>\n",
       "      <td>404_11</td>\n",
       "      <td>A</td>\n",
       "      <td>A</td>\n",
       "      <td>0.0</td>\n",
       "      <td>0.0</td>\n",
       "      <td>0.0</td>\n",
       "      <td>0.0</td>\n",
       "      <td>0.0</td>\n",
       "      <td>0.0</td>\n",
       "      <td>1.0</td>\n",
       "      <td>1.0</td>\n",
       "      <td>0.0</td>\n",
       "      <td>0.0</td>\n",
       "      <td>2.0</td>\n",
       "    </tr>\n",
       "    <tr>\n",
       "      <th>4</th>\n",
       "      <td>4</td>\n",
       "      <td>1</td>\n",
       "      <td>1</td>\n",
       "      <td>404_12</td>\n",
       "      <td>B</td>\n",
       "      <td>C</td>\n",
       "      <td>1.0</td>\n",
       "      <td>0.0</td>\n",
       "      <td>1.0</td>\n",
       "      <td>0.0</td>\n",
       "      <td>0.0</td>\n",
       "      <td>0.0</td>\n",
       "      <td>1.0</td>\n",
       "      <td>0.0</td>\n",
       "      <td>1.0</td>\n",
       "      <td>1.0</td>\n",
       "      <td>5.0</td>\n",
       "    </tr>\n",
       "    <tr>\n",
       "      <th>5</th>\n",
       "      <td>5</td>\n",
       "      <td>1</td>\n",
       "      <td>1</td>\n",
       "      <td>404_13</td>\n",
       "      <td>A</td>\n",
       "      <td>B</td>\n",
       "      <td>1.0</td>\n",
       "      <td>0.0</td>\n",
       "      <td>1.0</td>\n",
       "      <td>1.0</td>\n",
       "      <td>0.0</td>\n",
       "      <td>1.0</td>\n",
       "      <td>1.0</td>\n",
       "      <td>1.0</td>\n",
       "      <td>1.0</td>\n",
       "      <td>NaN</td>\n",
       "      <td>7.0</td>\n",
       "    </tr>\n",
       "    <tr>\n",
       "      <th>6</th>\n",
       "      <td>6</td>\n",
       "      <td>1</td>\n",
       "      <td>1</td>\n",
       "      <td>404_2</td>\n",
       "      <td>A</td>\n",
       "      <td>A</td>\n",
       "      <td>0.0</td>\n",
       "      <td>0.0</td>\n",
       "      <td>0.0</td>\n",
       "      <td>0.0</td>\n",
       "      <td>0.0</td>\n",
       "      <td>0.0</td>\n",
       "      <td>1.0</td>\n",
       "      <td>0.0</td>\n",
       "      <td>1.0</td>\n",
       "      <td>1.0</td>\n",
       "      <td>3.0</td>\n",
       "    </tr>\n",
       "    <tr>\n",
       "      <th>7</th>\n",
       "      <td>7</td>\n",
       "      <td>1</td>\n",
       "      <td>1</td>\n",
       "      <td>404_3</td>\n",
       "      <td>C</td>\n",
       "      <td>C</td>\n",
       "      <td>1.0</td>\n",
       "      <td>0.0</td>\n",
       "      <td>1.0</td>\n",
       "      <td>0.0</td>\n",
       "      <td>1.0</td>\n",
       "      <td>1.0</td>\n",
       "      <td>1.0</td>\n",
       "      <td>1.0</td>\n",
       "      <td>1.0</td>\n",
       "      <td>1.0</td>\n",
       "      <td>8.0</td>\n",
       "    </tr>\n",
       "    <tr>\n",
       "      <th>8</th>\n",
       "      <td>8</td>\n",
       "      <td>1</td>\n",
       "      <td>1</td>\n",
       "      <td>404_4</td>\n",
       "      <td>A</td>\n",
       "      <td>B</td>\n",
       "      <td>1.0</td>\n",
       "      <td>0.0</td>\n",
       "      <td>0.0</td>\n",
       "      <td>0.0</td>\n",
       "      <td>0.0</td>\n",
       "      <td>0.0</td>\n",
       "      <td>0.0</td>\n",
       "      <td>0.0</td>\n",
       "      <td>0.0</td>\n",
       "      <td>1.0</td>\n",
       "      <td>2.0</td>\n",
       "    </tr>\n",
       "    <tr>\n",
       "      <th>9</th>\n",
       "      <td>9</td>\n",
       "      <td>1</td>\n",
       "      <td>1</td>\n",
       "      <td>404_5</td>\n",
       "      <td>B</td>\n",
       "      <td>C</td>\n",
       "      <td>1.0</td>\n",
       "      <td>1.0</td>\n",
       "      <td>NaN</td>\n",
       "      <td>1.0</td>\n",
       "      <td>1.0</td>\n",
       "      <td>1.0</td>\n",
       "      <td>1.0</td>\n",
       "      <td>1.0</td>\n",
       "      <td>1.0</td>\n",
       "      <td>1.0</td>\n",
       "      <td>9.0</td>\n",
       "    </tr>\n",
       "    <tr>\n",
       "      <th>10</th>\n",
       "      <td>10</td>\n",
       "      <td>1</td>\n",
       "      <td>1</td>\n",
       "      <td>404_6</td>\n",
       "      <td>C</td>\n",
       "      <td>C</td>\n",
       "      <td>1.0</td>\n",
       "      <td>1.0</td>\n",
       "      <td>1.0</td>\n",
       "      <td>1.0</td>\n",
       "      <td>1.0</td>\n",
       "      <td>1.0</td>\n",
       "      <td>1.0</td>\n",
       "      <td>1.0</td>\n",
       "      <td>1.0</td>\n",
       "      <td>1.0</td>\n",
       "      <td>10.0</td>\n",
       "    </tr>\n",
       "    <tr>\n",
       "      <th>11</th>\n",
       "      <td>11</td>\n",
       "      <td>1</td>\n",
       "      <td>1</td>\n",
       "      <td>404_7</td>\n",
       "      <td>A</td>\n",
       "      <td>B</td>\n",
       "      <td>1.0</td>\n",
       "      <td>1.0</td>\n",
       "      <td>0.0</td>\n",
       "      <td>0.0</td>\n",
       "      <td>1.0</td>\n",
       "      <td>0.0</td>\n",
       "      <td>0.0</td>\n",
       "      <td>0.0</td>\n",
       "      <td>0.0</td>\n",
       "      <td>0.0</td>\n",
       "      <td>3.0</td>\n",
       "    </tr>\n",
       "    <tr>\n",
       "      <th>12</th>\n",
       "      <td>12</td>\n",
       "      <td>1</td>\n",
       "      <td>1</td>\n",
       "      <td>404_8</td>\n",
       "      <td>C</td>\n",
       "      <td>A</td>\n",
       "      <td>1.0</td>\n",
       "      <td>1.0</td>\n",
       "      <td>1.0</td>\n",
       "      <td>1.0</td>\n",
       "      <td>1.0</td>\n",
       "      <td>1.0</td>\n",
       "      <td>1.0</td>\n",
       "      <td>1.0</td>\n",
       "      <td>1.0</td>\n",
       "      <td>1.0</td>\n",
       "      <td>10.0</td>\n",
       "    </tr>\n",
       "    <tr>\n",
       "      <th>13</th>\n",
       "      <td>13</td>\n",
       "      <td>1</td>\n",
       "      <td>1</td>\n",
       "      <td>505_1</td>\n",
       "      <td>B</td>\n",
       "      <td>B</td>\n",
       "      <td>0.0</td>\n",
       "      <td>1.0</td>\n",
       "      <td>1.0</td>\n",
       "      <td>NaN</td>\n",
       "      <td>1.0</td>\n",
       "      <td>1.0</td>\n",
       "      <td>1.0</td>\n",
       "      <td>1.0</td>\n",
       "      <td>1.0</td>\n",
       "      <td>1.0</td>\n",
       "      <td>8.0</td>\n",
       "    </tr>\n",
       "    <tr>\n",
       "      <th>14</th>\n",
       "      <td>14</td>\n",
       "      <td>1</td>\n",
       "      <td>1</td>\n",
       "      <td>505_20</td>\n",
       "      <td>A</td>\n",
       "      <td>B</td>\n",
       "      <td>1.0</td>\n",
       "      <td>1.0</td>\n",
       "      <td>1.0</td>\n",
       "      <td>0.0</td>\n",
       "      <td>1.0</td>\n",
       "      <td>0.0</td>\n",
       "      <td>0.0</td>\n",
       "      <td>NaN</td>\n",
       "      <td>NaN</td>\n",
       "      <td>NaN</td>\n",
       "      <td>4.0</td>\n",
       "    </tr>\n",
       "    <tr>\n",
       "      <th>15</th>\n",
       "      <td>15</td>\n",
       "      <td>1</td>\n",
       "      <td>1</td>\n",
       "      <td>505_3</td>\n",
       "      <td>A</td>\n",
       "      <td>B</td>\n",
       "      <td>1.0</td>\n",
       "      <td>1.0</td>\n",
       "      <td>1.0</td>\n",
       "      <td>NaN</td>\n",
       "      <td>1.0</td>\n",
       "      <td>1.0</td>\n",
       "      <td>NaN</td>\n",
       "      <td>1.0</td>\n",
       "      <td>NaN</td>\n",
       "      <td>NaN</td>\n",
       "      <td>6.0</td>\n",
       "    </tr>\n",
       "    <tr>\n",
       "      <th>16</th>\n",
       "      <td>16</td>\n",
       "      <td>1</td>\n",
       "      <td>2</td>\n",
       "      <td>303_0</td>\n",
       "      <td>C</td>\n",
       "      <td>B</td>\n",
       "      <td>1.0</td>\n",
       "      <td>1.0</td>\n",
       "      <td>1.0</td>\n",
       "      <td>1.0</td>\n",
       "      <td>1.0</td>\n",
       "      <td>1.0</td>\n",
       "      <td>1.0</td>\n",
       "      <td>1.0</td>\n",
       "      <td>1.0</td>\n",
       "      <td>1.0</td>\n",
       "      <td>10.0</td>\n",
       "    </tr>\n",
       "    <tr>\n",
       "      <th>17</th>\n",
       "      <td>17</td>\n",
       "      <td>1</td>\n",
       "      <td>2</td>\n",
       "      <td>303_1</td>\n",
       "      <td>C</td>\n",
       "      <td>C</td>\n",
       "      <td>1.0</td>\n",
       "      <td>1.0</td>\n",
       "      <td>1.0</td>\n",
       "      <td>1.0</td>\n",
       "      <td>1.0</td>\n",
       "      <td>1.0</td>\n",
       "      <td>1.0</td>\n",
       "      <td>1.0</td>\n",
       "      <td>1.0</td>\n",
       "      <td>1.0</td>\n",
       "      <td>10.0</td>\n",
       "    </tr>\n",
       "    <tr>\n",
       "      <th>18</th>\n",
       "      <td>18</td>\n",
       "      <td>1</td>\n",
       "      <td>2</td>\n",
       "      <td>303_11</td>\n",
       "      <td>B</td>\n",
       "      <td>undefined</td>\n",
       "      <td>1.0</td>\n",
       "      <td>1.0</td>\n",
       "      <td>1.0</td>\n",
       "      <td>1.0</td>\n",
       "      <td>1.0</td>\n",
       "      <td>1.0</td>\n",
       "      <td>1.0</td>\n",
       "      <td>1.0</td>\n",
       "      <td>1.0</td>\n",
       "      <td>1.0</td>\n",
       "      <td>10.0</td>\n",
       "    </tr>\n",
       "    <tr>\n",
       "      <th>19</th>\n",
       "      <td>19</td>\n",
       "      <td>1</td>\n",
       "      <td>2</td>\n",
       "      <td>303_12</td>\n",
       "      <td>C</td>\n",
       "      <td>C</td>\n",
       "      <td>1.0</td>\n",
       "      <td>1.0</td>\n",
       "      <td>1.0</td>\n",
       "      <td>1.0</td>\n",
       "      <td>1.0</td>\n",
       "      <td>1.0</td>\n",
       "      <td>1.0</td>\n",
       "      <td>1.0</td>\n",
       "      <td>1.0</td>\n",
       "      <td>1.0</td>\n",
       "      <td>10.0</td>\n",
       "    </tr>\n",
       "    <tr>\n",
       "      <th>20</th>\n",
       "      <td>20</td>\n",
       "      <td>1</td>\n",
       "      <td>2</td>\n",
       "      <td>303_13</td>\n",
       "      <td>C</td>\n",
       "      <td>B</td>\n",
       "      <td>1.0</td>\n",
       "      <td>1.0</td>\n",
       "      <td>1.0</td>\n",
       "      <td>1.0</td>\n",
       "      <td>1.0</td>\n",
       "      <td>1.0</td>\n",
       "      <td>1.0</td>\n",
       "      <td>1.0</td>\n",
       "      <td>1.0</td>\n",
       "      <td>1.0</td>\n",
       "      <td>10.0</td>\n",
       "    </tr>\n",
       "    <tr>\n",
       "      <th>21</th>\n",
       "      <td>21</td>\n",
       "      <td>1</td>\n",
       "      <td>2</td>\n",
       "      <td>303_14</td>\n",
       "      <td>C</td>\n",
       "      <td>C</td>\n",
       "      <td>1.0</td>\n",
       "      <td>1.0</td>\n",
       "      <td>1.0</td>\n",
       "      <td>1.0</td>\n",
       "      <td>1.0</td>\n",
       "      <td>1.0</td>\n",
       "      <td>1.0</td>\n",
       "      <td>1.0</td>\n",
       "      <td>1.0</td>\n",
       "      <td>1.0</td>\n",
       "      <td>10.0</td>\n",
       "    </tr>\n",
       "    <tr>\n",
       "      <th>22</th>\n",
       "      <td>22</td>\n",
       "      <td>1</td>\n",
       "      <td>2</td>\n",
       "      <td>303_15</td>\n",
       "      <td>C</td>\n",
       "      <td>C</td>\n",
       "      <td>1.0</td>\n",
       "      <td>1.0</td>\n",
       "      <td>1.0</td>\n",
       "      <td>1.0</td>\n",
       "      <td>1.0</td>\n",
       "      <td>1.0</td>\n",
       "      <td>1.0</td>\n",
       "      <td>1.0</td>\n",
       "      <td>1.0</td>\n",
       "      <td>1.0</td>\n",
       "      <td>10.0</td>\n",
       "    </tr>\n",
       "    <tr>\n",
       "      <th>23</th>\n",
       "      <td>23</td>\n",
       "      <td>1</td>\n",
       "      <td>2</td>\n",
       "      <td>303_16</td>\n",
       "      <td>B</td>\n",
       "      <td>B</td>\n",
       "      <td>0.0</td>\n",
       "      <td>1.0</td>\n",
       "      <td>0.0</td>\n",
       "      <td>1.0</td>\n",
       "      <td>0.0</td>\n",
       "      <td>1.0</td>\n",
       "      <td>1.0</td>\n",
       "      <td>0.0</td>\n",
       "      <td>1.0</td>\n",
       "      <td>1.0</td>\n",
       "      <td>6.0</td>\n",
       "    </tr>\n",
       "    <tr>\n",
       "      <th>24</th>\n",
       "      <td>24</td>\n",
       "      <td>1</td>\n",
       "      <td>2</td>\n",
       "      <td>303_17</td>\n",
       "      <td>C</td>\n",
       "      <td>C</td>\n",
       "      <td>1.0</td>\n",
       "      <td>1.0</td>\n",
       "      <td>1.0</td>\n",
       "      <td>1.0</td>\n",
       "      <td>1.0</td>\n",
       "      <td>1.0</td>\n",
       "      <td>1.0</td>\n",
       "      <td>1.0</td>\n",
       "      <td>1.0</td>\n",
       "      <td>1.0</td>\n",
       "      <td>10.0</td>\n",
       "    </tr>\n",
       "    <tr>\n",
       "      <th>25</th>\n",
       "      <td>25</td>\n",
       "      <td>1</td>\n",
       "      <td>2</td>\n",
       "      <td>303_2</td>\n",
       "      <td>C</td>\n",
       "      <td>C</td>\n",
       "      <td>1.0</td>\n",
       "      <td>1.0</td>\n",
       "      <td>1.0</td>\n",
       "      <td>1.0</td>\n",
       "      <td>1.0</td>\n",
       "      <td>1.0</td>\n",
       "      <td>1.0</td>\n",
       "      <td>1.0</td>\n",
       "      <td>1.0</td>\n",
       "      <td>1.0</td>\n",
       "      <td>10.0</td>\n",
       "    </tr>\n",
       "    <tr>\n",
       "      <th>26</th>\n",
       "      <td>26</td>\n",
       "      <td>1</td>\n",
       "      <td>2</td>\n",
       "      <td>303_3</td>\n",
       "      <td>B</td>\n",
       "      <td>C</td>\n",
       "      <td>1.0</td>\n",
       "      <td>1.0</td>\n",
       "      <td>1.0</td>\n",
       "      <td>1.0</td>\n",
       "      <td>1.0</td>\n",
       "      <td>1.0</td>\n",
       "      <td>1.0</td>\n",
       "      <td>1.0</td>\n",
       "      <td>1.0</td>\n",
       "      <td>1.0</td>\n",
       "      <td>10.0</td>\n",
       "    </tr>\n",
       "    <tr>\n",
       "      <th>27</th>\n",
       "      <td>27</td>\n",
       "      <td>1</td>\n",
       "      <td>2</td>\n",
       "      <td>303_4</td>\n",
       "      <td>B</td>\n",
       "      <td>B</td>\n",
       "      <td>1.0</td>\n",
       "      <td>1.0</td>\n",
       "      <td>1.0</td>\n",
       "      <td>1.0</td>\n",
       "      <td>1.0</td>\n",
       "      <td>1.0</td>\n",
       "      <td>1.0</td>\n",
       "      <td>1.0</td>\n",
       "      <td>0.0</td>\n",
       "      <td>1.0</td>\n",
       "      <td>9.0</td>\n",
       "    </tr>\n",
       "    <tr>\n",
       "      <th>28</th>\n",
       "      <td>28</td>\n",
       "      <td>1</td>\n",
       "      <td>2</td>\n",
       "      <td>303_5</td>\n",
       "      <td>C</td>\n",
       "      <td>C</td>\n",
       "      <td>1.0</td>\n",
       "      <td>1.0</td>\n",
       "      <td>1.0</td>\n",
       "      <td>1.0</td>\n",
       "      <td>1.0</td>\n",
       "      <td>1.0</td>\n",
       "      <td>1.0</td>\n",
       "      <td>1.0</td>\n",
       "      <td>1.0</td>\n",
       "      <td>1.0</td>\n",
       "      <td>10.0</td>\n",
       "    </tr>\n",
       "    <tr>\n",
       "      <th>29</th>\n",
       "      <td>29</td>\n",
       "      <td>1</td>\n",
       "      <td>2</td>\n",
       "      <td>303_6</td>\n",
       "      <td>C</td>\n",
       "      <td>C</td>\n",
       "      <td>1.0</td>\n",
       "      <td>1.0</td>\n",
       "      <td>1.0</td>\n",
       "      <td>0.0</td>\n",
       "      <td>1.0</td>\n",
       "      <td>1.0</td>\n",
       "      <td>1.0</td>\n",
       "      <td>1.0</td>\n",
       "      <td>1.0</td>\n",
       "      <td>1.0</td>\n",
       "      <td>9.0</td>\n",
       "    </tr>\n",
       "    <tr>\n",
       "      <th>30</th>\n",
       "      <td>30</td>\n",
       "      <td>1</td>\n",
       "      <td>2</td>\n",
       "      <td>303_7</td>\n",
       "      <td>C</td>\n",
       "      <td>C</td>\n",
       "      <td>1.0</td>\n",
       "      <td>1.0</td>\n",
       "      <td>1.0</td>\n",
       "      <td>1.0</td>\n",
       "      <td>1.0</td>\n",
       "      <td>1.0</td>\n",
       "      <td>1.0</td>\n",
       "      <td>1.0</td>\n",
       "      <td>1.0</td>\n",
       "      <td>1.0</td>\n",
       "      <td>10.0</td>\n",
       "    </tr>\n",
       "    <tr>\n",
       "      <th>31</th>\n",
       "      <td>31</td>\n",
       "      <td>1</td>\n",
       "      <td>2</td>\n",
       "      <td>303_8</td>\n",
       "      <td>C</td>\n",
       "      <td>C</td>\n",
       "      <td>1.0</td>\n",
       "      <td>1.0</td>\n",
       "      <td>1.0</td>\n",
       "      <td>1.0</td>\n",
       "      <td>1.0</td>\n",
       "      <td>1.0</td>\n",
       "      <td>1.0</td>\n",
       "      <td>1.0</td>\n",
       "      <td>1.0</td>\n",
       "      <td>1.0</td>\n",
       "      <td>10.0</td>\n",
       "    </tr>\n",
       "    <tr>\n",
       "      <th>32</th>\n",
       "      <td>32</td>\n",
       "      <td>1</td>\n",
       "      <td>2</td>\n",
       "      <td>303_9</td>\n",
       "      <td>B</td>\n",
       "      <td>B</td>\n",
       "      <td>1.0</td>\n",
       "      <td>0.0</td>\n",
       "      <td>0.0</td>\n",
       "      <td>1.0</td>\n",
       "      <td>1.0</td>\n",
       "      <td>1.0</td>\n",
       "      <td>1.0</td>\n",
       "      <td>1.0</td>\n",
       "      <td>1.0</td>\n",
       "      <td>1.0</td>\n",
       "      <td>8.0</td>\n",
       "    </tr>\n",
       "    <tr>\n",
       "      <th>33</th>\n",
       "      <td>33</td>\n",
       "      <td>1</td>\n",
       "      <td>2</td>\n",
       "      <td>606_0</td>\n",
       "      <td>C</td>\n",
       "      <td>C</td>\n",
       "      <td>1.0</td>\n",
       "      <td>1.0</td>\n",
       "      <td>1.0</td>\n",
       "      <td>1.0</td>\n",
       "      <td>1.0</td>\n",
       "      <td>1.0</td>\n",
       "      <td>1.0</td>\n",
       "      <td>1.0</td>\n",
       "      <td>1.0</td>\n",
       "      <td>1.0</td>\n",
       "      <td>10.0</td>\n",
       "    </tr>\n",
       "    <tr>\n",
       "      <th>34</th>\n",
       "      <td>34</td>\n",
       "      <td>1</td>\n",
       "      <td>2</td>\n",
       "      <td>606_1</td>\n",
       "      <td>C</td>\n",
       "      <td>C</td>\n",
       "      <td>1.0</td>\n",
       "      <td>0.0</td>\n",
       "      <td>1.0</td>\n",
       "      <td>1.0</td>\n",
       "      <td>1.0</td>\n",
       "      <td>NaN</td>\n",
       "      <td>1.0</td>\n",
       "      <td>1.0</td>\n",
       "      <td>1.0</td>\n",
       "      <td>1.0</td>\n",
       "      <td>8.0</td>\n",
       "    </tr>\n",
       "    <tr>\n",
       "      <th>35</th>\n",
       "      <td>35</td>\n",
       "      <td>1</td>\n",
       "      <td>2</td>\n",
       "      <td>606_10</td>\n",
       "      <td>C</td>\n",
       "      <td>C</td>\n",
       "      <td>1.0</td>\n",
       "      <td>1.0</td>\n",
       "      <td>1.0</td>\n",
       "      <td>1.0</td>\n",
       "      <td>1.0</td>\n",
       "      <td>1.0</td>\n",
       "      <td>1.0</td>\n",
       "      <td>1.0</td>\n",
       "      <td>1.0</td>\n",
       "      <td>1.0</td>\n",
       "      <td>10.0</td>\n",
       "    </tr>\n",
       "    <tr>\n",
       "      <th>36</th>\n",
       "      <td>36</td>\n",
       "      <td>1</td>\n",
       "      <td>2</td>\n",
       "      <td>606_11</td>\n",
       "      <td>B</td>\n",
       "      <td>C</td>\n",
       "      <td>1.0</td>\n",
       "      <td>0.0</td>\n",
       "      <td>0.0</td>\n",
       "      <td>1.0</td>\n",
       "      <td>1.0</td>\n",
       "      <td>0.0</td>\n",
       "      <td>1.0</td>\n",
       "      <td>0.0</td>\n",
       "      <td>1.0</td>\n",
       "      <td>1.0</td>\n",
       "      <td>6.0</td>\n",
       "    </tr>\n",
       "    <tr>\n",
       "      <th>37</th>\n",
       "      <td>37</td>\n",
       "      <td>1</td>\n",
       "      <td>2</td>\n",
       "      <td>606_12</td>\n",
       "      <td>B</td>\n",
       "      <td>B</td>\n",
       "      <td>1.0</td>\n",
       "      <td>0.0</td>\n",
       "      <td>1.0</td>\n",
       "      <td>0.0</td>\n",
       "      <td>1.0</td>\n",
       "      <td>1.0</td>\n",
       "      <td>0.0</td>\n",
       "      <td>1.0</td>\n",
       "      <td>1.0</td>\n",
       "      <td>1.0</td>\n",
       "      <td>7.0</td>\n",
       "    </tr>\n",
       "    <tr>\n",
       "      <th>38</th>\n",
       "      <td>38</td>\n",
       "      <td>1</td>\n",
       "      <td>2</td>\n",
       "      <td>606_13</td>\n",
       "      <td>C</td>\n",
       "      <td>C</td>\n",
       "      <td>1.0</td>\n",
       "      <td>1.0</td>\n",
       "      <td>1.0</td>\n",
       "      <td>1.0</td>\n",
       "      <td>1.0</td>\n",
       "      <td>1.0</td>\n",
       "      <td>1.0</td>\n",
       "      <td>1.0</td>\n",
       "      <td>1.0</td>\n",
       "      <td>1.0</td>\n",
       "      <td>10.0</td>\n",
       "    </tr>\n",
       "    <tr>\n",
       "      <th>39</th>\n",
       "      <td>39</td>\n",
       "      <td>1</td>\n",
       "      <td>2</td>\n",
       "      <td>606_14</td>\n",
       "      <td>C</td>\n",
       "      <td>C</td>\n",
       "      <td>1.0</td>\n",
       "      <td>1.0</td>\n",
       "      <td>1.0</td>\n",
       "      <td>1.0</td>\n",
       "      <td>1.0</td>\n",
       "      <td>1.0</td>\n",
       "      <td>1.0</td>\n",
       "      <td>1.0</td>\n",
       "      <td>1.0</td>\n",
       "      <td>1.0</td>\n",
       "      <td>10.0</td>\n",
       "    </tr>\n",
       "    <tr>\n",
       "      <th>40</th>\n",
       "      <td>40</td>\n",
       "      <td>1</td>\n",
       "      <td>2</td>\n",
       "      <td>606_15</td>\n",
       "      <td>C</td>\n",
       "      <td>C</td>\n",
       "      <td>1.0</td>\n",
       "      <td>1.0</td>\n",
       "      <td>1.0</td>\n",
       "      <td>1.0</td>\n",
       "      <td>1.0</td>\n",
       "      <td>1.0</td>\n",
       "      <td>1.0</td>\n",
       "      <td>0.0</td>\n",
       "      <td>1.0</td>\n",
       "      <td>1.0</td>\n",
       "      <td>9.0</td>\n",
       "    </tr>\n",
       "    <tr>\n",
       "      <th>41</th>\n",
       "      <td>41</td>\n",
       "      <td>1</td>\n",
       "      <td>2</td>\n",
       "      <td>606_16</td>\n",
       "      <td>C</td>\n",
       "      <td>C</td>\n",
       "      <td>1.0</td>\n",
       "      <td>1.0</td>\n",
       "      <td>1.0</td>\n",
       "      <td>1.0</td>\n",
       "      <td>1.0</td>\n",
       "      <td>1.0</td>\n",
       "      <td>1.0</td>\n",
       "      <td>1.0</td>\n",
       "      <td>1.0</td>\n",
       "      <td>1.0</td>\n",
       "      <td>10.0</td>\n",
       "    </tr>\n",
       "    <tr>\n",
       "      <th>42</th>\n",
       "      <td>42</td>\n",
       "      <td>1</td>\n",
       "      <td>2</td>\n",
       "      <td>606_17</td>\n",
       "      <td>C</td>\n",
       "      <td>C</td>\n",
       "      <td>1.0</td>\n",
       "      <td>1.0</td>\n",
       "      <td>1.0</td>\n",
       "      <td>1.0</td>\n",
       "      <td>1.0</td>\n",
       "      <td>1.0</td>\n",
       "      <td>1.0</td>\n",
       "      <td>1.0</td>\n",
       "      <td>1.0</td>\n",
       "      <td>1.0</td>\n",
       "      <td>10.0</td>\n",
       "    </tr>\n",
       "    <tr>\n",
       "      <th>43</th>\n",
       "      <td>43</td>\n",
       "      <td>1</td>\n",
       "      <td>2</td>\n",
       "      <td>606_2</td>\n",
       "      <td>C</td>\n",
       "      <td>B</td>\n",
       "      <td>1.0</td>\n",
       "      <td>1.0</td>\n",
       "      <td>1.0</td>\n",
       "      <td>1.0</td>\n",
       "      <td>1.0</td>\n",
       "      <td>1.0</td>\n",
       "      <td>1.0</td>\n",
       "      <td>1.0</td>\n",
       "      <td>1.0</td>\n",
       "      <td>1.0</td>\n",
       "      <td>10.0</td>\n",
       "    </tr>\n",
       "    <tr>\n",
       "      <th>44</th>\n",
       "      <td>44</td>\n",
       "      <td>1</td>\n",
       "      <td>2</td>\n",
       "      <td>606_25</td>\n",
       "      <td>A</td>\n",
       "      <td>A</td>\n",
       "      <td>1.0</td>\n",
       "      <td>1.0</td>\n",
       "      <td>1.0</td>\n",
       "      <td>0.0</td>\n",
       "      <td>0.0</td>\n",
       "      <td>1.0</td>\n",
       "      <td>1.0</td>\n",
       "      <td>1.0</td>\n",
       "      <td>1.0</td>\n",
       "      <td>1.0</td>\n",
       "      <td>8.0</td>\n",
       "    </tr>\n",
       "    <tr>\n",
       "      <th>45</th>\n",
       "      <td>45</td>\n",
       "      <td>1</td>\n",
       "      <td>2</td>\n",
       "      <td>606_3</td>\n",
       "      <td>B</td>\n",
       "      <td>B</td>\n",
       "      <td>1.0</td>\n",
       "      <td>1.0</td>\n",
       "      <td>1.0</td>\n",
       "      <td>NaN</td>\n",
       "      <td>NaN</td>\n",
       "      <td>0.0</td>\n",
       "      <td>1.0</td>\n",
       "      <td>1.0</td>\n",
       "      <td>1.0</td>\n",
       "      <td>1.0</td>\n",
       "      <td>7.0</td>\n",
       "    </tr>\n",
       "    <tr>\n",
       "      <th>46</th>\n",
       "      <td>46</td>\n",
       "      <td>1</td>\n",
       "      <td>2</td>\n",
       "      <td>606_4</td>\n",
       "      <td>C</td>\n",
       "      <td>C</td>\n",
       "      <td>1.0</td>\n",
       "      <td>1.0</td>\n",
       "      <td>1.0</td>\n",
       "      <td>1.0</td>\n",
       "      <td>1.0</td>\n",
       "      <td>1.0</td>\n",
       "      <td>1.0</td>\n",
       "      <td>1.0</td>\n",
       "      <td>1.0</td>\n",
       "      <td>1.0</td>\n",
       "      <td>10.0</td>\n",
       "    </tr>\n",
       "    <tr>\n",
       "      <th>47</th>\n",
       "      <td>47</td>\n",
       "      <td>1</td>\n",
       "      <td>2</td>\n",
       "      <td>606_5</td>\n",
       "      <td>C</td>\n",
       "      <td>C</td>\n",
       "      <td>1.0</td>\n",
       "      <td>1.0</td>\n",
       "      <td>1.0</td>\n",
       "      <td>1.0</td>\n",
       "      <td>1.0</td>\n",
       "      <td>1.0</td>\n",
       "      <td>1.0</td>\n",
       "      <td>1.0</td>\n",
       "      <td>1.0</td>\n",
       "      <td>NaN</td>\n",
       "      <td>9.0</td>\n",
       "    </tr>\n",
       "    <tr>\n",
       "      <th>48</th>\n",
       "      <td>48</td>\n",
       "      <td>1</td>\n",
       "      <td>2</td>\n",
       "      <td>606_6</td>\n",
       "      <td>C</td>\n",
       "      <td>C</td>\n",
       "      <td>1.0</td>\n",
       "      <td>1.0</td>\n",
       "      <td>1.0</td>\n",
       "      <td>1.0</td>\n",
       "      <td>1.0</td>\n",
       "      <td>1.0</td>\n",
       "      <td>1.0</td>\n",
       "      <td>1.0</td>\n",
       "      <td>1.0</td>\n",
       "      <td>1.0</td>\n",
       "      <td>10.0</td>\n",
       "    </tr>\n",
       "    <tr>\n",
       "      <th>49</th>\n",
       "      <td>49</td>\n",
       "      <td>1</td>\n",
       "      <td>2</td>\n",
       "      <td>606_8</td>\n",
       "      <td>C</td>\n",
       "      <td>C</td>\n",
       "      <td>1.0</td>\n",
       "      <td>1.0</td>\n",
       "      <td>1.0</td>\n",
       "      <td>1.0</td>\n",
       "      <td>1.0</td>\n",
       "      <td>1.0</td>\n",
       "      <td>1.0</td>\n",
       "      <td>1.0</td>\n",
       "      <td>1.0</td>\n",
       "      <td>1.0</td>\n",
       "      <td>10.0</td>\n",
       "    </tr>\n",
       "    <tr>\n",
       "      <th>50</th>\n",
       "      <td>50</td>\n",
       "      <td>1</td>\n",
       "      <td>2</td>\n",
       "      <td>606_9</td>\n",
       "      <td>B</td>\n",
       "      <td>B</td>\n",
       "      <td>1.0</td>\n",
       "      <td>1.0</td>\n",
       "      <td>1.0</td>\n",
       "      <td>NaN</td>\n",
       "      <td>1.0</td>\n",
       "      <td>1.0</td>\n",
       "      <td>1.0</td>\n",
       "      <td>1.0</td>\n",
       "      <td>1.0</td>\n",
       "      <td>NaN</td>\n",
       "      <td>8.0</td>\n",
       "    </tr>\n",
       "  </tbody>\n",
       "</table>\n",
       "</div>"
      ],
      "text/plain": [
       "    Unnamed: 0  Test  Stufe unique_id Level Gesamt_Level    1    2    3    4  \\\n",
       "0            0     1      1     404_0     C            C  0.0  1.0  1.0  1.0   \n",
       "1            1     1      1     404_1     A            A  0.0  1.0  0.0  0.0   \n",
       "2            2     1      1    404_10     B            B  1.0  0.0  0.0  0.0   \n",
       "3            3     1      1    404_11     A            A  0.0  0.0  0.0  0.0   \n",
       "4            4     1      1    404_12     B            C  1.0  0.0  1.0  0.0   \n",
       "5            5     1      1    404_13     A            B  1.0  0.0  1.0  1.0   \n",
       "6            6     1      1     404_2     A            A  0.0  0.0  0.0  0.0   \n",
       "7            7     1      1     404_3     C            C  1.0  0.0  1.0  0.0   \n",
       "8            8     1      1     404_4     A            B  1.0  0.0  0.0  0.0   \n",
       "9            9     1      1     404_5     B            C  1.0  1.0  NaN  1.0   \n",
       "10          10     1      1     404_6     C            C  1.0  1.0  1.0  1.0   \n",
       "11          11     1      1     404_7     A            B  1.0  1.0  0.0  0.0   \n",
       "12          12     1      1     404_8     C            A  1.0  1.0  1.0  1.0   \n",
       "13          13     1      1     505_1     B            B  0.0  1.0  1.0  NaN   \n",
       "14          14     1      1    505_20     A            B  1.0  1.0  1.0  0.0   \n",
       "15          15     1      1     505_3     A            B  1.0  1.0  1.0  NaN   \n",
       "16          16     1      2     303_0     C            B  1.0  1.0  1.0  1.0   \n",
       "17          17     1      2     303_1     C            C  1.0  1.0  1.0  1.0   \n",
       "18          18     1      2    303_11     B    undefined  1.0  1.0  1.0  1.0   \n",
       "19          19     1      2    303_12     C            C  1.0  1.0  1.0  1.0   \n",
       "20          20     1      2    303_13     C            B  1.0  1.0  1.0  1.0   \n",
       "21          21     1      2    303_14     C            C  1.0  1.0  1.0  1.0   \n",
       "22          22     1      2    303_15     C            C  1.0  1.0  1.0  1.0   \n",
       "23          23     1      2    303_16     B            B  0.0  1.0  0.0  1.0   \n",
       "24          24     1      2    303_17     C            C  1.0  1.0  1.0  1.0   \n",
       "25          25     1      2     303_2     C            C  1.0  1.0  1.0  1.0   \n",
       "26          26     1      2     303_3     B            C  1.0  1.0  1.0  1.0   \n",
       "27          27     1      2     303_4     B            B  1.0  1.0  1.0  1.0   \n",
       "28          28     1      2     303_5     C            C  1.0  1.0  1.0  1.0   \n",
       "29          29     1      2     303_6     C            C  1.0  1.0  1.0  0.0   \n",
       "30          30     1      2     303_7     C            C  1.0  1.0  1.0  1.0   \n",
       "31          31     1      2     303_8     C            C  1.0  1.0  1.0  1.0   \n",
       "32          32     1      2     303_9     B            B  1.0  0.0  0.0  1.0   \n",
       "33          33     1      2     606_0     C            C  1.0  1.0  1.0  1.0   \n",
       "34          34     1      2     606_1     C            C  1.0  0.0  1.0  1.0   \n",
       "35          35     1      2    606_10     C            C  1.0  1.0  1.0  1.0   \n",
       "36          36     1      2    606_11     B            C  1.0  0.0  0.0  1.0   \n",
       "37          37     1      2    606_12     B            B  1.0  0.0  1.0  0.0   \n",
       "38          38     1      2    606_13     C            C  1.0  1.0  1.0  1.0   \n",
       "39          39     1      2    606_14     C            C  1.0  1.0  1.0  1.0   \n",
       "40          40     1      2    606_15     C            C  1.0  1.0  1.0  1.0   \n",
       "41          41     1      2    606_16     C            C  1.0  1.0  1.0  1.0   \n",
       "42          42     1      2    606_17     C            C  1.0  1.0  1.0  1.0   \n",
       "43          43     1      2     606_2     C            B  1.0  1.0  1.0  1.0   \n",
       "44          44     1      2    606_25     A            A  1.0  1.0  1.0  0.0   \n",
       "45          45     1      2     606_3     B            B  1.0  1.0  1.0  NaN   \n",
       "46          46     1      2     606_4     C            C  1.0  1.0  1.0  1.0   \n",
       "47          47     1      2     606_5     C            C  1.0  1.0  1.0  1.0   \n",
       "48          48     1      2     606_6     C            C  1.0  1.0  1.0  1.0   \n",
       "49          49     1      2     606_8     C            C  1.0  1.0  1.0  1.0   \n",
       "50          50     1      2     606_9     B            B  1.0  1.0  1.0  NaN   \n",
       "\n",
       "      5    6    7    8    9   10   sum  \n",
       "0   1.0  1.0  1.0  1.0  1.0  1.0   9.0  \n",
       "1   0.0  0.0  1.0  0.0  1.0  0.0   3.0  \n",
       "2   1.0  1.0  1.0  0.0  1.0  1.0   6.0  \n",
       "3   0.0  0.0  1.0  1.0  0.0  0.0   2.0  \n",
       "4   0.0  0.0  1.0  0.0  1.0  1.0   5.0  \n",
       "5   0.0  1.0  1.0  1.0  1.0  NaN   7.0  \n",
       "6   0.0  0.0  1.0  0.0  1.0  1.0   3.0  \n",
       "7   1.0  1.0  1.0  1.0  1.0  1.0   8.0  \n",
       "8   0.0  0.0  0.0  0.0  0.0  1.0   2.0  \n",
       "9   1.0  1.0  1.0  1.0  1.0  1.0   9.0  \n",
       "10  1.0  1.0  1.0  1.0  1.0  1.0  10.0  \n",
       "11  1.0  0.0  0.0  0.0  0.0  0.0   3.0  \n",
       "12  1.0  1.0  1.0  1.0  1.0  1.0  10.0  \n",
       "13  1.0  1.0  1.0  1.0  1.0  1.0   8.0  \n",
       "14  1.0  0.0  0.0  NaN  NaN  NaN   4.0  \n",
       "15  1.0  1.0  NaN  1.0  NaN  NaN   6.0  \n",
       "16  1.0  1.0  1.0  1.0  1.0  1.0  10.0  \n",
       "17  1.0  1.0  1.0  1.0  1.0  1.0  10.0  \n",
       "18  1.0  1.0  1.0  1.0  1.0  1.0  10.0  \n",
       "19  1.0  1.0  1.0  1.0  1.0  1.0  10.0  \n",
       "20  1.0  1.0  1.0  1.0  1.0  1.0  10.0  \n",
       "21  1.0  1.0  1.0  1.0  1.0  1.0  10.0  \n",
       "22  1.0  1.0  1.0  1.0  1.0  1.0  10.0  \n",
       "23  0.0  1.0  1.0  0.0  1.0  1.0   6.0  \n",
       "24  1.0  1.0  1.0  1.0  1.0  1.0  10.0  \n",
       "25  1.0  1.0  1.0  1.0  1.0  1.0  10.0  \n",
       "26  1.0  1.0  1.0  1.0  1.0  1.0  10.0  \n",
       "27  1.0  1.0  1.0  1.0  0.0  1.0   9.0  \n",
       "28  1.0  1.0  1.0  1.0  1.0  1.0  10.0  \n",
       "29  1.0  1.0  1.0  1.0  1.0  1.0   9.0  \n",
       "30  1.0  1.0  1.0  1.0  1.0  1.0  10.0  \n",
       "31  1.0  1.0  1.0  1.0  1.0  1.0  10.0  \n",
       "32  1.0  1.0  1.0  1.0  1.0  1.0   8.0  \n",
       "33  1.0  1.0  1.0  1.0  1.0  1.0  10.0  \n",
       "34  1.0  NaN  1.0  1.0  1.0  1.0   8.0  \n",
       "35  1.0  1.0  1.0  1.0  1.0  1.0  10.0  \n",
       "36  1.0  0.0  1.0  0.0  1.0  1.0   6.0  \n",
       "37  1.0  1.0  0.0  1.0  1.0  1.0   7.0  \n",
       "38  1.0  1.0  1.0  1.0  1.0  1.0  10.0  \n",
       "39  1.0  1.0  1.0  1.0  1.0  1.0  10.0  \n",
       "40  1.0  1.0  1.0  0.0  1.0  1.0   9.0  \n",
       "41  1.0  1.0  1.0  1.0  1.0  1.0  10.0  \n",
       "42  1.0  1.0  1.0  1.0  1.0  1.0  10.0  \n",
       "43  1.0  1.0  1.0  1.0  1.0  1.0  10.0  \n",
       "44  0.0  1.0  1.0  1.0  1.0  1.0   8.0  \n",
       "45  NaN  0.0  1.0  1.0  1.0  1.0   7.0  \n",
       "46  1.0  1.0  1.0  1.0  1.0  1.0  10.0  \n",
       "47  1.0  1.0  1.0  1.0  1.0  NaN   9.0  \n",
       "48  1.0  1.0  1.0  1.0  1.0  1.0  10.0  \n",
       "49  1.0  1.0  1.0  1.0  1.0  1.0  10.0  \n",
       "50  1.0  1.0  1.0  1.0  1.0  NaN   8.0  "
      ]
     },
     "execution_count": 44,
     "metadata": {},
     "output_type": "execute_result"
    },
    {
     "data": {
      "application/javascript": [
       "\n",
       "            setTimeout(function() {\n",
       "                var nbb_cell_id = 44;\n",
       "                var nbb_unformatted_code = \"test1_copy\";\n",
       "                var nbb_formatted_code = \"test1_copy\";\n",
       "                var nbb_cells = Jupyter.notebook.get_cells();\n",
       "                for (var i = 0; i < nbb_cells.length; ++i) {\n",
       "                    if (nbb_cells[i].input_prompt_number == nbb_cell_id) {\n",
       "                        if (nbb_cells[i].get_text() == nbb_unformatted_code) {\n",
       "                             nbb_cells[i].set_text(nbb_formatted_code);\n",
       "                        }\n",
       "                        break;\n",
       "                    }\n",
       "                }\n",
       "            }, 500);\n",
       "            "
      ],
      "text/plain": [
       "<IPython.core.display.Javascript object>"
      ]
     },
     "metadata": {},
     "output_type": "display_data"
    }
   ],
   "source": [
    "test1_copy"
   ]
  },
  {
   "cell_type": "code",
   "execution_count": 45,
   "id": "dirty-understanding",
   "metadata": {},
   "outputs": [
    {
     "name": "stdout",
     "output_type": "stream",
     "text": [
      "12.75\n"
     ]
    },
    {
     "data": {
      "text/plain": [
       "13"
      ]
     },
     "execution_count": 45,
     "metadata": {},
     "output_type": "execute_result"
    },
    {
     "data": {
      "application/javascript": [
       "\n",
       "            setTimeout(function() {\n",
       "                var nbb_cell_id = 45;\n",
       "                var nbb_unformatted_code = \"import math\\n\\npercent = 0.25 * len(test1_copy)\\nprint(percent)\\npercentToWholeNumber = round(percent)\\npercentToWholeNumber\";\n",
       "                var nbb_formatted_code = \"import math\\n\\npercent = 0.25 * len(test1_copy)\\nprint(percent)\\npercentToWholeNumber = round(percent)\\npercentToWholeNumber\";\n",
       "                var nbb_cells = Jupyter.notebook.get_cells();\n",
       "                for (var i = 0; i < nbb_cells.length; ++i) {\n",
       "                    if (nbb_cells[i].input_prompt_number == nbb_cell_id) {\n",
       "                        if (nbb_cells[i].get_text() == nbb_unformatted_code) {\n",
       "                             nbb_cells[i].set_text(nbb_formatted_code);\n",
       "                        }\n",
       "                        break;\n",
       "                    }\n",
       "                }\n",
       "            }, 500);\n",
       "            "
      ],
      "text/plain": [
       "<IPython.core.display.Javascript object>"
      ]
     },
     "metadata": {},
     "output_type": "display_data"
    }
   ],
   "source": [
    "import math\n",
    "\n",
    "percent = 0.25 * len(test1_copy)\n",
    "print(percent)\n",
    "percentToWholeNumber = round(percent)\n",
    "percentToWholeNumber"
   ]
  },
  {
   "cell_type": "code",
   "execution_count": 46,
   "id": "blocked-exclusive",
   "metadata": {},
   "outputs": [
    {
     "data": {
      "application/javascript": [
       "\n",
       "            setTimeout(function() {\n",
       "                var nbb_cell_id = 46;\n",
       "                var nbb_unformatted_code = \"test1_copy.sort_values(by=[\\\"sum\\\"], ascending=False, inplace=True)\\nupper_group = test1_copy.head(percentToWholeNumber)\\nlower_group = test1_copy.tail(percentToWholeNumber)\";\n",
       "                var nbb_formatted_code = \"test1_copy.sort_values(by=[\\\"sum\\\"], ascending=False, inplace=True)\\nupper_group = test1_copy.head(percentToWholeNumber)\\nlower_group = test1_copy.tail(percentToWholeNumber)\";\n",
       "                var nbb_cells = Jupyter.notebook.get_cells();\n",
       "                for (var i = 0; i < nbb_cells.length; ++i) {\n",
       "                    if (nbb_cells[i].input_prompt_number == nbb_cell_id) {\n",
       "                        if (nbb_cells[i].get_text() == nbb_unformatted_code) {\n",
       "                             nbb_cells[i].set_text(nbb_formatted_code);\n",
       "                        }\n",
       "                        break;\n",
       "                    }\n",
       "                }\n",
       "            }, 500);\n",
       "            "
      ],
      "text/plain": [
       "<IPython.core.display.Javascript object>"
      ]
     },
     "metadata": {},
     "output_type": "display_data"
    }
   ],
   "source": [
    "test1_copy.sort_values(by=[\"sum\"], ascending=False, inplace=True)\n",
    "upper_group = test1_copy.head(percentToWholeNumber)\n",
    "lower_group = test1_copy.tail(percentToWholeNumber)"
   ]
  },
  {
   "cell_type": "code",
   "execution_count": 47,
   "id": "weird-quantum",
   "metadata": {},
   "outputs": [
    {
     "data": {
      "text/html": [
       "<div>\n",
       "<style scoped>\n",
       "    .dataframe tbody tr th:only-of-type {\n",
       "        vertical-align: middle;\n",
       "    }\n",
       "\n",
       "    .dataframe tbody tr th {\n",
       "        vertical-align: top;\n",
       "    }\n",
       "\n",
       "    .dataframe thead th {\n",
       "        text-align: right;\n",
       "    }\n",
       "</style>\n",
       "<table border=\"1\" class=\"dataframe\">\n",
       "  <thead>\n",
       "    <tr style=\"text-align: right;\">\n",
       "      <th></th>\n",
       "      <th>Unnamed: 0</th>\n",
       "      <th>Test</th>\n",
       "      <th>Stufe</th>\n",
       "      <th>unique_id</th>\n",
       "      <th>Level</th>\n",
       "      <th>Gesamt_Level</th>\n",
       "      <th>1</th>\n",
       "      <th>2</th>\n",
       "      <th>3</th>\n",
       "      <th>4</th>\n",
       "      <th>5</th>\n",
       "      <th>6</th>\n",
       "      <th>7</th>\n",
       "      <th>8</th>\n",
       "      <th>9</th>\n",
       "      <th>10</th>\n",
       "      <th>sum</th>\n",
       "    </tr>\n",
       "  </thead>\n",
       "  <tbody>\n",
       "    <tr>\n",
       "      <th>45</th>\n",
       "      <td>45</td>\n",
       "      <td>1</td>\n",
       "      <td>2</td>\n",
       "      <td>606_3</td>\n",
       "      <td>B</td>\n",
       "      <td>B</td>\n",
       "      <td>1.0</td>\n",
       "      <td>1.0</td>\n",
       "      <td>1.0</td>\n",
       "      <td>NaN</td>\n",
       "      <td>NaN</td>\n",
       "      <td>0.0</td>\n",
       "      <td>1.0</td>\n",
       "      <td>1.0</td>\n",
       "      <td>1.0</td>\n",
       "      <td>1.0</td>\n",
       "      <td>7.0</td>\n",
       "    </tr>\n",
       "    <tr>\n",
       "      <th>37</th>\n",
       "      <td>37</td>\n",
       "      <td>1</td>\n",
       "      <td>2</td>\n",
       "      <td>606_12</td>\n",
       "      <td>B</td>\n",
       "      <td>B</td>\n",
       "      <td>1.0</td>\n",
       "      <td>0.0</td>\n",
       "      <td>1.0</td>\n",
       "      <td>0.0</td>\n",
       "      <td>1.0</td>\n",
       "      <td>1.0</td>\n",
       "      <td>0.0</td>\n",
       "      <td>1.0</td>\n",
       "      <td>1.0</td>\n",
       "      <td>1.0</td>\n",
       "      <td>7.0</td>\n",
       "    </tr>\n",
       "    <tr>\n",
       "      <th>2</th>\n",
       "      <td>2</td>\n",
       "      <td>1</td>\n",
       "      <td>1</td>\n",
       "      <td>404_10</td>\n",
       "      <td>B</td>\n",
       "      <td>B</td>\n",
       "      <td>1.0</td>\n",
       "      <td>0.0</td>\n",
       "      <td>0.0</td>\n",
       "      <td>0.0</td>\n",
       "      <td>1.0</td>\n",
       "      <td>1.0</td>\n",
       "      <td>1.0</td>\n",
       "      <td>0.0</td>\n",
       "      <td>1.0</td>\n",
       "      <td>1.0</td>\n",
       "      <td>6.0</td>\n",
       "    </tr>\n",
       "    <tr>\n",
       "      <th>23</th>\n",
       "      <td>23</td>\n",
       "      <td>1</td>\n",
       "      <td>2</td>\n",
       "      <td>303_16</td>\n",
       "      <td>B</td>\n",
       "      <td>B</td>\n",
       "      <td>0.0</td>\n",
       "      <td>1.0</td>\n",
       "      <td>0.0</td>\n",
       "      <td>1.0</td>\n",
       "      <td>0.0</td>\n",
       "      <td>1.0</td>\n",
       "      <td>1.0</td>\n",
       "      <td>0.0</td>\n",
       "      <td>1.0</td>\n",
       "      <td>1.0</td>\n",
       "      <td>6.0</td>\n",
       "    </tr>\n",
       "    <tr>\n",
       "      <th>36</th>\n",
       "      <td>36</td>\n",
       "      <td>1</td>\n",
       "      <td>2</td>\n",
       "      <td>606_11</td>\n",
       "      <td>B</td>\n",
       "      <td>C</td>\n",
       "      <td>1.0</td>\n",
       "      <td>0.0</td>\n",
       "      <td>0.0</td>\n",
       "      <td>1.0</td>\n",
       "      <td>1.0</td>\n",
       "      <td>0.0</td>\n",
       "      <td>1.0</td>\n",
       "      <td>0.0</td>\n",
       "      <td>1.0</td>\n",
       "      <td>1.0</td>\n",
       "      <td>6.0</td>\n",
       "    </tr>\n",
       "    <tr>\n",
       "      <th>15</th>\n",
       "      <td>15</td>\n",
       "      <td>1</td>\n",
       "      <td>1</td>\n",
       "      <td>505_3</td>\n",
       "      <td>A</td>\n",
       "      <td>B</td>\n",
       "      <td>1.0</td>\n",
       "      <td>1.0</td>\n",
       "      <td>1.0</td>\n",
       "      <td>NaN</td>\n",
       "      <td>1.0</td>\n",
       "      <td>1.0</td>\n",
       "      <td>NaN</td>\n",
       "      <td>1.0</td>\n",
       "      <td>NaN</td>\n",
       "      <td>NaN</td>\n",
       "      <td>6.0</td>\n",
       "    </tr>\n",
       "    <tr>\n",
       "      <th>4</th>\n",
       "      <td>4</td>\n",
       "      <td>1</td>\n",
       "      <td>1</td>\n",
       "      <td>404_12</td>\n",
       "      <td>B</td>\n",
       "      <td>C</td>\n",
       "      <td>1.0</td>\n",
       "      <td>0.0</td>\n",
       "      <td>1.0</td>\n",
       "      <td>0.0</td>\n",
       "      <td>0.0</td>\n",
       "      <td>0.0</td>\n",
       "      <td>1.0</td>\n",
       "      <td>0.0</td>\n",
       "      <td>1.0</td>\n",
       "      <td>1.0</td>\n",
       "      <td>5.0</td>\n",
       "    </tr>\n",
       "    <tr>\n",
       "      <th>14</th>\n",
       "      <td>14</td>\n",
       "      <td>1</td>\n",
       "      <td>1</td>\n",
       "      <td>505_20</td>\n",
       "      <td>A</td>\n",
       "      <td>B</td>\n",
       "      <td>1.0</td>\n",
       "      <td>1.0</td>\n",
       "      <td>1.0</td>\n",
       "      <td>0.0</td>\n",
       "      <td>1.0</td>\n",
       "      <td>0.0</td>\n",
       "      <td>0.0</td>\n",
       "      <td>NaN</td>\n",
       "      <td>NaN</td>\n",
       "      <td>NaN</td>\n",
       "      <td>4.0</td>\n",
       "    </tr>\n",
       "    <tr>\n",
       "      <th>1</th>\n",
       "      <td>1</td>\n",
       "      <td>1</td>\n",
       "      <td>1</td>\n",
       "      <td>404_1</td>\n",
       "      <td>A</td>\n",
       "      <td>A</td>\n",
       "      <td>0.0</td>\n",
       "      <td>1.0</td>\n",
       "      <td>0.0</td>\n",
       "      <td>0.0</td>\n",
       "      <td>0.0</td>\n",
       "      <td>0.0</td>\n",
       "      <td>1.0</td>\n",
       "      <td>0.0</td>\n",
       "      <td>1.0</td>\n",
       "      <td>0.0</td>\n",
       "      <td>3.0</td>\n",
       "    </tr>\n",
       "    <tr>\n",
       "      <th>6</th>\n",
       "      <td>6</td>\n",
       "      <td>1</td>\n",
       "      <td>1</td>\n",
       "      <td>404_2</td>\n",
       "      <td>A</td>\n",
       "      <td>A</td>\n",
       "      <td>0.0</td>\n",
       "      <td>0.0</td>\n",
       "      <td>0.0</td>\n",
       "      <td>0.0</td>\n",
       "      <td>0.0</td>\n",
       "      <td>0.0</td>\n",
       "      <td>1.0</td>\n",
       "      <td>0.0</td>\n",
       "      <td>1.0</td>\n",
       "      <td>1.0</td>\n",
       "      <td>3.0</td>\n",
       "    </tr>\n",
       "    <tr>\n",
       "      <th>11</th>\n",
       "      <td>11</td>\n",
       "      <td>1</td>\n",
       "      <td>1</td>\n",
       "      <td>404_7</td>\n",
       "      <td>A</td>\n",
       "      <td>B</td>\n",
       "      <td>1.0</td>\n",
       "      <td>1.0</td>\n",
       "      <td>0.0</td>\n",
       "      <td>0.0</td>\n",
       "      <td>1.0</td>\n",
       "      <td>0.0</td>\n",
       "      <td>0.0</td>\n",
       "      <td>0.0</td>\n",
       "      <td>0.0</td>\n",
       "      <td>0.0</td>\n",
       "      <td>3.0</td>\n",
       "    </tr>\n",
       "    <tr>\n",
       "      <th>3</th>\n",
       "      <td>3</td>\n",
       "      <td>1</td>\n",
       "      <td>1</td>\n",
       "      <td>404_11</td>\n",
       "      <td>A</td>\n",
       "      <td>A</td>\n",
       "      <td>0.0</td>\n",
       "      <td>0.0</td>\n",
       "      <td>0.0</td>\n",
       "      <td>0.0</td>\n",
       "      <td>0.0</td>\n",
       "      <td>0.0</td>\n",
       "      <td>1.0</td>\n",
       "      <td>1.0</td>\n",
       "      <td>0.0</td>\n",
       "      <td>0.0</td>\n",
       "      <td>2.0</td>\n",
       "    </tr>\n",
       "    <tr>\n",
       "      <th>8</th>\n",
       "      <td>8</td>\n",
       "      <td>1</td>\n",
       "      <td>1</td>\n",
       "      <td>404_4</td>\n",
       "      <td>A</td>\n",
       "      <td>B</td>\n",
       "      <td>1.0</td>\n",
       "      <td>0.0</td>\n",
       "      <td>0.0</td>\n",
       "      <td>0.0</td>\n",
       "      <td>0.0</td>\n",
       "      <td>0.0</td>\n",
       "      <td>0.0</td>\n",
       "      <td>0.0</td>\n",
       "      <td>0.0</td>\n",
       "      <td>1.0</td>\n",
       "      <td>2.0</td>\n",
       "    </tr>\n",
       "  </tbody>\n",
       "</table>\n",
       "</div>"
      ],
      "text/plain": [
       "    Unnamed: 0  Test  Stufe unique_id Level Gesamt_Level    1    2    3    4  \\\n",
       "45          45     1      2     606_3     B            B  1.0  1.0  1.0  NaN   \n",
       "37          37     1      2    606_12     B            B  1.0  0.0  1.0  0.0   \n",
       "2            2     1      1    404_10     B            B  1.0  0.0  0.0  0.0   \n",
       "23          23     1      2    303_16     B            B  0.0  1.0  0.0  1.0   \n",
       "36          36     1      2    606_11     B            C  1.0  0.0  0.0  1.0   \n",
       "15          15     1      1     505_3     A            B  1.0  1.0  1.0  NaN   \n",
       "4            4     1      1    404_12     B            C  1.0  0.0  1.0  0.0   \n",
       "14          14     1      1    505_20     A            B  1.0  1.0  1.0  0.0   \n",
       "1            1     1      1     404_1     A            A  0.0  1.0  0.0  0.0   \n",
       "6            6     1      1     404_2     A            A  0.0  0.0  0.0  0.0   \n",
       "11          11     1      1     404_7     A            B  1.0  1.0  0.0  0.0   \n",
       "3            3     1      1    404_11     A            A  0.0  0.0  0.0  0.0   \n",
       "8            8     1      1     404_4     A            B  1.0  0.0  0.0  0.0   \n",
       "\n",
       "      5    6    7    8    9   10  sum  \n",
       "45  NaN  0.0  1.0  1.0  1.0  1.0  7.0  \n",
       "37  1.0  1.0  0.0  1.0  1.0  1.0  7.0  \n",
       "2   1.0  1.0  1.0  0.0  1.0  1.0  6.0  \n",
       "23  0.0  1.0  1.0  0.0  1.0  1.0  6.0  \n",
       "36  1.0  0.0  1.0  0.0  1.0  1.0  6.0  \n",
       "15  1.0  1.0  NaN  1.0  NaN  NaN  6.0  \n",
       "4   0.0  0.0  1.0  0.0  1.0  1.0  5.0  \n",
       "14  1.0  0.0  0.0  NaN  NaN  NaN  4.0  \n",
       "1   0.0  0.0  1.0  0.0  1.0  0.0  3.0  \n",
       "6   0.0  0.0  1.0  0.0  1.0  1.0  3.0  \n",
       "11  1.0  0.0  0.0  0.0  0.0  0.0  3.0  \n",
       "3   0.0  0.0  1.0  1.0  0.0  0.0  2.0  \n",
       "8   0.0  0.0  0.0  0.0  0.0  1.0  2.0  "
      ]
     },
     "execution_count": 47,
     "metadata": {},
     "output_type": "execute_result"
    },
    {
     "data": {
      "application/javascript": [
       "\n",
       "            setTimeout(function() {\n",
       "                var nbb_cell_id = 47;\n",
       "                var nbb_unformatted_code = \"lower_group\";\n",
       "                var nbb_formatted_code = \"lower_group\";\n",
       "                var nbb_cells = Jupyter.notebook.get_cells();\n",
       "                for (var i = 0; i < nbb_cells.length; ++i) {\n",
       "                    if (nbb_cells[i].input_prompt_number == nbb_cell_id) {\n",
       "                        if (nbb_cells[i].get_text() == nbb_unformatted_code) {\n",
       "                             nbb_cells[i].set_text(nbb_formatted_code);\n",
       "                        }\n",
       "                        break;\n",
       "                    }\n",
       "                }\n",
       "            }, 500);\n",
       "            "
      ],
      "text/plain": [
       "<IPython.core.display.Javascript object>"
      ]
     },
     "metadata": {},
     "output_type": "display_data"
    }
   ],
   "source": [
    "lower_group"
   ]
  },
  {
   "cell_type": "code",
   "execution_count": 48,
   "id": "statistical-timing",
   "metadata": {},
   "outputs": [
    {
     "data": {
      "text/html": [
       "<div>\n",
       "<style scoped>\n",
       "    .dataframe tbody tr th:only-of-type {\n",
       "        vertical-align: middle;\n",
       "    }\n",
       "\n",
       "    .dataframe tbody tr th {\n",
       "        vertical-align: top;\n",
       "    }\n",
       "\n",
       "    .dataframe thead th {\n",
       "        text-align: right;\n",
       "    }\n",
       "</style>\n",
       "<table border=\"1\" class=\"dataframe\">\n",
       "  <thead>\n",
       "    <tr style=\"text-align: right;\">\n",
       "      <th></th>\n",
       "      <th>Unnamed: 0</th>\n",
       "      <th>Test</th>\n",
       "      <th>Stufe</th>\n",
       "      <th>unique_id</th>\n",
       "      <th>Level</th>\n",
       "      <th>Gesamt_Level</th>\n",
       "      <th>1</th>\n",
       "      <th>2</th>\n",
       "      <th>3</th>\n",
       "      <th>4</th>\n",
       "      <th>5</th>\n",
       "      <th>6</th>\n",
       "      <th>7</th>\n",
       "      <th>8</th>\n",
       "      <th>9</th>\n",
       "      <th>10</th>\n",
       "      <th>sum</th>\n",
       "    </tr>\n",
       "  </thead>\n",
       "  <tbody>\n",
       "    <tr>\n",
       "      <th>25</th>\n",
       "      <td>25</td>\n",
       "      <td>1</td>\n",
       "      <td>2</td>\n",
       "      <td>303_2</td>\n",
       "      <td>C</td>\n",
       "      <td>C</td>\n",
       "      <td>1.0</td>\n",
       "      <td>1.0</td>\n",
       "      <td>1.0</td>\n",
       "      <td>1.0</td>\n",
       "      <td>1.0</td>\n",
       "      <td>1.0</td>\n",
       "      <td>1.0</td>\n",
       "      <td>1.0</td>\n",
       "      <td>1.0</td>\n",
       "      <td>1.0</td>\n",
       "      <td>10.0</td>\n",
       "    </tr>\n",
       "    <tr>\n",
       "      <th>28</th>\n",
       "      <td>28</td>\n",
       "      <td>1</td>\n",
       "      <td>2</td>\n",
       "      <td>303_5</td>\n",
       "      <td>C</td>\n",
       "      <td>C</td>\n",
       "      <td>1.0</td>\n",
       "      <td>1.0</td>\n",
       "      <td>1.0</td>\n",
       "      <td>1.0</td>\n",
       "      <td>1.0</td>\n",
       "      <td>1.0</td>\n",
       "      <td>1.0</td>\n",
       "      <td>1.0</td>\n",
       "      <td>1.0</td>\n",
       "      <td>1.0</td>\n",
       "      <td>10.0</td>\n",
       "    </tr>\n",
       "    <tr>\n",
       "      <th>26</th>\n",
       "      <td>26</td>\n",
       "      <td>1</td>\n",
       "      <td>2</td>\n",
       "      <td>303_3</td>\n",
       "      <td>B</td>\n",
       "      <td>C</td>\n",
       "      <td>1.0</td>\n",
       "      <td>1.0</td>\n",
       "      <td>1.0</td>\n",
       "      <td>1.0</td>\n",
       "      <td>1.0</td>\n",
       "      <td>1.0</td>\n",
       "      <td>1.0</td>\n",
       "      <td>1.0</td>\n",
       "      <td>1.0</td>\n",
       "      <td>1.0</td>\n",
       "      <td>10.0</td>\n",
       "    </tr>\n",
       "    <tr>\n",
       "      <th>30</th>\n",
       "      <td>30</td>\n",
       "      <td>1</td>\n",
       "      <td>2</td>\n",
       "      <td>303_7</td>\n",
       "      <td>C</td>\n",
       "      <td>C</td>\n",
       "      <td>1.0</td>\n",
       "      <td>1.0</td>\n",
       "      <td>1.0</td>\n",
       "      <td>1.0</td>\n",
       "      <td>1.0</td>\n",
       "      <td>1.0</td>\n",
       "      <td>1.0</td>\n",
       "      <td>1.0</td>\n",
       "      <td>1.0</td>\n",
       "      <td>1.0</td>\n",
       "      <td>10.0</td>\n",
       "    </tr>\n",
       "    <tr>\n",
       "      <th>24</th>\n",
       "      <td>24</td>\n",
       "      <td>1</td>\n",
       "      <td>2</td>\n",
       "      <td>303_17</td>\n",
       "      <td>C</td>\n",
       "      <td>C</td>\n",
       "      <td>1.0</td>\n",
       "      <td>1.0</td>\n",
       "      <td>1.0</td>\n",
       "      <td>1.0</td>\n",
       "      <td>1.0</td>\n",
       "      <td>1.0</td>\n",
       "      <td>1.0</td>\n",
       "      <td>1.0</td>\n",
       "      <td>1.0</td>\n",
       "      <td>1.0</td>\n",
       "      <td>10.0</td>\n",
       "    </tr>\n",
       "    <tr>\n",
       "      <th>31</th>\n",
       "      <td>31</td>\n",
       "      <td>1</td>\n",
       "      <td>2</td>\n",
       "      <td>303_8</td>\n",
       "      <td>C</td>\n",
       "      <td>C</td>\n",
       "      <td>1.0</td>\n",
       "      <td>1.0</td>\n",
       "      <td>1.0</td>\n",
       "      <td>1.0</td>\n",
       "      <td>1.0</td>\n",
       "      <td>1.0</td>\n",
       "      <td>1.0</td>\n",
       "      <td>1.0</td>\n",
       "      <td>1.0</td>\n",
       "      <td>1.0</td>\n",
       "      <td>10.0</td>\n",
       "    </tr>\n",
       "    <tr>\n",
       "      <th>22</th>\n",
       "      <td>22</td>\n",
       "      <td>1</td>\n",
       "      <td>2</td>\n",
       "      <td>303_15</td>\n",
       "      <td>C</td>\n",
       "      <td>C</td>\n",
       "      <td>1.0</td>\n",
       "      <td>1.0</td>\n",
       "      <td>1.0</td>\n",
       "      <td>1.0</td>\n",
       "      <td>1.0</td>\n",
       "      <td>1.0</td>\n",
       "      <td>1.0</td>\n",
       "      <td>1.0</td>\n",
       "      <td>1.0</td>\n",
       "      <td>1.0</td>\n",
       "      <td>10.0</td>\n",
       "    </tr>\n",
       "    <tr>\n",
       "      <th>21</th>\n",
       "      <td>21</td>\n",
       "      <td>1</td>\n",
       "      <td>2</td>\n",
       "      <td>303_14</td>\n",
       "      <td>C</td>\n",
       "      <td>C</td>\n",
       "      <td>1.0</td>\n",
       "      <td>1.0</td>\n",
       "      <td>1.0</td>\n",
       "      <td>1.0</td>\n",
       "      <td>1.0</td>\n",
       "      <td>1.0</td>\n",
       "      <td>1.0</td>\n",
       "      <td>1.0</td>\n",
       "      <td>1.0</td>\n",
       "      <td>1.0</td>\n",
       "      <td>10.0</td>\n",
       "    </tr>\n",
       "    <tr>\n",
       "      <th>20</th>\n",
       "      <td>20</td>\n",
       "      <td>1</td>\n",
       "      <td>2</td>\n",
       "      <td>303_13</td>\n",
       "      <td>C</td>\n",
       "      <td>B</td>\n",
       "      <td>1.0</td>\n",
       "      <td>1.0</td>\n",
       "      <td>1.0</td>\n",
       "      <td>1.0</td>\n",
       "      <td>1.0</td>\n",
       "      <td>1.0</td>\n",
       "      <td>1.0</td>\n",
       "      <td>1.0</td>\n",
       "      <td>1.0</td>\n",
       "      <td>1.0</td>\n",
       "      <td>10.0</td>\n",
       "    </tr>\n",
       "    <tr>\n",
       "      <th>19</th>\n",
       "      <td>19</td>\n",
       "      <td>1</td>\n",
       "      <td>2</td>\n",
       "      <td>303_12</td>\n",
       "      <td>C</td>\n",
       "      <td>C</td>\n",
       "      <td>1.0</td>\n",
       "      <td>1.0</td>\n",
       "      <td>1.0</td>\n",
       "      <td>1.0</td>\n",
       "      <td>1.0</td>\n",
       "      <td>1.0</td>\n",
       "      <td>1.0</td>\n",
       "      <td>1.0</td>\n",
       "      <td>1.0</td>\n",
       "      <td>1.0</td>\n",
       "      <td>10.0</td>\n",
       "    </tr>\n",
       "    <tr>\n",
       "      <th>18</th>\n",
       "      <td>18</td>\n",
       "      <td>1</td>\n",
       "      <td>2</td>\n",
       "      <td>303_11</td>\n",
       "      <td>B</td>\n",
       "      <td>undefined</td>\n",
       "      <td>1.0</td>\n",
       "      <td>1.0</td>\n",
       "      <td>1.0</td>\n",
       "      <td>1.0</td>\n",
       "      <td>1.0</td>\n",
       "      <td>1.0</td>\n",
       "      <td>1.0</td>\n",
       "      <td>1.0</td>\n",
       "      <td>1.0</td>\n",
       "      <td>1.0</td>\n",
       "      <td>10.0</td>\n",
       "    </tr>\n",
       "    <tr>\n",
       "      <th>17</th>\n",
       "      <td>17</td>\n",
       "      <td>1</td>\n",
       "      <td>2</td>\n",
       "      <td>303_1</td>\n",
       "      <td>C</td>\n",
       "      <td>C</td>\n",
       "      <td>1.0</td>\n",
       "      <td>1.0</td>\n",
       "      <td>1.0</td>\n",
       "      <td>1.0</td>\n",
       "      <td>1.0</td>\n",
       "      <td>1.0</td>\n",
       "      <td>1.0</td>\n",
       "      <td>1.0</td>\n",
       "      <td>1.0</td>\n",
       "      <td>1.0</td>\n",
       "      <td>10.0</td>\n",
       "    </tr>\n",
       "    <tr>\n",
       "      <th>16</th>\n",
       "      <td>16</td>\n",
       "      <td>1</td>\n",
       "      <td>2</td>\n",
       "      <td>303_0</td>\n",
       "      <td>C</td>\n",
       "      <td>B</td>\n",
       "      <td>1.0</td>\n",
       "      <td>1.0</td>\n",
       "      <td>1.0</td>\n",
       "      <td>1.0</td>\n",
       "      <td>1.0</td>\n",
       "      <td>1.0</td>\n",
       "      <td>1.0</td>\n",
       "      <td>1.0</td>\n",
       "      <td>1.0</td>\n",
       "      <td>1.0</td>\n",
       "      <td>10.0</td>\n",
       "    </tr>\n",
       "  </tbody>\n",
       "</table>\n",
       "</div>"
      ],
      "text/plain": [
       "    Unnamed: 0  Test  Stufe unique_id Level Gesamt_Level    1    2    3    4  \\\n",
       "25          25     1      2     303_2     C            C  1.0  1.0  1.0  1.0   \n",
       "28          28     1      2     303_5     C            C  1.0  1.0  1.0  1.0   \n",
       "26          26     1      2     303_3     B            C  1.0  1.0  1.0  1.0   \n",
       "30          30     1      2     303_7     C            C  1.0  1.0  1.0  1.0   \n",
       "24          24     1      2    303_17     C            C  1.0  1.0  1.0  1.0   \n",
       "31          31     1      2     303_8     C            C  1.0  1.0  1.0  1.0   \n",
       "22          22     1      2    303_15     C            C  1.0  1.0  1.0  1.0   \n",
       "21          21     1      2    303_14     C            C  1.0  1.0  1.0  1.0   \n",
       "20          20     1      2    303_13     C            B  1.0  1.0  1.0  1.0   \n",
       "19          19     1      2    303_12     C            C  1.0  1.0  1.0  1.0   \n",
       "18          18     1      2    303_11     B    undefined  1.0  1.0  1.0  1.0   \n",
       "17          17     1      2     303_1     C            C  1.0  1.0  1.0  1.0   \n",
       "16          16     1      2     303_0     C            B  1.0  1.0  1.0  1.0   \n",
       "\n",
       "      5    6    7    8    9   10   sum  \n",
       "25  1.0  1.0  1.0  1.0  1.0  1.0  10.0  \n",
       "28  1.0  1.0  1.0  1.0  1.0  1.0  10.0  \n",
       "26  1.0  1.0  1.0  1.0  1.0  1.0  10.0  \n",
       "30  1.0  1.0  1.0  1.0  1.0  1.0  10.0  \n",
       "24  1.0  1.0  1.0  1.0  1.0  1.0  10.0  \n",
       "31  1.0  1.0  1.0  1.0  1.0  1.0  10.0  \n",
       "22  1.0  1.0  1.0  1.0  1.0  1.0  10.0  \n",
       "21  1.0  1.0  1.0  1.0  1.0  1.0  10.0  \n",
       "20  1.0  1.0  1.0  1.0  1.0  1.0  10.0  \n",
       "19  1.0  1.0  1.0  1.0  1.0  1.0  10.0  \n",
       "18  1.0  1.0  1.0  1.0  1.0  1.0  10.0  \n",
       "17  1.0  1.0  1.0  1.0  1.0  1.0  10.0  \n",
       "16  1.0  1.0  1.0  1.0  1.0  1.0  10.0  "
      ]
     },
     "execution_count": 48,
     "metadata": {},
     "output_type": "execute_result"
    },
    {
     "data": {
      "application/javascript": [
       "\n",
       "            setTimeout(function() {\n",
       "                var nbb_cell_id = 48;\n",
       "                var nbb_unformatted_code = \"upper_group\";\n",
       "                var nbb_formatted_code = \"upper_group\";\n",
       "                var nbb_cells = Jupyter.notebook.get_cells();\n",
       "                for (var i = 0; i < nbb_cells.length; ++i) {\n",
       "                    if (nbb_cells[i].input_prompt_number == nbb_cell_id) {\n",
       "                        if (nbb_cells[i].get_text() == nbb_unformatted_code) {\n",
       "                             nbb_cells[i].set_text(nbb_formatted_code);\n",
       "                        }\n",
       "                        break;\n",
       "                    }\n",
       "                }\n",
       "            }, 500);\n",
       "            "
      ],
      "text/plain": [
       "<IPython.core.display.Javascript object>"
      ]
     },
     "metadata": {},
     "output_type": "display_data"
    }
   ],
   "source": [
    "upper_group"
   ]
  },
  {
   "cell_type": "markdown",
   "id": "lesbian-pharmacy",
   "metadata": {},
   "source": [
    "how many children in the lower group have the item correct?"
   ]
  },
  {
   "cell_type": "code",
   "execution_count": 49,
   "id": "interracial-thought",
   "metadata": {},
   "outputs": [
    {
     "data": {
      "text/plain": [
       "45    1.0\n",
       "37    1.0\n",
       "2     1.0\n",
       "23    0.0\n",
       "36    1.0\n",
       "15    1.0\n",
       "4     1.0\n",
       "14    1.0\n",
       "1     0.0\n",
       "6     0.0\n",
       "11    1.0\n",
       "3     0.0\n",
       "8     1.0\n",
       "Name: 1, dtype: float64"
      ]
     },
     "execution_count": 49,
     "metadata": {},
     "output_type": "execute_result"
    },
    {
     "data": {
      "application/javascript": [
       "\n",
       "            setTimeout(function() {\n",
       "                var nbb_cell_id = 49;\n",
       "                var nbb_unformatted_code = \"lower_group[\\\"1\\\"]\";\n",
       "                var nbb_formatted_code = \"lower_group[\\\"1\\\"]\";\n",
       "                var nbb_cells = Jupyter.notebook.get_cells();\n",
       "                for (var i = 0; i < nbb_cells.length; ++i) {\n",
       "                    if (nbb_cells[i].input_prompt_number == nbb_cell_id) {\n",
       "                        if (nbb_cells[i].get_text() == nbb_unformatted_code) {\n",
       "                             nbb_cells[i].set_text(nbb_formatted_code);\n",
       "                        }\n",
       "                        break;\n",
       "                    }\n",
       "                }\n",
       "            }, 500);\n",
       "            "
      ],
      "text/plain": [
       "<IPython.core.display.Javascript object>"
      ]
     },
     "metadata": {},
     "output_type": "display_data"
    }
   ],
   "source": [
    "lower_group[\"1\"]"
   ]
  },
  {
   "cell_type": "markdown",
   "id": "accessible-tutorial",
   "metadata": {},
   "source": [
    "how many children in the upper group have the item correct?"
   ]
  },
  {
   "cell_type": "code",
   "execution_count": 50,
   "id": "outer-vienna",
   "metadata": {},
   "outputs": [
    {
     "data": {
      "text/plain": [
       "25    1.0\n",
       "28    1.0\n",
       "26    1.0\n",
       "30    1.0\n",
       "24    1.0\n",
       "31    1.0\n",
       "22    1.0\n",
       "21    1.0\n",
       "20    1.0\n",
       "19    1.0\n",
       "18    1.0\n",
       "17    1.0\n",
       "16    1.0\n",
       "Name: 1, dtype: float64"
      ]
     },
     "execution_count": 50,
     "metadata": {},
     "output_type": "execute_result"
    },
    {
     "data": {
      "application/javascript": [
       "\n",
       "            setTimeout(function() {\n",
       "                var nbb_cell_id = 50;\n",
       "                var nbb_unformatted_code = \"upper_group[\\\"1\\\"]\";\n",
       "                var nbb_formatted_code = \"upper_group[\\\"1\\\"]\";\n",
       "                var nbb_cells = Jupyter.notebook.get_cells();\n",
       "                for (var i = 0; i < nbb_cells.length; ++i) {\n",
       "                    if (nbb_cells[i].input_prompt_number == nbb_cell_id) {\n",
       "                        if (nbb_cells[i].get_text() == nbb_unformatted_code) {\n",
       "                             nbb_cells[i].set_text(nbb_formatted_code);\n",
       "                        }\n",
       "                        break;\n",
       "                    }\n",
       "                }\n",
       "            }, 500);\n",
       "            "
      ],
      "text/plain": [
       "<IPython.core.display.Javascript object>"
      ]
     },
     "metadata": {},
     "output_type": "display_data"
    }
   ],
   "source": [
    "upper_group[\"1\"]"
   ]
  },
  {
   "cell_type": "code",
   "execution_count": 51,
   "id": "talented-greenhouse",
   "metadata": {},
   "outputs": [
    {
     "data": {
      "application/javascript": [
       "\n",
       "            setTimeout(function() {\n",
       "                var nbb_cell_id = 51;\n",
       "                var nbb_unformatted_code = \"upper_1 = upper_group[\\\"1\\\"].sum()\\nupper_group[\\\"upper_item1\\\"] = upper_group[\\\"1\\\"].sum()\";\n",
       "                var nbb_formatted_code = \"upper_1 = upper_group[\\\"1\\\"].sum()\\nupper_group[\\\"upper_item1\\\"] = upper_group[\\\"1\\\"].sum()\";\n",
       "                var nbb_cells = Jupyter.notebook.get_cells();\n",
       "                for (var i = 0; i < nbb_cells.length; ++i) {\n",
       "                    if (nbb_cells[i].input_prompt_number == nbb_cell_id) {\n",
       "                        if (nbb_cells[i].get_text() == nbb_unformatted_code) {\n",
       "                             nbb_cells[i].set_text(nbb_formatted_code);\n",
       "                        }\n",
       "                        break;\n",
       "                    }\n",
       "                }\n",
       "            }, 500);\n",
       "            "
      ],
      "text/plain": [
       "<IPython.core.display.Javascript object>"
      ]
     },
     "metadata": {},
     "output_type": "display_data"
    }
   ],
   "source": [
    "upper_1 = upper_group[\"1\"].sum()\n",
    "upper_group[\"upper_item1\"] = upper_group[\"1\"].sum()"
   ]
  },
  {
   "cell_type": "code",
   "execution_count": 52,
   "id": "lesser-peninsula",
   "metadata": {},
   "outputs": [
    {
     "data": {
      "text/html": [
       "<div>\n",
       "<style scoped>\n",
       "    .dataframe tbody tr th:only-of-type {\n",
       "        vertical-align: middle;\n",
       "    }\n",
       "\n",
       "    .dataframe tbody tr th {\n",
       "        vertical-align: top;\n",
       "    }\n",
       "\n",
       "    .dataframe thead th {\n",
       "        text-align: right;\n",
       "    }\n",
       "</style>\n",
       "<table border=\"1\" class=\"dataframe\">\n",
       "  <thead>\n",
       "    <tr style=\"text-align: right;\">\n",
       "      <th></th>\n",
       "      <th>Unnamed: 0</th>\n",
       "      <th>Test</th>\n",
       "      <th>Stufe</th>\n",
       "      <th>unique_id</th>\n",
       "      <th>Level</th>\n",
       "      <th>Gesamt_Level</th>\n",
       "      <th>1</th>\n",
       "      <th>2</th>\n",
       "      <th>3</th>\n",
       "      <th>4</th>\n",
       "      <th>5</th>\n",
       "      <th>6</th>\n",
       "      <th>7</th>\n",
       "      <th>8</th>\n",
       "      <th>9</th>\n",
       "      <th>10</th>\n",
       "      <th>sum</th>\n",
       "      <th>upper_item1</th>\n",
       "    </tr>\n",
       "  </thead>\n",
       "  <tbody>\n",
       "    <tr>\n",
       "      <th>25</th>\n",
       "      <td>25</td>\n",
       "      <td>1</td>\n",
       "      <td>2</td>\n",
       "      <td>303_2</td>\n",
       "      <td>C</td>\n",
       "      <td>C</td>\n",
       "      <td>1.0</td>\n",
       "      <td>1.0</td>\n",
       "      <td>1.0</td>\n",
       "      <td>1.0</td>\n",
       "      <td>1.0</td>\n",
       "      <td>1.0</td>\n",
       "      <td>1.0</td>\n",
       "      <td>1.0</td>\n",
       "      <td>1.0</td>\n",
       "      <td>1.0</td>\n",
       "      <td>10.0</td>\n",
       "      <td>13.0</td>\n",
       "    </tr>\n",
       "    <tr>\n",
       "      <th>28</th>\n",
       "      <td>28</td>\n",
       "      <td>1</td>\n",
       "      <td>2</td>\n",
       "      <td>303_5</td>\n",
       "      <td>C</td>\n",
       "      <td>C</td>\n",
       "      <td>1.0</td>\n",
       "      <td>1.0</td>\n",
       "      <td>1.0</td>\n",
       "      <td>1.0</td>\n",
       "      <td>1.0</td>\n",
       "      <td>1.0</td>\n",
       "      <td>1.0</td>\n",
       "      <td>1.0</td>\n",
       "      <td>1.0</td>\n",
       "      <td>1.0</td>\n",
       "      <td>10.0</td>\n",
       "      <td>13.0</td>\n",
       "    </tr>\n",
       "    <tr>\n",
       "      <th>26</th>\n",
       "      <td>26</td>\n",
       "      <td>1</td>\n",
       "      <td>2</td>\n",
       "      <td>303_3</td>\n",
       "      <td>B</td>\n",
       "      <td>C</td>\n",
       "      <td>1.0</td>\n",
       "      <td>1.0</td>\n",
       "      <td>1.0</td>\n",
       "      <td>1.0</td>\n",
       "      <td>1.0</td>\n",
       "      <td>1.0</td>\n",
       "      <td>1.0</td>\n",
       "      <td>1.0</td>\n",
       "      <td>1.0</td>\n",
       "      <td>1.0</td>\n",
       "      <td>10.0</td>\n",
       "      <td>13.0</td>\n",
       "    </tr>\n",
       "    <tr>\n",
       "      <th>30</th>\n",
       "      <td>30</td>\n",
       "      <td>1</td>\n",
       "      <td>2</td>\n",
       "      <td>303_7</td>\n",
       "      <td>C</td>\n",
       "      <td>C</td>\n",
       "      <td>1.0</td>\n",
       "      <td>1.0</td>\n",
       "      <td>1.0</td>\n",
       "      <td>1.0</td>\n",
       "      <td>1.0</td>\n",
       "      <td>1.0</td>\n",
       "      <td>1.0</td>\n",
       "      <td>1.0</td>\n",
       "      <td>1.0</td>\n",
       "      <td>1.0</td>\n",
       "      <td>10.0</td>\n",
       "      <td>13.0</td>\n",
       "    </tr>\n",
       "    <tr>\n",
       "      <th>24</th>\n",
       "      <td>24</td>\n",
       "      <td>1</td>\n",
       "      <td>2</td>\n",
       "      <td>303_17</td>\n",
       "      <td>C</td>\n",
       "      <td>C</td>\n",
       "      <td>1.0</td>\n",
       "      <td>1.0</td>\n",
       "      <td>1.0</td>\n",
       "      <td>1.0</td>\n",
       "      <td>1.0</td>\n",
       "      <td>1.0</td>\n",
       "      <td>1.0</td>\n",
       "      <td>1.0</td>\n",
       "      <td>1.0</td>\n",
       "      <td>1.0</td>\n",
       "      <td>10.0</td>\n",
       "      <td>13.0</td>\n",
       "    </tr>\n",
       "    <tr>\n",
       "      <th>31</th>\n",
       "      <td>31</td>\n",
       "      <td>1</td>\n",
       "      <td>2</td>\n",
       "      <td>303_8</td>\n",
       "      <td>C</td>\n",
       "      <td>C</td>\n",
       "      <td>1.0</td>\n",
       "      <td>1.0</td>\n",
       "      <td>1.0</td>\n",
       "      <td>1.0</td>\n",
       "      <td>1.0</td>\n",
       "      <td>1.0</td>\n",
       "      <td>1.0</td>\n",
       "      <td>1.0</td>\n",
       "      <td>1.0</td>\n",
       "      <td>1.0</td>\n",
       "      <td>10.0</td>\n",
       "      <td>13.0</td>\n",
       "    </tr>\n",
       "    <tr>\n",
       "      <th>22</th>\n",
       "      <td>22</td>\n",
       "      <td>1</td>\n",
       "      <td>2</td>\n",
       "      <td>303_15</td>\n",
       "      <td>C</td>\n",
       "      <td>C</td>\n",
       "      <td>1.0</td>\n",
       "      <td>1.0</td>\n",
       "      <td>1.0</td>\n",
       "      <td>1.0</td>\n",
       "      <td>1.0</td>\n",
       "      <td>1.0</td>\n",
       "      <td>1.0</td>\n",
       "      <td>1.0</td>\n",
       "      <td>1.0</td>\n",
       "      <td>1.0</td>\n",
       "      <td>10.0</td>\n",
       "      <td>13.0</td>\n",
       "    </tr>\n",
       "    <tr>\n",
       "      <th>21</th>\n",
       "      <td>21</td>\n",
       "      <td>1</td>\n",
       "      <td>2</td>\n",
       "      <td>303_14</td>\n",
       "      <td>C</td>\n",
       "      <td>C</td>\n",
       "      <td>1.0</td>\n",
       "      <td>1.0</td>\n",
       "      <td>1.0</td>\n",
       "      <td>1.0</td>\n",
       "      <td>1.0</td>\n",
       "      <td>1.0</td>\n",
       "      <td>1.0</td>\n",
       "      <td>1.0</td>\n",
       "      <td>1.0</td>\n",
       "      <td>1.0</td>\n",
       "      <td>10.0</td>\n",
       "      <td>13.0</td>\n",
       "    </tr>\n",
       "    <tr>\n",
       "      <th>20</th>\n",
       "      <td>20</td>\n",
       "      <td>1</td>\n",
       "      <td>2</td>\n",
       "      <td>303_13</td>\n",
       "      <td>C</td>\n",
       "      <td>B</td>\n",
       "      <td>1.0</td>\n",
       "      <td>1.0</td>\n",
       "      <td>1.0</td>\n",
       "      <td>1.0</td>\n",
       "      <td>1.0</td>\n",
       "      <td>1.0</td>\n",
       "      <td>1.0</td>\n",
       "      <td>1.0</td>\n",
       "      <td>1.0</td>\n",
       "      <td>1.0</td>\n",
       "      <td>10.0</td>\n",
       "      <td>13.0</td>\n",
       "    </tr>\n",
       "    <tr>\n",
       "      <th>19</th>\n",
       "      <td>19</td>\n",
       "      <td>1</td>\n",
       "      <td>2</td>\n",
       "      <td>303_12</td>\n",
       "      <td>C</td>\n",
       "      <td>C</td>\n",
       "      <td>1.0</td>\n",
       "      <td>1.0</td>\n",
       "      <td>1.0</td>\n",
       "      <td>1.0</td>\n",
       "      <td>1.0</td>\n",
       "      <td>1.0</td>\n",
       "      <td>1.0</td>\n",
       "      <td>1.0</td>\n",
       "      <td>1.0</td>\n",
       "      <td>1.0</td>\n",
       "      <td>10.0</td>\n",
       "      <td>13.0</td>\n",
       "    </tr>\n",
       "    <tr>\n",
       "      <th>18</th>\n",
       "      <td>18</td>\n",
       "      <td>1</td>\n",
       "      <td>2</td>\n",
       "      <td>303_11</td>\n",
       "      <td>B</td>\n",
       "      <td>undefined</td>\n",
       "      <td>1.0</td>\n",
       "      <td>1.0</td>\n",
       "      <td>1.0</td>\n",
       "      <td>1.0</td>\n",
       "      <td>1.0</td>\n",
       "      <td>1.0</td>\n",
       "      <td>1.0</td>\n",
       "      <td>1.0</td>\n",
       "      <td>1.0</td>\n",
       "      <td>1.0</td>\n",
       "      <td>10.0</td>\n",
       "      <td>13.0</td>\n",
       "    </tr>\n",
       "    <tr>\n",
       "      <th>17</th>\n",
       "      <td>17</td>\n",
       "      <td>1</td>\n",
       "      <td>2</td>\n",
       "      <td>303_1</td>\n",
       "      <td>C</td>\n",
       "      <td>C</td>\n",
       "      <td>1.0</td>\n",
       "      <td>1.0</td>\n",
       "      <td>1.0</td>\n",
       "      <td>1.0</td>\n",
       "      <td>1.0</td>\n",
       "      <td>1.0</td>\n",
       "      <td>1.0</td>\n",
       "      <td>1.0</td>\n",
       "      <td>1.0</td>\n",
       "      <td>1.0</td>\n",
       "      <td>10.0</td>\n",
       "      <td>13.0</td>\n",
       "    </tr>\n",
       "    <tr>\n",
       "      <th>16</th>\n",
       "      <td>16</td>\n",
       "      <td>1</td>\n",
       "      <td>2</td>\n",
       "      <td>303_0</td>\n",
       "      <td>C</td>\n",
       "      <td>B</td>\n",
       "      <td>1.0</td>\n",
       "      <td>1.0</td>\n",
       "      <td>1.0</td>\n",
       "      <td>1.0</td>\n",
       "      <td>1.0</td>\n",
       "      <td>1.0</td>\n",
       "      <td>1.0</td>\n",
       "      <td>1.0</td>\n",
       "      <td>1.0</td>\n",
       "      <td>1.0</td>\n",
       "      <td>10.0</td>\n",
       "      <td>13.0</td>\n",
       "    </tr>\n",
       "  </tbody>\n",
       "</table>\n",
       "</div>"
      ],
      "text/plain": [
       "    Unnamed: 0  Test  Stufe unique_id Level Gesamt_Level    1    2    3    4  \\\n",
       "25          25     1      2     303_2     C            C  1.0  1.0  1.0  1.0   \n",
       "28          28     1      2     303_5     C            C  1.0  1.0  1.0  1.0   \n",
       "26          26     1      2     303_3     B            C  1.0  1.0  1.0  1.0   \n",
       "30          30     1      2     303_7     C            C  1.0  1.0  1.0  1.0   \n",
       "24          24     1      2    303_17     C            C  1.0  1.0  1.0  1.0   \n",
       "31          31     1      2     303_8     C            C  1.0  1.0  1.0  1.0   \n",
       "22          22     1      2    303_15     C            C  1.0  1.0  1.0  1.0   \n",
       "21          21     1      2    303_14     C            C  1.0  1.0  1.0  1.0   \n",
       "20          20     1      2    303_13     C            B  1.0  1.0  1.0  1.0   \n",
       "19          19     1      2    303_12     C            C  1.0  1.0  1.0  1.0   \n",
       "18          18     1      2    303_11     B    undefined  1.0  1.0  1.0  1.0   \n",
       "17          17     1      2     303_1     C            C  1.0  1.0  1.0  1.0   \n",
       "16          16     1      2     303_0     C            B  1.0  1.0  1.0  1.0   \n",
       "\n",
       "      5    6    7    8    9   10   sum  upper_item1  \n",
       "25  1.0  1.0  1.0  1.0  1.0  1.0  10.0         13.0  \n",
       "28  1.0  1.0  1.0  1.0  1.0  1.0  10.0         13.0  \n",
       "26  1.0  1.0  1.0  1.0  1.0  1.0  10.0         13.0  \n",
       "30  1.0  1.0  1.0  1.0  1.0  1.0  10.0         13.0  \n",
       "24  1.0  1.0  1.0  1.0  1.0  1.0  10.0         13.0  \n",
       "31  1.0  1.0  1.0  1.0  1.0  1.0  10.0         13.0  \n",
       "22  1.0  1.0  1.0  1.0  1.0  1.0  10.0         13.0  \n",
       "21  1.0  1.0  1.0  1.0  1.0  1.0  10.0         13.0  \n",
       "20  1.0  1.0  1.0  1.0  1.0  1.0  10.0         13.0  \n",
       "19  1.0  1.0  1.0  1.0  1.0  1.0  10.0         13.0  \n",
       "18  1.0  1.0  1.0  1.0  1.0  1.0  10.0         13.0  \n",
       "17  1.0  1.0  1.0  1.0  1.0  1.0  10.0         13.0  \n",
       "16  1.0  1.0  1.0  1.0  1.0  1.0  10.0         13.0  "
      ]
     },
     "execution_count": 52,
     "metadata": {},
     "output_type": "execute_result"
    },
    {
     "data": {
      "application/javascript": [
       "\n",
       "            setTimeout(function() {\n",
       "                var nbb_cell_id = 52;\n",
       "                var nbb_unformatted_code = \"upper_group\";\n",
       "                var nbb_formatted_code = \"upper_group\";\n",
       "                var nbb_cells = Jupyter.notebook.get_cells();\n",
       "                for (var i = 0; i < nbb_cells.length; ++i) {\n",
       "                    if (nbb_cells[i].input_prompt_number == nbb_cell_id) {\n",
       "                        if (nbb_cells[i].get_text() == nbb_unformatted_code) {\n",
       "                             nbb_cells[i].set_text(nbb_formatted_code);\n",
       "                        }\n",
       "                        break;\n",
       "                    }\n",
       "                }\n",
       "            }, 500);\n",
       "            "
      ],
      "text/plain": [
       "<IPython.core.display.Javascript object>"
      ]
     },
     "metadata": {},
     "output_type": "display_data"
    }
   ],
   "source": [
    "upper_group"
   ]
  },
  {
   "cell_type": "code",
   "execution_count": 53,
   "id": "stupid-confusion",
   "metadata": {},
   "outputs": [
    {
     "data": {
      "text/html": [
       "<div>\n",
       "<style scoped>\n",
       "    .dataframe tbody tr th:only-of-type {\n",
       "        vertical-align: middle;\n",
       "    }\n",
       "\n",
       "    .dataframe tbody tr th {\n",
       "        vertical-align: top;\n",
       "    }\n",
       "\n",
       "    .dataframe thead th {\n",
       "        text-align: right;\n",
       "    }\n",
       "</style>\n",
       "<table border=\"1\" class=\"dataframe\">\n",
       "  <thead>\n",
       "    <tr style=\"text-align: right;\">\n",
       "      <th></th>\n",
       "      <th>Unnamed: 0</th>\n",
       "      <th>Test</th>\n",
       "      <th>Stufe</th>\n",
       "      <th>unique_id</th>\n",
       "      <th>Level</th>\n",
       "      <th>Gesamt_Level</th>\n",
       "      <th>1</th>\n",
       "      <th>2</th>\n",
       "      <th>3</th>\n",
       "      <th>4</th>\n",
       "      <th>5</th>\n",
       "      <th>6</th>\n",
       "      <th>7</th>\n",
       "      <th>8</th>\n",
       "      <th>9</th>\n",
       "      <th>10</th>\n",
       "      <th>sum</th>\n",
       "      <th>lower_item1</th>\n",
       "    </tr>\n",
       "  </thead>\n",
       "  <tbody>\n",
       "    <tr>\n",
       "      <th>45</th>\n",
       "      <td>45</td>\n",
       "      <td>1</td>\n",
       "      <td>2</td>\n",
       "      <td>606_3</td>\n",
       "      <td>B</td>\n",
       "      <td>B</td>\n",
       "      <td>1.0</td>\n",
       "      <td>1.0</td>\n",
       "      <td>1.0</td>\n",
       "      <td>NaN</td>\n",
       "      <td>NaN</td>\n",
       "      <td>0.0</td>\n",
       "      <td>1.0</td>\n",
       "      <td>1.0</td>\n",
       "      <td>1.0</td>\n",
       "      <td>1.0</td>\n",
       "      <td>7.0</td>\n",
       "      <td>9.0</td>\n",
       "    </tr>\n",
       "    <tr>\n",
       "      <th>37</th>\n",
       "      <td>37</td>\n",
       "      <td>1</td>\n",
       "      <td>2</td>\n",
       "      <td>606_12</td>\n",
       "      <td>B</td>\n",
       "      <td>B</td>\n",
       "      <td>1.0</td>\n",
       "      <td>0.0</td>\n",
       "      <td>1.0</td>\n",
       "      <td>0.0</td>\n",
       "      <td>1.0</td>\n",
       "      <td>1.0</td>\n",
       "      <td>0.0</td>\n",
       "      <td>1.0</td>\n",
       "      <td>1.0</td>\n",
       "      <td>1.0</td>\n",
       "      <td>7.0</td>\n",
       "      <td>9.0</td>\n",
       "    </tr>\n",
       "    <tr>\n",
       "      <th>2</th>\n",
       "      <td>2</td>\n",
       "      <td>1</td>\n",
       "      <td>1</td>\n",
       "      <td>404_10</td>\n",
       "      <td>B</td>\n",
       "      <td>B</td>\n",
       "      <td>1.0</td>\n",
       "      <td>0.0</td>\n",
       "      <td>0.0</td>\n",
       "      <td>0.0</td>\n",
       "      <td>1.0</td>\n",
       "      <td>1.0</td>\n",
       "      <td>1.0</td>\n",
       "      <td>0.0</td>\n",
       "      <td>1.0</td>\n",
       "      <td>1.0</td>\n",
       "      <td>6.0</td>\n",
       "      <td>9.0</td>\n",
       "    </tr>\n",
       "    <tr>\n",
       "      <th>23</th>\n",
       "      <td>23</td>\n",
       "      <td>1</td>\n",
       "      <td>2</td>\n",
       "      <td>303_16</td>\n",
       "      <td>B</td>\n",
       "      <td>B</td>\n",
       "      <td>0.0</td>\n",
       "      <td>1.0</td>\n",
       "      <td>0.0</td>\n",
       "      <td>1.0</td>\n",
       "      <td>0.0</td>\n",
       "      <td>1.0</td>\n",
       "      <td>1.0</td>\n",
       "      <td>0.0</td>\n",
       "      <td>1.0</td>\n",
       "      <td>1.0</td>\n",
       "      <td>6.0</td>\n",
       "      <td>9.0</td>\n",
       "    </tr>\n",
       "    <tr>\n",
       "      <th>36</th>\n",
       "      <td>36</td>\n",
       "      <td>1</td>\n",
       "      <td>2</td>\n",
       "      <td>606_11</td>\n",
       "      <td>B</td>\n",
       "      <td>C</td>\n",
       "      <td>1.0</td>\n",
       "      <td>0.0</td>\n",
       "      <td>0.0</td>\n",
       "      <td>1.0</td>\n",
       "      <td>1.0</td>\n",
       "      <td>0.0</td>\n",
       "      <td>1.0</td>\n",
       "      <td>0.0</td>\n",
       "      <td>1.0</td>\n",
       "      <td>1.0</td>\n",
       "      <td>6.0</td>\n",
       "      <td>9.0</td>\n",
       "    </tr>\n",
       "    <tr>\n",
       "      <th>15</th>\n",
       "      <td>15</td>\n",
       "      <td>1</td>\n",
       "      <td>1</td>\n",
       "      <td>505_3</td>\n",
       "      <td>A</td>\n",
       "      <td>B</td>\n",
       "      <td>1.0</td>\n",
       "      <td>1.0</td>\n",
       "      <td>1.0</td>\n",
       "      <td>NaN</td>\n",
       "      <td>1.0</td>\n",
       "      <td>1.0</td>\n",
       "      <td>NaN</td>\n",
       "      <td>1.0</td>\n",
       "      <td>NaN</td>\n",
       "      <td>NaN</td>\n",
       "      <td>6.0</td>\n",
       "      <td>9.0</td>\n",
       "    </tr>\n",
       "    <tr>\n",
       "      <th>4</th>\n",
       "      <td>4</td>\n",
       "      <td>1</td>\n",
       "      <td>1</td>\n",
       "      <td>404_12</td>\n",
       "      <td>B</td>\n",
       "      <td>C</td>\n",
       "      <td>1.0</td>\n",
       "      <td>0.0</td>\n",
       "      <td>1.0</td>\n",
       "      <td>0.0</td>\n",
       "      <td>0.0</td>\n",
       "      <td>0.0</td>\n",
       "      <td>1.0</td>\n",
       "      <td>0.0</td>\n",
       "      <td>1.0</td>\n",
       "      <td>1.0</td>\n",
       "      <td>5.0</td>\n",
       "      <td>9.0</td>\n",
       "    </tr>\n",
       "    <tr>\n",
       "      <th>14</th>\n",
       "      <td>14</td>\n",
       "      <td>1</td>\n",
       "      <td>1</td>\n",
       "      <td>505_20</td>\n",
       "      <td>A</td>\n",
       "      <td>B</td>\n",
       "      <td>1.0</td>\n",
       "      <td>1.0</td>\n",
       "      <td>1.0</td>\n",
       "      <td>0.0</td>\n",
       "      <td>1.0</td>\n",
       "      <td>0.0</td>\n",
       "      <td>0.0</td>\n",
       "      <td>NaN</td>\n",
       "      <td>NaN</td>\n",
       "      <td>NaN</td>\n",
       "      <td>4.0</td>\n",
       "      <td>9.0</td>\n",
       "    </tr>\n",
       "    <tr>\n",
       "      <th>1</th>\n",
       "      <td>1</td>\n",
       "      <td>1</td>\n",
       "      <td>1</td>\n",
       "      <td>404_1</td>\n",
       "      <td>A</td>\n",
       "      <td>A</td>\n",
       "      <td>0.0</td>\n",
       "      <td>1.0</td>\n",
       "      <td>0.0</td>\n",
       "      <td>0.0</td>\n",
       "      <td>0.0</td>\n",
       "      <td>0.0</td>\n",
       "      <td>1.0</td>\n",
       "      <td>0.0</td>\n",
       "      <td>1.0</td>\n",
       "      <td>0.0</td>\n",
       "      <td>3.0</td>\n",
       "      <td>9.0</td>\n",
       "    </tr>\n",
       "    <tr>\n",
       "      <th>6</th>\n",
       "      <td>6</td>\n",
       "      <td>1</td>\n",
       "      <td>1</td>\n",
       "      <td>404_2</td>\n",
       "      <td>A</td>\n",
       "      <td>A</td>\n",
       "      <td>0.0</td>\n",
       "      <td>0.0</td>\n",
       "      <td>0.0</td>\n",
       "      <td>0.0</td>\n",
       "      <td>0.0</td>\n",
       "      <td>0.0</td>\n",
       "      <td>1.0</td>\n",
       "      <td>0.0</td>\n",
       "      <td>1.0</td>\n",
       "      <td>1.0</td>\n",
       "      <td>3.0</td>\n",
       "      <td>9.0</td>\n",
       "    </tr>\n",
       "    <tr>\n",
       "      <th>11</th>\n",
       "      <td>11</td>\n",
       "      <td>1</td>\n",
       "      <td>1</td>\n",
       "      <td>404_7</td>\n",
       "      <td>A</td>\n",
       "      <td>B</td>\n",
       "      <td>1.0</td>\n",
       "      <td>1.0</td>\n",
       "      <td>0.0</td>\n",
       "      <td>0.0</td>\n",
       "      <td>1.0</td>\n",
       "      <td>0.0</td>\n",
       "      <td>0.0</td>\n",
       "      <td>0.0</td>\n",
       "      <td>0.0</td>\n",
       "      <td>0.0</td>\n",
       "      <td>3.0</td>\n",
       "      <td>9.0</td>\n",
       "    </tr>\n",
       "    <tr>\n",
       "      <th>3</th>\n",
       "      <td>3</td>\n",
       "      <td>1</td>\n",
       "      <td>1</td>\n",
       "      <td>404_11</td>\n",
       "      <td>A</td>\n",
       "      <td>A</td>\n",
       "      <td>0.0</td>\n",
       "      <td>0.0</td>\n",
       "      <td>0.0</td>\n",
       "      <td>0.0</td>\n",
       "      <td>0.0</td>\n",
       "      <td>0.0</td>\n",
       "      <td>1.0</td>\n",
       "      <td>1.0</td>\n",
       "      <td>0.0</td>\n",
       "      <td>0.0</td>\n",
       "      <td>2.0</td>\n",
       "      <td>9.0</td>\n",
       "    </tr>\n",
       "    <tr>\n",
       "      <th>8</th>\n",
       "      <td>8</td>\n",
       "      <td>1</td>\n",
       "      <td>1</td>\n",
       "      <td>404_4</td>\n",
       "      <td>A</td>\n",
       "      <td>B</td>\n",
       "      <td>1.0</td>\n",
       "      <td>0.0</td>\n",
       "      <td>0.0</td>\n",
       "      <td>0.0</td>\n",
       "      <td>0.0</td>\n",
       "      <td>0.0</td>\n",
       "      <td>0.0</td>\n",
       "      <td>0.0</td>\n",
       "      <td>0.0</td>\n",
       "      <td>1.0</td>\n",
       "      <td>2.0</td>\n",
       "      <td>9.0</td>\n",
       "    </tr>\n",
       "  </tbody>\n",
       "</table>\n",
       "</div>"
      ],
      "text/plain": [
       "    Unnamed: 0  Test  Stufe unique_id Level Gesamt_Level    1    2    3    4  \\\n",
       "45          45     1      2     606_3     B            B  1.0  1.0  1.0  NaN   \n",
       "37          37     1      2    606_12     B            B  1.0  0.0  1.0  0.0   \n",
       "2            2     1      1    404_10     B            B  1.0  0.0  0.0  0.0   \n",
       "23          23     1      2    303_16     B            B  0.0  1.0  0.0  1.0   \n",
       "36          36     1      2    606_11     B            C  1.0  0.0  0.0  1.0   \n",
       "15          15     1      1     505_3     A            B  1.0  1.0  1.0  NaN   \n",
       "4            4     1      1    404_12     B            C  1.0  0.0  1.0  0.0   \n",
       "14          14     1      1    505_20     A            B  1.0  1.0  1.0  0.0   \n",
       "1            1     1      1     404_1     A            A  0.0  1.0  0.0  0.0   \n",
       "6            6     1      1     404_2     A            A  0.0  0.0  0.0  0.0   \n",
       "11          11     1      1     404_7     A            B  1.0  1.0  0.0  0.0   \n",
       "3            3     1      1    404_11     A            A  0.0  0.0  0.0  0.0   \n",
       "8            8     1      1     404_4     A            B  1.0  0.0  0.0  0.0   \n",
       "\n",
       "      5    6    7    8    9   10  sum  lower_item1  \n",
       "45  NaN  0.0  1.0  1.0  1.0  1.0  7.0          9.0  \n",
       "37  1.0  1.0  0.0  1.0  1.0  1.0  7.0          9.0  \n",
       "2   1.0  1.0  1.0  0.0  1.0  1.0  6.0          9.0  \n",
       "23  0.0  1.0  1.0  0.0  1.0  1.0  6.0          9.0  \n",
       "36  1.0  0.0  1.0  0.0  1.0  1.0  6.0          9.0  \n",
       "15  1.0  1.0  NaN  1.0  NaN  NaN  6.0          9.0  \n",
       "4   0.0  0.0  1.0  0.0  1.0  1.0  5.0          9.0  \n",
       "14  1.0  0.0  0.0  NaN  NaN  NaN  4.0          9.0  \n",
       "1   0.0  0.0  1.0  0.0  1.0  0.0  3.0          9.0  \n",
       "6   0.0  0.0  1.0  0.0  1.0  1.0  3.0          9.0  \n",
       "11  1.0  0.0  0.0  0.0  0.0  0.0  3.0          9.0  \n",
       "3   0.0  0.0  1.0  1.0  0.0  0.0  2.0          9.0  \n",
       "8   0.0  0.0  0.0  0.0  0.0  1.0  2.0          9.0  "
      ]
     },
     "execution_count": 53,
     "metadata": {},
     "output_type": "execute_result"
    },
    {
     "data": {
      "application/javascript": [
       "\n",
       "            setTimeout(function() {\n",
       "                var nbb_cell_id = 53;\n",
       "                var nbb_unformatted_code = \"lower_1 = lower_group[\\\"1\\\"].sum()\\nlower_group[\\\"lower_item1\\\"] = lower_group[\\\"1\\\"].sum()\\nlower_group\";\n",
       "                var nbb_formatted_code = \"lower_1 = lower_group[\\\"1\\\"].sum()\\nlower_group[\\\"lower_item1\\\"] = lower_group[\\\"1\\\"].sum()\\nlower_group\";\n",
       "                var nbb_cells = Jupyter.notebook.get_cells();\n",
       "                for (var i = 0; i < nbb_cells.length; ++i) {\n",
       "                    if (nbb_cells[i].input_prompt_number == nbb_cell_id) {\n",
       "                        if (nbb_cells[i].get_text() == nbb_unformatted_code) {\n",
       "                             nbb_cells[i].set_text(nbb_formatted_code);\n",
       "                        }\n",
       "                        break;\n",
       "                    }\n",
       "                }\n",
       "            }, 500);\n",
       "            "
      ],
      "text/plain": [
       "<IPython.core.display.Javascript object>"
      ]
     },
     "metadata": {},
     "output_type": "display_data"
    }
   ],
   "source": [
    "lower_1 = lower_group[\"1\"].sum()\n",
    "lower_group[\"lower_item1\"] = lower_group[\"1\"].sum()\n",
    "lower_group"
   ]
  },
  {
   "cell_type": "code",
   "execution_count": 54,
   "id": "super-immigration",
   "metadata": {},
   "outputs": [
    {
     "data": {
      "text/plain": [
       "0.3076923076923077"
      ]
     },
     "execution_count": 54,
     "metadata": {},
     "output_type": "execute_result"
    },
    {
     "data": {
      "application/javascript": [
       "\n",
       "            setTimeout(function() {\n",
       "                var nbb_cell_id = 54;\n",
       "                var nbb_unformatted_code = \"(upper_1 - lower_1) / percentToWholeNumber\";\n",
       "                var nbb_formatted_code = \"(upper_1 - lower_1) / percentToWholeNumber\";\n",
       "                var nbb_cells = Jupyter.notebook.get_cells();\n",
       "                for (var i = 0; i < nbb_cells.length; ++i) {\n",
       "                    if (nbb_cells[i].input_prompt_number == nbb_cell_id) {\n",
       "                        if (nbb_cells[i].get_text() == nbb_unformatted_code) {\n",
       "                             nbb_cells[i].set_text(nbb_formatted_code);\n",
       "                        }\n",
       "                        break;\n",
       "                    }\n",
       "                }\n",
       "            }, 500);\n",
       "            "
      ],
      "text/plain": [
       "<IPython.core.display.Javascript object>"
      ]
     },
     "metadata": {},
     "output_type": "display_data"
    }
   ],
   "source": [
    "(upper_1 - lower_1) / percentToWholeNumber"
   ]
  },
  {
   "cell_type": "code",
   "execution_count": 55,
   "id": "ancient-lobby",
   "metadata": {},
   "outputs": [
    {
     "data": {
      "text/plain": [
       "0.3076923076923077"
      ]
     },
     "execution_count": 55,
     "metadata": {},
     "output_type": "execute_result"
    },
    {
     "data": {
      "application/javascript": [
       "\n",
       "            setTimeout(function() {\n",
       "                var nbb_cell_id = 55;\n",
       "                var nbb_unformatted_code = \"4 / 13\";\n",
       "                var nbb_formatted_code = \"4 / 13\";\n",
       "                var nbb_cells = Jupyter.notebook.get_cells();\n",
       "                for (var i = 0; i < nbb_cells.length; ++i) {\n",
       "                    if (nbb_cells[i].input_prompt_number == nbb_cell_id) {\n",
       "                        if (nbb_cells[i].get_text() == nbb_unformatted_code) {\n",
       "                             nbb_cells[i].set_text(nbb_formatted_code);\n",
       "                        }\n",
       "                        break;\n",
       "                    }\n",
       "                }\n",
       "            }, 500);\n",
       "            "
      ],
      "text/plain": [
       "<IPython.core.display.Javascript object>"
      ]
     },
     "metadata": {},
     "output_type": "display_data"
    }
   ],
   "source": [
    "4 / 13"
   ]
  },
  {
   "cell_type": "code",
   "execution_count": null,
   "id": "modified-moldova",
   "metadata": {},
   "outputs": [],
   "source": []
  },
  {
   "cell_type": "code",
   "execution_count": null,
   "id": "freelance-helen",
   "metadata": {},
   "outputs": [],
   "source": []
  }
 ],
 "metadata": {
  "hide_input": false,
  "kernelspec": {
   "display_name": "tiria",
   "language": "python",
   "name": "tiria"
  },
  "language_info": {
   "codemirror_mode": {
    "name": "ipython",
    "version": 3
   },
   "file_extension": ".py",
   "mimetype": "text/x-python",
   "name": "python",
   "nbconvert_exporter": "python",
   "pygments_lexer": "ipython3",
   "version": "3.8.10"
  }
 },
 "nbformat": 4,
 "nbformat_minor": 5
}
