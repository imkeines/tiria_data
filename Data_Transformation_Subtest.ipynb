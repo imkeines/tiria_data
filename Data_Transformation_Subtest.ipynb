{
 "cells": [
  {
   "cell_type": "code",
   "execution_count": 1,
   "id": "voluntary-berry",
   "metadata": {},
   "outputs": [],
   "source": [
    "import pandas as pd\n",
    "import numpy as np\n",
    "import locale\n",
    "\n",
    "pd.options.mode.chained_assignment = None  # default='warn'"
   ]
  },
  {
   "cell_type": "code",
   "execution_count": 2,
   "id": "known-connectivity",
   "metadata": {},
   "outputs": [],
   "source": [
    "# read csv data as dataframe\n",
    "data = pd.read_csv('/home/iik/Desktop/tiria_waldprüfung/data/2021-07-20_21-57_results.csv', delimiter=';')\n",
    "\n",
    "# rename variables\n",
    "data = data.rename(columns={'Schueler-ID': 'child_id', \n",
    "                            'Gewaehlt1': 'choice_1',\n",
    "                            'Gewaehlt2':'choice_2',\n",
    "                            'GesamtRichtig':'Gesamt_Richtig',\n",
    "                            'GesamtFalsch':'Gesamt_Falsch',\n",
    "                            'GesamtLevel': 'Gesamt_Level'})\n",
    "\n",
    "# delete the tutorial tasks from df (trial 1 & trial 2) as well as test trials (which is ID == 101 and ==202) as they should not be included in the analysis\n",
    "data = data.loc[~((data['Aufgabe']=='Trial 1') | (data['Aufgabe']=='Trial 2'))]\n",
    "\n",
    "# delete all test trials \n",
    "data = data.loc[~((data.ID ==101) | (data.ID ==202))]\n",
    "\n",
    "# transform datatype from variable 'Aufgabe' to type integer\n",
    "data.Aufgabe = data.Aufgabe.astype(int)\n",
    "\n",
    "# Create Date time object\n",
    "data.Start = pd.to_datetime(data.Start, format='%d.%m.%Y %H:%M:%S')\n",
    "data.Ende = pd.to_datetime(data.Ende, format='%d.%m.%Y %H:%M:%S')"
   ]
  },
  {
   "cell_type": "code",
   "execution_count": 3,
   "id": "working-tracy",
   "metadata": {},
   "outputs": [],
   "source": [
    "# Create a dict with dfs, each df holds data of a Subtest\n",
    "dict_test_df={}\n",
    "test_name = data.Test.unique()\n",
    "for test in test_name:\n",
    "    df_test = data.loc[data['Test'] == test]\n",
    "    dict_test_df[test]= df_test\n",
    "    \n",
    "#dict_test_df.keys()"
   ]
  },
  {
   "cell_type": "code",
   "execution_count": 4,
   "id": "turned-japan",
   "metadata": {},
   "outputs": [],
   "source": [
    "# select a test\n",
    "test = dict_test_df.get(1)"
   ]
  },
  {
   "cell_type": "code",
   "execution_count": 5,
   "id": "limiting-region",
   "metadata": {},
   "outputs": [],
   "source": [
    "# create a unique id for each child\n",
    "test.insert(0, 'unique_id', test.ID.astype(str)+'_'+ test.child_id.astype(str))"
   ]
  },
  {
   "cell_type": "code",
   "execution_count": 6,
   "id": "exempt-american",
   "metadata": {
    "scrolled": true
   },
   "outputs": [],
   "source": [
    "child_ids = test.unique_id.unique()\n",
    "child_ids = list(sorted(child_ids))"
   ]
  },
  {
   "cell_type": "markdown",
   "id": "helpful-scholar",
   "metadata": {},
   "source": [
    "## Transform data of subtest"
   ]
  },
  {
   "cell_type": "code",
   "execution_count": 7,
   "id": "seeing-battery",
   "metadata": {
    "scrolled": true
   },
   "outputs": [],
   "source": [
    "# loop all child ids and create for each child a list with all relevant data\n",
    "list_all_children=[]\n",
    "\n",
    "for id_ in child_ids:\n",
    "    \n",
    "    # create a df by selecting the relevant child by id number\n",
    "    child = test.loc[test['unique_id'] == id_]\n",
    "    \n",
    "    # for each subtest correct for possible reruns by selecting only the relevant amount of entries, considering time of entry  \n",
    "    child.sort_values(by=['Start'], ascending=True, inplace=True)\n",
    "    \n",
    "    if ((child.Test.iloc[0] == 1) | (child.Test.iloc[0] == 2)):\n",
    "        if child.shape[0]> 10:\n",
    "            redundant = child.shape[0]-10\n",
    "            child = child.head(-redundant)\n",
    "            child.sort_values(by=['Aufgabe'], ascending = True, inplace=True)\n",
    "    \n",
    "    if child.Test.iloc[0] == 3:\n",
    "        if child.shape[0]> 50:\n",
    "            redundant = child.shape[0]-50\n",
    "            child = child.head(-redundant)\n",
    "            child.sort_values(by=['Aufgabe'], ascending = True, inplace=True)\n",
    "\n",
    "    if child.Test.iloc[0] == 4:\n",
    "        if child.shape[0]> 30:\n",
    "            redundant = child.shape[0]-30\n",
    "            child = child.head(-redundant)\n",
    "            child.sort_values(by=['Aufgabe'], ascending = True, inplace=True)\n",
    "    \n",
    "    # create empty list which will be filled with all data for that relevant child\n",
    "    child_list = list()\n",
    "    \n",
    "    # add the unique id of the child\n",
    "    child_list.append(id_)\n",
    "    \n",
    "    # add the child id\n",
    "    child_list.append(child.child_id.unique().tolist()[0])\n",
    "\n",
    "    # add level of subtest\n",
    "    child_list.append(child.Level.unique().tolist()[0])\n",
    "    \n",
    "    # add level averaged of all subtests\n",
    "    child_list.append(child.Gesamt_Level.unique().tolist()[0])\n",
    "    \n",
    "    # add the class level\n",
    "    child_list.append(child.Stufe.unique().tolist()[0])\n",
    "\n",
    "    # add name of teacher\n",
    "    child_list.append(child.Lehrer.unique().tolist()[0])\n",
    "    \n",
    "    # add class is\n",
    "    child_list.append(child.ID.unique().tolist()[0])\n",
    "    \n",
    "    # add class name\n",
    "    child_list.append(child.Klasse.unique().tolist()[0])\n",
    "        \n",
    "    # add test number\n",
    "    child_list.append(child.Test.unique().tolist()[0])\n",
    "    \n",
    "    # add time needed to take the test\n",
    "    child_list.append(child.Dauer.unique().tolist()[0])\n",
    "    \n",
    "\n",
    "    # sort the table according to task number\n",
    "    child.sort_values(by=['Aufgabe'])\n",
    "    \n",
    "    # add choice 1\n",
    "    list_choice_1 = child.choice_1.tolist()\n",
    "    for choice1 in list_choice_1:\n",
    "        child_list.append(choice1) \n",
    "    \n",
    "    # add choice_2, only relevant for subtest 1 and subtest 2\n",
    "    if ((child.Test.iloc[0] == 1) | (child.Test.iloc[0] == 2)):\n",
    "        list_choice_2 = child.choice_2.tolist()\n",
    "        for choice2 in list_choice_2:\n",
    "            child_list.append(choice2) \n",
    "    \n",
    "    # add Ergebnis\n",
    "    list_ergebnis = child.Ergebnis.tolist()\n",
    "    for ergebnis in list_ergebnis:\n",
    "        child_list.append(ergebnis)\n",
    "            \n",
    "    # add time needed to do the test\n",
    "    # this is needed as soon as we measure the time per task. To date, we only measure time needed per test\n",
    "#    list_dauer = child.Dauer.tolist()\n",
    "#    for dauer in list_dauer:\n",
    "#        empty.append(dauer)\n",
    "    \n",
    "    # add the child list to the list containing all children\n",
    "    list_all_children.append(child_list)"
   ]
  },
  {
   "cell_type": "markdown",
   "id": "photographic-directive",
   "metadata": {},
   "source": [
    "## Create column names\n",
    "As subtests differ in their amount of items and choices, the amount of columns and column names differ between the subtest.  \n",
    "On 21.07.2021, amounts of items and choices are as follows:  \n",
    "Test 1 = 10 items, 2 choices  \n",
    "Test 2 = 10 items, 2 choices  \n",
    "Test 3 = 50 items, 1 choice  \n",
    "Test 4 = 30 items, 1 choice   "
   ]
  },
  {
   "cell_type": "code",
   "execution_count": 8,
   "id": "threaded-burden",
   "metadata": {},
   "outputs": [],
   "source": [
    "# Create column names which are equal in all subtest\n",
    "column_names=['unique_id',\n",
    "              'child_id', \n",
    "              'subtest_result',\n",
    "              'end_result',\n",
    "              'class_level', \n",
    "              'teacher',\n",
    "              'class_id',\n",
    "              'class_name',\n",
    "              'test',\n",
    "              'time'\n",
    "]\n",
    "\n",
    "# Create column names which differ between the tests due to the varying amount of items and choices\n",
    "list_aufgabe = test.Aufgabe.unique().tolist()\n",
    "\n",
    "variablen1_2 = ['choice1', 'choice2', 'ergebnis']\n",
    "variablen3_4 =['choice1', 'ergebnis']\n",
    "\n",
    "if ((test.Test.iloc[0] == 1) | (test.Test.iloc[0] == 2)):\n",
    "    for variable in variablen1_2: \n",
    "        for i in range(1, len(list_aufgabe)+1):\n",
    "            test_number= str(test.Test.unique()[0])\n",
    "            item_number = str(i)\n",
    "\n",
    "            column_name = test_number+'_'+item_number+'_'+variable\n",
    "            column_names.append(column_name)\n",
    "else:\n",
    "    for variable in variablen3_4: \n",
    "        for i in range(1, len(list_aufgabe)+1):\n",
    "            test_number= str(test.Test.unique()[0])\n",
    "            item_number = str(i)\n",
    "\n",
    "            column_name = test_number+'_'+item_number+'_'+variable\n",
    "            column_names.append(column_name)    "
   ]
  },
  {
   "cell_type": "markdown",
   "id": "chronic-number",
   "metadata": {},
   "source": [
    "## Create DF from transformed data and column names"
   ]
  },
  {
   "cell_type": "code",
   "execution_count": 9,
   "id": "liberal-dairy",
   "metadata": {},
   "outputs": [],
   "source": [
    "# Create df with all data and relevant column names\n",
    "data_transformed = pd.DataFrame(list_all_children,\n",
    "               columns =column_names)"
   ]
  },
  {
   "cell_type": "markdown",
   "id": "uniform-eugene",
   "metadata": {},
   "source": [
    "## Data cleaning  \n",
    "The data is now in the correct form for analysis but is not yet cleaned. This is done in the following and includes: \n",
    "- handle missing data\n",
    "- convert values as 'True', 'False', 'keine Eingabe' to 1, 0 and NaN respectively"
   ]
  },
  {
   "cell_type": "code",
   "execution_count": 10,
   "id": "israeli-british",
   "metadata": {},
   "outputs": [],
   "source": [
    "# Create lists of all columns which names contain 'choice' or 'ergebnis'\n",
    "choice_cols = [col for col in data_transformed.columns if 'choice' in col]\n",
    "ergebnis_cols = [col for col in data_transformed.columns if 'ergebnis' in col]\n",
    "\n",
    "# Adjust choices values; the chosen process depends on subtest (subtest 4 differs from subtest 1, 2, 3)\n",
    "for col in choice_cols:\n",
    "#    if data_transformed.test.iloc[0] == 4:\n",
    "#        data_transformed[str(col)] = data_transformed[str(col)].astype(str)\n",
    "#        data_transformed[str(col)] = data_transformed[str(col)].replace({'True':1, 'False':0, 'Keine Auswahl': np.nan})\n",
    "#        data_transformed[str(col)] = data_transformed[str(col)].astype(float)\n",
    "#    else:\n",
    "    data_transformed[str(col)] = data_transformed[str(col)].replace({'Keine Auswahl': np.nan})"
   ]
  },
  {
   "cell_type": "code",
   "execution_count": 11,
   "id": "valid-generator",
   "metadata": {},
   "outputs": [],
   "source": [
    "# Adjust ergebnis values\n",
    "for col in ergebnis_cols:\n",
    "    data_transformed[str(col)] = data_transformed[str(col)].astype(str)\n",
    "    data_transformed[str(col)] = data_transformed[str(col)].replace({'Keine Auswahl': np.nan})\n",
    "\n",
    "    #data_transformed[str(col)] = data_transformed[str(col)].replace({'True':1, 'False':0, 'Keine Auswahl': np.nan})\n",
    "    #data_transformed[str(col)] = data_transformed[str(col)].astype(float)"
   ]
  },
  {
   "cell_type": "code",
   "execution_count": 12,
   "id": "exciting-exposure",
   "metadata": {},
   "outputs": [],
   "source": [
    "# Rename df for readability\n",
    "data_cleaned = data_transformed"
   ]
  },
  {
   "cell_type": "code",
   "execution_count": 13,
   "id": "informational-welcome",
   "metadata": {},
   "outputs": [
    {
     "name": "stdout",
     "output_type": "stream",
     "text": [
      "ok\n"
     ]
    }
   ],
   "source": [
    "# Create csv from transformed and cleaned df\n",
    "table_out_test_class = data_cleaned.to_csv('/home/iik/Desktop/tiria_waldprüfung/data/test1.csv', index=False)\n",
    "print('ok')"
   ]
  }
 ],
 "metadata": {
  "kernelspec": {
   "display_name": "tiria",
   "language": "python",
   "name": "tiria"
  },
  "language_info": {
   "codemirror_mode": {
    "name": "ipython",
    "version": 3
   },
   "file_extension": ".py",
   "mimetype": "text/x-python",
   "name": "python",
   "nbconvert_exporter": "python",
   "pygments_lexer": "ipython3",
   "version": "3.8.10"
  }
 },
 "nbformat": 4,
 "nbformat_minor": 5
}
